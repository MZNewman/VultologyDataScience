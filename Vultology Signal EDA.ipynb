{
 "cells": [
  {
   "cell_type": "code",
   "execution_count": 1,
   "metadata": {},
   "outputs": [],
   "source": [
    "import pandas as pd\n",
    "import matplotlib.pyplot as plt\n",
    "import numpy as np\n",
    "import re"
   ]
  },
  {
   "cell_type": "code",
   "execution_count": 2,
   "metadata": {
    "scrolled": true
   },
   "outputs": [
    {
     "data": {
      "text/html": [
       "<div>\n",
       "<style scoped>\n",
       "    .dataframe tbody tr th:only-of-type {\n",
       "        vertical-align: middle;\n",
       "    }\n",
       "\n",
       "    .dataframe tbody tr th {\n",
       "        vertical-align: top;\n",
       "    }\n",
       "\n",
       "    .dataframe thead th {\n",
       "        text-align: right;\n",
       "    }\n",
       "</style>\n",
       "<table border=\"1\" class=\"dataframe\">\n",
       "  <thead>\n",
       "    <tr style=\"text-align: right;\">\n",
       "      <th></th>\n",
       "      <th>Name</th>\n",
       "      <th>R-1 Rigid Posture:</th>\n",
       "      <th>R-2 Body Centric:</th>\n",
       "      <th>R-3 Punctuated Motions:</th>\n",
       "      <th>R-4 Vertical Movements:</th>\n",
       "      <th>R-5 Subordinate Fluidity:</th>\n",
       "      <th>PR-1 Head Pushes:</th>\n",
       "      <th>PR-2 Head Shakes:</th>\n",
       "      <th>PR-3 Shoulder Shrugs:</th>\n",
       "      <th>PR-4 Fluent Articulation:</th>\n",
       "      <th>...</th>\n",
       "      <th>Su-6 Eye-Head Trailing Motions:</th>\n",
       "      <th>Su-7 Levity Effect:</th>\n",
       "      <th>Su-8 Quirky Skits:</th>\n",
       "      <th>Eu-1 Responsive Nodding:</th>\n",
       "      <th>Eu-2 Polite Smiling:</th>\n",
       "      <th>Eu-3 Bashful Body Movements:</th>\n",
       "      <th>Eg-1 Upset Mouth Tension:</th>\n",
       "      <th>Eg-2 Assertive Pushing:</th>\n",
       "      <th>Eg-3 Stern Expressions:</th>\n",
       "      <th>FA-1 Fallen Affect:</th>\n",
       "    </tr>\n",
       "  </thead>\n",
       "  <tbody>\n",
       "    <tr>\n",
       "      <th>0</th>\n",
       "      <td>Cœur de Pirate</td>\n",
       "      <td>0.571429</td>\n",
       "      <td>0.285714</td>\n",
       "      <td>0.571429</td>\n",
       "      <td>0.285714</td>\n",
       "      <td>0.000000</td>\n",
       "      <td>0.571429</td>\n",
       "      <td>0.285714</td>\n",
       "      <td>0.285714</td>\n",
       "      <td>0.571429</td>\n",
       "      <td>...</td>\n",
       "      <td>0.571429</td>\n",
       "      <td>0.285714</td>\n",
       "      <td>0.285714</td>\n",
       "      <td>0.571429</td>\n",
       "      <td>0.285714</td>\n",
       "      <td>0.285714</td>\n",
       "      <td>0.285714</td>\n",
       "      <td>0.000000</td>\n",
       "      <td>0.285714</td>\n",
       "      <td>0.0</td>\n",
       "    </tr>\n",
       "    <tr>\n",
       "      <th>1</th>\n",
       "      <td>Michael Gervais</td>\n",
       "      <td>1.000000</td>\n",
       "      <td>1.000000</td>\n",
       "      <td>1.000000</td>\n",
       "      <td>1.000000</td>\n",
       "      <td>0.571429</td>\n",
       "      <td>1.000000</td>\n",
       "      <td>1.000000</td>\n",
       "      <td>0.571429</td>\n",
       "      <td>1.000000</td>\n",
       "      <td>...</td>\n",
       "      <td>0.285714</td>\n",
       "      <td>0.000000</td>\n",
       "      <td>0.000000</td>\n",
       "      <td>0.571429</td>\n",
       "      <td>0.571429</td>\n",
       "      <td>0.285714</td>\n",
       "      <td>0.285714</td>\n",
       "      <td>0.571429</td>\n",
       "      <td>0.285714</td>\n",
       "      <td>0.2</td>\n",
       "    </tr>\n",
       "    <tr>\n",
       "      <th>2</th>\n",
       "      <td>Joan Jett</td>\n",
       "      <td>0.285714</td>\n",
       "      <td>0.285714</td>\n",
       "      <td>0.571429</td>\n",
       "      <td>0.571429</td>\n",
       "      <td>0.000000</td>\n",
       "      <td>0.571429</td>\n",
       "      <td>0.571429</td>\n",
       "      <td>0.285714</td>\n",
       "      <td>0.571429</td>\n",
       "      <td>...</td>\n",
       "      <td>0.000000</td>\n",
       "      <td>0.000000</td>\n",
       "      <td>0.285714</td>\n",
       "      <td>0.285714</td>\n",
       "      <td>0.285714</td>\n",
       "      <td>0.000000</td>\n",
       "      <td>0.285714</td>\n",
       "      <td>0.571429</td>\n",
       "      <td>0.571429</td>\n",
       "      <td>0.4</td>\n",
       "    </tr>\n",
       "    <tr>\n",
       "      <th>3</th>\n",
       "      <td>Ben Stein</td>\n",
       "      <td>0.000000</td>\n",
       "      <td>0.285714</td>\n",
       "      <td>0.285714</td>\n",
       "      <td>0.285714</td>\n",
       "      <td>0.000000</td>\n",
       "      <td>0.285714</td>\n",
       "      <td>0.285714</td>\n",
       "      <td>0.000000</td>\n",
       "      <td>1.000000</td>\n",
       "      <td>...</td>\n",
       "      <td>0.000000</td>\n",
       "      <td>0.000000</td>\n",
       "      <td>0.000000</td>\n",
       "      <td>0.000000</td>\n",
       "      <td>0.000000</td>\n",
       "      <td>0.000000</td>\n",
       "      <td>0.285714</td>\n",
       "      <td>0.285714</td>\n",
       "      <td>0.285714</td>\n",
       "      <td>0.4</td>\n",
       "    </tr>\n",
       "    <tr>\n",
       "      <th>4</th>\n",
       "      <td>Billie Joe Armstrong</td>\n",
       "      <td>0.571429</td>\n",
       "      <td>1.000000</td>\n",
       "      <td>0.285714</td>\n",
       "      <td>0.571429</td>\n",
       "      <td>0.571429</td>\n",
       "      <td>0.571429</td>\n",
       "      <td>1.000000</td>\n",
       "      <td>0.285714</td>\n",
       "      <td>0.285714</td>\n",
       "      <td>...</td>\n",
       "      <td>0.285714</td>\n",
       "      <td>0.000000</td>\n",
       "      <td>0.000000</td>\n",
       "      <td>0.285714</td>\n",
       "      <td>0.571429</td>\n",
       "      <td>0.285714</td>\n",
       "      <td>0.571429</td>\n",
       "      <td>0.285714</td>\n",
       "      <td>0.571429</td>\n",
       "      <td>0.0</td>\n",
       "    </tr>\n",
       "  </tbody>\n",
       "</table>\n",
       "<p>5 rows × 72 columns</p>\n",
       "</div>"
      ],
      "text/plain": [
       "                   Name  R-1 Rigid Posture:  R-2 Body Centric:  \\\n",
       "0        Cœur de Pirate            0.571429           0.285714   \n",
       "1       Michael Gervais            1.000000           1.000000   \n",
       "2             Joan Jett            0.285714           0.285714   \n",
       "3             Ben Stein            0.000000           0.285714   \n",
       "4  Billie Joe Armstrong            0.571429           1.000000   \n",
       "\n",
       "   R-3 Punctuated Motions:  R-4 Vertical Movements:  \\\n",
       "0                 0.571429                 0.285714   \n",
       "1                 1.000000                 1.000000   \n",
       "2                 0.571429                 0.571429   \n",
       "3                 0.285714                 0.285714   \n",
       "4                 0.285714                 0.571429   \n",
       "\n",
       "   R-5 Subordinate Fluidity:  PR-1 Head Pushes:  PR-2 Head Shakes:  \\\n",
       "0                   0.000000           0.571429           0.285714   \n",
       "1                   0.571429           1.000000           1.000000   \n",
       "2                   0.000000           0.571429           0.571429   \n",
       "3                   0.000000           0.285714           0.285714   \n",
       "4                   0.571429           0.571429           1.000000   \n",
       "\n",
       "   PR-3 Shoulder Shrugs:  PR-4 Fluent Articulation:  ...  \\\n",
       "0               0.285714                   0.571429  ...   \n",
       "1               0.571429                   1.000000  ...   \n",
       "2               0.285714                   0.571429  ...   \n",
       "3               0.000000                   1.000000  ...   \n",
       "4               0.285714                   0.285714  ...   \n",
       "\n",
       "   Su-6 Eye-Head Trailing Motions:  Su-7 Levity Effect:  Su-8 Quirky Skits:  \\\n",
       "0                         0.571429             0.285714            0.285714   \n",
       "1                         0.285714             0.000000            0.000000   \n",
       "2                         0.000000             0.000000            0.285714   \n",
       "3                         0.000000             0.000000            0.000000   \n",
       "4                         0.285714             0.000000            0.000000   \n",
       "\n",
       "   Eu-1 Responsive Nodding:  Eu-2 Polite Smiling:  \\\n",
       "0                  0.571429              0.285714   \n",
       "1                  0.571429              0.571429   \n",
       "2                  0.285714              0.285714   \n",
       "3                  0.000000              0.000000   \n",
       "4                  0.285714              0.571429   \n",
       "\n",
       "   Eu-3 Bashful Body Movements:  Eg-1 Upset Mouth Tension:  \\\n",
       "0                      0.285714                   0.285714   \n",
       "1                      0.285714                   0.285714   \n",
       "2                      0.000000                   0.285714   \n",
       "3                      0.000000                   0.285714   \n",
       "4                      0.285714                   0.571429   \n",
       "\n",
       "   Eg-2 Assertive Pushing:  Eg-3 Stern Expressions:  FA-1 Fallen Affect:  \n",
       "0                 0.000000                 0.285714                  0.0  \n",
       "1                 0.571429                 0.285714                  0.2  \n",
       "2                 0.571429                 0.571429                  0.4  \n",
       "3                 0.285714                 0.285714                  0.4  \n",
       "4                 0.285714                 0.571429                  0.0  \n",
       "\n",
       "[5 rows x 72 columns]"
      ]
     },
     "execution_count": 2,
     "metadata": {},
     "output_type": "execute_result"
    }
   ],
   "source": [
    "signals_df = pd.read_excel(\"CTDBSignalDataCopy.xlsx\")\n",
    "signals_df.drop(['Unnamed: 0'], axis=1, inplace=True)\n",
    "signals_df.head()"
   ]
  },
  {
   "cell_type": "code",
   "execution_count": 3,
   "metadata": {},
   "outputs": [
    {
     "name": "stdout",
     "output_type": "stream",
     "text": [
      "<class 'pandas.core.frame.DataFrame'>\n",
      "RangeIndex: 1059 entries, 0 to 1058\n",
      "Data columns (total 72 columns):\n",
      " #   Column                           Non-Null Count  Dtype  \n",
      "---  ------                           --------------  -----  \n",
      " 0   Name                             1059 non-null   object \n",
      " 1   R-1 Rigid Posture:               1059 non-null   float64\n",
      " 2   R-2 Body Centric:                1059 non-null   float64\n",
      " 3   R-3 Punctuated Motions:          1059 non-null   float64\n",
      " 4   R-4 Vertical Movements:          1059 non-null   float64\n",
      " 5   R-5 Subordinate Fluidity:        1059 non-null   float64\n",
      " 6   PR-1 Head Pushes:                1059 non-null   float64\n",
      " 7   PR-2 Head Shakes:                1059 non-null   float64\n",
      " 8   PR-3 Shoulder Shrugs:            1059 non-null   float64\n",
      " 9   PR-4 Fluent Articulation:        1059 non-null   float64\n",
      " 10  PR-5 Projecting Hands:           1059 non-null   float64\n",
      " 11  RR-1 Poised Receding:            1059 non-null   float64\n",
      " 12  RR-2 Disengaging Eyes:           1059 non-null   float64\n",
      " 13  RR-3 Exerted Pushes:             1059 non-null   float64\n",
      " 14  RR-4 Momentum Halting:           1059 non-null   float64\n",
      " 15  RR-5 Meticulous Hands:           1059 non-null   float64\n",
      " 16  F-1 Fluid Posture:               1059 non-null   float64\n",
      " 17  F-2 Eye Centric:                 1059 non-null   float64\n",
      " 18  F-3 Gliding Motions:             1059 non-null   float64\n",
      " 19  F-4 Horizontal Movements:        1059 non-null   float64\n",
      " 20  F-5 Subordinate Rigidity:        1059 non-null   float64\n",
      " 21  PF-1 Restless Momentum:          1059 non-null   float64\n",
      " 22  PF-2 Toggling Eyes:              1059 non-null   float64\n",
      " 23  PF-3 Body Swaying:               1059 non-null   float64\n",
      " 24  PF-4 Casual Hands:               1059 non-null   float64\n",
      " 25  PF-5 Alert Perk-ups:             1059 non-null   float64\n",
      " 26  RF-1 Viscous Inertia:            1059 non-null   float64\n",
      " 27  RF-2 Fixed Gaze:                 1059 non-null   float64\n",
      " 28  RF-3 Diagonal Eye-Drifts:        1059 non-null   float64\n",
      " 29  RF-4 Searching Scowling:         1059 non-null   float64\n",
      " 30  RF-5 Narrow Head Zoning:         1059 non-null   float64\n",
      " 31  Ca-1 Taut Nasolabial Area:       1059 non-null   float64\n",
      " 32  Ca-2 Vertical Snarling Smiles:   1059 non-null   float64\n",
      " 33  Ca-3 Four Point Pulling:         1059 non-null   float64\n",
      " 34  Ca-4 Wobbling Lips:              1059 non-null   float64\n",
      " 35  Ca-5 Asymmetrical Smirks:        1059 non-null   float64\n",
      " 36  Ca-6 Sassy Movements:            1059 non-null   float64\n",
      " 37  Ca-7 Plateau Velocity:           1059 non-null   float64\n",
      " 38  Ca-8 Nasal-Breathy Voice:        1059 non-null   float64\n",
      " 39  Ca-9 Grasping Hands:             1059 non-null   float64\n",
      " 40  Gr-1 Taut Preseptal Area:        1059 non-null   float64\n",
      " 41  Gr-2 Lax Pretarsal Area:         1059 non-null   float64\n",
      " 42  Gr-3 Taut Outer Edges:           1059 non-null   float64\n",
      " 43  Gr-4 Intense Scowling:           1059 non-null   float64\n",
      " 44  Gr-5 Pointed Eye Toggles:        1059 non-null   float64\n",
      " 45  Gr-6 Eye-Head Parallel Motion:   1059 non-null   float64\n",
      " 46  Gr-7 Grounding Effect:           1059 non-null   float64\n",
      " 47  Gr-8 Bodily Awareness:           1059 non-null   float64\n",
      " 48  Ms-1 Lax Nasolabial Area:        1059 non-null   float64\n",
      " 49  Ms-2 Horizontal Curtain Smiles:  1059 non-null   float64\n",
      " 50  Ms-3 Two Point Pulling:          1059 non-null   float64\n",
      " 51  Ms-4 Symmetrical Lips:           1059 non-null   float64\n",
      " 52  Ms-5 Emotional Neutralization:   1059 non-null   float64\n",
      " 53  Ms-6 Coordinated Movements:      1059 non-null   float64\n",
      " 54  Ms-7 Parabolic Velocity:         1059 non-null   float64\n",
      " 55  Ms-8 Laryngeal-Faint Voice:      1059 non-null   float64\n",
      " 56  Ms-9 Puppeteer Hands:            1059 non-null   float64\n",
      " 57  Su-1 Lax Preseptal Area:         1059 non-null   float64\n",
      " 58  Su-2 Taut Pretarsal Area:        1059 non-null   float64\n",
      " 59  Su-3 Lax Outer Edges:            1059 non-null   float64\n",
      " 60  Su-4 Concerned Scowling:         1059 non-null   float64\n",
      " 61  Su-5 Brushstrokes Eye Toggles:   1059 non-null   float64\n",
      " 62  Su-6 Eye-Head Trailing Motions:  1059 non-null   float64\n",
      " 63  Su-7 Levity Effect:              1059 non-null   float64\n",
      " 64  Su-8 Quirky Skits:               1059 non-null   float64\n",
      " 65  Eu-1 Responsive Nodding:         1059 non-null   float64\n",
      " 66  Eu-2 Polite Smiling:             1059 non-null   float64\n",
      " 67  Eu-3 Bashful Body Movements:     1059 non-null   float64\n",
      " 68  Eg-1 Upset Mouth Tension:        1059 non-null   float64\n",
      " 69  Eg-2 Assertive Pushing:          1059 non-null   float64\n",
      " 70  Eg-3 Stern Expressions:          1059 non-null   float64\n",
      " 71  FA-1 Fallen Affect:              1059 non-null   float64\n",
      "dtypes: float64(71), object(1)\n",
      "memory usage: 595.8+ KB\n"
     ]
    }
   ],
   "source": [
    "signals_df.info()"
   ]
  },
  {
   "cell_type": "code",
   "execution_count": 4,
   "metadata": {},
   "outputs": [
    {
     "data": {
      "text/html": [
       "<div>\n",
       "<style scoped>\n",
       "    .dataframe tbody tr th:only-of-type {\n",
       "        vertical-align: middle;\n",
       "    }\n",
       "\n",
       "    .dataframe tbody tr th {\n",
       "        vertical-align: top;\n",
       "    }\n",
       "\n",
       "    .dataframe thead th {\n",
       "        text-align: right;\n",
       "    }\n",
       "</style>\n",
       "<table border=\"1\" class=\"dataframe\">\n",
       "  <thead>\n",
       "    <tr style=\"text-align: right;\">\n",
       "      <th></th>\n",
       "      <th>R-1 Rigid Posture:</th>\n",
       "      <th>R-2 Body Centric:</th>\n",
       "      <th>R-3 Punctuated Motions:</th>\n",
       "      <th>R-4 Vertical Movements:</th>\n",
       "      <th>R-5 Subordinate Fluidity:</th>\n",
       "      <th>PR-1 Head Pushes:</th>\n",
       "      <th>PR-2 Head Shakes:</th>\n",
       "      <th>PR-3 Shoulder Shrugs:</th>\n",
       "      <th>PR-4 Fluent Articulation:</th>\n",
       "      <th>PR-5 Projecting Hands:</th>\n",
       "      <th>...</th>\n",
       "      <th>Su-6 Eye-Head Trailing Motions:</th>\n",
       "      <th>Su-7 Levity Effect:</th>\n",
       "      <th>Su-8 Quirky Skits:</th>\n",
       "      <th>Eu-1 Responsive Nodding:</th>\n",
       "      <th>Eu-2 Polite Smiling:</th>\n",
       "      <th>Eu-3 Bashful Body Movements:</th>\n",
       "      <th>Eg-1 Upset Mouth Tension:</th>\n",
       "      <th>Eg-2 Assertive Pushing:</th>\n",
       "      <th>Eg-3 Stern Expressions:</th>\n",
       "      <th>FA-1 Fallen Affect:</th>\n",
       "    </tr>\n",
       "  </thead>\n",
       "  <tbody>\n",
       "    <tr>\n",
       "      <th>count</th>\n",
       "      <td>1059.000000</td>\n",
       "      <td>1059.000000</td>\n",
       "      <td>1059.000000</td>\n",
       "      <td>1059.000000</td>\n",
       "      <td>1059.000000</td>\n",
       "      <td>1059.000000</td>\n",
       "      <td>1059.000000</td>\n",
       "      <td>1059.000000</td>\n",
       "      <td>1059.000000</td>\n",
       "      <td>1059.000000</td>\n",
       "      <td>...</td>\n",
       "      <td>1059.000000</td>\n",
       "      <td>1059.000000</td>\n",
       "      <td>1059.000000</td>\n",
       "      <td>1059.000000</td>\n",
       "      <td>1059.000000</td>\n",
       "      <td>1059.000000</td>\n",
       "      <td>1059.000000</td>\n",
       "      <td>1059.000000</td>\n",
       "      <td>1059.000000</td>\n",
       "      <td>1059.000000</td>\n",
       "    </tr>\n",
       "    <tr>\n",
       "      <th>mean</th>\n",
       "      <td>0.199379</td>\n",
       "      <td>0.201403</td>\n",
       "      <td>0.206394</td>\n",
       "      <td>0.211790</td>\n",
       "      <td>0.122892</td>\n",
       "      <td>0.243221</td>\n",
       "      <td>0.229327</td>\n",
       "      <td>0.119520</td>\n",
       "      <td>0.248347</td>\n",
       "      <td>0.279509</td>\n",
       "      <td>...</td>\n",
       "      <td>0.055578</td>\n",
       "      <td>0.100634</td>\n",
       "      <td>0.059625</td>\n",
       "      <td>0.137057</td>\n",
       "      <td>0.186564</td>\n",
       "      <td>0.096182</td>\n",
       "      <td>0.077836</td>\n",
       "      <td>0.111561</td>\n",
       "      <td>0.151086</td>\n",
       "      <td>0.111992</td>\n",
       "    </tr>\n",
       "    <tr>\n",
       "      <th>std</th>\n",
       "      <td>0.343002</td>\n",
       "      <td>0.337300</td>\n",
       "      <td>0.314494</td>\n",
       "      <td>0.321498</td>\n",
       "      <td>0.279686</td>\n",
       "      <td>0.341030</td>\n",
       "      <td>0.320433</td>\n",
       "      <td>0.207436</td>\n",
       "      <td>0.343489</td>\n",
       "      <td>0.379137</td>\n",
       "      <td>...</td>\n",
       "      <td>0.151743</td>\n",
       "      <td>0.228572</td>\n",
       "      <td>0.182862</td>\n",
       "      <td>0.241409</td>\n",
       "      <td>0.291359</td>\n",
       "      <td>0.213223</td>\n",
       "      <td>0.186987</td>\n",
       "      <td>0.235500</td>\n",
       "      <td>0.266122</td>\n",
       "      <td>0.200655</td>\n",
       "    </tr>\n",
       "    <tr>\n",
       "      <th>min</th>\n",
       "      <td>0.000000</td>\n",
       "      <td>0.000000</td>\n",
       "      <td>0.000000</td>\n",
       "      <td>0.000000</td>\n",
       "      <td>0.000000</td>\n",
       "      <td>0.000000</td>\n",
       "      <td>0.000000</td>\n",
       "      <td>0.000000</td>\n",
       "      <td>0.000000</td>\n",
       "      <td>0.000000</td>\n",
       "      <td>...</td>\n",
       "      <td>0.000000</td>\n",
       "      <td>0.000000</td>\n",
       "      <td>0.000000</td>\n",
       "      <td>0.000000</td>\n",
       "      <td>0.000000</td>\n",
       "      <td>0.000000</td>\n",
       "      <td>0.000000</td>\n",
       "      <td>0.000000</td>\n",
       "      <td>0.000000</td>\n",
       "      <td>0.000000</td>\n",
       "    </tr>\n",
       "    <tr>\n",
       "      <th>25%</th>\n",
       "      <td>0.000000</td>\n",
       "      <td>0.000000</td>\n",
       "      <td>0.000000</td>\n",
       "      <td>0.000000</td>\n",
       "      <td>0.000000</td>\n",
       "      <td>0.000000</td>\n",
       "      <td>0.000000</td>\n",
       "      <td>0.000000</td>\n",
       "      <td>0.000000</td>\n",
       "      <td>0.000000</td>\n",
       "      <td>...</td>\n",
       "      <td>0.000000</td>\n",
       "      <td>0.000000</td>\n",
       "      <td>0.000000</td>\n",
       "      <td>0.000000</td>\n",
       "      <td>0.000000</td>\n",
       "      <td>0.000000</td>\n",
       "      <td>0.000000</td>\n",
       "      <td>0.000000</td>\n",
       "      <td>0.000000</td>\n",
       "      <td>0.000000</td>\n",
       "    </tr>\n",
       "    <tr>\n",
       "      <th>50%</th>\n",
       "      <td>0.000000</td>\n",
       "      <td>0.000000</td>\n",
       "      <td>0.000000</td>\n",
       "      <td>0.000000</td>\n",
       "      <td>0.000000</td>\n",
       "      <td>0.000000</td>\n",
       "      <td>0.000000</td>\n",
       "      <td>0.000000</td>\n",
       "      <td>0.000000</td>\n",
       "      <td>0.000000</td>\n",
       "      <td>...</td>\n",
       "      <td>0.000000</td>\n",
       "      <td>0.000000</td>\n",
       "      <td>0.000000</td>\n",
       "      <td>0.000000</td>\n",
       "      <td>0.000000</td>\n",
       "      <td>0.000000</td>\n",
       "      <td>0.000000</td>\n",
       "      <td>0.000000</td>\n",
       "      <td>0.000000</td>\n",
       "      <td>0.000000</td>\n",
       "    </tr>\n",
       "    <tr>\n",
       "      <th>75%</th>\n",
       "      <td>0.285714</td>\n",
       "      <td>0.285714</td>\n",
       "      <td>0.285714</td>\n",
       "      <td>0.285714</td>\n",
       "      <td>0.000000</td>\n",
       "      <td>0.571429</td>\n",
       "      <td>0.571429</td>\n",
       "      <td>0.285714</td>\n",
       "      <td>0.571429</td>\n",
       "      <td>0.571429</td>\n",
       "      <td>...</td>\n",
       "      <td>0.000000</td>\n",
       "      <td>0.000000</td>\n",
       "      <td>0.000000</td>\n",
       "      <td>0.285714</td>\n",
       "      <td>0.285714</td>\n",
       "      <td>0.000000</td>\n",
       "      <td>0.000000</td>\n",
       "      <td>0.000000</td>\n",
       "      <td>0.285714</td>\n",
       "      <td>0.200000</td>\n",
       "    </tr>\n",
       "    <tr>\n",
       "      <th>max</th>\n",
       "      <td>1.000000</td>\n",
       "      <td>1.000000</td>\n",
       "      <td>1.000000</td>\n",
       "      <td>1.000000</td>\n",
       "      <td>1.000000</td>\n",
       "      <td>1.000000</td>\n",
       "      <td>1.000000</td>\n",
       "      <td>1.000000</td>\n",
       "      <td>1.000000</td>\n",
       "      <td>1.000000</td>\n",
       "      <td>...</td>\n",
       "      <td>1.000000</td>\n",
       "      <td>1.000000</td>\n",
       "      <td>1.000000</td>\n",
       "      <td>1.000000</td>\n",
       "      <td>1.000000</td>\n",
       "      <td>1.000000</td>\n",
       "      <td>1.000000</td>\n",
       "      <td>1.000000</td>\n",
       "      <td>1.000000</td>\n",
       "      <td>1.000000</td>\n",
       "    </tr>\n",
       "  </tbody>\n",
       "</table>\n",
       "<p>8 rows × 71 columns</p>\n",
       "</div>"
      ],
      "text/plain": [
       "       R-1 Rigid Posture:  R-2 Body Centric:  R-3 Punctuated Motions:  \\\n",
       "count         1059.000000        1059.000000              1059.000000   \n",
       "mean             0.199379           0.201403                 0.206394   \n",
       "std              0.343002           0.337300                 0.314494   \n",
       "min              0.000000           0.000000                 0.000000   \n",
       "25%              0.000000           0.000000                 0.000000   \n",
       "50%              0.000000           0.000000                 0.000000   \n",
       "75%              0.285714           0.285714                 0.285714   \n",
       "max              1.000000           1.000000                 1.000000   \n",
       "\n",
       "       R-4 Vertical Movements:  R-5 Subordinate Fluidity:  PR-1 Head Pushes:  \\\n",
       "count              1059.000000                1059.000000        1059.000000   \n",
       "mean                  0.211790                   0.122892           0.243221   \n",
       "std                   0.321498                   0.279686           0.341030   \n",
       "min                   0.000000                   0.000000           0.000000   \n",
       "25%                   0.000000                   0.000000           0.000000   \n",
       "50%                   0.000000                   0.000000           0.000000   \n",
       "75%                   0.285714                   0.000000           0.571429   \n",
       "max                   1.000000                   1.000000           1.000000   \n",
       "\n",
       "       PR-2 Head Shakes:  PR-3 Shoulder Shrugs:  PR-4 Fluent Articulation:  \\\n",
       "count        1059.000000            1059.000000                1059.000000   \n",
       "mean            0.229327               0.119520                   0.248347   \n",
       "std             0.320433               0.207436                   0.343489   \n",
       "min             0.000000               0.000000                   0.000000   \n",
       "25%             0.000000               0.000000                   0.000000   \n",
       "50%             0.000000               0.000000                   0.000000   \n",
       "75%             0.571429               0.285714                   0.571429   \n",
       "max             1.000000               1.000000                   1.000000   \n",
       "\n",
       "       PR-5 Projecting Hands:  ...  Su-6 Eye-Head Trailing Motions:  \\\n",
       "count             1059.000000  ...                      1059.000000   \n",
       "mean                 0.279509  ...                         0.055578   \n",
       "std                  0.379137  ...                         0.151743   \n",
       "min                  0.000000  ...                         0.000000   \n",
       "25%                  0.000000  ...                         0.000000   \n",
       "50%                  0.000000  ...                         0.000000   \n",
       "75%                  0.571429  ...                         0.000000   \n",
       "max                  1.000000  ...                         1.000000   \n",
       "\n",
       "       Su-7 Levity Effect:  Su-8 Quirky Skits:  Eu-1 Responsive Nodding:  \\\n",
       "count          1059.000000         1059.000000               1059.000000   \n",
       "mean              0.100634            0.059625                  0.137057   \n",
       "std               0.228572            0.182862                  0.241409   \n",
       "min               0.000000            0.000000                  0.000000   \n",
       "25%               0.000000            0.000000                  0.000000   \n",
       "50%               0.000000            0.000000                  0.000000   \n",
       "75%               0.000000            0.000000                  0.285714   \n",
       "max               1.000000            1.000000                  1.000000   \n",
       "\n",
       "       Eu-2 Polite Smiling:  Eu-3 Bashful Body Movements:  \\\n",
       "count           1059.000000                   1059.000000   \n",
       "mean               0.186564                      0.096182   \n",
       "std                0.291359                      0.213223   \n",
       "min                0.000000                      0.000000   \n",
       "25%                0.000000                      0.000000   \n",
       "50%                0.000000                      0.000000   \n",
       "75%                0.285714                      0.000000   \n",
       "max                1.000000                      1.000000   \n",
       "\n",
       "       Eg-1 Upset Mouth Tension:  Eg-2 Assertive Pushing:  \\\n",
       "count                1059.000000              1059.000000   \n",
       "mean                    0.077836                 0.111561   \n",
       "std                     0.186987                 0.235500   \n",
       "min                     0.000000                 0.000000   \n",
       "25%                     0.000000                 0.000000   \n",
       "50%                     0.000000                 0.000000   \n",
       "75%                     0.000000                 0.000000   \n",
       "max                     1.000000                 1.000000   \n",
       "\n",
       "       Eg-3 Stern Expressions:  FA-1 Fallen Affect:  \n",
       "count              1059.000000          1059.000000  \n",
       "mean                  0.151086             0.111992  \n",
       "std                   0.266122             0.200655  \n",
       "min                   0.000000             0.000000  \n",
       "25%                   0.000000             0.000000  \n",
       "50%                   0.000000             0.000000  \n",
       "75%                   0.285714             0.200000  \n",
       "max                   1.000000             1.000000  \n",
       "\n",
       "[8 rows x 71 columns]"
      ]
     },
     "execution_count": 4,
     "metadata": {},
     "output_type": "execute_result"
    }
   ],
   "source": [
    "signals_df.describe()"
   ]
  },
  {
   "cell_type": "markdown",
   "metadata": {},
   "source": [
    "Right away you can notice that the columns have very similar numbers, but there are a lot of zeroes around even the 50 and 75 percentiles of data, which reminds me that many of these rows contains ALL zeroes because unfortunately about the half of the samples don't even have reports at all, so we need to deal with that issue to get any sense of the range of our data in the first place.\n",
    "\n",
    "There are also too many columns for us to realistically check all of them, so we can use the transpose on this describe dataframe and then describe the ranges for the various percentages, mean and std, etc., to make sure nothing is amiss."
   ]
  },
  {
   "cell_type": "markdown",
   "metadata": {},
   "source": [
    "We'll start by investigating the sums of the columns, because some columns also have sums that aren't zero but are also very low numbers that don't make sense, so zero probably won't be the cutoff to put aside the data for now"
   ]
  },
  {
   "cell_type": "code",
   "execution_count": 5,
   "metadata": {},
   "outputs": [
    {
     "name": "stderr",
     "output_type": "stream",
     "text": [
      "<ipython-input-5-d4d2f9087ba5>:1: FutureWarning: Dropping of nuisance columns in DataFrame reductions (with 'numeric_only=None') is deprecated; in a future version this will raise TypeError.  Select only valid columns before calling the reduction.\n",
      "  signals_sum = signals_df.sum(axis=1)\n"
     ]
    },
    {
     "data": {
      "text/plain": [
       "529     0.000000\n",
       "424     0.000000\n",
       "425     0.000000\n",
       "426     0.000000\n",
       "427     0.000000\n",
       "         ...    \n",
       "48     35.057143\n",
       "11     35.171429\n",
       "144    35.571429\n",
       "219    35.628571\n",
       "84     36.428571\n",
       "Length: 1059, dtype: float64"
      ]
     },
     "execution_count": 5,
     "metadata": {},
     "output_type": "execute_result"
    }
   ],
   "source": [
    "signals_sum = signals_df.sum(axis=1)\n",
    "\n",
    "signals_sum.sort_values()"
   ]
  },
  {
   "cell_type": "code",
   "execution_count": 6,
   "metadata": {},
   "outputs": [
    {
     "data": {
      "image/png": "[encoded data removed]",
      "text/plain": [
       "<Figure size 432x288 with 1 Axes>"
      ]
     },
     "metadata": {
      "needs_background": "light"
     },
     "output_type": "display_data"
    }
   ],
   "source": [
    "signals_sum.hist();"
   ]
  },
  {
   "cell_type": "markdown",
   "metadata": {},
   "source": [
    "The giant column of zeroes is the non-data"
   ]
  },
  {
   "cell_type": "code",
   "execution_count": 7,
   "metadata": {},
   "outputs": [
    {
     "data": {
      "text/plain": [
       "count    1059.000000\n",
       "mean       11.723621\n",
       "std        12.636157\n",
       "min         0.000000\n",
       "25%         0.000000\n",
       "50%         0.600000\n",
       "75%        24.442857\n",
       "max        36.428571\n",
       "dtype: float64"
      ]
     },
     "execution_count": 7,
     "metadata": {},
     "output_type": "execute_result"
    }
   ],
   "source": [
    "signals_sum.sort_values().describe()"
   ]
  },
  {
   "cell_type": "markdown",
   "metadata": {},
   "source": [
    "We can certainly get rid of all rows that sum to zero, then we can use head to investigate where the jump to real reports comes in"
   ]
  },
  {
   "cell_type": "code",
   "execution_count": 8,
   "metadata": {},
   "outputs": [
    {
     "data": {
      "text/plain": [
       "(549, 72)"
      ]
     },
     "execution_count": 8,
     "metadata": {},
     "output_type": "execute_result"
    }
   ],
   "source": [
    "signals_df = signals_df[signals_sum > 0]\n",
    "signals_df.shape"
   ]
  },
  {
   "cell_type": "markdown",
   "metadata": {},
   "source": [
    "That alone wiped out 510 rows, so let's remake signals sum to find the cutoff point that we're going to use"
   ]
  },
  {
   "cell_type": "code",
   "execution_count": 9,
   "metadata": {},
   "outputs": [
    {
     "name": "stderr",
     "output_type": "stream",
     "text": [
      "<ipython-input-9-abba3d232d6e>:1: FutureWarning: Dropping of nuisance columns in DataFrame reductions (with 'numeric_only=None') is deprecated; in a future version this will raise TypeError.  Select only valid columns before calling the reduction.\n",
      "  signals_sum = signals_df.sum(axis=1)\n"
     ]
    },
    {
     "data": {
      "text/plain": [
       "1056    0.2\n",
       "1052    0.2\n",
       "1050    0.4\n",
       "1051    0.4\n",
       "1048    0.4\n",
       "644     0.6\n",
       "663     0.6\n",
       "673     0.6\n",
       "688     0.6\n",
       "725     0.6\n",
       "726     0.6\n",
       "734     0.6\n",
       "626     0.6\n",
       "636     0.6\n",
       "749     0.6\n",
       "750     0.6\n",
       "765     0.6\n",
       "767     0.6\n",
       "769     0.6\n",
       "776     0.6\n",
       "740     0.6\n",
       "634     0.6\n",
       "573     0.6\n",
       "574     0.6\n",
       "320     0.6\n",
       "332     0.6\n",
       "340     0.6\n",
       "350     0.6\n",
       "359     0.6\n",
       "393     0.6\n",
       "dtype: float64"
      ]
     },
     "execution_count": 9,
     "metadata": {},
     "output_type": "execute_result"
    }
   ],
   "source": [
    "signals_sum = signals_df.sum(axis=1)\n",
    "\n",
    "signals_sum.sort_values().head(30)"
   ]
  },
  {
   "cell_type": "markdown",
   "metadata": {},
   "source": [
    "That's at least 30 values that are still too low to constitute a series report, which is kind of strange. We'll have to look at the hist again"
   ]
  },
  {
   "cell_type": "code",
   "execution_count": 10,
   "metadata": {},
   "outputs": [
    {
     "data": {
      "image/png": "[encoded data removed]",
      "text/plain": [
       "<Figure size 432x288 with 1 Axes>"
      ]
     },
     "metadata": {
      "needs_background": "light"
     },
     "output_type": "display_data"
    }
   ],
   "source": [
    "signals_sum.hist();"
   ]
  },
  {
   "cell_type": "markdown",
   "metadata": {},
   "source": [
    "It looks like we can pretty safely consider anything below 5 as non-data. Let's examine the values below 5 and the values above 5 to get a closer look at the cutoff"
   ]
  },
  {
   "cell_type": "code",
   "execution_count": 11,
   "metadata": {},
   "outputs": [
    {
     "data": {
      "text/plain": [
       "1052    0.200000\n",
       "1056    0.200000\n",
       "1051    0.400000\n",
       "1050    0.400000\n",
       "1048    0.400000\n",
       "320     0.600000\n",
       "725     0.600000\n",
       "726     0.600000\n",
       "734     0.600000\n",
       "740     0.600000\n",
       "749     0.600000\n",
       "750     0.600000\n",
       "767     0.600000\n",
       "673     0.600000\n",
       "768     0.600000\n",
       "769     0.600000\n",
       "776     0.600000\n",
       "798     0.600000\n",
       "834     0.600000\n",
       "765     0.600000\n",
       "663     0.600000\n",
       "688     0.600000\n",
       "636     0.600000\n",
       "332     0.600000\n",
       "340     0.600000\n",
       "350     0.600000\n",
       "359     0.600000\n",
       "393     0.600000\n",
       "407     0.600000\n",
       "644     0.600000\n",
       "435     0.600000\n",
       "436     0.600000\n",
       "408     0.600000\n",
       "471     0.600000\n",
       "551     0.600000\n",
       "554     0.600000\n",
       "573     0.600000\n",
       "574     0.600000\n",
       "600     0.600000\n",
       "626     0.600000\n",
       "634     0.600000\n",
       "461     0.600000\n",
       "1053    0.771429\n",
       "1049    1.200000\n",
       "1055    1.200000\n",
       "1057    1.200000\n",
       "1054    1.400000\n",
       "dtype: float64"
      ]
     },
     "execution_count": 11,
     "metadata": {},
     "output_type": "execute_result"
    }
   ],
   "source": [
    "signals_sum[signals_sum <= 5].sort_values()"
   ]
  },
  {
   "cell_type": "markdown",
   "metadata": {},
   "source": [
    "Not only are these below 5, they are far below, which only supports the idea that they should not be included."
   ]
  },
  {
   "cell_type": "code",
   "execution_count": 12,
   "metadata": {},
   "outputs": [
    {
     "data": {
      "text/plain": [
       "975     10.571429\n",
       "264     11.142857\n",
       "962     11.971429\n",
       "945     12.857143\n",
       "869     13.400000\n",
       "999     13.628571\n",
       "1001    13.971429\n",
       "1037    14.400000\n",
       "947     14.771429\n",
       "935     15.857143\n",
       "957     16.142857\n",
       "288     16.257143\n",
       "3       16.400000\n",
       "1040    16.571429\n",
       "37      16.628571\n",
       "105     16.714286\n",
       "293     16.914286\n",
       "960     17.000000\n",
       "201     17.028571\n",
       "907     17.428571\n",
       "93      17.771429\n",
       "197     17.857143\n",
       "243     17.971429\n",
       "207     18.000000\n",
       "204     18.142857\n",
       "870     18.142857\n",
       "256     18.428571\n",
       "273     18.628571\n",
       "212     18.685714\n",
       "997     18.714286\n",
       "dtype: float64"
      ]
     },
     "execution_count": 12,
     "metadata": {},
     "output_type": "execute_result"
    }
   ],
   "source": [
    "signals_sum[signals_sum > 5].sort_values().head(30)"
   ]
  },
  {
   "cell_type": "markdown",
   "metadata": {},
   "source": [
    "These are all far above 5 and follow a pretty continuous, predictable distribution, so I think these values fall within a sufficiently normal range to use.\n",
    "\n",
    "So we'll just get rid of everything under 5 and add sum as a column to the dataframe so we can get more sense of its distribution as well"
   ]
  },
  {
   "cell_type": "code",
   "execution_count": 13,
   "metadata": {},
   "outputs": [
    {
     "data": {
      "text/plain": [
       "(502, 72)"
      ]
     },
     "execution_count": 13,
     "metadata": {},
     "output_type": "execute_result"
    }
   ],
   "source": [
    "signals_df = signals_df[signals_sum > 5]\n",
    "signals_df.shape"
   ]
  },
  {
   "cell_type": "markdown",
   "metadata": {},
   "source": [
    "We just need to check for duplicates to make sure there isn't any funny business"
   ]
  },
  {
   "cell_type": "code",
   "execution_count": 14,
   "metadata": {},
   "outputs": [
    {
     "data": {
      "text/plain": [
       "0"
      ]
     },
     "execution_count": 14,
     "metadata": {},
     "output_type": "execute_result"
    }
   ],
   "source": [
    "signals_df.duplicated().sum()"
   ]
  },
  {
   "cell_type": "markdown",
   "metadata": {},
   "source": [
    "There are no duplicates"
   ]
  },
  {
   "cell_type": "code",
   "execution_count": 15,
   "metadata": {},
   "outputs": [
    {
     "name": "stderr",
     "output_type": "stream",
     "text": [
      "<ipython-input-15-d9a101974f90>:1: FutureWarning: Dropping of nuisance columns in DataFrame reductions (with 'numeric_only=None') is deprecated; in a future version this will raise TypeError.  Select only valid columns before calling the reduction.\n",
      "  signals_df['sum'] = signals_df.sum(axis=1)\n"
     ]
    },
    {
     "data": {
      "text/html": [
       "<div>\n",
       "<style scoped>\n",
       "    .dataframe tbody tr th:only-of-type {\n",
       "        vertical-align: middle;\n",
       "    }\n",
       "\n",
       "    .dataframe tbody tr th {\n",
       "        vertical-align: top;\n",
       "    }\n",
       "\n",
       "    .dataframe thead th {\n",
       "        text-align: right;\n",
       "    }\n",
       "</style>\n",
       "<table border=\"1\" class=\"dataframe\">\n",
       "  <thead>\n",
       "    <tr style=\"text-align: right;\">\n",
       "      <th></th>\n",
       "      <th>R-1 Rigid Posture:</th>\n",
       "      <th>R-2 Body Centric:</th>\n",
       "      <th>R-3 Punctuated Motions:</th>\n",
       "      <th>R-4 Vertical Movements:</th>\n",
       "      <th>R-5 Subordinate Fluidity:</th>\n",
       "      <th>PR-1 Head Pushes:</th>\n",
       "      <th>PR-2 Head Shakes:</th>\n",
       "      <th>PR-3 Shoulder Shrugs:</th>\n",
       "      <th>PR-4 Fluent Articulation:</th>\n",
       "      <th>PR-5 Projecting Hands:</th>\n",
       "      <th>...</th>\n",
       "      <th>Su-7 Levity Effect:</th>\n",
       "      <th>Su-8 Quirky Skits:</th>\n",
       "      <th>Eu-1 Responsive Nodding:</th>\n",
       "      <th>Eu-2 Polite Smiling:</th>\n",
       "      <th>Eu-3 Bashful Body Movements:</th>\n",
       "      <th>Eg-1 Upset Mouth Tension:</th>\n",
       "      <th>Eg-2 Assertive Pushing:</th>\n",
       "      <th>Eg-3 Stern Expressions:</th>\n",
       "      <th>FA-1 Fallen Affect:</th>\n",
       "      <th>sum</th>\n",
       "    </tr>\n",
       "  </thead>\n",
       "  <tbody>\n",
       "    <tr>\n",
       "      <th>count</th>\n",
       "      <td>502.000000</td>\n",
       "      <td>502.000000</td>\n",
       "      <td>502.000000</td>\n",
       "      <td>502.000000</td>\n",
       "      <td>502.000000</td>\n",
       "      <td>502.000000</td>\n",
       "      <td>502.000000</td>\n",
       "      <td>502.000000</td>\n",
       "      <td>502.000000</td>\n",
       "      <td>502.000000</td>\n",
       "      <td>...</td>\n",
       "      <td>502.000000</td>\n",
       "      <td>502.000000</td>\n",
       "      <td>502.000000</td>\n",
       "      <td>502.000000</td>\n",
       "      <td>502.000000</td>\n",
       "      <td>502.000000</td>\n",
       "      <td>502.000000</td>\n",
       "      <td>502.000000</td>\n",
       "      <td>502.000000</td>\n",
       "      <td>502.000000</td>\n",
       "    </tr>\n",
       "    <tr>\n",
       "      <th>mean</th>\n",
       "      <td>0.420603</td>\n",
       "      <td>0.415766</td>\n",
       "      <td>0.435401</td>\n",
       "      <td>0.446784</td>\n",
       "      <td>0.259249</td>\n",
       "      <td>0.513090</td>\n",
       "      <td>0.483779</td>\n",
       "      <td>0.252134</td>\n",
       "      <td>0.523904</td>\n",
       "      <td>0.589641</td>\n",
       "      <td>...</td>\n",
       "      <td>0.212294</td>\n",
       "      <td>0.125783</td>\n",
       "      <td>0.289129</td>\n",
       "      <td>0.393569</td>\n",
       "      <td>0.202903</td>\n",
       "      <td>0.164200</td>\n",
       "      <td>0.235344</td>\n",
       "      <td>0.318725</td>\n",
       "      <td>0.186454</td>\n",
       "      <td>24.672795</td>\n",
       "    </tr>\n",
       "    <tr>\n",
       "      <th>std</th>\n",
       "      <td>0.393977</td>\n",
       "      <td>0.379683</td>\n",
       "      <td>0.330090</td>\n",
       "      <td>0.336264</td>\n",
       "      <td>0.360239</td>\n",
       "      <td>0.326893</td>\n",
       "      <td>0.305757</td>\n",
       "      <td>0.239511</td>\n",
       "      <td>0.323269</td>\n",
       "      <td>0.346878</td>\n",
       "      <td>...</td>\n",
       "      <td>0.294241</td>\n",
       "      <td>0.249553</td>\n",
       "      <td>0.281094</td>\n",
       "      <td>0.312467</td>\n",
       "      <td>0.272604</td>\n",
       "      <td>0.244187</td>\n",
       "      <td>0.296530</td>\n",
       "      <td>0.309871</td>\n",
       "      <td>0.219907</td>\n",
       "      <td>4.208694</td>\n",
       "    </tr>\n",
       "    <tr>\n",
       "      <th>min</th>\n",
       "      <td>0.000000</td>\n",
       "      <td>0.000000</td>\n",
       "      <td>0.000000</td>\n",
       "      <td>0.000000</td>\n",
       "      <td>0.000000</td>\n",
       "      <td>0.000000</td>\n",
       "      <td>0.000000</td>\n",
       "      <td>0.000000</td>\n",
       "      <td>0.000000</td>\n",
       "      <td>0.000000</td>\n",
       "      <td>...</td>\n",
       "      <td>0.000000</td>\n",
       "      <td>0.000000</td>\n",
       "      <td>0.000000</td>\n",
       "      <td>0.000000</td>\n",
       "      <td>0.000000</td>\n",
       "      <td>0.000000</td>\n",
       "      <td>0.000000</td>\n",
       "      <td>0.000000</td>\n",
       "      <td>0.000000</td>\n",
       "      <td>10.571429</td>\n",
       "    </tr>\n",
       "    <tr>\n",
       "      <th>25%</th>\n",
       "      <td>0.000000</td>\n",
       "      <td>0.000000</td>\n",
       "      <td>0.285714</td>\n",
       "      <td>0.285714</td>\n",
       "      <td>0.000000</td>\n",
       "      <td>0.285714</td>\n",
       "      <td>0.285714</td>\n",
       "      <td>0.000000</td>\n",
       "      <td>0.285714</td>\n",
       "      <td>0.285714</td>\n",
       "      <td>...</td>\n",
       "      <td>0.000000</td>\n",
       "      <td>0.000000</td>\n",
       "      <td>0.000000</td>\n",
       "      <td>0.285714</td>\n",
       "      <td>0.000000</td>\n",
       "      <td>0.000000</td>\n",
       "      <td>0.000000</td>\n",
       "      <td>0.000000</td>\n",
       "      <td>0.000000</td>\n",
       "      <td>21.928571</td>\n",
       "    </tr>\n",
       "    <tr>\n",
       "      <th>50%</th>\n",
       "      <td>0.285714</td>\n",
       "      <td>0.285714</td>\n",
       "      <td>0.285714</td>\n",
       "      <td>0.428571</td>\n",
       "      <td>0.000000</td>\n",
       "      <td>0.571429</td>\n",
       "      <td>0.571429</td>\n",
       "      <td>0.285714</td>\n",
       "      <td>0.571429</td>\n",
       "      <td>0.571429</td>\n",
       "      <td>...</td>\n",
       "      <td>0.000000</td>\n",
       "      <td>0.000000</td>\n",
       "      <td>0.285714</td>\n",
       "      <td>0.285714</td>\n",
       "      <td>0.000000</td>\n",
       "      <td>0.000000</td>\n",
       "      <td>0.000000</td>\n",
       "      <td>0.285714</td>\n",
       "      <td>0.200000</td>\n",
       "      <td>24.700000</td>\n",
       "    </tr>\n",
       "    <tr>\n",
       "      <th>75%</th>\n",
       "      <td>0.571429</td>\n",
       "      <td>0.571429</td>\n",
       "      <td>0.571429</td>\n",
       "      <td>0.571429</td>\n",
       "      <td>0.571429</td>\n",
       "      <td>0.571429</td>\n",
       "      <td>0.571429</td>\n",
       "      <td>0.285714</td>\n",
       "      <td>0.571429</td>\n",
       "      <td>1.000000</td>\n",
       "      <td>...</td>\n",
       "      <td>0.285714</td>\n",
       "      <td>0.285714</td>\n",
       "      <td>0.571429</td>\n",
       "      <td>0.571429</td>\n",
       "      <td>0.285714</td>\n",
       "      <td>0.285714</td>\n",
       "      <td>0.285714</td>\n",
       "      <td>0.571429</td>\n",
       "      <td>0.400000</td>\n",
       "      <td>27.450000</td>\n",
       "    </tr>\n",
       "    <tr>\n",
       "      <th>max</th>\n",
       "      <td>1.000000</td>\n",
       "      <td>1.000000</td>\n",
       "      <td>1.000000</td>\n",
       "      <td>1.000000</td>\n",
       "      <td>1.000000</td>\n",
       "      <td>1.000000</td>\n",
       "      <td>1.000000</td>\n",
       "      <td>1.000000</td>\n",
       "      <td>1.000000</td>\n",
       "      <td>1.000000</td>\n",
       "      <td>...</td>\n",
       "      <td>1.000000</td>\n",
       "      <td>1.000000</td>\n",
       "      <td>1.000000</td>\n",
       "      <td>1.000000</td>\n",
       "      <td>1.000000</td>\n",
       "      <td>1.000000</td>\n",
       "      <td>1.000000</td>\n",
       "      <td>1.000000</td>\n",
       "      <td>1.000000</td>\n",
       "      <td>36.428571</td>\n",
       "    </tr>\n",
       "  </tbody>\n",
       "</table>\n",
       "<p>8 rows × 72 columns</p>\n",
       "</div>"
      ],
      "text/plain": [
       "       R-1 Rigid Posture:  R-2 Body Centric:  R-3 Punctuated Motions:  \\\n",
       "count          502.000000         502.000000               502.000000   \n",
       "mean             0.420603           0.415766                 0.435401   \n",
       "std              0.393977           0.379683                 0.330090   \n",
       "min              0.000000           0.000000                 0.000000   \n",
       "25%              0.000000           0.000000                 0.285714   \n",
       "50%              0.285714           0.285714                 0.285714   \n",
       "75%              0.571429           0.571429                 0.571429   \n",
       "max              1.000000           1.000000                 1.000000   \n",
       "\n",
       "       R-4 Vertical Movements:  R-5 Subordinate Fluidity:  PR-1 Head Pushes:  \\\n",
       "count               502.000000                 502.000000         502.000000   \n",
       "mean                  0.446784                   0.259249           0.513090   \n",
       "std                   0.336264                   0.360239           0.326893   \n",
       "min                   0.000000                   0.000000           0.000000   \n",
       "25%                   0.285714                   0.000000           0.285714   \n",
       "50%                   0.428571                   0.000000           0.571429   \n",
       "75%                   0.571429                   0.571429           0.571429   \n",
       "max                   1.000000                   1.000000           1.000000   \n",
       "\n",
       "       PR-2 Head Shakes:  PR-3 Shoulder Shrugs:  PR-4 Fluent Articulation:  \\\n",
       "count         502.000000             502.000000                 502.000000   \n",
       "mean            0.483779               0.252134                   0.523904   \n",
       "std             0.305757               0.239511                   0.323269   \n",
       "min             0.000000               0.000000                   0.000000   \n",
       "25%             0.285714               0.000000                   0.285714   \n",
       "50%             0.571429               0.285714                   0.571429   \n",
       "75%             0.571429               0.285714                   0.571429   \n",
       "max             1.000000               1.000000                   1.000000   \n",
       "\n",
       "       PR-5 Projecting Hands:  ...  Su-7 Levity Effect:  Su-8 Quirky Skits:  \\\n",
       "count              502.000000  ...           502.000000          502.000000   \n",
       "mean                 0.589641  ...             0.212294            0.125783   \n",
       "std                  0.346878  ...             0.294241            0.249553   \n",
       "min                  0.000000  ...             0.000000            0.000000   \n",
       "25%                  0.285714  ...             0.000000            0.000000   \n",
       "50%                  0.571429  ...             0.000000            0.000000   \n",
       "75%                  1.000000  ...             0.285714            0.285714   \n",
       "max                  1.000000  ...             1.000000            1.000000   \n",
       "\n",
       "       Eu-1 Responsive Nodding:  Eu-2 Polite Smiling:  \\\n",
       "count                502.000000            502.000000   \n",
       "mean                   0.289129              0.393569   \n",
       "std                    0.281094              0.312467   \n",
       "min                    0.000000              0.000000   \n",
       "25%                    0.000000              0.285714   \n",
       "50%                    0.285714              0.285714   \n",
       "75%                    0.571429              0.571429   \n",
       "max                    1.000000              1.000000   \n",
       "\n",
       "       Eu-3 Bashful Body Movements:  Eg-1 Upset Mouth Tension:  \\\n",
       "count                    502.000000                 502.000000   \n",
       "mean                       0.202903                   0.164200   \n",
       "std                        0.272604                   0.244187   \n",
       "min                        0.000000                   0.000000   \n",
       "25%                        0.000000                   0.000000   \n",
       "50%                        0.000000                   0.000000   \n",
       "75%                        0.285714                   0.285714   \n",
       "max                        1.000000                   1.000000   \n",
       "\n",
       "       Eg-2 Assertive Pushing:  Eg-3 Stern Expressions:  FA-1 Fallen Affect:  \\\n",
       "count               502.000000               502.000000           502.000000   \n",
       "mean                  0.235344                 0.318725             0.186454   \n",
       "std                   0.296530                 0.309871             0.219907   \n",
       "min                   0.000000                 0.000000             0.000000   \n",
       "25%                   0.000000                 0.000000             0.000000   \n",
       "50%                   0.000000                 0.285714             0.200000   \n",
       "75%                   0.285714                 0.571429             0.400000   \n",
       "max                   1.000000                 1.000000             1.000000   \n",
       "\n",
       "              sum  \n",
       "count  502.000000  \n",
       "mean    24.672795  \n",
       "std      4.208694  \n",
       "min     10.571429  \n",
       "25%     21.928571  \n",
       "50%     24.700000  \n",
       "75%     27.450000  \n",
       "max     36.428571  \n",
       "\n",
       "[8 rows x 72 columns]"
      ]
     },
     "execution_count": 15,
     "metadata": {},
     "output_type": "execute_result"
    }
   ],
   "source": [
    "signals_df['sum'] = signals_df.sum(axis=1)\n",
    "signals_df.describe()"
   ]
  },
  {
   "cell_type": "markdown",
   "metadata": {},
   "source": [
    "These numbers look more sensible but there are still a surprising amount with 0 values around the median, but that could just indicate a relatively rare signal. The most frequent signals marked is an interesting topic in itself"
   ]
  },
  {
   "cell_type": "code",
   "execution_count": 16,
   "metadata": {},
   "outputs": [
    {
     "data": {
      "text/plain": [
       "count    502.000000\n",
       "mean      24.672795\n",
       "std        4.208694\n",
       "min       10.571429\n",
       "25%       21.928571\n",
       "50%       24.700000\n",
       "75%       27.450000\n",
       "max       36.428571\n",
       "Name: sum, dtype: float64"
      ]
     },
     "execution_count": 16,
     "metadata": {},
     "output_type": "execute_result"
    }
   ],
   "source": [
    "signals_df['sum'].describe()"
   ]
  },
  {
   "cell_type": "markdown",
   "metadata": {},
   "source": [
    "Those are the summary statistics for the number of signals marked in a vultology report, very interesting. The mean and the median are pretty close too which makes the distribution pretty balanced.\n",
    "\n",
    "Let's look at the vultology signals with the highest and lowest means"
   ]
  },
  {
   "cell_type": "code",
   "execution_count": 17,
   "metadata": {},
   "outputs": [
    {
     "data": {
      "text/plain": [
       "count    71.000000\n",
       "mean      0.347504\n",
       "std       0.108760\n",
       "min       0.117245\n",
       "25%       0.266505\n",
       "50%       0.353728\n",
       "75%       0.426437\n",
       "max       0.589641\n",
       "Name: mean, dtype: float64"
      ]
     },
     "execution_count": 17,
     "metadata": {},
     "output_type": "execute_result"
    }
   ],
   "source": [
    "signal_means = signals_df.drop('sum', axis=1).describe().loc['mean', :]\n",
    "signal_means.describe()"
   ]
  },
  {
   "cell_type": "markdown",
   "metadata": {},
   "source": [
    "This is also a very believable and balanced distribution with close mean and median.\n",
    "\n",
    "The 10 least marked vultology signals are:"
   ]
  },
  {
   "cell_type": "code",
   "execution_count": 18,
   "metadata": {},
   "outputs": [
    {
     "data": {
      "text/plain": [
       "Su-6 Eye-Head Trailing Motions:    0.117245\n",
       "Su-8 Quirky Skits:                 0.125783\n",
       "Ca-9 Grasping Hands:               0.143142\n",
       "Ms-9 Puppeteer Hands:              0.157086\n",
       "Eg-1 Upset Mouth Tension:          0.164200\n",
       "FA-1 Fallen Affect:                0.186454\n",
       "Eu-3 Bashful Body Movements:       0.202903\n",
       "Ca-5 Asymmetrical Smirks:          0.208025\n",
       "Su-7 Levity Effect:                0.212294\n",
       "Gr-4 Intense Scowling:             0.220831\n",
       "Name: mean, dtype: float64"
      ]
     },
     "execution_count": 18,
     "metadata": {},
     "output_type": "execute_result"
    }
   ],
   "source": [
    "signal_means.sort_values().head(10)"
   ]
  },
  {
   "cell_type": "markdown",
   "metadata": {},
   "source": [
    "Fallen affect is low, which is good. In general some of the Ne/Si signals seem rare or difficult to understand, so them being so low is interesting and believable in a sense\n",
    "\n",
    "The top 10 most marked vultology signals:"
   ]
  },
  {
   "cell_type": "code",
   "execution_count": 19,
   "metadata": {},
   "outputs": [
    {
     "data": {
      "text/plain": [
       "PR-5 Projecting Hands:       0.589641\n",
       "PF-2 Toggling Eyes:          0.532726\n",
       "PR-4 Fluent Articulation:    0.523904\n",
       "Gr-3 Taut Outer Edges:       0.513944\n",
       "PR-1 Head Pushes:            0.513090\n",
       "PR-2 Head Shakes:            0.483779\n",
       "PF-3 Body Swaying:           0.474388\n",
       "F-2 Eye Centric:             0.474388\n",
       "F-1 Fluid Posture:           0.472112\n",
       "F-4 Horizontal Movements:    0.468697\n",
       "Name: mean, dtype: float64"
      ]
     },
     "execution_count": 19,
     "metadata": {},
     "output_type": "execute_result"
    }
   ],
   "source": [
    "signal_means.sort_values(ascending=False).head(10)"
   ]
  },
  {
   "cell_type": "markdown",
   "metadata": {},
   "source": [
    "A lot of these signals are things that most people do (project their hands some, talk and articulate, look around, etc.), or are very distinctive like taut outer edges. That definitely makes sense but I wonder if a future version of the codifier will add greater nuance to these signals to distinguish them for ordinary behavior, if that's even necessary\n",
    "\n",
    "Let's also look at std"
   ]
  },
  {
   "cell_type": "code",
   "execution_count": 20,
   "metadata": {},
   "outputs": [
    {
     "data": {
      "text/plain": [
       "count    71.000000\n",
       "mean      0.329361\n",
       "std       0.045750\n",
       "min       0.203423\n",
       "25%       0.305721\n",
       "50%       0.334685\n",
       "75%       0.362867\n",
       "max       0.411687\n",
       "Name: std, dtype: float64"
      ]
     },
     "execution_count": 20,
     "metadata": {},
     "output_type": "execute_result"
    }
   ],
   "source": [
    "signal_std = signals_df.drop('sum', axis=1).describe().loc['std', :]\n",
    "signal_std.describe()"
   ]
  },
  {
   "cell_type": "markdown",
   "metadata": {},
   "source": [
    "Also a typically balanced distribution\n",
    "\n",
    "Bottom 5 (so most unvarying signals)"
   ]
  },
  {
   "cell_type": "code",
   "execution_count": 21,
   "metadata": {},
   "outputs": [
    {
     "data": {
      "text/plain": [
       "Su-6 Eye-Head Trailing Motions:    0.203423\n",
       "FA-1 Fallen Affect:                0.219907\n",
       "PR-3 Shoulder Shrugs:              0.239511\n",
       "Ms-9 Puppeteer Hands:              0.240931\n",
       "Ca-9 Grasping Hands:               0.243787\n",
       "Eg-1 Upset Mouth Tension:          0.244187\n",
       "Su-8 Quirky Skits:                 0.249553\n",
       "RR-3 Exerted Pushes:               0.267935\n",
       "RR-4 Momentum Halting:             0.268233\n",
       "Eu-3 Bashful Body Movements:       0.272604\n",
       "Name: std, dtype: float64"
      ]
     },
     "execution_count": 21,
     "metadata": {},
     "output_type": "execute_result"
    }
   ],
   "source": [
    "signal_std.sort_values().head(10)"
   ]
  },
  {
   "cell_type": "markdown",
   "metadata": {},
   "source": [
    "Interestingly, it's a lot of the same one's that had low means, so in having low values they probably have less chance to vary"
   ]
  },
  {
   "cell_type": "code",
   "execution_count": 22,
   "metadata": {},
   "outputs": [
    {
     "data": {
      "text/plain": [
       "Gr-3 Taut Outer Edges:             0.411687\n",
       "Ms-2 Horizontal Curtain Smiles:    0.410278\n",
       "Gr-1 Taut Preseptal Area:          0.395831\n",
       "R-1 Rigid Posture:                 0.393977\n",
       "Ms-3 Two Point Pulling:            0.385796\n",
       "F-2 Eye Centric:                   0.384925\n",
       "Ms-1 Lax Nasolabial Area:          0.382548\n",
       "Ms-7 Parabolic Velocity:           0.381268\n",
       "R-2 Body Centric:                  0.379683\n",
       "Su-1 Lax Preseptal Area:           0.374242\n",
       "Name: std, dtype: float64"
      ]
     },
     "execution_count": 22,
     "metadata": {},
     "output_type": "execute_result"
    }
   ],
   "source": [
    "signal_std.sort_values(ascending=False).head(10)"
   ]
  },
  {
   "cell_type": "markdown",
   "metadata": {},
   "source": [
    "So since these signals vary a lot, I would look at it as them being more like \"you have it or you don't\", which makes sense for things like the tautness of eye areas and having a Measured smile and/or face, middling cases are rarer. Measured does seem particulary strong in this regard though, which is noteworthy."
   ]
  },
  {
   "cell_type": "markdown",
   "metadata": {},
   "source": [
    "The other columns of data that would be important to have and know the distributions of are:\n",
    "- create a column in the dataframe for Vultology type, since knowing the distribution of types in this more limited dataset could be relevant and interesting\n",
    "- create a column for quadra\n",
    "- create a column for lead energetic\n",
    "- create a column for development\n",
    "- create a column for EA\n",
    "- look at the distribution of each group of signals to see if there are any patterns"
   ]
  },
  {
   "cell_type": "markdown",
   "metadata": {},
   "source": [
    "Before we calculate the scores needed to create these columns, we will reset the index of signals_df to make it a uniform RangeIndex so that it's easier to iterate through"
   ]
  },
  {
   "cell_type": "code",
   "execution_count": 23,
   "metadata": {},
   "outputs": [
    {
     "data": {
      "text/plain": [
       "RangeIndex(start=0, stop=502, step=1)"
      ]
     },
     "execution_count": 23,
     "metadata": {},
     "output_type": "execute_result"
    }
   ],
   "source": [
    "signals_df.reset_index(drop=True, inplace=True)\n",
    "signals_df.index"
   ]
  },
  {
   "cell_type": "code",
   "execution_count": 24,
   "metadata": {
    "scrolled": true
   },
   "outputs": [
    {
     "data": {
      "text/plain": [
       "0    28.0\n",
       "1    64.0\n",
       "2    33.0\n",
       "3    19.0\n",
       "4    40.0\n",
       "dtype: float64"
      ]
     },
     "execution_count": 24,
     "metadata": {},
     "output_type": "execute_result"
    }
   ],
   "source": [
    "JeLead_Score = 7*(signals_df.iloc[:, 1:11].sum(axis=1))\n",
    "JeLead_Score.head()"
   ]
  },
  {
   "cell_type": "code",
   "execution_count": 25,
   "metadata": {},
   "outputs": [
    {
     "data": {
      "text/plain": [
       "0    32.0\n",
       "1    38.0\n",
       "2    22.0\n",
       "3    12.0\n",
       "4    42.0\n",
       "dtype: float64"
      ]
     },
     "execution_count": 25,
     "metadata": {},
     "output_type": "execute_result"
    }
   ],
   "source": [
    "JiLead_Score = 7*(signals_df.iloc[:, 1:6].sum(axis=1) + signals_df.iloc[:, 11:16].sum(axis=1))\n",
    "JiLead_Score.head()"
   ]
  },
  {
   "cell_type": "code",
   "execution_count": 26,
   "metadata": {},
   "outputs": [
    {
     "data": {
      "text/plain": [
       "0    44.0\n",
       "1    18.0\n",
       "2    46.0\n",
       "3    14.0\n",
       "4    32.0\n",
       "dtype: float64"
      ]
     },
     "execution_count": 26,
     "metadata": {},
     "output_type": "execute_result"
    }
   ],
   "source": [
    "PeLead_Score = 7*(signals_df.iloc[:, 16:26].sum(axis=1))\n",
    "PeLead_Score.head()"
   ]
  },
  {
   "cell_type": "code",
   "execution_count": 27,
   "metadata": {},
   "outputs": [
    {
     "data": {
      "text/plain": [
       "0    24.0\n",
       "1    18.0\n",
       "2    26.0\n",
       "3    33.0\n",
       "4    18.0\n",
       "dtype: float64"
      ]
     },
     "execution_count": 27,
     "metadata": {},
     "output_type": "execute_result"
    }
   ],
   "source": [
    "PiLead_Score = 7*(signals_df.iloc[:, 16:21].sum(axis=1) + signals_df.iloc[:, 26:31].sum(axis=1))\n",
    "PiLead_Score.head()"
   ]
  },
  {
   "cell_type": "code",
   "execution_count": 28,
   "metadata": {},
   "outputs": [
    {
     "data": {
      "text/plain": [
       "0    16.0\n",
       "1    32.0\n",
       "2    21.0\n",
       "3    13.0\n",
       "4    19.0\n",
       "dtype: float64"
      ]
     },
     "execution_count": 28,
     "metadata": {},
     "output_type": "execute_result"
    }
   ],
   "source": [
    "Je_Score = 7*(signals_df.iloc[:, 6:11].sum(axis=1))\n",
    "Je_Score.head()"
   ]
  },
  {
   "cell_type": "code",
   "execution_count": 29,
   "metadata": {},
   "outputs": [
    {
     "data": {
      "text/plain": [
       "0    20.0\n",
       "1     6.0\n",
       "2    10.0\n",
       "3     6.0\n",
       "4    21.0\n",
       "dtype: float64"
      ]
     },
     "execution_count": 29,
     "metadata": {},
     "output_type": "execute_result"
    }
   ],
   "source": [
    "Ji_Score = 7*(signals_df.iloc[:, 11:16].sum(axis=1))\n",
    "Ji_Score.head()"
   ]
  },
  {
   "cell_type": "code",
   "execution_count": 30,
   "metadata": {},
   "outputs": [
    {
     "data": {
      "text/plain": [
       "0    26.0\n",
       "1    12.0\n",
       "2    22.0\n",
       "3     4.0\n",
       "4    24.0\n",
       "dtype: float64"
      ]
     },
     "execution_count": 30,
     "metadata": {},
     "output_type": "execute_result"
    }
   ],
   "source": [
    "Pe_Score = 7*(signals_df.iloc[:, 21:26].sum(axis=1))\n",
    "Pe_Score.head()"
   ]
  },
  {
   "cell_type": "code",
   "execution_count": 31,
   "metadata": {},
   "outputs": [
    {
     "data": {
      "text/plain": [
       "0     6.0\n",
       "1    12.0\n",
       "2     2.0\n",
       "3    23.0\n",
       "4    10.0\n",
       "dtype: float64"
      ]
     },
     "execution_count": 31,
     "metadata": {},
     "output_type": "execute_result"
    }
   ],
   "source": [
    "Pi_Score = 7*(signals_df.iloc[:, 26:31].sum(axis=1))\n",
    "Pi_Score.head()"
   ]
  },
  {
   "cell_type": "code",
   "execution_count": 32,
   "metadata": {},
   "outputs": [
    {
     "data": {
      "text/plain": [
       "0    40.0\n",
       "1     0.0\n",
       "2     6.0\n",
       "3    21.0\n",
       "4    33.0\n",
       "dtype: float64"
      ]
     },
     "execution_count": 32,
     "metadata": {},
     "output_type": "execute_result"
    }
   ],
   "source": [
    "Candid_Score = 7*(signals_df.iloc[:, 31:40].sum(axis=1))\n",
    "Candid_Score.head()"
   ]
  },
  {
   "cell_type": "code",
   "execution_count": 33,
   "metadata": {},
   "outputs": [
    {
     "data": {
      "text/plain": [
       "0    27.0\n",
       "1    10.0\n",
       "2    46.0\n",
       "3     6.0\n",
       "4    31.0\n",
       "dtype: float64"
      ]
     },
     "execution_count": 33,
     "metadata": {},
     "output_type": "execute_result"
    }
   ],
   "source": [
    "Grounded_Score = 7*(signals_df.iloc[:, 40:48].sum(axis=1))\n",
    "Grounded_Score.head()"
   ]
  },
  {
   "cell_type": "code",
   "execution_count": 34,
   "metadata": {},
   "outputs": [
    {
     "data": {
      "text/plain": [
       "0    12.0\n",
       "1    48.0\n",
       "2    44.0\n",
       "3     4.0\n",
       "4     8.0\n",
       "dtype: float64"
      ]
     },
     "execution_count": 34,
     "metadata": {},
     "output_type": "execute_result"
    }
   ],
   "source": [
    "Measured_Score = 7*(signals_df.iloc[:, 48:57].sum(axis=1))\n",
    "Measured_Score.head()"
   ]
  },
  {
   "cell_type": "code",
   "execution_count": 35,
   "metadata": {},
   "outputs": [
    {
     "data": {
      "text/plain": [
       "0    18.0\n",
       "1    32.0\n",
       "2     2.0\n",
       "3    13.0\n",
       "4    18.0\n",
       "dtype: float64"
      ]
     },
     "execution_count": 35,
     "metadata": {},
     "output_type": "execute_result"
    }
   ],
   "source": [
    "Suspended_Score = 7*(signals_df.iloc[:, 57:65].sum(axis=1))\n",
    "Suspended_Score.head()"
   ]
  },
  {
   "cell_type": "code",
   "execution_count": 36,
   "metadata": {},
   "outputs": [
    {
     "data": {
      "text/plain": [
       "0     8.0\n",
       "1    10.0\n",
       "2     4.0\n",
       "3     0.0\n",
       "4     8.0\n",
       "dtype: float64"
      ]
     },
     "execution_count": 36,
     "metadata": {},
     "output_type": "execute_result"
    }
   ],
   "source": [
    "Unguarded_Score = 7*(signals_df.iloc[:, 65:68].sum(axis=1))\n",
    "Unguarded_Score.head()"
   ]
  },
  {
   "cell_type": "code",
   "execution_count": 37,
   "metadata": {},
   "outputs": [
    {
     "data": {
      "text/plain": [
       "0     4.0\n",
       "1     8.0\n",
       "2    10.0\n",
       "3     6.0\n",
       "4    10.0\n",
       "dtype: float64"
      ]
     },
     "execution_count": 37,
     "metadata": {},
     "output_type": "execute_result"
    }
   ],
   "source": [
    "Guarded_Score = 7*(signals_df.iloc[:, 68:71].sum(axis=1))\n",
    "Guarded_Score.head()"
   ]
  },
  {
   "cell_type": "code",
   "execution_count": 38,
   "metadata": {},
   "outputs": [
    {
     "data": {
      "text/plain": [
       "0    Gamma\n",
       "1    Alpha\n",
       "2     Beta\n",
       "3    Delta\n",
       "4    Gamma\n",
       "dtype: object"
      ]
     },
     "execution_count": 38,
     "metadata": {},
     "output_type": "execute_result"
    }
   ],
   "source": [
    "Quadra = []\n",
    "\n",
    "for i in range(len(signals_df)):\n",
    "    if Candid_Score[i] > Measured_Score[i]:\n",
    "        if Grounded_Score[i] > Suspended_Score[i]:\n",
    "            Quadra.append('Gamma')\n",
    "        else:\n",
    "            Quadra.append('Delta')\n",
    "    else:\n",
    "        if Grounded_Score[i] > Suspended_Score[i]:\n",
    "            Quadra.append('Beta')\n",
    "        else:\n",
    "            Quadra.append('Alpha')\n",
    "            \n",
    "Quadra_series = pd.Series(Quadra)\n",
    "Quadra_series.head()"
   ]
  },
  {
   "cell_type": "code",
   "execution_count": 39,
   "metadata": {},
   "outputs": [
    {
     "data": {
      "text/plain": [
       "Beta     164\n",
       "Gamma    134\n",
       "Alpha    103\n",
       "Delta    101\n",
       "dtype: int64"
      ]
     },
     "execution_count": 39,
     "metadata": {},
     "output_type": "execute_result"
    }
   ],
   "source": [
    "Quadra_series.value_counts()"
   ]
  },
  {
   "cell_type": "code",
   "execution_count": 40,
   "metadata": {},
   "outputs": [
    {
     "data": {
      "text/plain": [
       "Beta     32.669323\n",
       "Gamma    26.693227\n",
       "Alpha    20.517928\n",
       "Delta    20.119522\n",
       "dtype: float64"
      ]
     },
     "execution_count": 40,
     "metadata": {},
     "output_type": "execute_result"
    }
   ],
   "source": [
    "100 * Quadra_series.value_counts() / len(Quadra_series)"
   ]
  },
  {
   "cell_type": "markdown",
   "metadata": {},
   "source": [
    "It needs to be kept in mind that Grounded types are more plentiful in our data, perhaps because they are more common among celebrities. Though all quadras have a healthy sample size overall."
   ]
  },
  {
   "cell_type": "code",
   "execution_count": 41,
   "metadata": {},
   "outputs": [
    {
     "data": {
      "text/html": [
       "<div>\n",
       "<style scoped>\n",
       "    .dataframe tbody tr th:only-of-type {\n",
       "        vertical-align: middle;\n",
       "    }\n",
       "\n",
       "    .dataframe tbody tr th {\n",
       "        vertical-align: top;\n",
       "    }\n",
       "\n",
       "    .dataframe thead th {\n",
       "        text-align: right;\n",
       "    }\n",
       "</style>\n",
       "<table border=\"1\" class=\"dataframe\">\n",
       "  <thead>\n",
       "    <tr style=\"text-align: right;\">\n",
       "      <th></th>\n",
       "      <th>Name</th>\n",
       "      <th>R-1 Rigid Posture:</th>\n",
       "      <th>R-2 Body Centric:</th>\n",
       "      <th>R-3 Punctuated Motions:</th>\n",
       "      <th>R-4 Vertical Movements:</th>\n",
       "      <th>R-5 Subordinate Fluidity:</th>\n",
       "      <th>PR-1 Head Pushes:</th>\n",
       "      <th>PR-2 Head Shakes:</th>\n",
       "      <th>PR-3 Shoulder Shrugs:</th>\n",
       "      <th>PR-4 Fluent Articulation:</th>\n",
       "      <th>...</th>\n",
       "      <th>Su-8 Quirky Skits:</th>\n",
       "      <th>Eu-1 Responsive Nodding:</th>\n",
       "      <th>Eu-2 Polite Smiling:</th>\n",
       "      <th>Eu-3 Bashful Body Movements:</th>\n",
       "      <th>Eg-1 Upset Mouth Tension:</th>\n",
       "      <th>Eg-2 Assertive Pushing:</th>\n",
       "      <th>Eg-3 Stern Expressions:</th>\n",
       "      <th>FA-1 Fallen Affect:</th>\n",
       "      <th>sum</th>\n",
       "      <th>Quadra</th>\n",
       "    </tr>\n",
       "  </thead>\n",
       "  <tbody>\n",
       "    <tr>\n",
       "      <th>0</th>\n",
       "      <td>Cœur de Pirate</td>\n",
       "      <td>0.571429</td>\n",
       "      <td>0.285714</td>\n",
       "      <td>0.571429</td>\n",
       "      <td>0.285714</td>\n",
       "      <td>0.000000</td>\n",
       "      <td>0.571429</td>\n",
       "      <td>0.285714</td>\n",
       "      <td>0.285714</td>\n",
       "      <td>0.571429</td>\n",
       "      <td>...</td>\n",
       "      <td>0.285714</td>\n",
       "      <td>0.571429</td>\n",
       "      <td>0.285714</td>\n",
       "      <td>0.285714</td>\n",
       "      <td>0.285714</td>\n",
       "      <td>0.000000</td>\n",
       "      <td>0.285714</td>\n",
       "      <td>0.0</td>\n",
       "      <td>29.571429</td>\n",
       "      <td>Gamma</td>\n",
       "    </tr>\n",
       "    <tr>\n",
       "      <th>1</th>\n",
       "      <td>Michael Gervais</td>\n",
       "      <td>1.000000</td>\n",
       "      <td>1.000000</td>\n",
       "      <td>1.000000</td>\n",
       "      <td>1.000000</td>\n",
       "      <td>0.571429</td>\n",
       "      <td>1.000000</td>\n",
       "      <td>1.000000</td>\n",
       "      <td>0.571429</td>\n",
       "      <td>1.000000</td>\n",
       "      <td>...</td>\n",
       "      <td>0.000000</td>\n",
       "      <td>0.571429</td>\n",
       "      <td>0.571429</td>\n",
       "      <td>0.285714</td>\n",
       "      <td>0.285714</td>\n",
       "      <td>0.571429</td>\n",
       "      <td>0.285714</td>\n",
       "      <td>0.2</td>\n",
       "      <td>29.914286</td>\n",
       "      <td>Alpha</td>\n",
       "    </tr>\n",
       "    <tr>\n",
       "      <th>2</th>\n",
       "      <td>Joan Jett</td>\n",
       "      <td>0.285714</td>\n",
       "      <td>0.285714</td>\n",
       "      <td>0.571429</td>\n",
       "      <td>0.571429</td>\n",
       "      <td>0.000000</td>\n",
       "      <td>0.571429</td>\n",
       "      <td>0.571429</td>\n",
       "      <td>0.285714</td>\n",
       "      <td>0.571429</td>\n",
       "      <td>...</td>\n",
       "      <td>0.285714</td>\n",
       "      <td>0.285714</td>\n",
       "      <td>0.285714</td>\n",
       "      <td>0.000000</td>\n",
       "      <td>0.285714</td>\n",
       "      <td>0.571429</td>\n",
       "      <td>0.571429</td>\n",
       "      <td>0.4</td>\n",
       "      <td>29.400000</td>\n",
       "      <td>Beta</td>\n",
       "    </tr>\n",
       "    <tr>\n",
       "      <th>3</th>\n",
       "      <td>Ben Stein</td>\n",
       "      <td>0.000000</td>\n",
       "      <td>0.285714</td>\n",
       "      <td>0.285714</td>\n",
       "      <td>0.285714</td>\n",
       "      <td>0.000000</td>\n",
       "      <td>0.285714</td>\n",
       "      <td>0.285714</td>\n",
       "      <td>0.000000</td>\n",
       "      <td>1.000000</td>\n",
       "      <td>...</td>\n",
       "      <td>0.000000</td>\n",
       "      <td>0.000000</td>\n",
       "      <td>0.000000</td>\n",
       "      <td>0.000000</td>\n",
       "      <td>0.285714</td>\n",
       "      <td>0.285714</td>\n",
       "      <td>0.285714</td>\n",
       "      <td>0.4</td>\n",
       "      <td>16.400000</td>\n",
       "      <td>Delta</td>\n",
       "    </tr>\n",
       "    <tr>\n",
       "      <th>4</th>\n",
       "      <td>Billie Joe Armstrong</td>\n",
       "      <td>0.571429</td>\n",
       "      <td>1.000000</td>\n",
       "      <td>0.285714</td>\n",
       "      <td>0.571429</td>\n",
       "      <td>0.571429</td>\n",
       "      <td>0.571429</td>\n",
       "      <td>1.000000</td>\n",
       "      <td>0.285714</td>\n",
       "      <td>0.285714</td>\n",
       "      <td>...</td>\n",
       "      <td>0.000000</td>\n",
       "      <td>0.285714</td>\n",
       "      <td>0.571429</td>\n",
       "      <td>0.285714</td>\n",
       "      <td>0.571429</td>\n",
       "      <td>0.285714</td>\n",
       "      <td>0.571429</td>\n",
       "      <td>0.0</td>\n",
       "      <td>30.142857</td>\n",
       "      <td>Gamma</td>\n",
       "    </tr>\n",
       "  </tbody>\n",
       "</table>\n",
       "<p>5 rows × 74 columns</p>\n",
       "</div>"
      ],
      "text/plain": [
       "                   Name  R-1 Rigid Posture:  R-2 Body Centric:  \\\n",
       "0        Cœur de Pirate            0.571429           0.285714   \n",
       "1       Michael Gervais            1.000000           1.000000   \n",
       "2             Joan Jett            0.285714           0.285714   \n",
       "3             Ben Stein            0.000000           0.285714   \n",
       "4  Billie Joe Armstrong            0.571429           1.000000   \n",
       "\n",
       "   R-3 Punctuated Motions:  R-4 Vertical Movements:  \\\n",
       "0                 0.571429                 0.285714   \n",
       "1                 1.000000                 1.000000   \n",
       "2                 0.571429                 0.571429   \n",
       "3                 0.285714                 0.285714   \n",
       "4                 0.285714                 0.571429   \n",
       "\n",
       "   R-5 Subordinate Fluidity:  PR-1 Head Pushes:  PR-2 Head Shakes:  \\\n",
       "0                   0.000000           0.571429           0.285714   \n",
       "1                   0.571429           1.000000           1.000000   \n",
       "2                   0.000000           0.571429           0.571429   \n",
       "3                   0.000000           0.285714           0.285714   \n",
       "4                   0.571429           0.571429           1.000000   \n",
       "\n",
       "   PR-3 Shoulder Shrugs:  PR-4 Fluent Articulation:  ...  Su-8 Quirky Skits:  \\\n",
       "0               0.285714                   0.571429  ...            0.285714   \n",
       "1               0.571429                   1.000000  ...            0.000000   \n",
       "2               0.285714                   0.571429  ...            0.285714   \n",
       "3               0.000000                   1.000000  ...            0.000000   \n",
       "4               0.285714                   0.285714  ...            0.000000   \n",
       "\n",
       "   Eu-1 Responsive Nodding:  Eu-2 Polite Smiling:  \\\n",
       "0                  0.571429              0.285714   \n",
       "1                  0.571429              0.571429   \n",
       "2                  0.285714              0.285714   \n",
       "3                  0.000000              0.000000   \n",
       "4                  0.285714              0.571429   \n",
       "\n",
       "   Eu-3 Bashful Body Movements:  Eg-1 Upset Mouth Tension:  \\\n",
       "0                      0.285714                   0.285714   \n",
       "1                      0.285714                   0.285714   \n",
       "2                      0.000000                   0.285714   \n",
       "3                      0.000000                   0.285714   \n",
       "4                      0.285714                   0.571429   \n",
       "\n",
       "   Eg-2 Assertive Pushing:  Eg-3 Stern Expressions:  FA-1 Fallen Affect:  \\\n",
       "0                 0.000000                 0.285714                  0.0   \n",
       "1                 0.571429                 0.285714                  0.2   \n",
       "2                 0.571429                 0.571429                  0.4   \n",
       "3                 0.285714                 0.285714                  0.4   \n",
       "4                 0.285714                 0.571429                  0.0   \n",
       "\n",
       "         sum  Quadra  \n",
       "0  29.571429   Gamma  \n",
       "1  29.914286   Alpha  \n",
       "2  29.400000    Beta  \n",
       "3  16.400000   Delta  \n",
       "4  30.142857   Gamma  \n",
       "\n",
       "[5 rows x 74 columns]"
      ]
     },
     "execution_count": 41,
     "metadata": {},
     "output_type": "execute_result"
    }
   ],
   "source": [
    "signals_df['Quadra'] = Quadra_series\n",
    "signals_df.head()"
   ]
  },
  {
   "cell_type": "code",
   "execution_count": 42,
   "metadata": {},
   "outputs": [
    {
     "data": {
      "text/plain": [
       "0    Pe\n",
       "1    Je\n",
       "2    Pe\n",
       "3    Pi\n",
       "4    Ji\n",
       "dtype: object"
      ]
     },
     "execution_count": 42,
     "metadata": {},
     "output_type": "execute_result"
    }
   ],
   "source": [
    "Lead_Energetic = []\n",
    "\n",
    "for i in range(len(signals_df)):\n",
    "    scores = (JeLead_Score[i], JiLead_Score[i], PeLead_Score[i], PiLead_Score[i])\n",
    "    m_idx = scores.index(max(scores))\n",
    "    if m_idx == 0:\n",
    "        Lead_Energetic.append('Je')\n",
    "    elif m_idx == 1:\n",
    "        Lead_Energetic.append('Ji')\n",
    "    elif m_idx == 2:\n",
    "        Lead_Energetic.append('Pe')\n",
    "    else:\n",
    "        Lead_Energetic.append('Pi')\n",
    "\n",
    "LE_series = pd.Series(Lead_Energetic)\n",
    "LE_series.head()"
   ]
  },
  {
   "cell_type": "code",
   "execution_count": 43,
   "metadata": {},
   "outputs": [
    {
     "data": {
      "text/plain": [
       "Pe    163\n",
       "Je    134\n",
       "Pi    114\n",
       "Ji     91\n",
       "dtype: int64"
      ]
     },
     "execution_count": 43,
     "metadata": {},
     "output_type": "execute_result"
    }
   ],
   "source": [
    "LE_series.value_counts()"
   ]
  },
  {
   "cell_type": "code",
   "execution_count": 44,
   "metadata": {},
   "outputs": [
    {
     "data": {
      "text/plain": [
       "Pe    32.470120\n",
       "Je    26.693227\n",
       "Pi    22.709163\n",
       "Ji    18.127490\n",
       "dtype: float64"
      ]
     },
     "execution_count": 44,
     "metadata": {},
     "output_type": "execute_result"
    }
   ],
   "source": [
    "100 * LE_series.value_counts() / len(LE_series)"
   ]
  },
  {
   "cell_type": "markdown",
   "metadata": {},
   "source": [
    "Yet again, all energetics have a pretty healthy sample size, but the data is significantly skewed in favor of extroverts, since they are obviously more common amongst celebrities"
   ]
  },
  {
   "cell_type": "code",
   "execution_count": 45,
   "metadata": {},
   "outputs": [
    {
     "data": {
      "text/html": [
       "<div>\n",
       "<style scoped>\n",
       "    .dataframe tbody tr th:only-of-type {\n",
       "        vertical-align: middle;\n",
       "    }\n",
       "\n",
       "    .dataframe tbody tr th {\n",
       "        vertical-align: top;\n",
       "    }\n",
       "\n",
       "    .dataframe thead th {\n",
       "        text-align: right;\n",
       "    }\n",
       "</style>\n",
       "<table border=\"1\" class=\"dataframe\">\n",
       "  <thead>\n",
       "    <tr style=\"text-align: right;\">\n",
       "      <th></th>\n",
       "      <th>Name</th>\n",
       "      <th>R-1 Rigid Posture:</th>\n",
       "      <th>R-2 Body Centric:</th>\n",
       "      <th>R-3 Punctuated Motions:</th>\n",
       "      <th>R-4 Vertical Movements:</th>\n",
       "      <th>R-5 Subordinate Fluidity:</th>\n",
       "      <th>PR-1 Head Pushes:</th>\n",
       "      <th>PR-2 Head Shakes:</th>\n",
       "      <th>PR-3 Shoulder Shrugs:</th>\n",
       "      <th>PR-4 Fluent Articulation:</th>\n",
       "      <th>...</th>\n",
       "      <th>Eu-1 Responsive Nodding:</th>\n",
       "      <th>Eu-2 Polite Smiling:</th>\n",
       "      <th>Eu-3 Bashful Body Movements:</th>\n",
       "      <th>Eg-1 Upset Mouth Tension:</th>\n",
       "      <th>Eg-2 Assertive Pushing:</th>\n",
       "      <th>Eg-3 Stern Expressions:</th>\n",
       "      <th>FA-1 Fallen Affect:</th>\n",
       "      <th>sum</th>\n",
       "      <th>Quadra</th>\n",
       "      <th>Lead Energetic</th>\n",
       "    </tr>\n",
       "  </thead>\n",
       "  <tbody>\n",
       "    <tr>\n",
       "      <th>0</th>\n",
       "      <td>Cœur de Pirate</td>\n",
       "      <td>0.571429</td>\n",
       "      <td>0.285714</td>\n",
       "      <td>0.571429</td>\n",
       "      <td>0.285714</td>\n",
       "      <td>0.000000</td>\n",
       "      <td>0.571429</td>\n",
       "      <td>0.285714</td>\n",
       "      <td>0.285714</td>\n",
       "      <td>0.571429</td>\n",
       "      <td>...</td>\n",
       "      <td>0.571429</td>\n",
       "      <td>0.285714</td>\n",
       "      <td>0.285714</td>\n",
       "      <td>0.285714</td>\n",
       "      <td>0.000000</td>\n",
       "      <td>0.285714</td>\n",
       "      <td>0.0</td>\n",
       "      <td>29.571429</td>\n",
       "      <td>Gamma</td>\n",
       "      <td>Pe</td>\n",
       "    </tr>\n",
       "    <tr>\n",
       "      <th>1</th>\n",
       "      <td>Michael Gervais</td>\n",
       "      <td>1.000000</td>\n",
       "      <td>1.000000</td>\n",
       "      <td>1.000000</td>\n",
       "      <td>1.000000</td>\n",
       "      <td>0.571429</td>\n",
       "      <td>1.000000</td>\n",
       "      <td>1.000000</td>\n",
       "      <td>0.571429</td>\n",
       "      <td>1.000000</td>\n",
       "      <td>...</td>\n",
       "      <td>0.571429</td>\n",
       "      <td>0.571429</td>\n",
       "      <td>0.285714</td>\n",
       "      <td>0.285714</td>\n",
       "      <td>0.571429</td>\n",
       "      <td>0.285714</td>\n",
       "      <td>0.2</td>\n",
       "      <td>29.914286</td>\n",
       "      <td>Alpha</td>\n",
       "      <td>Je</td>\n",
       "    </tr>\n",
       "    <tr>\n",
       "      <th>2</th>\n",
       "      <td>Joan Jett</td>\n",
       "      <td>0.285714</td>\n",
       "      <td>0.285714</td>\n",
       "      <td>0.571429</td>\n",
       "      <td>0.571429</td>\n",
       "      <td>0.000000</td>\n",
       "      <td>0.571429</td>\n",
       "      <td>0.571429</td>\n",
       "      <td>0.285714</td>\n",
       "      <td>0.571429</td>\n",
       "      <td>...</td>\n",
       "      <td>0.285714</td>\n",
       "      <td>0.285714</td>\n",
       "      <td>0.000000</td>\n",
       "      <td>0.285714</td>\n",
       "      <td>0.571429</td>\n",
       "      <td>0.571429</td>\n",
       "      <td>0.4</td>\n",
       "      <td>29.400000</td>\n",
       "      <td>Beta</td>\n",
       "      <td>Pe</td>\n",
       "    </tr>\n",
       "    <tr>\n",
       "      <th>3</th>\n",
       "      <td>Ben Stein</td>\n",
       "      <td>0.000000</td>\n",
       "      <td>0.285714</td>\n",
       "      <td>0.285714</td>\n",
       "      <td>0.285714</td>\n",
       "      <td>0.000000</td>\n",
       "      <td>0.285714</td>\n",
       "      <td>0.285714</td>\n",
       "      <td>0.000000</td>\n",
       "      <td>1.000000</td>\n",
       "      <td>...</td>\n",
       "      <td>0.000000</td>\n",
       "      <td>0.000000</td>\n",
       "      <td>0.000000</td>\n",
       "      <td>0.285714</td>\n",
       "      <td>0.285714</td>\n",
       "      <td>0.285714</td>\n",
       "      <td>0.4</td>\n",
       "      <td>16.400000</td>\n",
       "      <td>Delta</td>\n",
       "      <td>Pi</td>\n",
       "    </tr>\n",
       "    <tr>\n",
       "      <th>4</th>\n",
       "      <td>Billie Joe Armstrong</td>\n",
       "      <td>0.571429</td>\n",
       "      <td>1.000000</td>\n",
       "      <td>0.285714</td>\n",
       "      <td>0.571429</td>\n",
       "      <td>0.571429</td>\n",
       "      <td>0.571429</td>\n",
       "      <td>1.000000</td>\n",
       "      <td>0.285714</td>\n",
       "      <td>0.285714</td>\n",
       "      <td>...</td>\n",
       "      <td>0.285714</td>\n",
       "      <td>0.571429</td>\n",
       "      <td>0.285714</td>\n",
       "      <td>0.571429</td>\n",
       "      <td>0.285714</td>\n",
       "      <td>0.571429</td>\n",
       "      <td>0.0</td>\n",
       "      <td>30.142857</td>\n",
       "      <td>Gamma</td>\n",
       "      <td>Ji</td>\n",
       "    </tr>\n",
       "  </tbody>\n",
       "</table>\n",
       "<p>5 rows × 75 columns</p>\n",
       "</div>"
      ],
      "text/plain": [
       "                   Name  R-1 Rigid Posture:  R-2 Body Centric:  \\\n",
       "0        Cœur de Pirate            0.571429           0.285714   \n",
       "1       Michael Gervais            1.000000           1.000000   \n",
       "2             Joan Jett            0.285714           0.285714   \n",
       "3             Ben Stein            0.000000           0.285714   \n",
       "4  Billie Joe Armstrong            0.571429           1.000000   \n",
       "\n",
       "   R-3 Punctuated Motions:  R-4 Vertical Movements:  \\\n",
       "0                 0.571429                 0.285714   \n",
       "1                 1.000000                 1.000000   \n",
       "2                 0.571429                 0.571429   \n",
       "3                 0.285714                 0.285714   \n",
       "4                 0.285714                 0.571429   \n",
       "\n",
       "   R-5 Subordinate Fluidity:  PR-1 Head Pushes:  PR-2 Head Shakes:  \\\n",
       "0                   0.000000           0.571429           0.285714   \n",
       "1                   0.571429           1.000000           1.000000   \n",
       "2                   0.000000           0.571429           0.571429   \n",
       "3                   0.000000           0.285714           0.285714   \n",
       "4                   0.571429           0.571429           1.000000   \n",
       "\n",
       "   PR-3 Shoulder Shrugs:  PR-4 Fluent Articulation:  ...  \\\n",
       "0               0.285714                   0.571429  ...   \n",
       "1               0.571429                   1.000000  ...   \n",
       "2               0.285714                   0.571429  ...   \n",
       "3               0.000000                   1.000000  ...   \n",
       "4               0.285714                   0.285714  ...   \n",
       "\n",
       "   Eu-1 Responsive Nodding:  Eu-2 Polite Smiling:  \\\n",
       "0                  0.571429              0.285714   \n",
       "1                  0.571429              0.571429   \n",
       "2                  0.285714              0.285714   \n",
       "3                  0.000000              0.000000   \n",
       "4                  0.285714              0.571429   \n",
       "\n",
       "   Eu-3 Bashful Body Movements:  Eg-1 Upset Mouth Tension:  \\\n",
       "0                      0.285714                   0.285714   \n",
       "1                      0.285714                   0.285714   \n",
       "2                      0.000000                   0.285714   \n",
       "3                      0.000000                   0.285714   \n",
       "4                      0.285714                   0.571429   \n",
       "\n",
       "   Eg-2 Assertive Pushing:  Eg-3 Stern Expressions:  FA-1 Fallen Affect:  \\\n",
       "0                 0.000000                 0.285714                  0.0   \n",
       "1                 0.571429                 0.285714                  0.2   \n",
       "2                 0.571429                 0.571429                  0.4   \n",
       "3                 0.285714                 0.285714                  0.4   \n",
       "4                 0.285714                 0.571429                  0.0   \n",
       "\n",
       "         sum  Quadra  Lead Energetic  \n",
       "0  29.571429   Gamma              Pe  \n",
       "1  29.914286   Alpha              Je  \n",
       "2  29.400000    Beta              Pe  \n",
       "3  16.400000   Delta              Pi  \n",
       "4  30.142857   Gamma              Ji  \n",
       "\n",
       "[5 rows x 75 columns]"
      ]
     },
     "execution_count": 45,
     "metadata": {},
     "output_type": "execute_result"
    }
   ],
   "source": [
    "signals_df['Lead Energetic'] = LE_series\n",
    "signals_df.head()"
   ]
  },
  {
   "cell_type": "markdown",
   "metadata": {},
   "source": [
    "With Quadra and Lead Energetic in our dataframe, we can easily determine the type:"
   ]
  },
  {
   "cell_type": "code",
   "execution_count": 46,
   "metadata": {},
   "outputs": [
    {
     "data": {
      "text/plain": [
       "0    SeFi\n",
       "1    FeSi\n",
       "2    SeTi\n",
       "3    SiTe\n",
       "4    FiSe\n",
       "dtype: object"
      ]
     },
     "execution_count": 46,
     "metadata": {},
     "output_type": "execute_result"
    }
   ],
   "source": [
    "Type = []\n",
    "\n",
    "for i in range(len(signals_df)):\n",
    "    if LE_series[i] == 'Je':\n",
    "        if Quadra_series[i] == 'Alpha':\n",
    "            Type.append('FeSi')\n",
    "        elif Quadra_series[i] == 'Beta':\n",
    "            Type.append('FeNi')\n",
    "        elif Quadra_series[i] == 'Gamma':\n",
    "            Type.append('TeNi')\n",
    "        else:\n",
    "            Type.append('TeSi')\n",
    "    elif LE_series[i] == 'Ji':\n",
    "        if Quadra_series[i] == 'Alpha':\n",
    "            Type.append('TiNe')\n",
    "        elif Quadra_series[i] == 'Beta':\n",
    "            Type.append('TiSe')\n",
    "        elif Quadra_series[i] == 'Gamma':\n",
    "            Type.append('FiSe')\n",
    "        else:\n",
    "            Type.append('FiNe')\n",
    "    elif LE_series[i] == 'Pe':\n",
    "        if Quadra_series[i] == 'Alpha':\n",
    "            Type.append('NeTi')\n",
    "        elif Quadra_series[i] == 'Beta':\n",
    "            Type.append('SeTi')\n",
    "        elif Quadra_series[i] == 'Gamma':\n",
    "            Type.append('SeFi')\n",
    "        else:\n",
    "            Type.append('NeFi')\n",
    "    else:\n",
    "        if Quadra_series[i] == 'Alpha':\n",
    "            Type.append('SiFe')\n",
    "        elif Quadra_series[i] == 'Beta':\n",
    "            Type.append('NiFe')\n",
    "        elif Quadra_series[i] == 'Gamma':\n",
    "            Type.append('NiTe')\n",
    "        else:\n",
    "            Type.append('SiTe')\n",
    "            \n",
    "Type_series = pd.Series(Type)\n",
    "Type_series.head()"
   ]
  },
  {
   "cell_type": "code",
   "execution_count": 47,
   "metadata": {},
   "outputs": [
    {
     "data": {
      "text/plain": [
       "SeTi    60\n",
       "SeFi    43\n",
       "TeNi    41\n",
       "NiFe    38\n",
       "FeNi    37\n",
       "NeTi    33\n",
       "FeSi    30\n",
       "NiTe    29\n",
       "TiSe    29\n",
       "NeFi    27\n",
       "TeSi    26\n",
       "SiTe    25\n",
       "FiNe    23\n",
       "SiFe    22\n",
       "FiSe    21\n",
       "TiNe    18\n",
       "dtype: int64"
      ]
     },
     "execution_count": 47,
     "metadata": {},
     "output_type": "execute_result"
    }
   ],
   "source": [
    "Type_series.value_counts()"
   ]
  },
  {
   "cell_type": "code",
   "execution_count": 48,
   "metadata": {},
   "outputs": [
    {
     "data": {
      "text/plain": [
       "SeTi    11.952191\n",
       "SeFi     8.565737\n",
       "TeNi     8.167331\n",
       "NiFe     7.569721\n",
       "FeNi     7.370518\n",
       "NeTi     6.573705\n",
       "FeSi     5.976096\n",
       "NiTe     5.776892\n",
       "TiSe     5.776892\n",
       "NeFi     5.378486\n",
       "TeSi     5.179283\n",
       "SiTe     4.980080\n",
       "FiNe     4.581673\n",
       "SiFe     4.382470\n",
       "FiSe     4.183267\n",
       "TiNe     3.585657\n",
       "dtype: float64"
      ]
     },
     "execution_count": 48,
     "metadata": {},
     "output_type": "execute_result"
    }
   ],
   "source": [
    "100 * Type_series.value_counts() / len(Type_series)"
   ]
  },
  {
   "cell_type": "markdown",
   "metadata": {},
   "source": [
    "These distributions are pretty predictable from the above, but also slightly more problematic, because more than half the types have less than 30 samples (though some are close to that). This is important because with a sample size of less than 30, certain statistical tests like ANOVA and t-tests can't be properly run since certain assumptions like the Central Limit Theorem don't properly apply. For some purposes, like just clustering our signals outright, I'm not sure precisely how much it matters, but more samples would obviously be good."
   ]
  },
  {
   "cell_type": "code",
   "execution_count": 49,
   "metadata": {},
   "outputs": [
    {
     "data": {
      "text/html": [
       "<div>\n",
       "<style scoped>\n",
       "    .dataframe tbody tr th:only-of-type {\n",
       "        vertical-align: middle;\n",
       "    }\n",
       "\n",
       "    .dataframe tbody tr th {\n",
       "        vertical-align: top;\n",
       "    }\n",
       "\n",
       "    .dataframe thead th {\n",
       "        text-align: right;\n",
       "    }\n",
       "</style>\n",
       "<table border=\"1\" class=\"dataframe\">\n",
       "  <thead>\n",
       "    <tr style=\"text-align: right;\">\n",
       "      <th></th>\n",
       "      <th>Name</th>\n",
       "      <th>R-1 Rigid Posture:</th>\n",
       "      <th>R-2 Body Centric:</th>\n",
       "      <th>R-3 Punctuated Motions:</th>\n",
       "      <th>R-4 Vertical Movements:</th>\n",
       "      <th>R-5 Subordinate Fluidity:</th>\n",
       "      <th>PR-1 Head Pushes:</th>\n",
       "      <th>PR-2 Head Shakes:</th>\n",
       "      <th>PR-3 Shoulder Shrugs:</th>\n",
       "      <th>PR-4 Fluent Articulation:</th>\n",
       "      <th>...</th>\n",
       "      <th>Eu-2 Polite Smiling:</th>\n",
       "      <th>Eu-3 Bashful Body Movements:</th>\n",
       "      <th>Eg-1 Upset Mouth Tension:</th>\n",
       "      <th>Eg-2 Assertive Pushing:</th>\n",
       "      <th>Eg-3 Stern Expressions:</th>\n",
       "      <th>FA-1 Fallen Affect:</th>\n",
       "      <th>sum</th>\n",
       "      <th>Quadra</th>\n",
       "      <th>Lead Energetic</th>\n",
       "      <th>Type</th>\n",
       "    </tr>\n",
       "  </thead>\n",
       "  <tbody>\n",
       "    <tr>\n",
       "      <th>0</th>\n",
       "      <td>Cœur de Pirate</td>\n",
       "      <td>0.571429</td>\n",
       "      <td>0.285714</td>\n",
       "      <td>0.571429</td>\n",
       "      <td>0.285714</td>\n",
       "      <td>0.000000</td>\n",
       "      <td>0.571429</td>\n",
       "      <td>0.285714</td>\n",
       "      <td>0.285714</td>\n",
       "      <td>0.571429</td>\n",
       "      <td>...</td>\n",
       "      <td>0.285714</td>\n",
       "      <td>0.285714</td>\n",
       "      <td>0.285714</td>\n",
       "      <td>0.000000</td>\n",
       "      <td>0.285714</td>\n",
       "      <td>0.0</td>\n",
       "      <td>29.571429</td>\n",
       "      <td>Gamma</td>\n",
       "      <td>Pe</td>\n",
       "      <td>SeFi</td>\n",
       "    </tr>\n",
       "    <tr>\n",
       "      <th>1</th>\n",
       "      <td>Michael Gervais</td>\n",
       "      <td>1.000000</td>\n",
       "      <td>1.000000</td>\n",
       "      <td>1.000000</td>\n",
       "      <td>1.000000</td>\n",
       "      <td>0.571429</td>\n",
       "      <td>1.000000</td>\n",
       "      <td>1.000000</td>\n",
       "      <td>0.571429</td>\n",
       "      <td>1.000000</td>\n",
       "      <td>...</td>\n",
       "      <td>0.571429</td>\n",
       "      <td>0.285714</td>\n",
       "      <td>0.285714</td>\n",
       "      <td>0.571429</td>\n",
       "      <td>0.285714</td>\n",
       "      <td>0.2</td>\n",
       "      <td>29.914286</td>\n",
       "      <td>Alpha</td>\n",
       "      <td>Je</td>\n",
       "      <td>FeSi</td>\n",
       "    </tr>\n",
       "    <tr>\n",
       "      <th>2</th>\n",
       "      <td>Joan Jett</td>\n",
       "      <td>0.285714</td>\n",
       "      <td>0.285714</td>\n",
       "      <td>0.571429</td>\n",
       "      <td>0.571429</td>\n",
       "      <td>0.000000</td>\n",
       "      <td>0.571429</td>\n",
       "      <td>0.571429</td>\n",
       "      <td>0.285714</td>\n",
       "      <td>0.571429</td>\n",
       "      <td>...</td>\n",
       "      <td>0.285714</td>\n",
       "      <td>0.000000</td>\n",
       "      <td>0.285714</td>\n",
       "      <td>0.571429</td>\n",
       "      <td>0.571429</td>\n",
       "      <td>0.4</td>\n",
       "      <td>29.400000</td>\n",
       "      <td>Beta</td>\n",
       "      <td>Pe</td>\n",
       "      <td>SeTi</td>\n",
       "    </tr>\n",
       "    <tr>\n",
       "      <th>3</th>\n",
       "      <td>Ben Stein</td>\n",
       "      <td>0.000000</td>\n",
       "      <td>0.285714</td>\n",
       "      <td>0.285714</td>\n",
       "      <td>0.285714</td>\n",
       "      <td>0.000000</td>\n",
       "      <td>0.285714</td>\n",
       "      <td>0.285714</td>\n",
       "      <td>0.000000</td>\n",
       "      <td>1.000000</td>\n",
       "      <td>...</td>\n",
       "      <td>0.000000</td>\n",
       "      <td>0.000000</td>\n",
       "      <td>0.285714</td>\n",
       "      <td>0.285714</td>\n",
       "      <td>0.285714</td>\n",
       "      <td>0.4</td>\n",
       "      <td>16.400000</td>\n",
       "      <td>Delta</td>\n",
       "      <td>Pi</td>\n",
       "      <td>SiTe</td>\n",
       "    </tr>\n",
       "    <tr>\n",
       "      <th>4</th>\n",
       "      <td>Billie Joe Armstrong</td>\n",
       "      <td>0.571429</td>\n",
       "      <td>1.000000</td>\n",
       "      <td>0.285714</td>\n",
       "      <td>0.571429</td>\n",
       "      <td>0.571429</td>\n",
       "      <td>0.571429</td>\n",
       "      <td>1.000000</td>\n",
       "      <td>0.285714</td>\n",
       "      <td>0.285714</td>\n",
       "      <td>...</td>\n",
       "      <td>0.571429</td>\n",
       "      <td>0.285714</td>\n",
       "      <td>0.571429</td>\n",
       "      <td>0.285714</td>\n",
       "      <td>0.571429</td>\n",
       "      <td>0.0</td>\n",
       "      <td>30.142857</td>\n",
       "      <td>Gamma</td>\n",
       "      <td>Ji</td>\n",
       "      <td>FiSe</td>\n",
       "    </tr>\n",
       "  </tbody>\n",
       "</table>\n",
       "<p>5 rows × 76 columns</p>\n",
       "</div>"
      ],
      "text/plain": [
       "                   Name  R-1 Rigid Posture:  R-2 Body Centric:  \\\n",
       "0        Cœur de Pirate            0.571429           0.285714   \n",
       "1       Michael Gervais            1.000000           1.000000   \n",
       "2             Joan Jett            0.285714           0.285714   \n",
       "3             Ben Stein            0.000000           0.285714   \n",
       "4  Billie Joe Armstrong            0.571429           1.000000   \n",
       "\n",
       "   R-3 Punctuated Motions:  R-4 Vertical Movements:  \\\n",
       "0                 0.571429                 0.285714   \n",
       "1                 1.000000                 1.000000   \n",
       "2                 0.571429                 0.571429   \n",
       "3                 0.285714                 0.285714   \n",
       "4                 0.285714                 0.571429   \n",
       "\n",
       "   R-5 Subordinate Fluidity:  PR-1 Head Pushes:  PR-2 Head Shakes:  \\\n",
       "0                   0.000000           0.571429           0.285714   \n",
       "1                   0.571429           1.000000           1.000000   \n",
       "2                   0.000000           0.571429           0.571429   \n",
       "3                   0.000000           0.285714           0.285714   \n",
       "4                   0.571429           0.571429           1.000000   \n",
       "\n",
       "   PR-3 Shoulder Shrugs:  PR-4 Fluent Articulation:  ...  \\\n",
       "0               0.285714                   0.571429  ...   \n",
       "1               0.571429                   1.000000  ...   \n",
       "2               0.285714                   0.571429  ...   \n",
       "3               0.000000                   1.000000  ...   \n",
       "4               0.285714                   0.285714  ...   \n",
       "\n",
       "   Eu-2 Polite Smiling:  Eu-3 Bashful Body Movements:  \\\n",
       "0              0.285714                      0.285714   \n",
       "1              0.571429                      0.285714   \n",
       "2              0.285714                      0.000000   \n",
       "3              0.000000                      0.000000   \n",
       "4              0.571429                      0.285714   \n",
       "\n",
       "   Eg-1 Upset Mouth Tension:  Eg-2 Assertive Pushing:  \\\n",
       "0                   0.285714                 0.000000   \n",
       "1                   0.285714                 0.571429   \n",
       "2                   0.285714                 0.571429   \n",
       "3                   0.285714                 0.285714   \n",
       "4                   0.571429                 0.285714   \n",
       "\n",
       "   Eg-3 Stern Expressions:  FA-1 Fallen Affect:        sum  Quadra  \\\n",
       "0                 0.285714                  0.0  29.571429   Gamma   \n",
       "1                 0.285714                  0.2  29.914286   Alpha   \n",
       "2                 0.571429                  0.4  29.400000    Beta   \n",
       "3                 0.285714                  0.4  16.400000   Delta   \n",
       "4                 0.571429                  0.0  30.142857   Gamma   \n",
       "\n",
       "   Lead Energetic  Type  \n",
       "0              Pe  SeFi  \n",
       "1              Je  FeSi  \n",
       "2              Pe  SeTi  \n",
       "3              Pi  SiTe  \n",
       "4              Ji  FiSe  \n",
       "\n",
       "[5 rows x 76 columns]"
      ]
     },
     "execution_count": 49,
     "metadata": {},
     "output_type": "execute_result"
    }
   ],
   "source": [
    "signals_df['Type'] = Type_series\n",
    "signals_df.head()"
   ]
  },
  {
   "cell_type": "code",
   "execution_count": 50,
   "metadata": {},
   "outputs": [
    {
     "data": {
      "text/plain": [
       "0    III-\n",
       "1    I---\n",
       "2    I-I-\n",
       "3    I---\n",
       "4    II-I\n",
       "dtype: object"
      ]
     },
     "execution_count": 50,
     "metadata": {},
     "output_type": "execute_result"
    }
   ],
   "source": [
    "Devs = []\n",
    "\n",
    "IT = 14.5\n",
    "#IT stands for Integration Threshold, and I'm making this a variable so that it's easier to change later if needed\n",
    "\n",
    "for i in range(len(signals_df)):\n",
    "    if LE_series[i] == 'Je':\n",
    "        if Pi_Score[i] >= IT:\n",
    "            if Pe_Score[i] >= IT:\n",
    "                if Ji_Score[i] >= IT:\n",
    "                    Devs.append('IIII')\n",
    "                else:\n",
    "                    Devs.append('III-')\n",
    "            elif Ji_Score[i] >= IT:\n",
    "                Devs.append('II-I')\n",
    "            else:\n",
    "                Devs.append('II--')\n",
    "        elif Pe_Score[i] >= IT:\n",
    "            if Ji_Score[i] >= IT:\n",
    "                Devs.append('I-II')\n",
    "            else:\n",
    "                Devs.append('I-I-')\n",
    "        elif Ji_Score[i] >= IT:\n",
    "            Devs.append('I--I')\n",
    "        else:\n",
    "            Devs.append('I---')\n",
    "    elif LE_series[i] == 'Ji':\n",
    "        if Pe_Score[i] >= IT:\n",
    "            if Pi_Score[i] >= IT:\n",
    "                if Je_Score[i] >= IT:\n",
    "                    Devs.append('IIII')\n",
    "                else:\n",
    "                    Devs.append('III-')\n",
    "            elif Je_Score[i] >= IT:\n",
    "                Devs.append('II-I')\n",
    "            else:\n",
    "                Devs.append('II--')\n",
    "        elif Pi_Score[i] >= IT:\n",
    "            if Je_Score[i] >= IT:\n",
    "                Devs.append('I-II')\n",
    "            else:\n",
    "                Devs.append('I-I-')\n",
    "        elif Je_Score[i] >= IT:\n",
    "            Devs.append('I--I')\n",
    "        else:\n",
    "            Devs.append('I---')\n",
    "    elif LE_series[i] == 'Pe':\n",
    "        if Ji_Score[i] >= IT:\n",
    "            if Je_Score[i] >= IT:\n",
    "                if Pi_Score[i] >= IT:\n",
    "                    Devs.append('IIII')\n",
    "                else:\n",
    "                    Devs.append('III-')\n",
    "            elif Pi_Score[i] >= IT:\n",
    "                Devs.append('II-I')\n",
    "            else:\n",
    "                Devs.append('II--')\n",
    "        elif Je_Score[i] >= IT:\n",
    "            if Pi_Score[i] >= IT:\n",
    "                Devs.append('I-II')\n",
    "            else:\n",
    "                Devs.append('I-I-')\n",
    "        elif Pi_Score[i] >= IT:\n",
    "            Devs.append('I--I')\n",
    "        else:\n",
    "            Devs.append('I---')\n",
    "    else:\n",
    "        if Je_Score[i] >= IT:\n",
    "            if Ji_Score[i] >= IT:\n",
    "                if Pe_Score[i] >= IT:\n",
    "                    Devs.append('IIII')\n",
    "                else:\n",
    "                    Devs.append('III-')\n",
    "            elif Pe_Score[i] >= IT:\n",
    "                Devs.append('II-I')\n",
    "            else:\n",
    "                Devs.append('II--')\n",
    "        elif Ji_Score[i] >= IT:\n",
    "            if Pe_Score[i] >= IT:\n",
    "                Devs.append('I-II')\n",
    "            else:\n",
    "                Devs.append('I-I-')\n",
    "        elif Pe_Score[i] >= IT:\n",
    "            Devs.append('I--I')\n",
    "        else:\n",
    "            Devs.append('I---')\n",
    "            \n",
    "Dev_series = pd.Series(Devs)\n",
    "Dev_series.head()"
   ]
  },
  {
   "cell_type": "code",
   "execution_count": 51,
   "metadata": {},
   "outputs": [
    {
     "data": {
      "text/plain": [
       "I---    169\n",
       "I-I-     88\n",
       "II--     78\n",
       "I--I     58\n",
       "II-I     38\n",
       "III-     35\n",
       "I-II     20\n",
       "IIII     16\n",
       "dtype: int64"
      ]
     },
     "execution_count": 51,
     "metadata": {},
     "output_type": "execute_result"
    }
   ],
   "source": [
    "Dev_series.value_counts()"
   ]
  },
  {
   "cell_type": "code",
   "execution_count": 52,
   "metadata": {},
   "outputs": [
    {
     "data": {
      "text/plain": [
       "I---    33.665339\n",
       "I-I-    17.529880\n",
       "II--    15.537849\n",
       "I--I    11.553785\n",
       "II-I     7.569721\n",
       "III-     6.972112\n",
       "I-II     3.984064\n",
       "IIII     3.187251\n",
       "dtype: float64"
      ]
     },
     "execution_count": 52,
     "metadata": {},
     "output_type": "execute_result"
    }
   ],
   "source": [
    "100 * Dev_series.value_counts() / len(Dev_series)"
   ]
  },
  {
   "cell_type": "markdown",
   "metadata": {},
   "source": [
    "These are very sensible numbers, and they seem to confirm the polarity of the opposite energetics, because they are the rarest to have integrated together. That being said, Grant stack assumptions are not necessarily confirmed, because having another function of the same vertness integrated is more common than having a function similar in conducting or revising. However, the preponderance of extroverts in this dataset combined with the fact that extroverted function integrations would be more common for celebrities suggests that this data may not tell us which developments are necessarily more common (because the data is biased towards these more extroverted samples and it's not a random sample of the population).\n",
    "\n",
    "We could even investigate this question by looking at which lead energetics most frequently have 'I-I-' development:"
   ]
  },
  {
   "cell_type": "code",
   "execution_count": 53,
   "metadata": {},
   "outputs": [
    {
     "data": {
      "text/html": [
       "<div>\n",
       "<style scoped>\n",
       "    .dataframe tbody tr th:only-of-type {\n",
       "        vertical-align: middle;\n",
       "    }\n",
       "\n",
       "    .dataframe tbody tr th {\n",
       "        vertical-align: top;\n",
       "    }\n",
       "\n",
       "    .dataframe thead th {\n",
       "        text-align: right;\n",
       "    }\n",
       "</style>\n",
       "<table border=\"1\" class=\"dataframe\">\n",
       "  <thead>\n",
       "    <tr style=\"text-align: right;\">\n",
       "      <th></th>\n",
       "      <th>Name</th>\n",
       "      <th>R-1 Rigid Posture:</th>\n",
       "      <th>R-2 Body Centric:</th>\n",
       "      <th>R-3 Punctuated Motions:</th>\n",
       "      <th>R-4 Vertical Movements:</th>\n",
       "      <th>R-5 Subordinate Fluidity:</th>\n",
       "      <th>PR-1 Head Pushes:</th>\n",
       "      <th>PR-2 Head Shakes:</th>\n",
       "      <th>PR-3 Shoulder Shrugs:</th>\n",
       "      <th>PR-4 Fluent Articulation:</th>\n",
       "      <th>...</th>\n",
       "      <th>Eu-3 Bashful Body Movements:</th>\n",
       "      <th>Eg-1 Upset Mouth Tension:</th>\n",
       "      <th>Eg-2 Assertive Pushing:</th>\n",
       "      <th>Eg-3 Stern Expressions:</th>\n",
       "      <th>FA-1 Fallen Affect:</th>\n",
       "      <th>sum</th>\n",
       "      <th>Quadra</th>\n",
       "      <th>Lead Energetic</th>\n",
       "      <th>Type</th>\n",
       "      <th>Development</th>\n",
       "    </tr>\n",
       "  </thead>\n",
       "  <tbody>\n",
       "    <tr>\n",
       "      <th>0</th>\n",
       "      <td>Cœur de Pirate</td>\n",
       "      <td>0.571429</td>\n",
       "      <td>0.285714</td>\n",
       "      <td>0.571429</td>\n",
       "      <td>0.285714</td>\n",
       "      <td>0.000000</td>\n",
       "      <td>0.571429</td>\n",
       "      <td>0.285714</td>\n",
       "      <td>0.285714</td>\n",
       "      <td>0.571429</td>\n",
       "      <td>...</td>\n",
       "      <td>0.285714</td>\n",
       "      <td>0.285714</td>\n",
       "      <td>0.000000</td>\n",
       "      <td>0.285714</td>\n",
       "      <td>0.0</td>\n",
       "      <td>29.571429</td>\n",
       "      <td>Gamma</td>\n",
       "      <td>Pe</td>\n",
       "      <td>SeFi</td>\n",
       "      <td>III-</td>\n",
       "    </tr>\n",
       "    <tr>\n",
       "      <th>1</th>\n",
       "      <td>Michael Gervais</td>\n",
       "      <td>1.000000</td>\n",
       "      <td>1.000000</td>\n",
       "      <td>1.000000</td>\n",
       "      <td>1.000000</td>\n",
       "      <td>0.571429</td>\n",
       "      <td>1.000000</td>\n",
       "      <td>1.000000</td>\n",
       "      <td>0.571429</td>\n",
       "      <td>1.000000</td>\n",
       "      <td>...</td>\n",
       "      <td>0.285714</td>\n",
       "      <td>0.285714</td>\n",
       "      <td>0.571429</td>\n",
       "      <td>0.285714</td>\n",
       "      <td>0.2</td>\n",
       "      <td>29.914286</td>\n",
       "      <td>Alpha</td>\n",
       "      <td>Je</td>\n",
       "      <td>FeSi</td>\n",
       "      <td>I---</td>\n",
       "    </tr>\n",
       "    <tr>\n",
       "      <th>2</th>\n",
       "      <td>Joan Jett</td>\n",
       "      <td>0.285714</td>\n",
       "      <td>0.285714</td>\n",
       "      <td>0.571429</td>\n",
       "      <td>0.571429</td>\n",
       "      <td>0.000000</td>\n",
       "      <td>0.571429</td>\n",
       "      <td>0.571429</td>\n",
       "      <td>0.285714</td>\n",
       "      <td>0.571429</td>\n",
       "      <td>...</td>\n",
       "      <td>0.000000</td>\n",
       "      <td>0.285714</td>\n",
       "      <td>0.571429</td>\n",
       "      <td>0.571429</td>\n",
       "      <td>0.4</td>\n",
       "      <td>29.400000</td>\n",
       "      <td>Beta</td>\n",
       "      <td>Pe</td>\n",
       "      <td>SeTi</td>\n",
       "      <td>I-I-</td>\n",
       "    </tr>\n",
       "    <tr>\n",
       "      <th>3</th>\n",
       "      <td>Ben Stein</td>\n",
       "      <td>0.000000</td>\n",
       "      <td>0.285714</td>\n",
       "      <td>0.285714</td>\n",
       "      <td>0.285714</td>\n",
       "      <td>0.000000</td>\n",
       "      <td>0.285714</td>\n",
       "      <td>0.285714</td>\n",
       "      <td>0.000000</td>\n",
       "      <td>1.000000</td>\n",
       "      <td>...</td>\n",
       "      <td>0.000000</td>\n",
       "      <td>0.285714</td>\n",
       "      <td>0.285714</td>\n",
       "      <td>0.285714</td>\n",
       "      <td>0.4</td>\n",
       "      <td>16.400000</td>\n",
       "      <td>Delta</td>\n",
       "      <td>Pi</td>\n",
       "      <td>SiTe</td>\n",
       "      <td>I---</td>\n",
       "    </tr>\n",
       "    <tr>\n",
       "      <th>4</th>\n",
       "      <td>Billie Joe Armstrong</td>\n",
       "      <td>0.571429</td>\n",
       "      <td>1.000000</td>\n",
       "      <td>0.285714</td>\n",
       "      <td>0.571429</td>\n",
       "      <td>0.571429</td>\n",
       "      <td>0.571429</td>\n",
       "      <td>1.000000</td>\n",
       "      <td>0.285714</td>\n",
       "      <td>0.285714</td>\n",
       "      <td>...</td>\n",
       "      <td>0.285714</td>\n",
       "      <td>0.571429</td>\n",
       "      <td>0.285714</td>\n",
       "      <td>0.571429</td>\n",
       "      <td>0.0</td>\n",
       "      <td>30.142857</td>\n",
       "      <td>Gamma</td>\n",
       "      <td>Ji</td>\n",
       "      <td>FiSe</td>\n",
       "      <td>II-I</td>\n",
       "    </tr>\n",
       "  </tbody>\n",
       "</table>\n",
       "<p>5 rows × 77 columns</p>\n",
       "</div>"
      ],
      "text/plain": [
       "                   Name  R-1 Rigid Posture:  R-2 Body Centric:  \\\n",
       "0        Cœur de Pirate            0.571429           0.285714   \n",
       "1       Michael Gervais            1.000000           1.000000   \n",
       "2             Joan Jett            0.285714           0.285714   \n",
       "3             Ben Stein            0.000000           0.285714   \n",
       "4  Billie Joe Armstrong            0.571429           1.000000   \n",
       "\n",
       "   R-3 Punctuated Motions:  R-4 Vertical Movements:  \\\n",
       "0                 0.571429                 0.285714   \n",
       "1                 1.000000                 1.000000   \n",
       "2                 0.571429                 0.571429   \n",
       "3                 0.285714                 0.285714   \n",
       "4                 0.285714                 0.571429   \n",
       "\n",
       "   R-5 Subordinate Fluidity:  PR-1 Head Pushes:  PR-2 Head Shakes:  \\\n",
       "0                   0.000000           0.571429           0.285714   \n",
       "1                   0.571429           1.000000           1.000000   \n",
       "2                   0.000000           0.571429           0.571429   \n",
       "3                   0.000000           0.285714           0.285714   \n",
       "4                   0.571429           0.571429           1.000000   \n",
       "\n",
       "   PR-3 Shoulder Shrugs:  PR-4 Fluent Articulation:  ...  \\\n",
       "0               0.285714                   0.571429  ...   \n",
       "1               0.571429                   1.000000  ...   \n",
       "2               0.285714                   0.571429  ...   \n",
       "3               0.000000                   1.000000  ...   \n",
       "4               0.285714                   0.285714  ...   \n",
       "\n",
       "   Eu-3 Bashful Body Movements:  Eg-1 Upset Mouth Tension:  \\\n",
       "0                      0.285714                   0.285714   \n",
       "1                      0.285714                   0.285714   \n",
       "2                      0.000000                   0.285714   \n",
       "3                      0.000000                   0.285714   \n",
       "4                      0.285714                   0.571429   \n",
       "\n",
       "   Eg-2 Assertive Pushing:  Eg-3 Stern Expressions:  FA-1 Fallen Affect:  \\\n",
       "0                 0.000000                 0.285714                  0.0   \n",
       "1                 0.571429                 0.285714                  0.2   \n",
       "2                 0.571429                 0.571429                  0.4   \n",
       "3                 0.285714                 0.285714                  0.4   \n",
       "4                 0.285714                 0.571429                  0.0   \n",
       "\n",
       "         sum  Quadra  Lead Energetic  Type  Development  \n",
       "0  29.571429   Gamma              Pe  SeFi         III-  \n",
       "1  29.914286   Alpha              Je  FeSi         I---  \n",
       "2  29.400000    Beta              Pe  SeTi         I-I-  \n",
       "3  16.400000   Delta              Pi  SiTe         I---  \n",
       "4  30.142857   Gamma              Ji  FiSe         II-I  \n",
       "\n",
       "[5 rows x 77 columns]"
      ]
     },
     "execution_count": 53,
     "metadata": {},
     "output_type": "execute_result"
    }
   ],
   "source": [
    "signals_df['Development'] = Dev_series\n",
    "signals_df.head()"
   ]
  },
  {
   "cell_type": "code",
   "execution_count": 54,
   "metadata": {},
   "outputs": [
    {
     "data": {
      "text/plain": [
       "Pe    45\n",
       "Je    34\n",
       "Pi     7\n",
       "Ji     2\n",
       "Name: Lead Energetic, dtype: int64"
      ]
     },
     "execution_count": 54,
     "metadata": {},
     "output_type": "execute_result"
    }
   ],
   "source": [
    "signals_df[signals_df['Development'] == 'I-I-']['Lead Energetic'].value_counts()"
   ]
  },
  {
   "cell_type": "code",
   "execution_count": 55,
   "metadata": {},
   "outputs": [
    {
     "data": {
      "text/plain": [
       "Pi    34\n",
       "Ji    21\n",
       "Je    13\n",
       "Pe    10\n",
       "Name: Lead Energetic, dtype: int64"
      ]
     },
     "execution_count": 55,
     "metadata": {},
     "output_type": "execute_result"
    }
   ],
   "source": [
    "signals_df[signals_df['Development'] == 'II--']['Lead Energetic'].value_counts()"
   ]
  },
  {
   "cell_type": "markdown",
   "metadata": {},
   "source": [
    "And this EXACTLY confirms what we thought: that Pe and Je celebrities are the people common with the 'I-I-' development, whereas introverts with this development are much rarer among celebrities, which makes sense since they would be extra introverted. Thus the fact that 'I-I-' is more common in our data than 'II--' doesn't tell us much about what is more common in general, since the distribution for 'II--' is more balanced and even more common for introverts in our data because it would give them a more extroverted function integration, which also comports with our assumptions."
   ]
  },
  {
   "cell_type": "code",
   "execution_count": 56,
   "metadata": {},
   "outputs": [
    {
     "data": {
      "text/plain": [
       "0    Unguarded\n",
       "1    Unguarded\n",
       "2      Guarded\n",
       "3      Guarded\n",
       "4      Guarded\n",
       "dtype: object"
      ]
     },
     "execution_count": 56,
     "metadata": {},
     "output_type": "execute_result"
    }
   ],
   "source": [
    "EA = []\n",
    "\n",
    "for i in range(len(signals_df)):\n",
    "    if Unguarded_Score[i] > Guarded_Score[i]:\n",
    "        EA.append('Unguarded')\n",
    "    else:\n",
    "        EA.append('Guarded')\n",
    "        \n",
    "EA_series = pd.Series(EA)\n",
    "EA_series.head()"
   ]
  },
  {
   "cell_type": "code",
   "execution_count": 57,
   "metadata": {},
   "outputs": [
    {
     "data": {
      "text/plain": [
       "Unguarded    261\n",
       "Guarded      241\n",
       "dtype: int64"
      ]
     },
     "execution_count": 57,
     "metadata": {},
     "output_type": "execute_result"
    }
   ],
   "source": [
    "EA_series.value_counts()"
   ]
  },
  {
   "cell_type": "code",
   "execution_count": 58,
   "metadata": {},
   "outputs": [
    {
     "data": {
      "text/plain": [
       "Unguarded    51.992032\n",
       "Guarded      48.007968\n",
       "dtype: float64"
      ]
     },
     "execution_count": 58,
     "metadata": {},
     "output_type": "execute_result"
    }
   ],
   "source": [
    "100 * EA_series.value_counts() / len(EA_series)"
   ]
  },
  {
   "cell_type": "markdown",
   "metadata": {},
   "source": [
    "It's very balanced so it should be no problem for our data"
   ]
  },
  {
   "cell_type": "code",
   "execution_count": 59,
   "metadata": {},
   "outputs": [
    {
     "data": {
      "text/html": [
       "<div>\n",
       "<style scoped>\n",
       "    .dataframe tbody tr th:only-of-type {\n",
       "        vertical-align: middle;\n",
       "    }\n",
       "\n",
       "    .dataframe tbody tr th {\n",
       "        vertical-align: top;\n",
       "    }\n",
       "\n",
       "    .dataframe thead th {\n",
       "        text-align: right;\n",
       "    }\n",
       "</style>\n",
       "<table border=\"1\" class=\"dataframe\">\n",
       "  <thead>\n",
       "    <tr style=\"text-align: right;\">\n",
       "      <th></th>\n",
       "      <th>Name</th>\n",
       "      <th>R-1 Rigid Posture:</th>\n",
       "      <th>R-2 Body Centric:</th>\n",
       "      <th>R-3 Punctuated Motions:</th>\n",
       "      <th>R-4 Vertical Movements:</th>\n",
       "      <th>R-5 Subordinate Fluidity:</th>\n",
       "      <th>PR-1 Head Pushes:</th>\n",
       "      <th>PR-2 Head Shakes:</th>\n",
       "      <th>PR-3 Shoulder Shrugs:</th>\n",
       "      <th>PR-4 Fluent Articulation:</th>\n",
       "      <th>...</th>\n",
       "      <th>Eg-1 Upset Mouth Tension:</th>\n",
       "      <th>Eg-2 Assertive Pushing:</th>\n",
       "      <th>Eg-3 Stern Expressions:</th>\n",
       "      <th>FA-1 Fallen Affect:</th>\n",
       "      <th>sum</th>\n",
       "      <th>Quadra</th>\n",
       "      <th>Lead Energetic</th>\n",
       "      <th>Type</th>\n",
       "      <th>Development</th>\n",
       "      <th>Emotional Attitude</th>\n",
       "    </tr>\n",
       "  </thead>\n",
       "  <tbody>\n",
       "    <tr>\n",
       "      <th>0</th>\n",
       "      <td>Cœur de Pirate</td>\n",
       "      <td>0.571429</td>\n",
       "      <td>0.285714</td>\n",
       "      <td>0.571429</td>\n",
       "      <td>0.285714</td>\n",
       "      <td>0.000000</td>\n",
       "      <td>0.571429</td>\n",
       "      <td>0.285714</td>\n",
       "      <td>0.285714</td>\n",
       "      <td>0.571429</td>\n",
       "      <td>...</td>\n",
       "      <td>0.285714</td>\n",
       "      <td>0.000000</td>\n",
       "      <td>0.285714</td>\n",
       "      <td>0.0</td>\n",
       "      <td>29.571429</td>\n",
       "      <td>Gamma</td>\n",
       "      <td>Pe</td>\n",
       "      <td>SeFi</td>\n",
       "      <td>III-</td>\n",
       "      <td>Unguarded</td>\n",
       "    </tr>\n",
       "    <tr>\n",
       "      <th>1</th>\n",
       "      <td>Michael Gervais</td>\n",
       "      <td>1.000000</td>\n",
       "      <td>1.000000</td>\n",
       "      <td>1.000000</td>\n",
       "      <td>1.000000</td>\n",
       "      <td>0.571429</td>\n",
       "      <td>1.000000</td>\n",
       "      <td>1.000000</td>\n",
       "      <td>0.571429</td>\n",
       "      <td>1.000000</td>\n",
       "      <td>...</td>\n",
       "      <td>0.285714</td>\n",
       "      <td>0.571429</td>\n",
       "      <td>0.285714</td>\n",
       "      <td>0.2</td>\n",
       "      <td>29.914286</td>\n",
       "      <td>Alpha</td>\n",
       "      <td>Je</td>\n",
       "      <td>FeSi</td>\n",
       "      <td>I---</td>\n",
       "      <td>Unguarded</td>\n",
       "    </tr>\n",
       "    <tr>\n",
       "      <th>2</th>\n",
       "      <td>Joan Jett</td>\n",
       "      <td>0.285714</td>\n",
       "      <td>0.285714</td>\n",
       "      <td>0.571429</td>\n",
       "      <td>0.571429</td>\n",
       "      <td>0.000000</td>\n",
       "      <td>0.571429</td>\n",
       "      <td>0.571429</td>\n",
       "      <td>0.285714</td>\n",
       "      <td>0.571429</td>\n",
       "      <td>...</td>\n",
       "      <td>0.285714</td>\n",
       "      <td>0.571429</td>\n",
       "      <td>0.571429</td>\n",
       "      <td>0.4</td>\n",
       "      <td>29.400000</td>\n",
       "      <td>Beta</td>\n",
       "      <td>Pe</td>\n",
       "      <td>SeTi</td>\n",
       "      <td>I-I-</td>\n",
       "      <td>Guarded</td>\n",
       "    </tr>\n",
       "    <tr>\n",
       "      <th>3</th>\n",
       "      <td>Ben Stein</td>\n",
       "      <td>0.000000</td>\n",
       "      <td>0.285714</td>\n",
       "      <td>0.285714</td>\n",
       "      <td>0.285714</td>\n",
       "      <td>0.000000</td>\n",
       "      <td>0.285714</td>\n",
       "      <td>0.285714</td>\n",
       "      <td>0.000000</td>\n",
       "      <td>1.000000</td>\n",
       "      <td>...</td>\n",
       "      <td>0.285714</td>\n",
       "      <td>0.285714</td>\n",
       "      <td>0.285714</td>\n",
       "      <td>0.4</td>\n",
       "      <td>16.400000</td>\n",
       "      <td>Delta</td>\n",
       "      <td>Pi</td>\n",
       "      <td>SiTe</td>\n",
       "      <td>I---</td>\n",
       "      <td>Guarded</td>\n",
       "    </tr>\n",
       "    <tr>\n",
       "      <th>4</th>\n",
       "      <td>Billie Joe Armstrong</td>\n",
       "      <td>0.571429</td>\n",
       "      <td>1.000000</td>\n",
       "      <td>0.285714</td>\n",
       "      <td>0.571429</td>\n",
       "      <td>0.571429</td>\n",
       "      <td>0.571429</td>\n",
       "      <td>1.000000</td>\n",
       "      <td>0.285714</td>\n",
       "      <td>0.285714</td>\n",
       "      <td>...</td>\n",
       "      <td>0.571429</td>\n",
       "      <td>0.285714</td>\n",
       "      <td>0.571429</td>\n",
       "      <td>0.0</td>\n",
       "      <td>30.142857</td>\n",
       "      <td>Gamma</td>\n",
       "      <td>Ji</td>\n",
       "      <td>FiSe</td>\n",
       "      <td>II-I</td>\n",
       "      <td>Guarded</td>\n",
       "    </tr>\n",
       "  </tbody>\n",
       "</table>\n",
       "<p>5 rows × 78 columns</p>\n",
       "</div>"
      ],
      "text/plain": [
       "                   Name  R-1 Rigid Posture:  R-2 Body Centric:  \\\n",
       "0        Cœur de Pirate            0.571429           0.285714   \n",
       "1       Michael Gervais            1.000000           1.000000   \n",
       "2             Joan Jett            0.285714           0.285714   \n",
       "3             Ben Stein            0.000000           0.285714   \n",
       "4  Billie Joe Armstrong            0.571429           1.000000   \n",
       "\n",
       "   R-3 Punctuated Motions:  R-4 Vertical Movements:  \\\n",
       "0                 0.571429                 0.285714   \n",
       "1                 1.000000                 1.000000   \n",
       "2                 0.571429                 0.571429   \n",
       "3                 0.285714                 0.285714   \n",
       "4                 0.285714                 0.571429   \n",
       "\n",
       "   R-5 Subordinate Fluidity:  PR-1 Head Pushes:  PR-2 Head Shakes:  \\\n",
       "0                   0.000000           0.571429           0.285714   \n",
       "1                   0.571429           1.000000           1.000000   \n",
       "2                   0.000000           0.571429           0.571429   \n",
       "3                   0.000000           0.285714           0.285714   \n",
       "4                   0.571429           0.571429           1.000000   \n",
       "\n",
       "   PR-3 Shoulder Shrugs:  PR-4 Fluent Articulation:  ...  \\\n",
       "0               0.285714                   0.571429  ...   \n",
       "1               0.571429                   1.000000  ...   \n",
       "2               0.285714                   0.571429  ...   \n",
       "3               0.000000                   1.000000  ...   \n",
       "4               0.285714                   0.285714  ...   \n",
       "\n",
       "   Eg-1 Upset Mouth Tension:  Eg-2 Assertive Pushing:  \\\n",
       "0                   0.285714                 0.000000   \n",
       "1                   0.285714                 0.571429   \n",
       "2                   0.285714                 0.571429   \n",
       "3                   0.285714                 0.285714   \n",
       "4                   0.571429                 0.285714   \n",
       "\n",
       "   Eg-3 Stern Expressions:  FA-1 Fallen Affect:        sum  Quadra  \\\n",
       "0                 0.285714                  0.0  29.571429   Gamma   \n",
       "1                 0.285714                  0.2  29.914286   Alpha   \n",
       "2                 0.571429                  0.4  29.400000    Beta   \n",
       "3                 0.285714                  0.4  16.400000   Delta   \n",
       "4                 0.571429                  0.0  30.142857   Gamma   \n",
       "\n",
       "   Lead Energetic  Type  Development  Emotional Attitude  \n",
       "0              Pe  SeFi         III-           Unguarded  \n",
       "1              Je  FeSi         I---           Unguarded  \n",
       "2              Pe  SeTi         I-I-             Guarded  \n",
       "3              Pi  SiTe         I---             Guarded  \n",
       "4              Ji  FiSe         II-I             Guarded  \n",
       "\n",
       "[5 rows x 78 columns]"
      ]
     },
     "execution_count": 59,
     "metadata": {},
     "output_type": "execute_result"
    }
   ],
   "source": [
    "signals_df['Emotional Attitude'] = EA_series\n",
    "signals_df.head()"
   ]
  },
  {
   "cell_type": "code",
   "execution_count": 60,
   "metadata": {},
   "outputs": [],
   "source": [
    "signals_df.to_excel('CTDBSignalDataClean.xlsx')"
   ]
  },
  {
   "cell_type": "code",
   "execution_count": null,
   "metadata": {},
   "outputs": [],
   "source": []
  }
 ],
 "metadata": {
  "kernelspec": {
   "display_name": "Python 3",
   "language": "python",
   "name": "python3"
  },
  "language_info": {
   "codemirror_mode": {
    "name": "ipython",
    "version": 3
   },
   "file_extension": ".py",
   "mimetype": "text/x-python",
   "name": "python",
   "nbconvert_exporter": "python",
   "pygments_lexer": "ipython3",
   "version": "3.8.5"
  }
 },
 "nbformat": 4,
 "nbformat_minor": 4
}
