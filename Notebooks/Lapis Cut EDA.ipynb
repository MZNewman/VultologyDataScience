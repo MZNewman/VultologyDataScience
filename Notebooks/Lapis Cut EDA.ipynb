{
 "cells": [
  {
   "cell_type": "code",
   "execution_count": 1,
   "metadata": {},
   "outputs": [],
   "source": [
    "import pandas as pd\n",
    "import matplotlib.pyplot as plt\n",
    "import numpy as np\n",
    "import re"
   ]
  },
  {
   "cell_type": "markdown",
   "metadata": {},
   "source": [
    "I have three \"cuts\" of the data that I want to perform machine learning on:\n",
    "\n",
    "- all the usable data (i.e. excluding entries that don't have reports)\n",
    "\n",
    "- the \"Auburn\" cut, which should remove Vultology reports from authors that have 20 or fewer reports (since they are less experienced)\n",
    "\n",
    "- the \"Lapis\" cut, layered over the Auburn cut, which should take into account this analysis:\n",
    "\"I'm seeing something rather suspicious in the data. If I calculate P-axis coordinates with the formula (Suspended - Grounded )/(Suspended + Grounded ), which ranges from -1 (completely Grounded) to +1 (completely Suspended), then there are 90 samples with -1, i.e., Grounded with zero signal mixing.  However, there are only 8 samples in the (-1, -0.9] interval.  In the (-0.9, 0.8] interval there are 40 samples. IMO that strongly suggests that many of those Grounded samples with zero P-axis signal mixing have neglected Suspended signals. The other end of the spectrum also looks suspicious, though it's less extreme. \n",
    "There are 36 samples with P-axis coordinates of 1 (Suspended with zero signal mixing), only 3 samples in the [0.9, 1) interval, but 26 samples in the [0.8, 0.9) interval. As for J-axis coordinates, (Measured - Candid)/(Measured + Candid), there are 55 samples with coordinates of 1 (Measured with zero signal mixing), 23 samples in the [0.9, 1) interval, and 35 in the [0.8, 0.9) interval.  There's still an odd dip, but it's a lot less suspicious. At the other end, there are 23 samples with -1 (Candid with zero signal mixing), 12 samples in the (-1, -0.9] interval and 18 samples in the (-0.9, -0.8] interval. It might be worth repeating the statistical analysis reported earlier in this channel just on samples in the (-0.9, 0.9) intervals.\"\n",
    "\n",
    "We will see if these different versions of the data give different statistical results or different results in machine learning algorithms."
   ]
  },
  {
   "cell_type": "markdown",
   "metadata": {},
   "source": [
    "This notebook is devoted to the Lapis cut of the data. Please read the notebook \"Full Data EDA\" if you want a primer and what modifications I have already performed on the data to get to this point, since that is what I will be starting from."
   ]
  },
  {
   "cell_type": "markdown",
   "metadata": {},
   "source": [
    "## Statistics on the Lapis Cut"
   ]
  },
  {
   "cell_type": "code",
   "execution_count": 2,
   "metadata": {},
   "outputs": [
    {
     "data": {
      "text/html": [
       "<div>\n",
       "<style scoped>\n",
       "    .dataframe tbody tr th:only-of-type {\n",
       "        vertical-align: middle;\n",
       "    }\n",
       "\n",
       "    .dataframe tbody tr th {\n",
       "        vertical-align: top;\n",
       "    }\n",
       "\n",
       "    .dataframe thead th {\n",
       "        text-align: right;\n",
       "    }\n",
       "</style>\n",
       "<table border=\"1\" class=\"dataframe\">\n",
       "  <thead>\n",
       "    <tr style=\"text-align: right;\">\n",
       "      <th></th>\n",
       "      <th>Sample Name</th>\n",
       "      <th>Vultologist</th>\n",
       "      <th>Type</th>\n",
       "      <th>Development</th>\n",
       "      <th>Emotions</th>\n",
       "      <th>Fallen Affect</th>\n",
       "      <th>J Signal Mixing</th>\n",
       "      <th>P Signal Mixing</th>\n",
       "      <th>Sex</th>\n",
       "      <th>Age Range</th>\n",
       "      <th>...</th>\n",
       "      <th>SU8 Quirky Skits</th>\n",
       "      <th>EU1 Responsive Nodding</th>\n",
       "      <th>EU2 Polite Smiling</th>\n",
       "      <th>EU3 Bashful Body Movements</th>\n",
       "      <th>EG1 Upset Mouth Tension</th>\n",
       "      <th>EG2 Assertive Pushing</th>\n",
       "      <th>EG3 Stern Expressions</th>\n",
       "      <th>sum</th>\n",
       "      <th>Lead Energetic</th>\n",
       "      <th>Quadra</th>\n",
       "    </tr>\n",
       "  </thead>\n",
       "  <tbody>\n",
       "    <tr>\n",
       "      <th>1</th>\n",
       "      <td>Michael Gervais</td>\n",
       "      <td>Calin Copil</td>\n",
       "      <td>fesi</td>\n",
       "      <td>i---</td>\n",
       "      <td>neutral</td>\n",
       "      <td>1.0</td>\n",
       "      <td>low</td>\n",
       "      <td>low</td>\n",
       "      <td>male</td>\n",
       "      <td>-1</td>\n",
       "      <td>...</td>\n",
       "      <td>0.0</td>\n",
       "      <td>4.0</td>\n",
       "      <td>4.0</td>\n",
       "      <td>2.0</td>\n",
       "      <td>2.0</td>\n",
       "      <td>4.0</td>\n",
       "      <td>2.0</td>\n",
       "      <td>209.0</td>\n",
       "      <td>Je</td>\n",
       "      <td>Alpha</td>\n",
       "    </tr>\n",
       "    <tr>\n",
       "      <th>2</th>\n",
       "      <td>Joan Jett</td>\n",
       "      <td>Calin Copil</td>\n",
       "      <td>seti</td>\n",
       "      <td>i-i-</td>\n",
       "      <td>guarded</td>\n",
       "      <td>2.0</td>\n",
       "      <td>low</td>\n",
       "      <td>low</td>\n",
       "      <td>female</td>\n",
       "      <td>1950s</td>\n",
       "      <td>...</td>\n",
       "      <td>2.0</td>\n",
       "      <td>2.0</td>\n",
       "      <td>2.0</td>\n",
       "      <td>0.0</td>\n",
       "      <td>2.0</td>\n",
       "      <td>4.0</td>\n",
       "      <td>4.0</td>\n",
       "      <td>205.0</td>\n",
       "      <td>Pe</td>\n",
       "      <td>Beta</td>\n",
       "    </tr>\n",
       "    <tr>\n",
       "      <th>3</th>\n",
       "      <td>Ben Stein</td>\n",
       "      <td>Calin Copil</td>\n",
       "      <td>site</td>\n",
       "      <td>i---</td>\n",
       "      <td>guarded</td>\n",
       "      <td>2.0</td>\n",
       "      <td>low</td>\n",
       "      <td>low</td>\n",
       "      <td>male</td>\n",
       "      <td>1940s</td>\n",
       "      <td>...</td>\n",
       "      <td>0.0</td>\n",
       "      <td>0.0</td>\n",
       "      <td>0.0</td>\n",
       "      <td>0.0</td>\n",
       "      <td>2.0</td>\n",
       "      <td>2.0</td>\n",
       "      <td>2.0</td>\n",
       "      <td>114.0</td>\n",
       "      <td>Pi</td>\n",
       "      <td>Delta</td>\n",
       "    </tr>\n",
       "    <tr>\n",
       "      <th>4</th>\n",
       "      <td>Billie Joe Armstrong</td>\n",
       "      <td>Peter Foy</td>\n",
       "      <td>fise</td>\n",
       "      <td>ii-i</td>\n",
       "      <td>neutral</td>\n",
       "      <td>0.0</td>\n",
       "      <td>low</td>\n",
       "      <td>medium</td>\n",
       "      <td>male</td>\n",
       "      <td>1970s</td>\n",
       "      <td>...</td>\n",
       "      <td>0.0</td>\n",
       "      <td>2.0</td>\n",
       "      <td>4.0</td>\n",
       "      <td>2.0</td>\n",
       "      <td>4.0</td>\n",
       "      <td>2.0</td>\n",
       "      <td>4.0</td>\n",
       "      <td>211.0</td>\n",
       "      <td>Ji</td>\n",
       "      <td>Gamma</td>\n",
       "    </tr>\n",
       "    <tr>\n",
       "      <th>6</th>\n",
       "      <td>Megyn Kelly</td>\n",
       "      <td>Peter Foy</td>\n",
       "      <td>feni</td>\n",
       "      <td>i---</td>\n",
       "      <td>neutral</td>\n",
       "      <td>0.0</td>\n",
       "      <td>low</td>\n",
       "      <td>low</td>\n",
       "      <td>female</td>\n",
       "      <td>1970s</td>\n",
       "      <td>...</td>\n",
       "      <td>4.0</td>\n",
       "      <td>4.0</td>\n",
       "      <td>4.0</td>\n",
       "      <td>2.0</td>\n",
       "      <td>0.0</td>\n",
       "      <td>7.0</td>\n",
       "      <td>2.0</td>\n",
       "      <td>181.0</td>\n",
       "      <td>Je</td>\n",
       "      <td>Beta</td>\n",
       "    </tr>\n",
       "  </tbody>\n",
       "</table>\n",
       "<p>5 rows × 85 columns</p>\n",
       "</div>"
      ],
      "text/plain": [
       "            Sample Name  Vultologist  Type Development Emotions  \\\n",
       "1       Michael Gervais  Calin Copil  fesi        i---  neutral   \n",
       "2             Joan Jett  Calin Copil  seti        i-i-  guarded   \n",
       "3             Ben Stein  Calin Copil  site        i---  guarded   \n",
       "4  Billie Joe Armstrong    Peter Foy  fise        ii-i  neutral   \n",
       "6           Megyn Kelly    Peter Foy  feni        i---  neutral   \n",
       "\n",
       "   Fallen Affect J Signal Mixing P Signal Mixing     Sex Age Range  ...  \\\n",
       "1            1.0             low             low    male        -1  ...   \n",
       "2            2.0             low             low  female     1950s  ...   \n",
       "3            2.0             low             low    male     1940s  ...   \n",
       "4            0.0             low          medium    male     1970s  ...   \n",
       "6            0.0             low             low  female     1970s  ...   \n",
       "\n",
       "  SU8 Quirky Skits EU1 Responsive Nodding  EU2 Polite Smiling  \\\n",
       "1              0.0                    4.0                 4.0   \n",
       "2              2.0                    2.0                 2.0   \n",
       "3              0.0                    0.0                 0.0   \n",
       "4              0.0                    2.0                 4.0   \n",
       "6              4.0                    4.0                 4.0   \n",
       "\n",
       "   EU3 Bashful Body Movements  EG1 Upset Mouth Tension  EG2 Assertive Pushing  \\\n",
       "1                         2.0                      2.0                    4.0   \n",
       "2                         0.0                      2.0                    4.0   \n",
       "3                         0.0                      2.0                    2.0   \n",
       "4                         2.0                      4.0                    2.0   \n",
       "6                         2.0                      0.0                    7.0   \n",
       "\n",
       "   EG3 Stern Expressions    sum  Lead Energetic  Quadra  \n",
       "1                    2.0  209.0              Je   Alpha  \n",
       "2                    4.0  205.0              Pe    Beta  \n",
       "3                    2.0  114.0              Pi   Delta  \n",
       "4                    4.0  211.0              Ji   Gamma  \n",
       "6                    2.0  181.0              Je    Beta  \n",
       "\n",
       "[5 rows x 85 columns]"
      ]
     },
     "execution_count": 2,
     "metadata": {},
     "output_type": "execute_result"
    }
   ],
   "source": [
    "lapis_df = pd.read_csv(\"../Data/Vultology_Database_2024-02-24_-_PlusAuthors_AuburnCut.csv\", index_col=0)\n",
    "lapis_df.head()"
   ]
  },
  {
   "cell_type": "code",
   "execution_count": 3,
   "metadata": {},
   "outputs": [
    {
     "name": "stdout",
     "output_type": "stream",
     "text": [
      "<class 'pandas.core.frame.DataFrame'>\n",
      "Int64Index: 455 entries, 1 to 501\n",
      "Data columns (total 85 columns):\n",
      " #   Column                         Non-Null Count  Dtype  \n",
      "---  ------                         --------------  -----  \n",
      " 0   Sample Name                    455 non-null    object \n",
      " 1   Vultologist                    455 non-null    object \n",
      " 2   Type                           455 non-null    object \n",
      " 3   Development                    455 non-null    object \n",
      " 4   Emotions                       455 non-null    object \n",
      " 5   Fallen Affect                  455 non-null    float64\n",
      " 6   J Signal Mixing                286 non-null    object \n",
      " 7   P Signal Mixing                286 non-null    object \n",
      " 8   Sex                            455 non-null    object \n",
      " 9   Age Range                      455 non-null    object \n",
      " 10  Geography                      455 non-null    object \n",
      " 11  Ethnicity                      455 non-null    object \n",
      " 12  R1 Rigid Posture               455 non-null    float64\n",
      " 13  R2 Face Centric                455 non-null    float64\n",
      " 14  R3 Punctuated Motions          455 non-null    float64\n",
      " 15  R4 Vertical Movements          455 non-null    float64\n",
      " 16  R5 Subordinate Fluidity        455 non-null    float64\n",
      " 17  F1 Fluid Posture               455 non-null    float64\n",
      " 18  F2 Eye Centric                 455 non-null    float64\n",
      " 19  F3 Gliding Motions             455 non-null    float64\n",
      " 20  F4 Horizontal Movements        455 non-null    float64\n",
      " 21  F5 Subordinate Rigidity        455 non-null    float64\n",
      " 22  PF1 Restless Momentum          455 non-null    float64\n",
      " 23  PF2 Toggling Eyes              455 non-null    float64\n",
      " 24  PF3 Body Swaying               455 non-null    float64\n",
      " 25  PF4 Casual Hands               455 non-null    float64\n",
      " 26  PF5 Alert Perk Ups             455 non-null    float64\n",
      " 27  RF1 Viscous Inertia            455 non-null    float64\n",
      " 28  RF2 Fixed Gaze                 455 non-null    float64\n",
      " 29  RF3 Diagonal Eye Drifts        455 non-null    float64\n",
      " 30  RF4 Searching Scowling         455 non-null    float64\n",
      " 31  RF5 Narrow Head Zoning         455 non-null    float64\n",
      " 32  PR1 Head Pushes                455 non-null    float64\n",
      " 33  PR2 Head Shakes                455 non-null    float64\n",
      " 34  PR3 Shoulder Shrugs            455 non-null    float64\n",
      " 35  PR4 Fluent Articulation        455 non-null    float64\n",
      " 36  PR5 Projecting Hands           455 non-null    float64\n",
      " 37  RR1 Poised Receding            455 non-null    float64\n",
      " 38  RR2 Disengaging Eyes           455 non-null    float64\n",
      " 39  RR3 Exerted Pushes             455 non-null    float64\n",
      " 40  RR4 Momentum Halting           455 non-null    float64\n",
      " 41  RR5 Meticulous Hands           455 non-null    float64\n",
      " 42  CA1 Taut Nasolabial Area       455 non-null    float64\n",
      " 43  CA2 Vertical Snarling Smiles   455 non-null    float64\n",
      " 44  CA3 Four Point Pulling         455 non-null    float64\n",
      " 45  CA4 Wobbling Lips              455 non-null    float64\n",
      " 46  CA5 Asymmetrical Smirks        455 non-null    float64\n",
      " 47  CA6 Sassy Movements            455 non-null    float64\n",
      " 48  CA7 Plateau Velocity           455 non-null    float64\n",
      " 49  CA8 Nasal Breathy Voice        455 non-null    float64\n",
      " 50  CA9 Grasping Hands             455 non-null    float64\n",
      " 51  MS1 Lax Nasolabial Area        455 non-null    float64\n",
      " 52  MS2 Horizontal Curtain Smiles  455 non-null    float64\n",
      " 53  MS3 Two Point Pulling          455 non-null    float64\n",
      " 54  MS4 Symmetrical Lips           455 non-null    float64\n",
      " 55  MS5 Emotional Neutralization   455 non-null    float64\n",
      " 56  MS6 Coordinated Movements      455 non-null    float64\n",
      " 57  MS7 Parabolic Velocity         455 non-null    float64\n",
      " 58  MS8 Laryngeal Faint Voice      455 non-null    float64\n",
      " 59  MS9 Puppeteer Hands            455 non-null    float64\n",
      " 60  GR1 Taut Preseptal Area        455 non-null    float64\n",
      " 61  GR2 Lax Pretarsal Area         455 non-null    float64\n",
      " 62  GR3 Taut Outer Edges           455 non-null    float64\n",
      " 63  GR4 Intense Scowling           455 non-null    float64\n",
      " 64  GR5 Pointed Eye Toggles        455 non-null    float64\n",
      " 65  GR6 Eye Head Parallel Motion   455 non-null    float64\n",
      " 66  GR7 Grounding Effect           455 non-null    float64\n",
      " 67  GR8 Bodily Awareness           455 non-null    float64\n",
      " 68  SU1 Lax Preseptal Area         455 non-null    float64\n",
      " 69  SU2 Taut Pretarsal Area        455 non-null    float64\n",
      " 70  SU3 Lax Outer Edges            455 non-null    float64\n",
      " 71  SU4 Concerned Scowling         455 non-null    float64\n",
      " 72  SU5 Brushstrokes Eye Toggles   455 non-null    float64\n",
      " 73  SU6 Eye Head Trailing Motions  455 non-null    float64\n",
      " 74  SU7 Levity Effect              455 non-null    float64\n",
      " 75  SU8 Quirky Skits               455 non-null    float64\n",
      " 76  EU1 Responsive Nodding         455 non-null    float64\n",
      " 77  EU2 Polite Smiling             455 non-null    float64\n",
      " 78  EU3 Bashful Body Movements     455 non-null    float64\n",
      " 79  EG1 Upset Mouth Tension        455 non-null    float64\n",
      " 80  EG2 Assertive Pushing          455 non-null    float64\n",
      " 81  EG3 Stern Expressions          455 non-null    float64\n",
      " 82  sum                            455 non-null    float64\n",
      " 83  Lead Energetic                 455 non-null    object \n",
      " 84  Quadra                         455 non-null    object \n",
      "dtypes: float64(72), object(13)\n",
      "memory usage: 305.7+ KB\n"
     ]
    }
   ],
   "source": [
    "lapis_df.info()"
   ]
  },
  {
   "cell_type": "markdown",
   "metadata": {},
   "source": [
    "Lapis already described the main alteration that we need to make, so let's just get right to it. The only thing that I want to do which is different from what Lapis suggested is to look at histograms of the distributions of the score formulas he came up, since it's debateable whether we want to include samples in the (-0.9, 0.9) intervals or just exclude the edges, since even the interval (-1, 1), non-inclusive of the absolute extremes, might be approximately normal (the edges strongly violate normality as Lapis already indicated)\n",
    "\n",
    "We first need to calculate the scores for the 4 quadral axes"
   ]
  },
  {
   "cell_type": "code",
   "execution_count": 4,
   "metadata": {},
   "outputs": [
    {
     "data": {
      "text/html": [
       "<div>\n",
       "<style scoped>\n",
       "    .dataframe tbody tr th:only-of-type {\n",
       "        vertical-align: middle;\n",
       "    }\n",
       "\n",
       "    .dataframe tbody tr th {\n",
       "        vertical-align: top;\n",
       "    }\n",
       "\n",
       "    .dataframe thead th {\n",
       "        text-align: right;\n",
       "    }\n",
       "</style>\n",
       "<table border=\"1\" class=\"dataframe\">\n",
       "  <thead>\n",
       "    <tr style=\"text-align: right;\">\n",
       "      <th></th>\n",
       "      <th>Candid Score</th>\n",
       "      <th>Measured Score</th>\n",
       "      <th>Grounded Score</th>\n",
       "      <th>Suspended Score</th>\n",
       "    </tr>\n",
       "  </thead>\n",
       "  <tbody>\n",
       "    <tr>\n",
       "      <th>count</th>\n",
       "      <td>455.000000</td>\n",
       "      <td>455.000000</td>\n",
       "      <td>455.00000</td>\n",
       "      <td>455.000000</td>\n",
       "    </tr>\n",
       "    <tr>\n",
       "      <th>mean</th>\n",
       "      <td>18.740659</td>\n",
       "      <td>22.749451</td>\n",
       "      <td>20.12967</td>\n",
       "      <td>13.525275</td>\n",
       "    </tr>\n",
       "    <tr>\n",
       "      <th>std</th>\n",
       "      <td>14.602320</td>\n",
       "      <td>15.345036</td>\n",
       "      <td>12.77485</td>\n",
       "      <td>12.142279</td>\n",
       "    </tr>\n",
       "    <tr>\n",
       "      <th>min</th>\n",
       "      <td>0.000000</td>\n",
       "      <td>0.000000</td>\n",
       "      <td>0.00000</td>\n",
       "      <td>0.000000</td>\n",
       "    </tr>\n",
       "    <tr>\n",
       "      <th>25%</th>\n",
       "      <td>4.000000</td>\n",
       "      <td>8.000000</td>\n",
       "      <td>8.00000</td>\n",
       "      <td>2.000000</td>\n",
       "    </tr>\n",
       "    <tr>\n",
       "      <th>50%</th>\n",
       "      <td>17.000000</td>\n",
       "      <td>23.000000</td>\n",
       "      <td>21.00000</td>\n",
       "      <td>10.000000</td>\n",
       "    </tr>\n",
       "    <tr>\n",
       "      <th>75%</th>\n",
       "      <td>31.000000</td>\n",
       "      <td>36.000000</td>\n",
       "      <td>30.00000</td>\n",
       "      <td>24.000000</td>\n",
       "    </tr>\n",
       "    <tr>\n",
       "      <th>max</th>\n",
       "      <td>57.000000</td>\n",
       "      <td>57.000000</td>\n",
       "      <td>50.00000</td>\n",
       "      <td>47.000000</td>\n",
       "    </tr>\n",
       "  </tbody>\n",
       "</table>\n",
       "</div>"
      ],
      "text/plain": [
       "       Candid Score  Measured Score  Grounded Score  Suspended Score\n",
       "count    455.000000      455.000000       455.00000       455.000000\n",
       "mean      18.740659       22.749451        20.12967        13.525275\n",
       "std       14.602320       15.345036        12.77485        12.142279\n",
       "min        0.000000        0.000000         0.00000         0.000000\n",
       "25%        4.000000        8.000000         8.00000         2.000000\n",
       "50%       17.000000       23.000000        21.00000        10.000000\n",
       "75%       31.000000       36.000000        30.00000        24.000000\n",
       "max       57.000000       57.000000        50.00000        47.000000"
      ]
     },
     "execution_count": 4,
     "metadata": {},
     "output_type": "execute_result"
    }
   ],
   "source": [
    "lapis_df['Candid Score'] = lapis_df.iloc[:, 42:51].sum(axis=1)\n",
    "lapis_df['Measured Score'] = lapis_df.iloc[:, 51:60].sum(axis=1)\n",
    "lapis_df['Grounded Score'] = lapis_df.iloc[:, 60:68].sum(axis=1)\n",
    "lapis_df['Suspended Score'] = lapis_df.iloc[:, 68:76].sum(axis=1)\n",
    "lapis_df.iloc[:, 85:].describe()"
   ]
  },
  {
   "cell_type": "markdown",
   "metadata": {},
   "source": [
    "These are somewhat interesting, the means and medians are mostly pretty similar except maybe for Suspended in which case it's pretty top-heavy (mean > median). However, some of that might be due to the 0 phenomenon that Lapis spoke about.\n",
    "\n",
    "We need to visualize these scores with histograms (we can also calculate the whole axis like Lapis did)"
   ]
  },
  {
   "cell_type": "code",
   "execution_count": 5,
   "metadata": {},
   "outputs": [
    {
     "data": {
      "image/png": "[encoded data removed]",
      "text/plain": [
       "<Figure size 432x288 with 1 Axes>"
      ]
     },
     "metadata": {
      "needs_background": "light"
     },
     "output_type": "display_data"
    }
   ],
   "source": [
    "lapis_df['Candid Score'].hist();"
   ]
  },
  {
   "cell_type": "code",
   "execution_count": 6,
   "metadata": {},
   "outputs": [
    {
     "data": {
      "image/png": "[encoded data removed]",
      "text/plain": [
       "<Figure size 432x288 with 1 Axes>"
      ]
     },
     "metadata": {
      "needs_background": "light"
     },
     "output_type": "display_data"
    }
   ],
   "source": [
    "lapis_df['Measured Score'].hist();"
   ]
  },
  {
   "cell_type": "code",
   "execution_count": 7,
   "metadata": {},
   "outputs": [
    {
     "data": {
      "image/png": "[encoded data removed]",
      "text/plain": [
       "<Figure size 432x288 with 1 Axes>"
      ]
     },
     "metadata": {
      "needs_background": "light"
     },
     "output_type": "display_data"
    }
   ],
   "source": [
    "lapis_df['Grounded Score'].hist();"
   ]
  },
  {
   "cell_type": "code",
   "execution_count": 8,
   "metadata": {},
   "outputs": [
    {
     "data": {
      "image/png": "[encoded data removed]",
      "text/plain": [
       "<Figure size 432x288 with 1 Axes>"
      ]
     },
     "metadata": {
      "needs_background": "light"
     },
     "output_type": "display_data"
    }
   ],
   "source": [
    "lapis_df['Suspended Score'].hist();"
   ]
  },
  {
   "cell_type": "markdown",
   "metadata": {},
   "source": [
    "It's mostly the same story of having a huge amount at 0, but also having a second peak somewhere near the 60 percentile. Different aspects are exaggerated for different charts; Suspended has by far the largest peak at 0 which explains why it's mean is so much higher than its median"
   ]
  },
  {
   "cell_type": "markdown",
   "metadata": {},
   "source": [
    "Now we'll calculate the J-Axis and P-Axis coordinates directly:"
   ]
  },
  {
   "cell_type": "code",
   "execution_count": 9,
   "metadata": {},
   "outputs": [
    {
     "data": {
      "text/html": [
       "<div>\n",
       "<style scoped>\n",
       "    .dataframe tbody tr th:only-of-type {\n",
       "        vertical-align: middle;\n",
       "    }\n",
       "\n",
       "    .dataframe tbody tr th {\n",
       "        vertical-align: top;\n",
       "    }\n",
       "\n",
       "    .dataframe thead th {\n",
       "        text-align: right;\n",
       "    }\n",
       "</style>\n",
       "<table border=\"1\" class=\"dataframe\">\n",
       "  <thead>\n",
       "    <tr style=\"text-align: right;\">\n",
       "      <th></th>\n",
       "      <th>J-Axis Coordinate</th>\n",
       "      <th>P-Axis Coordinate</th>\n",
       "    </tr>\n",
       "  </thead>\n",
       "  <tbody>\n",
       "    <tr>\n",
       "      <th>count</th>\n",
       "      <td>455.000000</td>\n",
       "      <td>455.000000</td>\n",
       "    </tr>\n",
       "    <tr>\n",
       "      <th>mean</th>\n",
       "      <td>0.083957</td>\n",
       "      <td>-0.191005</td>\n",
       "    </tr>\n",
       "    <tr>\n",
       "      <th>std</th>\n",
       "      <td>0.686592</td>\n",
       "      <td>0.700072</td>\n",
       "    </tr>\n",
       "    <tr>\n",
       "      <th>min</th>\n",
       "      <td>-1.000000</td>\n",
       "      <td>-1.000000</td>\n",
       "    </tr>\n",
       "    <tr>\n",
       "      <th>25%</th>\n",
       "      <td>-0.553288</td>\n",
       "      <td>-0.836667</td>\n",
       "    </tr>\n",
       "    <tr>\n",
       "      <th>50%</th>\n",
       "      <td>0.224490</td>\n",
       "      <td>-0.414634</td>\n",
       "    </tr>\n",
       "    <tr>\n",
       "      <th>75%</th>\n",
       "      <td>0.760000</td>\n",
       "      <td>0.515152</td>\n",
       "    </tr>\n",
       "    <tr>\n",
       "      <th>max</th>\n",
       "      <td>1.000000</td>\n",
       "      <td>1.000000</td>\n",
       "    </tr>\n",
       "  </tbody>\n",
       "</table>\n",
       "</div>"
      ],
      "text/plain": [
       "       J-Axis Coordinate  P-Axis Coordinate\n",
       "count         455.000000         455.000000\n",
       "mean            0.083957          -0.191005\n",
       "std             0.686592           0.700072\n",
       "min            -1.000000          -1.000000\n",
       "25%            -0.553288          -0.836667\n",
       "50%             0.224490          -0.414634\n",
       "75%             0.760000           0.515152\n",
       "max             1.000000           1.000000"
      ]
     },
     "execution_count": 9,
     "metadata": {},
     "output_type": "execute_result"
    }
   ],
   "source": [
    "lapis_df['J-Axis Coordinate'] = (lapis_df['Measured Score'] - lapis_df['Candid Score'])/(lapis_df['Measured Score'] + lapis_df['Candid Score'])\n",
    "lapis_df['P-Axis Coordinate'] = (lapis_df['Suspended Score'] - lapis_df['Grounded Score'])/(lapis_df['Suspended Score'] + lapis_df['Grounded Score'])\n",
    "lapis_df.iloc[:, 89:].describe()"
   ]
  },
  {
   "cell_type": "markdown",
   "metadata": {},
   "source": [
    "The shifted medians and means are to be expected because Candid and Grounded types are more common in the database\n",
    "\n",
    "Let's visualize"
   ]
  },
  {
   "cell_type": "code",
   "execution_count": 10,
   "metadata": {},
   "outputs": [
    {
     "data": {
      "image/png": "[encoded data removed]",
      "text/plain": [
       "<Figure size 432x288 with 1 Axes>"
      ]
     },
     "metadata": {
      "needs_background": "light"
     },
     "output_type": "display_data"
    }
   ],
   "source": [
    "lapis_df['J-Axis Coordinate'].hist();"
   ]
  },
  {
   "cell_type": "code",
   "execution_count": 11,
   "metadata": {},
   "outputs": [
    {
     "data": {
      "image/png": "[encoded data removed]",
      "text/plain": [
       "<Figure size 432x288 with 1 Axes>"
      ]
     },
     "metadata": {
      "needs_background": "light"
     },
     "output_type": "display_data"
    }
   ],
   "source": [
    "lapis_df['P-Axis Coordinate'].hist();"
   ]
  },
  {
   "cell_type": "markdown",
   "metadata": {},
   "source": [
    "Hmm, both of these distributions aren't normal at all, but something like a u-quadratic distribution? https://en.wikipedia.org/wiki/U-quadratic_distribution\n",
    "\n",
    "I think that's something of an illusion though, produced by the numbers of bins in the histogram (which is 10), and what Lapis pointed out about so many extreme values. With the right viewpoint, and with extremes taken out, this looks like it could be almost a bimodal distribution, which is exactly what you want for a typology dichotomy\n",
    "\n",
    "Let's change the number of bins in the histograms first, to investigate, then let's remove outliers"
   ]
  },
  {
   "cell_type": "code",
   "execution_count": 12,
   "metadata": {
    "scrolled": true
   },
   "outputs": [
    {
     "data": {
      "image/png": "[encoded data removed]",
      "text/plain": [
       "<Figure size 432x288 with 1 Axes>"
      ]
     },
     "metadata": {
      "needs_background": "light"
     },
     "output_type": "display_data"
    }
   ],
   "source": [
    "lapis_df['J-Axis Coordinate'].hist(bins=25);"
   ]
  },
  {
   "cell_type": "code",
   "execution_count": 13,
   "metadata": {},
   "outputs": [
    {
     "data": {
      "image/png": "[encoded data removed]",
      "text/plain": [
       "<Figure size 432x288 with 1 Axes>"
      ]
     },
     "metadata": {
      "needs_background": "light"
     },
     "output_type": "display_data"
    }
   ],
   "source": [
    "lapis_df['P-Axis Coordinate'].hist(bins=25);"
   ]
  },
  {
   "cell_type": "markdown",
   "metadata": {},
   "source": [
    "I wouldn't say it's approximately bimodal even excluding the ends, but it's closer to bimodal since you can more easily see how extreme the ends are. Let's see how it looks without them"
   ]
  },
  {
   "cell_type": "code",
   "execution_count": 14,
   "metadata": {},
   "outputs": [
    {
     "name": "stdout",
     "output_type": "stream",
     "text": [
      "<class 'pandas.core.frame.DataFrame'>\n",
      "Int64Index: 300 entries, 2 to 497\n",
      "Data columns (total 91 columns):\n",
      " #   Column                         Non-Null Count  Dtype  \n",
      "---  ------                         --------------  -----  \n",
      " 0   Sample Name                    300 non-null    object \n",
      " 1   Vultologist                    300 non-null    object \n",
      " 2   Type                           300 non-null    object \n",
      " 3   Development                    300 non-null    object \n",
      " 4   Emotions                       300 non-null    object \n",
      " 5   Fallen Affect                  300 non-null    float64\n",
      " 6   J Signal Mixing                221 non-null    object \n",
      " 7   P Signal Mixing                219 non-null    object \n",
      " 8   Sex                            300 non-null    object \n",
      " 9   Age Range                      300 non-null    object \n",
      " 10  Geography                      300 non-null    object \n",
      " 11  Ethnicity                      300 non-null    object \n",
      " 12  R1 Rigid Posture               300 non-null    float64\n",
      " 13  R2 Face Centric                300 non-null    float64\n",
      " 14  R3 Punctuated Motions          300 non-null    float64\n",
      " 15  R4 Vertical Movements          300 non-null    float64\n",
      " 16  R5 Subordinate Fluidity        300 non-null    float64\n",
      " 17  F1 Fluid Posture               300 non-null    float64\n",
      " 18  F2 Eye Centric                 300 non-null    float64\n",
      " 19  F3 Gliding Motions             300 non-null    float64\n",
      " 20  F4 Horizontal Movements        300 non-null    float64\n",
      " 21  F5 Subordinate Rigidity        300 non-null    float64\n",
      " 22  PF1 Restless Momentum          300 non-null    float64\n",
      " 23  PF2 Toggling Eyes              300 non-null    float64\n",
      " 24  PF3 Body Swaying               300 non-null    float64\n",
      " 25  PF4 Casual Hands               300 non-null    float64\n",
      " 26  PF5 Alert Perk Ups             300 non-null    float64\n",
      " 27  RF1 Viscous Inertia            300 non-null    float64\n",
      " 28  RF2 Fixed Gaze                 300 non-null    float64\n",
      " 29  RF3 Diagonal Eye Drifts        300 non-null    float64\n",
      " 30  RF4 Searching Scowling         300 non-null    float64\n",
      " 31  RF5 Narrow Head Zoning         300 non-null    float64\n",
      " 32  PR1 Head Pushes                300 non-null    float64\n",
      " 33  PR2 Head Shakes                300 non-null    float64\n",
      " 34  PR3 Shoulder Shrugs            300 non-null    float64\n",
      " 35  PR4 Fluent Articulation        300 non-null    float64\n",
      " 36  PR5 Projecting Hands           300 non-null    float64\n",
      " 37  RR1 Poised Receding            300 non-null    float64\n",
      " 38  RR2 Disengaging Eyes           300 non-null    float64\n",
      " 39  RR3 Exerted Pushes             300 non-null    float64\n",
      " 40  RR4 Momentum Halting           300 non-null    float64\n",
      " 41  RR5 Meticulous Hands           300 non-null    float64\n",
      " 42  CA1 Taut Nasolabial Area       300 non-null    float64\n",
      " 43  CA2 Vertical Snarling Smiles   300 non-null    float64\n",
      " 44  CA3 Four Point Pulling         300 non-null    float64\n",
      " 45  CA4 Wobbling Lips              300 non-null    float64\n",
      " 46  CA5 Asymmetrical Smirks        300 non-null    float64\n",
      " 47  CA6 Sassy Movements            300 non-null    float64\n",
      " 48  CA7 Plateau Velocity           300 non-null    float64\n",
      " 49  CA8 Nasal Breathy Voice        300 non-null    float64\n",
      " 50  CA9 Grasping Hands             300 non-null    float64\n",
      " 51  MS1 Lax Nasolabial Area        300 non-null    float64\n",
      " 52  MS2 Horizontal Curtain Smiles  300 non-null    float64\n",
      " 53  MS3 Two Point Pulling          300 non-null    float64\n",
      " 54  MS4 Symmetrical Lips           300 non-null    float64\n",
      " 55  MS5 Emotional Neutralization   300 non-null    float64\n",
      " 56  MS6 Coordinated Movements      300 non-null    float64\n",
      " 57  MS7 Parabolic Velocity         300 non-null    float64\n",
      " 58  MS8 Laryngeal Faint Voice      300 non-null    float64\n",
      " 59  MS9 Puppeteer Hands            300 non-null    float64\n",
      " 60  GR1 Taut Preseptal Area        300 non-null    float64\n",
      " 61  GR2 Lax Pretarsal Area         300 non-null    float64\n",
      " 62  GR3 Taut Outer Edges           300 non-null    float64\n",
      " 63  GR4 Intense Scowling           300 non-null    float64\n",
      " 64  GR5 Pointed Eye Toggles        300 non-null    float64\n",
      " 65  GR6 Eye Head Parallel Motion   300 non-null    float64\n",
      " 66  GR7 Grounding Effect           300 non-null    float64\n",
      " 67  GR8 Bodily Awareness           300 non-null    float64\n",
      " 68  SU1 Lax Preseptal Area         300 non-null    float64\n",
      " 69  SU2 Taut Pretarsal Area        300 non-null    float64\n",
      " 70  SU3 Lax Outer Edges            300 non-null    float64\n",
      " 71  SU4 Concerned Scowling         300 non-null    float64\n",
      " 72  SU5 Brushstrokes Eye Toggles   300 non-null    float64\n",
      " 73  SU6 Eye Head Trailing Motions  300 non-null    float64\n",
      " 74  SU7 Levity Effect              300 non-null    float64\n",
      " 75  SU8 Quirky Skits               300 non-null    float64\n",
      " 76  EU1 Responsive Nodding         300 non-null    float64\n",
      " 77  EU2 Polite Smiling             300 non-null    float64\n",
      " 78  EU3 Bashful Body Movements     300 non-null    float64\n",
      " 79  EG1 Upset Mouth Tension        300 non-null    float64\n",
      " 80  EG2 Assertive Pushing          300 non-null    float64\n",
      " 81  EG3 Stern Expressions          300 non-null    float64\n",
      " 82  sum                            300 non-null    float64\n",
      " 83  Lead Energetic                 300 non-null    object \n",
      " 84  Quadra                         300 non-null    object \n",
      " 85  Candid Score                   300 non-null    float64\n",
      " 86  Measured Score                 300 non-null    float64\n",
      " 87  Grounded Score                 300 non-null    float64\n",
      " 88  Suspended Score                300 non-null    float64\n",
      " 89  J-Axis Coordinate              300 non-null    float64\n",
      " 90  P-Axis Coordinate              300 non-null    float64\n",
      "dtypes: float64(78), object(13)\n",
      "memory usage: 215.6+ KB\n"
     ]
    }
   ],
   "source": [
    "mask = (lapis_df['Candid Score'] > 0) & (lapis_df['Measured Score'] > 0) & (lapis_df['Grounded Score'] > 0) & (lapis_df['Suspended Score'] > 0)\n",
    "lapis_df = lapis_df[mask]\n",
    "lapis_df.info()"
   ]
  },
  {
   "cell_type": "markdown",
   "metadata": {},
   "source": [
    "So there are exactly 300 samples left which don't have any 0 values for quadra signals, how amusing"
   ]
  },
  {
   "cell_type": "code",
   "execution_count": 15,
   "metadata": {},
   "outputs": [
    {
     "data": {
      "text/html": [
       "<div>\n",
       "<style scoped>\n",
       "    .dataframe tbody tr th:only-of-type {\n",
       "        vertical-align: middle;\n",
       "    }\n",
       "\n",
       "    .dataframe tbody tr th {\n",
       "        vertical-align: top;\n",
       "    }\n",
       "\n",
       "    .dataframe thead th {\n",
       "        text-align: right;\n",
       "    }\n",
       "</style>\n",
       "<table border=\"1\" class=\"dataframe\">\n",
       "  <thead>\n",
       "    <tr style=\"text-align: right;\">\n",
       "      <th></th>\n",
       "      <th>J-Axis Coordinate</th>\n",
       "      <th>P-Axis Coordinate</th>\n",
       "    </tr>\n",
       "  </thead>\n",
       "  <tbody>\n",
       "    <tr>\n",
       "      <th>count</th>\n",
       "      <td>300.000000</td>\n",
       "      <td>300.000000</td>\n",
       "    </tr>\n",
       "    <tr>\n",
       "      <th>mean</th>\n",
       "      <td>0.073718</td>\n",
       "      <td>-0.120058</td>\n",
       "    </tr>\n",
       "    <tr>\n",
       "      <th>std</th>\n",
       "      <td>0.621550</td>\n",
       "      <td>0.606816</td>\n",
       "    </tr>\n",
       "    <tr>\n",
       "      <th>min</th>\n",
       "      <td>-0.921569</td>\n",
       "      <td>-0.923077</td>\n",
       "    </tr>\n",
       "    <tr>\n",
       "      <th>25%</th>\n",
       "      <td>-0.505000</td>\n",
       "      <td>-0.692308</td>\n",
       "    </tr>\n",
       "    <tr>\n",
       "      <th>50%</th>\n",
       "      <td>0.222001</td>\n",
       "      <td>-0.289674</td>\n",
       "    </tr>\n",
       "    <tr>\n",
       "      <th>75%</th>\n",
       "      <td>0.686275</td>\n",
       "      <td>0.492021</td>\n",
       "    </tr>\n",
       "    <tr>\n",
       "      <th>max</th>\n",
       "      <td>0.923077</td>\n",
       "      <td>0.918367</td>\n",
       "    </tr>\n",
       "  </tbody>\n",
       "</table>\n",
       "</div>"
      ],
      "text/plain": [
       "       J-Axis Coordinate  P-Axis Coordinate\n",
       "count         300.000000         300.000000\n",
       "mean            0.073718          -0.120058\n",
       "std             0.621550           0.606816\n",
       "min            -0.921569          -0.923077\n",
       "25%            -0.505000          -0.692308\n",
       "50%             0.222001          -0.289674\n",
       "75%             0.686275           0.492021\n",
       "max             0.923077           0.918367"
      ]
     },
     "execution_count": 15,
     "metadata": {},
     "output_type": "execute_result"
    }
   ],
   "source": [
    "lapis_df.iloc[:, 89:].describe()"
   ]
  },
  {
   "cell_type": "code",
   "execution_count": 16,
   "metadata": {},
   "outputs": [
    {
     "data": {
      "image/png": "[encoded data removed]",
      "text/plain": [
       "<Figure size 432x288 with 1 Axes>"
      ]
     },
     "metadata": {
      "needs_background": "light"
     },
     "output_type": "display_data"
    }
   ],
   "source": [
    "lapis_df['J-Axis Coordinate'].hist(bins=10);"
   ]
  },
  {
   "cell_type": "code",
   "execution_count": 17,
   "metadata": {},
   "outputs": [
    {
     "data": {
      "image/png": "[encoded data removed]",
      "text/plain": [
       "<Figure size 432x288 with 1 Axes>"
      ]
     },
     "metadata": {
      "needs_background": "light"
     },
     "output_type": "display_data"
    }
   ],
   "source": [
    "lapis_df['P-Axis Coordinate'].hist(bins=10);"
   ]
  },
  {
   "cell_type": "markdown",
   "metadata": {},
   "source": [
    "It's still odd how many samples there are near half of the extremes, whereas the other half looks almost bimodal, in both histograms\n",
    "\n",
    "Let's try more bins again"
   ]
  },
  {
   "cell_type": "code",
   "execution_count": 18,
   "metadata": {},
   "outputs": [
    {
     "data": {
      "image/png": "[encoded data removed]",
      "text/plain": [
       "<Figure size 432x288 with 1 Axes>"
      ]
     },
     "metadata": {
      "needs_background": "light"
     },
     "output_type": "display_data"
    }
   ],
   "source": [
    "lapis_df['J-Axis Coordinate'].hist(bins=20);"
   ]
  },
  {
   "cell_type": "code",
   "execution_count": 19,
   "metadata": {},
   "outputs": [
    {
     "data": {
      "image/png": "[encoded data removed]",
      "text/plain": [
       "<Figure size 432x288 with 1 Axes>"
      ]
     },
     "metadata": {
      "needs_background": "light"
     },
     "output_type": "display_data"
    }
   ],
   "source": [
    "lapis_df['P-Axis Coordinate'].hist(bins=20);"
   ]
  },
  {
   "cell_type": "markdown",
   "metadata": {},
   "source": [
    "Yeah, it's still something pretty strange, to the point that I don't even know if only including the interval (-0.9, 0.9) will help that much, and I don't know what other interval might improve things (maybe 0.75 to -0.75?)"
   ]
  },
  {
   "cell_type": "code",
   "execution_count": 20,
   "metadata": {},
   "outputs": [
    {
     "name": "stdout",
     "output_type": "stream",
     "text": [
      "<class 'pandas.core.frame.DataFrame'>\n",
      "Int64Index: 266 entries, 3 to 497\n",
      "Data columns (total 91 columns):\n",
      " #   Column                         Non-Null Count  Dtype  \n",
      "---  ------                         --------------  -----  \n",
      " 0   Sample Name                    266 non-null    object \n",
      " 1   Vultologist                    266 non-null    object \n",
      " 2   Type                           266 non-null    object \n",
      " 3   Development                    266 non-null    object \n",
      " 4   Emotions                       266 non-null    object \n",
      " 5   Fallen Affect                  266 non-null    float64\n",
      " 6   J Signal Mixing                202 non-null    object \n",
      " 7   P Signal Mixing                200 non-null    object \n",
      " 8   Sex                            266 non-null    object \n",
      " 9   Age Range                      266 non-null    object \n",
      " 10  Geography                      266 non-null    object \n",
      " 11  Ethnicity                      266 non-null    object \n",
      " 12  R1 Rigid Posture               266 non-null    float64\n",
      " 13  R2 Face Centric                266 non-null    float64\n",
      " 14  R3 Punctuated Motions          266 non-null    float64\n",
      " 15  R4 Vertical Movements          266 non-null    float64\n",
      " 16  R5 Subordinate Fluidity        266 non-null    float64\n",
      " 17  F1 Fluid Posture               266 non-null    float64\n",
      " 18  F2 Eye Centric                 266 non-null    float64\n",
      " 19  F3 Gliding Motions             266 non-null    float64\n",
      " 20  F4 Horizontal Movements        266 non-null    float64\n",
      " 21  F5 Subordinate Rigidity        266 non-null    float64\n",
      " 22  PF1 Restless Momentum          266 non-null    float64\n",
      " 23  PF2 Toggling Eyes              266 non-null    float64\n",
      " 24  PF3 Body Swaying               266 non-null    float64\n",
      " 25  PF4 Casual Hands               266 non-null    float64\n",
      " 26  PF5 Alert Perk Ups             266 non-null    float64\n",
      " 27  RF1 Viscous Inertia            266 non-null    float64\n",
      " 28  RF2 Fixed Gaze                 266 non-null    float64\n",
      " 29  RF3 Diagonal Eye Drifts        266 non-null    float64\n",
      " 30  RF4 Searching Scowling         266 non-null    float64\n",
      " 31  RF5 Narrow Head Zoning         266 non-null    float64\n",
      " 32  PR1 Head Pushes                266 non-null    float64\n",
      " 33  PR2 Head Shakes                266 non-null    float64\n",
      " 34  PR3 Shoulder Shrugs            266 non-null    float64\n",
      " 35  PR4 Fluent Articulation        266 non-null    float64\n",
      " 36  PR5 Projecting Hands           266 non-null    float64\n",
      " 37  RR1 Poised Receding            266 non-null    float64\n",
      " 38  RR2 Disengaging Eyes           266 non-null    float64\n",
      " 39  RR3 Exerted Pushes             266 non-null    float64\n",
      " 40  RR4 Momentum Halting           266 non-null    float64\n",
      " 41  RR5 Meticulous Hands           266 non-null    float64\n",
      " 42  CA1 Taut Nasolabial Area       266 non-null    float64\n",
      " 43  CA2 Vertical Snarling Smiles   266 non-null    float64\n",
      " 44  CA3 Four Point Pulling         266 non-null    float64\n",
      " 45  CA4 Wobbling Lips              266 non-null    float64\n",
      " 46  CA5 Asymmetrical Smirks        266 non-null    float64\n",
      " 47  CA6 Sassy Movements            266 non-null    float64\n",
      " 48  CA7 Plateau Velocity           266 non-null    float64\n",
      " 49  CA8 Nasal Breathy Voice        266 non-null    float64\n",
      " 50  CA9 Grasping Hands             266 non-null    float64\n",
      " 51  MS1 Lax Nasolabial Area        266 non-null    float64\n",
      " 52  MS2 Horizontal Curtain Smiles  266 non-null    float64\n",
      " 53  MS3 Two Point Pulling          266 non-null    float64\n",
      " 54  MS4 Symmetrical Lips           266 non-null    float64\n",
      " 55  MS5 Emotional Neutralization   266 non-null    float64\n",
      " 56  MS6 Coordinated Movements      266 non-null    float64\n",
      " 57  MS7 Parabolic Velocity         266 non-null    float64\n",
      " 58  MS8 Laryngeal Faint Voice      266 non-null    float64\n",
      " 59  MS9 Puppeteer Hands            266 non-null    float64\n",
      " 60  GR1 Taut Preseptal Area        266 non-null    float64\n",
      " 61  GR2 Lax Pretarsal Area         266 non-null    float64\n",
      " 62  GR3 Taut Outer Edges           266 non-null    float64\n",
      " 63  GR4 Intense Scowling           266 non-null    float64\n",
      " 64  GR5 Pointed Eye Toggles        266 non-null    float64\n",
      " 65  GR6 Eye Head Parallel Motion   266 non-null    float64\n",
      " 66  GR7 Grounding Effect           266 non-null    float64\n",
      " 67  GR8 Bodily Awareness           266 non-null    float64\n",
      " 68  SU1 Lax Preseptal Area         266 non-null    float64\n",
      " 69  SU2 Taut Pretarsal Area        266 non-null    float64\n",
      " 70  SU3 Lax Outer Edges            266 non-null    float64\n",
      " 71  SU4 Concerned Scowling         266 non-null    float64\n",
      " 72  SU5 Brushstrokes Eye Toggles   266 non-null    float64\n",
      " 73  SU6 Eye Head Trailing Motions  266 non-null    float64\n",
      " 74  SU7 Levity Effect              266 non-null    float64\n",
      " 75  SU8 Quirky Skits               266 non-null    float64\n",
      " 76  EU1 Responsive Nodding         266 non-null    float64\n",
      " 77  EU2 Polite Smiling             266 non-null    float64\n",
      " 78  EU3 Bashful Body Movements     266 non-null    float64\n",
      " 79  EG1 Upset Mouth Tension        266 non-null    float64\n",
      " 80  EG2 Assertive Pushing          266 non-null    float64\n",
      " 81  EG3 Stern Expressions          266 non-null    float64\n",
      " 82  sum                            266 non-null    float64\n",
      " 83  Lead Energetic                 266 non-null    object \n",
      " 84  Quadra                         266 non-null    object \n",
      " 85  Candid Score                   266 non-null    float64\n",
      " 86  Measured Score                 266 non-null    float64\n",
      " 87  Grounded Score                 266 non-null    float64\n",
      " 88  Suspended Score                266 non-null    float64\n",
      " 89  J-Axis Coordinate              266 non-null    float64\n",
      " 90  P-Axis Coordinate              266 non-null    float64\n",
      "dtypes: float64(78), object(13)\n",
      "memory usage: 191.2+ KB\n"
     ]
    }
   ],
   "source": [
    "mask = (lapis_df['J-Axis Coordinate'] > -0.9) & (lapis_df['J-Axis Coordinate'] < 0.9) & (lapis_df['P-Axis Coordinate'] > -0.9) & (lapis_df['P-Axis Coordinate'] < 0.9)\n",
    "lapis_df = lapis_df[mask]\n",
    "lapis_df.info()"
   ]
  },
  {
   "cell_type": "markdown",
   "metadata": {},
   "source": [
    "That removed another 34 samples"
   ]
  },
  {
   "cell_type": "code",
   "execution_count": 21,
   "metadata": {},
   "outputs": [
    {
     "data": {
      "text/html": [
       "<div>\n",
       "<style scoped>\n",
       "    .dataframe tbody tr th:only-of-type {\n",
       "        vertical-align: middle;\n",
       "    }\n",
       "\n",
       "    .dataframe tbody tr th {\n",
       "        vertical-align: top;\n",
       "    }\n",
       "\n",
       "    .dataframe thead th {\n",
       "        text-align: right;\n",
       "    }\n",
       "</style>\n",
       "<table border=\"1\" class=\"dataframe\">\n",
       "  <thead>\n",
       "    <tr style=\"text-align: right;\">\n",
       "      <th></th>\n",
       "      <th>J-Axis Coordinate</th>\n",
       "      <th>P-Axis Coordinate</th>\n",
       "    </tr>\n",
       "  </thead>\n",
       "  <tbody>\n",
       "    <tr>\n",
       "      <th>count</th>\n",
       "      <td>266.000000</td>\n",
       "      <td>266.000000</td>\n",
       "    </tr>\n",
       "    <tr>\n",
       "      <th>mean</th>\n",
       "      <td>0.040422</td>\n",
       "      <td>-0.114996</td>\n",
       "    </tr>\n",
       "    <tr>\n",
       "      <th>std</th>\n",
       "      <td>0.590247</td>\n",
       "      <td>0.589496</td>\n",
       "    </tr>\n",
       "    <tr>\n",
       "      <th>min</th>\n",
       "      <td>-0.891892</td>\n",
       "      <td>-0.894737</td>\n",
       "    </tr>\n",
       "    <tr>\n",
       "      <th>25%</th>\n",
       "      <td>-0.500000</td>\n",
       "      <td>-0.666667</td>\n",
       "    </tr>\n",
       "    <tr>\n",
       "      <th>50%</th>\n",
       "      <td>0.123123</td>\n",
       "      <td>-0.275172</td>\n",
       "    </tr>\n",
       "    <tr>\n",
       "      <th>75%</th>\n",
       "      <td>0.607317</td>\n",
       "      <td>0.465385</td>\n",
       "    </tr>\n",
       "    <tr>\n",
       "      <th>max</th>\n",
       "      <td>0.894737</td>\n",
       "      <td>0.882353</td>\n",
       "    </tr>\n",
       "  </tbody>\n",
       "</table>\n",
       "</div>"
      ],
      "text/plain": [
       "       J-Axis Coordinate  P-Axis Coordinate\n",
       "count         266.000000         266.000000\n",
       "mean            0.040422          -0.114996\n",
       "std             0.590247           0.589496\n",
       "min            -0.891892          -0.894737\n",
       "25%            -0.500000          -0.666667\n",
       "50%             0.123123          -0.275172\n",
       "75%             0.607317           0.465385\n",
       "max             0.894737           0.882353"
      ]
     },
     "execution_count": 21,
     "metadata": {},
     "output_type": "execute_result"
    }
   ],
   "source": [
    "lapis_df.iloc[:, 89:].describe()"
   ]
  },
  {
   "cell_type": "code",
   "execution_count": 22,
   "metadata": {},
   "outputs": [
    {
     "data": {
      "image/png": "[encoded data removed]",
      "text/plain": [
       "<Figure size 432x288 with 1 Axes>"
      ]
     },
     "metadata": {
      "needs_background": "light"
     },
     "output_type": "display_data"
    }
   ],
   "source": [
    "lapis_df['J-Axis Coordinate'].hist(bins=10);"
   ]
  },
  {
   "cell_type": "code",
   "execution_count": 23,
   "metadata": {},
   "outputs": [
    {
     "data": {
      "image/png": "[encoded data removed]",
      "text/plain": [
       "<Figure size 432x288 with 1 Axes>"
      ]
     },
     "metadata": {
      "needs_background": "light"
     },
     "output_type": "display_data"
    }
   ],
   "source": [
    "lapis_df['P-Axis Coordinate'].hist(bins=10);"
   ]
  },
  {
   "cell_type": "code",
   "execution_count": 24,
   "metadata": {},
   "outputs": [
    {
     "data": {
      "image/png": "[encoded data removed]",
      "text/plain": [
       "<Figure size 432x288 with 1 Axes>"
      ]
     },
     "metadata": {
      "needs_background": "light"
     },
     "output_type": "display_data"
    }
   ],
   "source": [
    "lapis_df['J-Axis Coordinate'].hist(bins=20);"
   ]
  },
  {
   "cell_type": "code",
   "execution_count": 25,
   "metadata": {},
   "outputs": [
    {
     "data": {
      "image/png": "[encoded data removed]",
      "text/plain": [
       "<Figure size 432x288 with 1 Axes>"
      ]
     },
     "metadata": {
      "needs_background": "light"
     },
     "output_type": "display_data"
    }
   ],
   "source": [
    "lapis_df['P-Axis Coordinate'].hist(bins=20);"
   ]
  },
  {
   "cell_type": "markdown",
   "metadata": {},
   "source": [
    "It's just noticeably smoother and less extreme this way, which is good! Though it also reduces the sample size and excludes potentially valuable data, so I'm not sure where the cutoff line should be. I also think a lot of these samples with 0 scores should be re-investigated to check whether they truly have 0 signals or whether one axis was just ignored because \"the type was obvious in a gestalt\" (not an unreasonable perspective for the amount of effort needed for an accurate diagnostic, but also not the best perspective for producing thorough reports, which can sometimes be opposed incentives)\n",
    "\n",
    "This is a good insight actually: the incentives for producing the most accurate diagnostic with the least effort, and the incentive of producing the most unbiased and accurate vultology report, are opposed, and that has to be kept in mind when writing vultology reports of the highest quality"
   ]
  },
  {
   "cell_type": "markdown",
   "metadata": {},
   "source": [
    "I'd also like to check the .75 bounded interval, then I'll stop for now and make a choice since some of this may come down to data quality"
   ]
  },
  {
   "cell_type": "code",
   "execution_count": 26,
   "metadata": {},
   "outputs": [
    {
     "name": "stdout",
     "output_type": "stream",
     "text": [
      "<class 'pandas.core.frame.DataFrame'>\n",
      "Int64Index: 147 entries, 3 to 470\n",
      "Data columns (total 91 columns):\n",
      " #   Column                         Non-Null Count  Dtype  \n",
      "---  ------                         --------------  -----  \n",
      " 0   Sample Name                    147 non-null    object \n",
      " 1   Vultologist                    147 non-null    object \n",
      " 2   Type                           147 non-null    object \n",
      " 3   Development                    147 non-null    object \n",
      " 4   Emotions                       147 non-null    object \n",
      " 5   Fallen Affect                  147 non-null    float64\n",
      " 6   J Signal Mixing                125 non-null    object \n",
      " 7   P Signal Mixing                124 non-null    object \n",
      " 8   Sex                            147 non-null    object \n",
      " 9   Age Range                      147 non-null    object \n",
      " 10  Geography                      147 non-null    object \n",
      " 11  Ethnicity                      147 non-null    object \n",
      " 12  R1 Rigid Posture               147 non-null    float64\n",
      " 13  R2 Face Centric                147 non-null    float64\n",
      " 14  R3 Punctuated Motions          147 non-null    float64\n",
      " 15  R4 Vertical Movements          147 non-null    float64\n",
      " 16  R5 Subordinate Fluidity        147 non-null    float64\n",
      " 17  F1 Fluid Posture               147 non-null    float64\n",
      " 18  F2 Eye Centric                 147 non-null    float64\n",
      " 19  F3 Gliding Motions             147 non-null    float64\n",
      " 20  F4 Horizontal Movements        147 non-null    float64\n",
      " 21  F5 Subordinate Rigidity        147 non-null    float64\n",
      " 22  PF1 Restless Momentum          147 non-null    float64\n",
      " 23  PF2 Toggling Eyes              147 non-null    float64\n",
      " 24  PF3 Body Swaying               147 non-null    float64\n",
      " 25  PF4 Casual Hands               147 non-null    float64\n",
      " 26  PF5 Alert Perk Ups             147 non-null    float64\n",
      " 27  RF1 Viscous Inertia            147 non-null    float64\n",
      " 28  RF2 Fixed Gaze                 147 non-null    float64\n",
      " 29  RF3 Diagonal Eye Drifts        147 non-null    float64\n",
      " 30  RF4 Searching Scowling         147 non-null    float64\n",
      " 31  RF5 Narrow Head Zoning         147 non-null    float64\n",
      " 32  PR1 Head Pushes                147 non-null    float64\n",
      " 33  PR2 Head Shakes                147 non-null    float64\n",
      " 34  PR3 Shoulder Shrugs            147 non-null    float64\n",
      " 35  PR4 Fluent Articulation        147 non-null    float64\n",
      " 36  PR5 Projecting Hands           147 non-null    float64\n",
      " 37  RR1 Poised Receding            147 non-null    float64\n",
      " 38  RR2 Disengaging Eyes           147 non-null    float64\n",
      " 39  RR3 Exerted Pushes             147 non-null    float64\n",
      " 40  RR4 Momentum Halting           147 non-null    float64\n",
      " 41  RR5 Meticulous Hands           147 non-null    float64\n",
      " 42  CA1 Taut Nasolabial Area       147 non-null    float64\n",
      " 43  CA2 Vertical Snarling Smiles   147 non-null    float64\n",
      " 44  CA3 Four Point Pulling         147 non-null    float64\n",
      " 45  CA4 Wobbling Lips              147 non-null    float64\n",
      " 46  CA5 Asymmetrical Smirks        147 non-null    float64\n",
      " 47  CA6 Sassy Movements            147 non-null    float64\n",
      " 48  CA7 Plateau Velocity           147 non-null    float64\n",
      " 49  CA8 Nasal Breathy Voice        147 non-null    float64\n",
      " 50  CA9 Grasping Hands             147 non-null    float64\n",
      " 51  MS1 Lax Nasolabial Area        147 non-null    float64\n",
      " 52  MS2 Horizontal Curtain Smiles  147 non-null    float64\n",
      " 53  MS3 Two Point Pulling          147 non-null    float64\n",
      " 54  MS4 Symmetrical Lips           147 non-null    float64\n",
      " 55  MS5 Emotional Neutralization   147 non-null    float64\n",
      " 56  MS6 Coordinated Movements      147 non-null    float64\n",
      " 57  MS7 Parabolic Velocity         147 non-null    float64\n",
      " 58  MS8 Laryngeal Faint Voice      147 non-null    float64\n",
      " 59  MS9 Puppeteer Hands            147 non-null    float64\n",
      " 60  GR1 Taut Preseptal Area        147 non-null    float64\n",
      " 61  GR2 Lax Pretarsal Area         147 non-null    float64\n",
      " 62  GR3 Taut Outer Edges           147 non-null    float64\n",
      " 63  GR4 Intense Scowling           147 non-null    float64\n",
      " 64  GR5 Pointed Eye Toggles        147 non-null    float64\n",
      " 65  GR6 Eye Head Parallel Motion   147 non-null    float64\n",
      " 66  GR7 Grounding Effect           147 non-null    float64\n",
      " 67  GR8 Bodily Awareness           147 non-null    float64\n",
      " 68  SU1 Lax Preseptal Area         147 non-null    float64\n",
      " 69  SU2 Taut Pretarsal Area        147 non-null    float64\n",
      " 70  SU3 Lax Outer Edges            147 non-null    float64\n",
      " 71  SU4 Concerned Scowling         147 non-null    float64\n",
      " 72  SU5 Brushstrokes Eye Toggles   147 non-null    float64\n",
      " 73  SU6 Eye Head Trailing Motions  147 non-null    float64\n",
      " 74  SU7 Levity Effect              147 non-null    float64\n",
      " 75  SU8 Quirky Skits               147 non-null    float64\n",
      " 76  EU1 Responsive Nodding         147 non-null    float64\n",
      " 77  EU2 Polite Smiling             147 non-null    float64\n",
      " 78  EU3 Bashful Body Movements     147 non-null    float64\n",
      " 79  EG1 Upset Mouth Tension        147 non-null    float64\n",
      " 80  EG2 Assertive Pushing          147 non-null    float64\n",
      " 81  EG3 Stern Expressions          147 non-null    float64\n",
      " 82  sum                            147 non-null    float64\n",
      " 83  Lead Energetic                 147 non-null    object \n",
      " 84  Quadra                         147 non-null    object \n",
      " 85  Candid Score                   147 non-null    float64\n",
      " 86  Measured Score                 147 non-null    float64\n",
      " 87  Grounded Score                 147 non-null    float64\n",
      " 88  Suspended Score                147 non-null    float64\n",
      " 89  J-Axis Coordinate              147 non-null    float64\n",
      " 90  P-Axis Coordinate              147 non-null    float64\n",
      "dtypes: float64(78), object(13)\n",
      "memory usage: 105.7+ KB\n"
     ]
    }
   ],
   "source": [
    "mask = (lapis_df['J-Axis Coordinate'] > -0.75) & (lapis_df['J-Axis Coordinate'] < 0.75) & (lapis_df['P-Axis Coordinate'] > -0.75) & (lapis_df['P-Axis Coordinate'] < 0.75)\n",
    "lapis_df = lapis_df[mask]\n",
    "lapis_df.info()"
   ]
  },
  {
   "cell_type": "markdown",
   "metadata": {},
   "source": [
    "Now we're down to a quite small dataset with fewer than 150 samples"
   ]
  },
  {
   "cell_type": "code",
   "execution_count": 27,
   "metadata": {},
   "outputs": [
    {
     "data": {
      "image/png": "[encoded data removed]",
      "text/plain": [
       "<Figure size 432x288 with 1 Axes>"
      ]
     },
     "metadata": {
      "needs_background": "light"
     },
     "output_type": "display_data"
    }
   ],
   "source": [
    "lapis_df['J-Axis Coordinate'].hist(bins=10);"
   ]
  },
  {
   "cell_type": "code",
   "execution_count": 28,
   "metadata": {},
   "outputs": [
    {
     "data": {
      "image/png": "[encoded data removed]",
      "text/plain": [
       "<Figure size 432x288 with 1 Axes>"
      ]
     },
     "metadata": {
      "needs_background": "light"
     },
     "output_type": "display_data"
    }
   ],
   "source": [
    "lapis_df['P-Axis Coordinate'].hist(bins=10);"
   ]
  },
  {
   "cell_type": "code",
   "execution_count": 29,
   "metadata": {},
   "outputs": [
    {
     "data": {
      "image/png": "[encoded data removed]",
      "text/plain": [
       "<Figure size 432x288 with 1 Axes>"
      ]
     },
     "metadata": {
      "needs_background": "light"
     },
     "output_type": "display_data"
    }
   ],
   "source": [
    "lapis_df['J-Axis Coordinate'].hist(bins=20);"
   ]
  },
  {
   "cell_type": "code",
   "execution_count": 30,
   "metadata": {},
   "outputs": [
    {
     "data": {
      "image/png": "[encoded data removed]",
      "text/plain": [
       "<Figure size 432x288 with 1 Axes>"
      ]
     },
     "metadata": {
      "needs_background": "light"
     },
     "output_type": "display_data"
    }
   ],
   "source": [
    "lapis_df['P-Axis Coordinate'].hist(bins=20);"
   ]
  },
  {
   "cell_type": "markdown",
   "metadata": {},
   "source": [
    "Although these are smoother, they don't impress me with their bimodality, since there are still significant extremes at the ends, gaps, etc.\n",
    "\n",
    "So I'll probably just go with the original idea for the Lapis cut, but analyzing these possibilities definitely highlights potential issues with the distributions of the quadra signals which are possibly something vultologists should address or look into, either that or we need to think harder about why the distribution of signals looks the way that it does"
   ]
  },
  {
   "cell_type": "code",
   "execution_count": 31,
   "metadata": {},
   "outputs": [
    {
     "name": "stdout",
     "output_type": "stream",
     "text": [
      "<class 'pandas.core.frame.DataFrame'>\n",
      "Int64Index: 266 entries, 3 to 497\n",
      "Data columns (total 91 columns):\n",
      " #   Column                         Non-Null Count  Dtype  \n",
      "---  ------                         --------------  -----  \n",
      " 0   Sample Name                    266 non-null    object \n",
      " 1   Vultologist                    266 non-null    object \n",
      " 2   Type                           266 non-null    object \n",
      " 3   Development                    266 non-null    object \n",
      " 4   Emotions                       266 non-null    object \n",
      " 5   Fallen Affect                  266 non-null    float64\n",
      " 6   J Signal Mixing                202 non-null    object \n",
      " 7   P Signal Mixing                200 non-null    object \n",
      " 8   Sex                            266 non-null    object \n",
      " 9   Age Range                      266 non-null    object \n",
      " 10  Geography                      266 non-null    object \n",
      " 11  Ethnicity                      266 non-null    object \n",
      " 12  R1 Rigid Posture               266 non-null    float64\n",
      " 13  R2 Face Centric                266 non-null    float64\n",
      " 14  R3 Punctuated Motions          266 non-null    float64\n",
      " 15  R4 Vertical Movements          266 non-null    float64\n",
      " 16  R5 Subordinate Fluidity        266 non-null    float64\n",
      " 17  F1 Fluid Posture               266 non-null    float64\n",
      " 18  F2 Eye Centric                 266 non-null    float64\n",
      " 19  F3 Gliding Motions             266 non-null    float64\n",
      " 20  F4 Horizontal Movements        266 non-null    float64\n",
      " 21  F5 Subordinate Rigidity        266 non-null    float64\n",
      " 22  PF1 Restless Momentum          266 non-null    float64\n",
      " 23  PF2 Toggling Eyes              266 non-null    float64\n",
      " 24  PF3 Body Swaying               266 non-null    float64\n",
      " 25  PF4 Casual Hands               266 non-null    float64\n",
      " 26  PF5 Alert Perk Ups             266 non-null    float64\n",
      " 27  RF1 Viscous Inertia            266 non-null    float64\n",
      " 28  RF2 Fixed Gaze                 266 non-null    float64\n",
      " 29  RF3 Diagonal Eye Drifts        266 non-null    float64\n",
      " 30  RF4 Searching Scowling         266 non-null    float64\n",
      " 31  RF5 Narrow Head Zoning         266 non-null    float64\n",
      " 32  PR1 Head Pushes                266 non-null    float64\n",
      " 33  PR2 Head Shakes                266 non-null    float64\n",
      " 34  PR3 Shoulder Shrugs            266 non-null    float64\n",
      " 35  PR4 Fluent Articulation        266 non-null    float64\n",
      " 36  PR5 Projecting Hands           266 non-null    float64\n",
      " 37  RR1 Poised Receding            266 non-null    float64\n",
      " 38  RR2 Disengaging Eyes           266 non-null    float64\n",
      " 39  RR3 Exerted Pushes             266 non-null    float64\n",
      " 40  RR4 Momentum Halting           266 non-null    float64\n",
      " 41  RR5 Meticulous Hands           266 non-null    float64\n",
      " 42  CA1 Taut Nasolabial Area       266 non-null    float64\n",
      " 43  CA2 Vertical Snarling Smiles   266 non-null    float64\n",
      " 44  CA3 Four Point Pulling         266 non-null    float64\n",
      " 45  CA4 Wobbling Lips              266 non-null    float64\n",
      " 46  CA5 Asymmetrical Smirks        266 non-null    float64\n",
      " 47  CA6 Sassy Movements            266 non-null    float64\n",
      " 48  CA7 Plateau Velocity           266 non-null    float64\n",
      " 49  CA8 Nasal Breathy Voice        266 non-null    float64\n",
      " 50  CA9 Grasping Hands             266 non-null    float64\n",
      " 51  MS1 Lax Nasolabial Area        266 non-null    float64\n",
      " 52  MS2 Horizontal Curtain Smiles  266 non-null    float64\n",
      " 53  MS3 Two Point Pulling          266 non-null    float64\n",
      " 54  MS4 Symmetrical Lips           266 non-null    float64\n",
      " 55  MS5 Emotional Neutralization   266 non-null    float64\n",
      " 56  MS6 Coordinated Movements      266 non-null    float64\n",
      " 57  MS7 Parabolic Velocity         266 non-null    float64\n",
      " 58  MS8 Laryngeal Faint Voice      266 non-null    float64\n",
      " 59  MS9 Puppeteer Hands            266 non-null    float64\n",
      " 60  GR1 Taut Preseptal Area        266 non-null    float64\n",
      " 61  GR2 Lax Pretarsal Area         266 non-null    float64\n",
      " 62  GR3 Taut Outer Edges           266 non-null    float64\n",
      " 63  GR4 Intense Scowling           266 non-null    float64\n",
      " 64  GR5 Pointed Eye Toggles        266 non-null    float64\n",
      " 65  GR6 Eye Head Parallel Motion   266 non-null    float64\n",
      " 66  GR7 Grounding Effect           266 non-null    float64\n",
      " 67  GR8 Bodily Awareness           266 non-null    float64\n",
      " 68  SU1 Lax Preseptal Area         266 non-null    float64\n",
      " 69  SU2 Taut Pretarsal Area        266 non-null    float64\n",
      " 70  SU3 Lax Outer Edges            266 non-null    float64\n",
      " 71  SU4 Concerned Scowling         266 non-null    float64\n",
      " 72  SU5 Brushstrokes Eye Toggles   266 non-null    float64\n",
      " 73  SU6 Eye Head Trailing Motions  266 non-null    float64\n",
      " 74  SU7 Levity Effect              266 non-null    float64\n",
      " 75  SU8 Quirky Skits               266 non-null    float64\n",
      " 76  EU1 Responsive Nodding         266 non-null    float64\n",
      " 77  EU2 Polite Smiling             266 non-null    float64\n",
      " 78  EU3 Bashful Body Movements     266 non-null    float64\n",
      " 79  EG1 Upset Mouth Tension        266 non-null    float64\n",
      " 80  EG2 Assertive Pushing          266 non-null    float64\n",
      " 81  EG3 Stern Expressions          266 non-null    float64\n",
      " 82  sum                            266 non-null    float64\n",
      " 83  Lead Energetic                 266 non-null    object \n",
      " 84  Quadra                         266 non-null    object \n",
      " 85  Candid Score                   266 non-null    float64\n",
      " 86  Measured Score                 266 non-null    float64\n",
      " 87  Grounded Score                 266 non-null    float64\n",
      " 88  Suspended Score                266 non-null    float64\n",
      " 89  J-Axis Coordinate              266 non-null    float64\n",
      " 90  P-Axis Coordinate              266 non-null    float64\n",
      "dtypes: float64(78), object(13)\n",
      "memory usage: 191.2+ KB\n"
     ]
    }
   ],
   "source": [
    "lapis_df = pd.read_csv(\"../Data/Vultology_Database_2024-02-24_-_PlusAuthors_AuburnCut.csv\", index_col=0)\n",
    "lapis_df['Candid Score'] = lapis_df.iloc[:, 42:51].sum(axis=1)\n",
    "lapis_df['Measured Score'] = lapis_df.iloc[:, 51:60].sum(axis=1)\n",
    "lapis_df['Grounded Score'] = lapis_df.iloc[:, 60:68].sum(axis=1)\n",
    "lapis_df['Suspended Score'] = lapis_df.iloc[:, 68:76].sum(axis=1)\n",
    "lapis_df['J-Axis Coordinate'] = (lapis_df['Measured Score'] - lapis_df['Candid Score'])/(lapis_df['Measured Score'] + lapis_df['Candid Score'])\n",
    "lapis_df['P-Axis Coordinate'] = (lapis_df['Suspended Score'] - lapis_df['Grounded Score'])/(lapis_df['Suspended Score'] + lapis_df['Grounded Score'])\n",
    "mask = (lapis_df['J-Axis Coordinate'] > -0.9) & (lapis_df['J-Axis Coordinate'] < 0.9) & (lapis_df['P-Axis Coordinate'] > -0.9) & (lapis_df['P-Axis Coordinate'] < 0.9)\n",
    "lapis_df = lapis_df[mask]\n",
    "lapis_df.info()"
   ]
  },
  {
   "cell_type": "code",
   "execution_count": null,
   "metadata": {},
   "outputs": [],
   "source": []
  }
 ],
 "metadata": {
  "kernelspec": {
   "display_name": "Python 3",
   "language": "python",
   "name": "python3"
  },
  "language_info": {
   "codemirror_mode": {
    "name": "ipython",
    "version": 3
   },
   "file_extension": ".py",
   "mimetype": "text/x-python",
   "name": "python",
   "nbconvert_exporter": "python",
   "pygments_lexer": "ipython3",
   "version": "3.8.5"
  }
 },
 "nbformat": 4,
 "nbformat_minor": 4
}
