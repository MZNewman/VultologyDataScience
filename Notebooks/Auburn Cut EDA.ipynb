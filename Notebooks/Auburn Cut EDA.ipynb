{
 "cells": [
  {
   "cell_type": "markdown",
   "id": "c994e975-e1aa-43ec-a466-c4ab1cff3d1d",
   "metadata": {},
   "source": [
    "# Table of Contents\n",
    "- [Imports](#Imports)\n",
    "- [Plan](#Plan)\n",
    "- [Building the Auburn Cut](#Auburn)\n",
    "- [Kolmogorov-Smirnov Tests](#KS)\n",
    "- [Mann-Whitney Tests](#MW)\n",
    "- [Examining a Few Distributions](#Examining)\n",
    "- [Saving the Data](#Saving)"
   ]
  },
  {
   "cell_type": "markdown",
   "id": "8a1c476d-1136-497f-8095-e9f35973ee72",
   "metadata": {},
   "source": [
    "## Imports <a id=\"Imports\"></a>"
   ]
  },
  {
   "cell_type": "code",
   "execution_count": 1,
   "id": "2882172b-93d2-4c2e-98f2-0e99db51ff03",
   "metadata": {},
   "outputs": [],
   "source": [
    "import pandas as pd\n",
    "import matplotlib.pyplot as plt\n",
    "import seaborn as sns\n",
    "import numpy as np\n",
    "from distfit import distfit\n",
    "from scipy.stats import ks_2samp, mannwhitneyu"
   ]
  },
  {
   "cell_type": "markdown",
   "id": "16ca87af-3c73-4b13-8151-b6f5edf90c68",
   "metadata": {},
   "source": [
    "## Plan <a id=\"Plan\"></a>"
   ]
  },
  {
   "cell_type": "markdown",
   "id": "9891ed2c-f590-4791-b98f-ff70e7eb0063",
   "metadata": {},
   "source": [
    "I have three \"cuts\" of the data that I want to perform machine learning on:\n",
    "\n",
    "- all the usable data (i.e. excluding entries that don't have reports)\n",
    "\n",
    "- the \"Auburn\" cut, which should remove Vultology reports from authors that have 20 or fewer reports (since they are less experienced)\n",
    "\n",
    "- the \"Lapis\" cut, layered over the Auburn cut, which should take into account this analysis:\n",
    "\"I'm seeing something rather suspicious in the data. If I calculate P-axis coordinates with the formula (Suspended - Grounded )/(Suspended + Grounded ), which ranges from -1 (completely Grounded) to +1 (completely Suspended), then there are 90 samples with -1, i.e., Grounded with zero signal mixing.  However, there are only 8 samples in the (-1, -0.9] interval.  In the (-0.9, 0.8] interval there are 40 samples. IMO that strongly suggests that many of those Grounded samples with zero P-axis signal mixing have neglected Suspended signals. The other end of the spectrum also looks suspicious, though it's less extreme. \n",
    "There are 36 samples with P-axis coordinates of 1 (Suspended with zero signal mixing), only 3 samples in the [0.9, 1) interval, but 26 samples in the [0.8, 0.9) interval. As for J-axis coordinates, (Measured - Candid)/(Measured + Candid), there are 55 samples with coordinates of 1 (Measured with zero signal mixing), 23 samples in the [0.9, 1) interval, and 35 in the [0.8, 0.9) interval.  There's still an odd dip, but it's a lot less suspicious. At the other end, there are 23 samples with -1 (Candid with zero signal mixing), 12 samples in the (-1, -0.9] interval and 18 samples in the (-0.9, -0.8] interval. It might be worth repeating the statistical analysis reported earlier in this channel just on samples in the (-0.9, 0.9) intervals.\"\n",
    "\n",
    "We will see if these different versions of the data give different statistical results or different results in machine learning algorithms."
   ]
  },
  {
   "cell_type": "markdown",
   "id": "4e3da9f2-2737-48c1-bffb-708a13aa2b20",
   "metadata": {},
   "source": [
    "For now the focus is on the Auburn cut of the data. There are a lot of things to statistically investigate in each of these versions of the data, and I don't want to waste time and energy. Thus, I'm going to statistically compare all of the usable data to the Auburn cut to see if there is an statistically significant difference in the distribution of each column. I'll only bother to investigate a column if there is a statistically significant difference in the distribution as a result of applying the cut.\n",
    "\n",
    "First we need to build the Auburn Cut so we can make the comparisons, and to do that we'll need to look at the value counts for the Vultologist column to see which Vultologists will have their samples included in this cut"
   ]
  },
  {
   "cell_type": "markdown",
   "id": "53c3f08a-37ff-4c12-82ea-7d7b55fbc8de",
   "metadata": {},
   "source": [
    "## Building the Auburn Cut <a id=\"Auburn\"></a>"
   ]
  },
  {
   "cell_type": "code",
   "execution_count": 2,
   "id": "f75bd6d9-857d-4b64-8052-d98e12998597",
   "metadata": {},
   "outputs": [
    {
     "name": "stdout",
     "output_type": "stream",
     "text": [
      "<class 'pandas.core.frame.DataFrame'>\n",
      "RangeIndex: 672 entries, 0 to 671\n",
      "Data columns (total 87 columns):\n",
      " #   Column                         Non-Null Count  Dtype  \n",
      "---  ------                         --------------  -----  \n",
      " 0   Sample Name                    672 non-null    object \n",
      " 1   Vultologist                    672 non-null    object \n",
      " 2   Type                           672 non-null    object \n",
      " 3   Development                    672 non-null    object \n",
      " 4   Emotions                       672 non-null    object \n",
      " 5   Fallen Affect                  672 non-null    float64\n",
      " 6   Sex                            672 non-null    object \n",
      " 7   Age Range                      672 non-null    object \n",
      " 8   Geography                      672 non-null    object \n",
      " 9   Ethnicity                      672 non-null    object \n",
      " 10  R1 Rigid Posture               672 non-null    float64\n",
      " 11  R2 Face Centric                672 non-null    float64\n",
      " 12  R3 Punctuated Motions          672 non-null    float64\n",
      " 13  R4 Vertical Movements          672 non-null    float64\n",
      " 14  R5 Subordinate Fluidity        672 non-null    float64\n",
      " 15  F1 Fluid Posture               672 non-null    float64\n",
      " 16  F2 Eye Centric                 672 non-null    float64\n",
      " 17  F3 Gliding Motions             672 non-null    float64\n",
      " 18  F4 Horizontal Movements        672 non-null    float64\n",
      " 19  F5 Subordinate Rigidity        672 non-null    float64\n",
      " 20  PF1 Restless Momentum          672 non-null    float64\n",
      " 21  PF2 Toggling Eyes              672 non-null    float64\n",
      " 22  PF3 Body Swaying               672 non-null    float64\n",
      " 23  PF4 Casual Hands               672 non-null    float64\n",
      " 24  PF5 Alert Perk Ups             672 non-null    float64\n",
      " 25  RF1 Viscous Inertia            672 non-null    float64\n",
      " 26  RF2 Fixed Gaze                 672 non-null    float64\n",
      " 27  RF3 Diagonal Eye Drifts        672 non-null    float64\n",
      " 28  RF4 Searching Scowling         672 non-null    float64\n",
      " 29  RF5 Narrow Head Zoning         672 non-null    float64\n",
      " 30  PR1 Head Pushes                672 non-null    float64\n",
      " 31  PR2 Head Shakes                672 non-null    float64\n",
      " 32  PR3 Shoulder Shrugs            672 non-null    float64\n",
      " 33  PR4 Fluent Articulation        672 non-null    float64\n",
      " 34  PR5 Projecting Hands           672 non-null    float64\n",
      " 35  RR1 Poised Receding            672 non-null    float64\n",
      " 36  RR2 Disengaging Eyes           672 non-null    float64\n",
      " 37  RR3 Exerted Pushes             672 non-null    float64\n",
      " 38  RR4 Momentum Halting           672 non-null    float64\n",
      " 39  RR5 Meticulous Hands           672 non-null    float64\n",
      " 40  CA1 Taut Nasolabial Area       672 non-null    float64\n",
      " 41  CA2 Vertical Snarling Smiles   672 non-null    float64\n",
      " 42  CA3 Four Point Pulling         672 non-null    float64\n",
      " 43  CA4 Wobbling Lips              672 non-null    float64\n",
      " 44  CA5 Asymmetrical Smirks        672 non-null    float64\n",
      " 45  CA6 Sassy Movements            672 non-null    float64\n",
      " 46  CA7 Plateau Velocity           672 non-null    float64\n",
      " 47  CA8 Nasal Breathy Voice        672 non-null    float64\n",
      " 48  CA9 Grasping Hands             672 non-null    float64\n",
      " 49  MS1 Lax Nasolabial Area        672 non-null    float64\n",
      " 50  MS2 Horizontal Curtain Smiles  672 non-null    float64\n",
      " 51  MS3 Two Point Pulling          672 non-null    float64\n",
      " 52  MS4 Symmetrical Lips           672 non-null    float64\n",
      " 53  MS5 Emotional Neutralization   672 non-null    float64\n",
      " 54  MS6 Coordinated Movements      672 non-null    float64\n",
      " 55  MS7 Parabolic Velocity         672 non-null    float64\n",
      " 56  MS8 Laryngeal Faint Voice      672 non-null    float64\n",
      " 57  MS9 Puppeteer Hands            672 non-null    float64\n",
      " 58  GR1 Taut Preseptal Area        672 non-null    float64\n",
      " 59  GR2 Lax Pretarsal Area         672 non-null    float64\n",
      " 60  GR3 Taut Outer Edges           672 non-null    float64\n",
      " 61  GR4 Intense Scowling           672 non-null    float64\n",
      " 62  GR5 Pointed Eye Toggles        672 non-null    float64\n",
      " 63  GR6 Eye Head Parallel Motion   672 non-null    float64\n",
      " 64  GR7 Grounding Effect           672 non-null    float64\n",
      " 65  GR8 Bodily Awareness           672 non-null    float64\n",
      " 66  SU1 Lax Preseptal Area         672 non-null    float64\n",
      " 67  SU2 Taut Pretarsal Area        672 non-null    float64\n",
      " 68  SU3 Lax Outer Edges            672 non-null    float64\n",
      " 69  SU4 Concerned Scowling         672 non-null    float64\n",
      " 70  SU5 Brushstrokes Eye Toggles   672 non-null    float64\n",
      " 71  SU6 Eye Head Trailing Motions  672 non-null    float64\n",
      " 72  SU7 Levity Effect              672 non-null    float64\n",
      " 73  SU8 Quirky Skits               672 non-null    float64\n",
      " 74  EU1 Responsive Nodding         672 non-null    float64\n",
      " 75  EU2 Polite Smiling             672 non-null    float64\n",
      " 76  EU3 Bashful Body Movements     672 non-null    float64\n",
      " 77  EG1 Upset Mouth Tension        672 non-null    float64\n",
      " 78  EG2 Assertive Pushing          672 non-null    float64\n",
      " 79  EG3 Stern Expressions          672 non-null    float64\n",
      " 80  sum                            672 non-null    float64\n",
      " 81  Lead Energetic                 672 non-null    object \n",
      " 82  Quadra                         672 non-null    object \n",
      " 83  Emotion_Val                    672 non-null    float64\n",
      " 84  Emotion_RawDiff                672 non-null    float64\n",
      " 85  J_Signal_Mixing                672 non-null    float64\n",
      " 86  P_Signal_Mixing                672 non-null    float64\n",
      "dtypes: float64(76), object(11)\n",
      "memory usage: 456.9+ KB\n"
     ]
    }
   ],
   "source": [
    "all_df = pd.read_csv('../Data/posts_2024-12-29_CleanData.csv', index_col=0)\n",
    "all_df.reset_index(drop=True, inplace=True)\n",
    "all_df.info()"
   ]
  },
  {
   "cell_type": "code",
   "execution_count": 3,
   "id": "37ef6686-a985-4f07-bf6d-27c6ecec1daf",
   "metadata": {},
   "outputs": [
    {
     "data": {
      "text/plain": [
       "Vultologist\n",
       "Calin Copil          290\n",
       "Juan E. Sandoval     169\n",
       "Peter Foy             79\n",
       "Sierra Schwartz       37\n",
       "Ash Rose              30\n",
       "Hila Hershkoviz       15\n",
       "Jacquelyn Scott       14\n",
       "Ahmad Aldroubi        10\n",
       "Nathaniel Vetter      10\n",
       "Victoria G             4\n",
       "Miriam Greenfield      4\n",
       "Mitchell Newman        4\n",
       "Robert Geary           3\n",
       "Bryson L.              1\n",
       "jordan                 1\n",
       "Kyle O’Reilly          1\n",
       "Name: count, dtype: int64"
      ]
     },
     "execution_count": 3,
     "metadata": {},
     "output_type": "execute_result"
    }
   ],
   "source": [
    "all_df['Vultologist'].value_counts()"
   ]
  },
  {
   "cell_type": "markdown",
   "id": "a85681f9-284a-4ca0-8b80-4cea8129d56e",
   "metadata": {},
   "source": [
    "It looks like the only Vultologists I'll be including in this cut are Calin, Auburn, Peter, Sierra and Ash"
   ]
  },
  {
   "cell_type": "code",
   "execution_count": 4,
   "id": "12408997-0c9b-4f7b-acac-1991d711e08b",
   "metadata": {},
   "outputs": [
    {
     "name": "stdout",
     "output_type": "stream",
     "text": [
      "<class 'pandas.core.frame.DataFrame'>\n",
      "Index: 605 entries, 0 to 671\n",
      "Data columns (total 87 columns):\n",
      " #   Column                         Non-Null Count  Dtype  \n",
      "---  ------                         --------------  -----  \n",
      " 0   Sample Name                    605 non-null    object \n",
      " 1   Vultologist                    605 non-null    object \n",
      " 2   Type                           605 non-null    object \n",
      " 3   Development                    605 non-null    object \n",
      " 4   Emotions                       605 non-null    object \n",
      " 5   Fallen Affect                  605 non-null    float64\n",
      " 6   Sex                            605 non-null    object \n",
      " 7   Age Range                      605 non-null    object \n",
      " 8   Geography                      605 non-null    object \n",
      " 9   Ethnicity                      605 non-null    object \n",
      " 10  R1 Rigid Posture               605 non-null    float64\n",
      " 11  R2 Face Centric                605 non-null    float64\n",
      " 12  R3 Punctuated Motions          605 non-null    float64\n",
      " 13  R4 Vertical Movements          605 non-null    float64\n",
      " 14  R5 Subordinate Fluidity        605 non-null    float64\n",
      " 15  F1 Fluid Posture               605 non-null    float64\n",
      " 16  F2 Eye Centric                 605 non-null    float64\n",
      " 17  F3 Gliding Motions             605 non-null    float64\n",
      " 18  F4 Horizontal Movements        605 non-null    float64\n",
      " 19  F5 Subordinate Rigidity        605 non-null    float64\n",
      " 20  PF1 Restless Momentum          605 non-null    float64\n",
      " 21  PF2 Toggling Eyes              605 non-null    float64\n",
      " 22  PF3 Body Swaying               605 non-null    float64\n",
      " 23  PF4 Casual Hands               605 non-null    float64\n",
      " 24  PF5 Alert Perk Ups             605 non-null    float64\n",
      " 25  RF1 Viscous Inertia            605 non-null    float64\n",
      " 26  RF2 Fixed Gaze                 605 non-null    float64\n",
      " 27  RF3 Diagonal Eye Drifts        605 non-null    float64\n",
      " 28  RF4 Searching Scowling         605 non-null    float64\n",
      " 29  RF5 Narrow Head Zoning         605 non-null    float64\n",
      " 30  PR1 Head Pushes                605 non-null    float64\n",
      " 31  PR2 Head Shakes                605 non-null    float64\n",
      " 32  PR3 Shoulder Shrugs            605 non-null    float64\n",
      " 33  PR4 Fluent Articulation        605 non-null    float64\n",
      " 34  PR5 Projecting Hands           605 non-null    float64\n",
      " 35  RR1 Poised Receding            605 non-null    float64\n",
      " 36  RR2 Disengaging Eyes           605 non-null    float64\n",
      " 37  RR3 Exerted Pushes             605 non-null    float64\n",
      " 38  RR4 Momentum Halting           605 non-null    float64\n",
      " 39  RR5 Meticulous Hands           605 non-null    float64\n",
      " 40  CA1 Taut Nasolabial Area       605 non-null    float64\n",
      " 41  CA2 Vertical Snarling Smiles   605 non-null    float64\n",
      " 42  CA3 Four Point Pulling         605 non-null    float64\n",
      " 43  CA4 Wobbling Lips              605 non-null    float64\n",
      " 44  CA5 Asymmetrical Smirks        605 non-null    float64\n",
      " 45  CA6 Sassy Movements            605 non-null    float64\n",
      " 46  CA7 Plateau Velocity           605 non-null    float64\n",
      " 47  CA8 Nasal Breathy Voice        605 non-null    float64\n",
      " 48  CA9 Grasping Hands             605 non-null    float64\n",
      " 49  MS1 Lax Nasolabial Area        605 non-null    float64\n",
      " 50  MS2 Horizontal Curtain Smiles  605 non-null    float64\n",
      " 51  MS3 Two Point Pulling          605 non-null    float64\n",
      " 52  MS4 Symmetrical Lips           605 non-null    float64\n",
      " 53  MS5 Emotional Neutralization   605 non-null    float64\n",
      " 54  MS6 Coordinated Movements      605 non-null    float64\n",
      " 55  MS7 Parabolic Velocity         605 non-null    float64\n",
      " 56  MS8 Laryngeal Faint Voice      605 non-null    float64\n",
      " 57  MS9 Puppeteer Hands            605 non-null    float64\n",
      " 58  GR1 Taut Preseptal Area        605 non-null    float64\n",
      " 59  GR2 Lax Pretarsal Area         605 non-null    float64\n",
      " 60  GR3 Taut Outer Edges           605 non-null    float64\n",
      " 61  GR4 Intense Scowling           605 non-null    float64\n",
      " 62  GR5 Pointed Eye Toggles        605 non-null    float64\n",
      " 63  GR6 Eye Head Parallel Motion   605 non-null    float64\n",
      " 64  GR7 Grounding Effect           605 non-null    float64\n",
      " 65  GR8 Bodily Awareness           605 non-null    float64\n",
      " 66  SU1 Lax Preseptal Area         605 non-null    float64\n",
      " 67  SU2 Taut Pretarsal Area        605 non-null    float64\n",
      " 68  SU3 Lax Outer Edges            605 non-null    float64\n",
      " 69  SU4 Concerned Scowling         605 non-null    float64\n",
      " 70  SU5 Brushstrokes Eye Toggles   605 non-null    float64\n",
      " 71  SU6 Eye Head Trailing Motions  605 non-null    float64\n",
      " 72  SU7 Levity Effect              605 non-null    float64\n",
      " 73  SU8 Quirky Skits               605 non-null    float64\n",
      " 74  EU1 Responsive Nodding         605 non-null    float64\n",
      " 75  EU2 Polite Smiling             605 non-null    float64\n",
      " 76  EU3 Bashful Body Movements     605 non-null    float64\n",
      " 77  EG1 Upset Mouth Tension        605 non-null    float64\n",
      " 78  EG2 Assertive Pushing          605 non-null    float64\n",
      " 79  EG3 Stern Expressions          605 non-null    float64\n",
      " 80  sum                            605 non-null    float64\n",
      " 81  Lead Energetic                 605 non-null    object \n",
      " 82  Quadra                         605 non-null    object \n",
      " 83  Emotion_Val                    605 non-null    float64\n",
      " 84  Emotion_RawDiff                605 non-null    float64\n",
      " 85  J_Signal_Mixing                605 non-null    float64\n",
      " 86  P_Signal_Mixing                605 non-null    float64\n",
      "dtypes: float64(76), object(11)\n",
      "memory usage: 415.9+ KB\n"
     ]
    }
   ],
   "source": [
    "auburn_df = all_df[all_df['Vultologist'].isin(['Calin Copil', 'Juan E. Sandoval', 'Peter Foy', 'Sierra Schwartz', 'Ash Rose'])]\n",
    "auburn_df.info()"
   ]
  },
  {
   "cell_type": "markdown",
   "id": "24b90632-ee42-4e3d-b7ab-8c584186c2cf",
   "metadata": {},
   "source": [
    "We have only removed 67 samples, so I'm thinking this won't necessarily be statistically significant changes for most of the distributions, though you never know since we specifically removed reports from relatively inexperienced Vultologists who may have exerted a disporportionate influence due to relatively unorthodox practices (but I suspect not in most cases)\n",
    "\n",
    "Next we can use the Kolmogorov-Smirnov test and the Mann-Whitney test to see if there are any statistically differences between the Auburn cut and the Full Data. The reason to use two separate tests is that they work better in different domains:\n",
    "- the KS test works best in the case where we want to compare the shapes of most complex continuous distributions\n",
    "- the MW test works best when we want to compare relatively discrete values (such as the signals have) since the KS test doesn't work well with discrete, categorical distributions since it doesn't work with a lot of \"ties\""
   ]
  },
  {
   "cell_type": "markdown",
   "id": "6aa33b9f-8df7-4475-a237-6fbe23e1e8b3",
   "metadata": {},
   "source": [
    "## Kolmogorov-Smirnov Tests <a id=\"KS\"></a>"
   ]
  },
  {
   "cell_type": "markdown",
   "id": "e124f353-421d-47c3-ae15-03756183510d",
   "metadata": {},
   "source": [
    "The distributions we can examine with this test are the most complex relatively continuous distributions such as:\n",
    "- sum of signals\n",
    "- Emotion value distributions\n",
    "- Signal mixing distributions"
   ]
  },
  {
   "cell_type": "code",
   "execution_count": 5,
   "id": "151eca14-d499-4a2c-8ddc-0b2eae39d1c0",
   "metadata": {},
   "outputs": [
    {
     "data": {
      "text/html": [
       "<div>\n",
       "<style scoped>\n",
       "    .dataframe tbody tr th:only-of-type {\n",
       "        vertical-align: middle;\n",
       "    }\n",
       "\n",
       "    .dataframe tbody tr th {\n",
       "        vertical-align: top;\n",
       "    }\n",
       "\n",
       "    .dataframe thead th {\n",
       "        text-align: right;\n",
       "    }\n",
       "</style>\n",
       "<table border=\"1\" class=\"dataframe\">\n",
       "  <thead>\n",
       "    <tr style=\"text-align: right;\">\n",
       "      <th></th>\n",
       "      <th>statistic</th>\n",
       "      <th>p_value</th>\n",
       "    </tr>\n",
       "  </thead>\n",
       "  <tbody>\n",
       "    <tr>\n",
       "      <th>sum</th>\n",
       "      <td>0.019089</td>\n",
       "      <td>0.999650</td>\n",
       "    </tr>\n",
       "    <tr>\n",
       "      <th>Emotion_Val</th>\n",
       "      <td>0.023224</td>\n",
       "      <td>0.993336</td>\n",
       "    </tr>\n",
       "    <tr>\n",
       "      <th>Emotion_RawDiff</th>\n",
       "      <td>0.019407</td>\n",
       "      <td>0.999531</td>\n",
       "    </tr>\n",
       "    <tr>\n",
       "      <th>J_Signal_Mixing</th>\n",
       "      <td>0.010791</td>\n",
       "      <td>1.000000</td>\n",
       "    </tr>\n",
       "    <tr>\n",
       "      <th>P_Signal_Mixing</th>\n",
       "      <td>0.011369</td>\n",
       "      <td>1.000000</td>\n",
       "    </tr>\n",
       "  </tbody>\n",
       "</table>\n",
       "</div>"
      ],
      "text/plain": [
       "                 statistic   p_value\n",
       "sum               0.019089  0.999650\n",
       "Emotion_Val       0.023224  0.993336\n",
       "Emotion_RawDiff   0.019407  0.999531\n",
       "J_Signal_Mixing   0.010791  1.000000\n",
       "P_Signal_Mixing   0.011369  1.000000"
      ]
     },
     "execution_count": 5,
     "metadata": {},
     "output_type": "execute_result"
    }
   ],
   "source": [
    "KS_cols = ['sum', 'Emotion_Val', 'Emotion_RawDiff', 'J_Signal_Mixing', 'P_Signal_Mixing']\n",
    "\n",
    "KS_results = {}\n",
    "\n",
    "for col in KS_cols:\n",
    "    stat, p_value = ks_2samp(all_df[col], auburn_df[col])\n",
    "    KS_results[col] = {'statistic': stat, 'p_value': p_value}\n",
    "\n",
    "KS_df = pd.DataFrame.from_dict(KS_results)\n",
    "KS_df.transpose()"
   ]
  },
  {
   "cell_type": "markdown",
   "id": "0232b87b-5b2f-40e0-8314-73af090cbb16",
   "metadata": {},
   "source": [
    "As we can see, the distributions are nearly identical for all of these and we cannot reject the null hypothesis, so we don't need to bother investigating these columns!"
   ]
  },
  {
   "cell_type": "markdown",
   "id": "0a57fee6-2382-488d-ac0b-bf51a712b47e",
   "metadata": {},
   "source": [
    "## Mann-Whitney Tests <a id=\"MW\"></a>"
   ]
  },
  {
   "cell_type": "markdown",
   "id": "a241a757-c585-446a-9888-253f8589b396",
   "metadata": {},
   "source": [
    "In this case we are going to look at nearly every other column, since they are all either categorical in nature or consist of signals with mainly discrete values and thus a lot of ties that make the KS test ineffective"
   ]
  },
  {
   "cell_type": "code",
   "execution_count": 6,
   "id": "8df9e963-e810-4dda-947e-5faf35072385",
   "metadata": {},
   "outputs": [
    {
     "name": "stdout",
     "output_type": "stream",
     "text": [
      "                               statistic   p_value\n",
      "EG3 Stern Expressions           195077.0  0.191685\n",
      "EG2 Assertive Pushing           197252.5  0.324398\n",
      "Type                               152.5  0.365140\n",
      "MS4 Symmetrical Lips            208444.5  0.414388\n",
      "MS8 Laryngeal Faint Voice       198664.0  0.459866\n",
      "Quadra                              11.0  0.485714\n",
      "RR2 Disengaging Eyes            207680.0  0.487526\n",
      "MS9 Puppeteer Hands             207154.0  0.510304\n",
      "Fallen Affect                   199309.5  0.515817\n",
      "Development                         38.5  0.528309\n",
      "CA3 Four Point Pulling          199738.0  0.575234\n",
      "F4 Horizontal Movements         199773.0  0.577368\n",
      "SU3 Lax Outer Edges             206593.5  0.584503\n",
      "CA1 Taut Nasolabial Area        199961.0  0.599926\n",
      "CA9 Grasping Hands              206104.5  0.608598\n",
      "SU5 Brushstrokes Eye Toggles    206385.5  0.615567\n",
      "RF4 Searching Scowling          200348.5  0.636884\n",
      "RR3 Exerted Pushes              206145.0  0.640531\n",
      "SU6 Eye Head Trailing Motions   205813.5  0.642786\n",
      "F3 Gliding Motions              200529.5  0.661438\n",
      "EG1 Upset Mouth Tension         200809.0  0.671262\n",
      "Lead Energetic                      10.0  0.685714\n",
      "Geography                          139.0  0.689700\n",
      "SU4 Concerned Scowling          205661.5  0.694979\n",
      "MS1 Lax Nasolabial Area         205719.5  0.698300\n",
      "Emotions                             6.0  0.700000\n",
      "SU7 Levity Effect               205527.5  0.705276\n",
      "PF1 Restless Momentum           205632.5  0.709822\n",
      "RF3 Diagonal Eye Drifts         200963.5  0.711596\n",
      "GR4 Intense Scowling            201094.0  0.718182\n",
      "GR8 Bodily Awareness            205470.0  0.720982\n",
      "MS3 Two Point Pulling           205420.0  0.734817\n",
      "GR5 Pointed Eye Toggles         201274.0  0.752719\n",
      "PR5 Projecting Hands            201366.5  0.759861\n",
      "CA5 Asymmetrical Smirks         205037.0  0.769942\n",
      "GR3 Taut Outer Edges            201516.0  0.780577\n",
      "CA7 Plateau Velocity            201574.5  0.784978\n",
      "MS6 Coordinated Movements       205010.0  0.785288\n",
      "GR6 Eye Head Parallel Motion    201651.5  0.797264\n",
      "RR1 Poised Receding             201689.5  0.800821\n",
      "CA6 Sassy Movements             201725.0  0.802834\n",
      "GR2 Lax Pretarsal Area          201763.5  0.810833\n",
      "SU2 Taut Pretarsal Area         204743.5  0.816359\n",
      "Age Range                           89.5  0.817402\n",
      "CA4 Wobbling Lips               201839.5  0.819566\n",
      "MS5 Emotional Neutralization    201847.5  0.820565\n",
      "RF5 Narrow Head Zoning          201915.5  0.827324\n",
      "F2 Eye Centric                  201899.5  0.828413\n",
      "MS7 Parabolic Velocity          201988.0  0.839310\n",
      "RR4 Momentum Halting            204459.5  0.848027\n",
      "EU3 Bashful Body Movements      202151.5  0.851245\n",
      "PF2 Toggling Eyes               202146.0  0.855583\n",
      "PR4 Fluent Articulation         202209.0  0.863629\n",
      "CA2 Vertical Snarling Smiles    202234.0  0.864711\n",
      "MS2 Horizontal Curtain Smiles   204327.5  0.867852\n",
      "PR1 Head Pushes                 204319.5  0.869141\n",
      "GR1 Taut Preseptal Area         202237.0  0.869562\n",
      "R2 Face Centric                 204315.0  0.870780\n",
      "R1 Rigid Posture                204279.5  0.874802\n",
      "Ethnicity                          116.5  0.884280\n",
      "CA8 Nasal Breathy Voice         202486.0  0.888709\n",
      "PF3 Body Swaying                204161.5  0.889179\n",
      "RF1 Viscous Inertia             202448.5  0.893531\n",
      "R5 Subordinate Fluidity         202514.0  0.896520\n",
      "SU8 Quirky Skits                203715.0  0.934387\n",
      "PR3 Shoulder Shrugs             202854.0  0.944171\n",
      "EU1 Responsive Nodding          202850.5  0.945341\n",
      "SU1 Lax Preseptal Area          203673.5  0.950090\n",
      "PF4 Casual Hands                203643.0  0.954431\n",
      "F1 Fluid Posture                202940.0  0.957451\n",
      "RF2 Fixed Gaze                  202960.5  0.959773\n",
      "PF5 Alert Perk Ups              203023.0  0.967676\n",
      "PR2 Head Shakes                 203031.0  0.968356\n",
      "GR7 Grounding Effect            203521.0  0.969187\n",
      "R4 Vertical Movements           203046.0  0.970551\n",
      "F5 Subordinate Rigidity         203057.5  0.971242\n",
      "EU2 Polite Smiling              203109.5  0.978465\n",
      "R3 Punctuated Motions           203150.0  0.983654\n",
      "RR5 Meticulous Hands            203302.5  0.997229\n",
      "Sex                                  3.0  1.000000\n"
     ]
    }
   ],
   "source": [
    "MW_cols = [col for col in list(auburn_df.columns) if (col not in KS_cols) and (col not in ['Sample Name', 'Vultologist'])]\n",
    "\n",
    "MW_results = {}\n",
    "\n",
    "for col in MW_cols:\n",
    "    if all_df[col].dtype == 'O':\n",
    "        stat, p_value = mannwhitneyu(all_df[col].value_counts(), auburn_df[col].value_counts())\n",
    "    else:\n",
    "        stat, p_value = mannwhitneyu(all_df[col], auburn_df[col])\n",
    "    MW_results[col] = {'statistic': stat, 'p_value': p_value}\n",
    "\n",
    "MW_df = pd.DataFrame.from_dict(MW_results)\n",
    "with pd.option_context(\"display.max_rows\", 1000):\n",
    "    print(MW_df.transpose().sort_values('p_value'))"
   ]
  },
  {
   "cell_type": "markdown",
   "id": "f53da23e-cc05-4fce-a82b-e61f5111bc3d",
   "metadata": {},
   "source": [
    "There isn't a notably statistically significant difference for all of these columns either (even for a relaxed p-value cutoff points like 10%). Since p-value cutoff points are technically arbitrary, I think it's still worth examining some of the lower p-values on these lists. However, since something like \"type\" ends up with a pretty low p-value, and I doubt the distribution of type is all that different in the auburn_cut, I don't think much of any of this is going to be significant"
   ]
  },
  {
   "cell_type": "markdown",
   "id": "e4c8bfe1-279b-4522-ab04-e9738d52a67c",
   "metadata": {},
   "source": [
    "## Examining a Few Distributions <a id=\"Examining\"></a>"
   ]
  },
  {
   "cell_type": "markdown",
   "id": "d5946d16-ef60-42f5-8898-d54e617c05a1",
   "metadata": {},
   "source": [
    "### Stern Expressions"
   ]
  },
  {
   "cell_type": "code",
   "execution_count": 7,
   "id": "4aceb898-a9a4-4048-8187-350de078689d",
   "metadata": {},
   "outputs": [
    {
     "data": {
      "image/png": "[encoded data removed]",
      "text/plain": [
       "<Figure size 640x480 with 1 Axes>"
      ]
     },
     "metadata": {},
     "output_type": "display_data"
    }
   ],
   "source": [
    "fig, ax = plt.subplots()\n",
    "\n",
    "all_df['EG3 Stern Expressions'].hist(label='Full Data')\n",
    "auburn_df['EG3 Stern Expressions'].hist(label='Auburn Cut')\n",
    "ax.legend();"
   ]
  },
  {
   "cell_type": "markdown",
   "id": "cb84a85b-4c17-4612-98c0-02fa2a4bdc11",
   "metadata": {},
   "source": [
    "It's interesting that we are losing a lot of cases from the Full Data where Stern Expressions wasn't marked, meaning that Experienced Vultologists tend to mark this more (at least at a value of 2). That could be significant for clustering EA signals"
   ]
  },
  {
   "cell_type": "markdown",
   "id": "43b51f69-97ba-4cf0-8891-8b5b3250bbe1",
   "metadata": {},
   "source": [
    "### Assertive Pushing"
   ]
  },
  {
   "cell_type": "code",
   "execution_count": 8,
   "id": "a9361c81-8190-40dd-b51a-7e6c31e4cd31",
   "metadata": {},
   "outputs": [
    {
     "data": {
      "image/png": "[encoded data removed]",
      "text/plain": [
       "<Figure size 640x480 with 1 Axes>"
      ]
     },
     "metadata": {},
     "output_type": "display_data"
    }
   ],
   "source": [
    "fig, ax = plt.subplots()\n",
    "\n",
    "all_df['EG2 Assertive Pushing'].hist(label='Full Data')\n",
    "auburn_df['EG2 Assertive Pushing'].hist(label='Auburn Cut')\n",
    "ax.legend();"
   ]
  },
  {
   "cell_type": "markdown",
   "id": "fbac3e3b-6509-45a9-b1b8-3b9396c7f59c",
   "metadata": {},
   "source": [
    "Yet again we are losing a lot of cases where Assertive Pushing wasn't marked, just to a less extreme degree."
   ]
  },
  {
   "cell_type": "markdown",
   "id": "33b9452c-50fb-4464-a68d-de4a84cbb281",
   "metadata": {},
   "source": [
    "### Type"
   ]
  },
  {
   "cell_type": "code",
   "execution_count": 9,
   "id": "f248a702-bab9-4c47-9bbf-8a0be05ebf00",
   "metadata": {},
   "outputs": [
    {
     "data": {
      "image/png": "[encoded data removed]",
      "text/plain": [
       "<Figure size 640x480 with 1 Axes>"
      ]
     },
     "metadata": {},
     "output_type": "display_data"
    }
   ],
   "source": [
    "type_join = all_df['Type'].value_counts().to_frame().join(auburn_df['Type'].value_counts().to_frame(), lsuffix='_full', rsuffix='_auburn')\n",
    "type_join.plot(use_index=True, y=['count_full', 'count_auburn'], kind='bar')\n",
    "plt.ylabel(\"count of samples/reports\");"
   ]
  },
  {
   "cell_type": "markdown",
   "id": "841352be-f4be-4ae5-b791-08c77ab17e70",
   "metadata": {},
   "source": [
    "On the whole the distribution here is quite similar, there are just larger losses for some types than others. I'm not sure it's significant because there doesn't seem to be much pattern in the greater losses. There are a lot of lost SeTi for example (which is even sort of strange because Calin is himself SeTi and he adds a lot of reports, so you'd think he would add more SeTi yet they were disproportionately lowered by excluding inexperienced vultologists), but it's still by far the most common. Then there's a large jump of losses, such that it upsets the rank of the rank of the type in the distribution, for TeNi, NeTi, TiSe, and SiFe. Since there isn't much pattern here, I can't imagine it will have a significant affect on our clustering and other statistical investigations (especially compared to the benefit of having more samples in the full data)."
   ]
  },
  {
   "cell_type": "markdown",
   "id": "6e6a0cfd-74d8-4776-b2ec-351ef6fc9ad3",
   "metadata": {},
   "source": [
    "### Symmetrical Lips"
   ]
  },
  {
   "cell_type": "code",
   "execution_count": 10,
   "id": "913b95f2-60d0-4d29-acd3-ac76ad6d64d7",
   "metadata": {},
   "outputs": [
    {
     "data": {
      "image/png": "[encoded data removed]",
      "text/plain": [
       "<Figure size 640x480 with 1 Axes>"
      ]
     },
     "metadata": {},
     "output_type": "display_data"
    }
   ],
   "source": [
    "fig, ax = plt.subplots()\n",
    "\n",
    "all_df['MS4 Symmetrical Lips'].hist(label='Full Data')\n",
    "auburn_df['MS4 Symmetrical Lips'].hist(label='Auburn Cut')\n",
    "ax.legend();"
   ]
  },
  {
   "cell_type": "markdown",
   "id": "16cbe38e-a529-488d-8772-9341716fad8c",
   "metadata": {},
   "source": [
    "In this case, it's the opposite of the Guarded signals where the inexperienced vultologists are marking symmetrical lips more frequently. This might be noteworthy but it contradicts the previous pattern which is odd."
   ]
  },
  {
   "cell_type": "markdown",
   "id": "a7a75b4e-c8eb-46d4-8af2-e3f0954fab4f",
   "metadata": {},
   "source": [
    "### Laryngeal Faint Voice"
   ]
  },
  {
   "cell_type": "code",
   "execution_count": 11,
   "id": "fa3cc3c8-37be-4392-af2e-8edcf4fc78e1",
   "metadata": {},
   "outputs": [
    {
     "data": {
      "image/png": "[encoded data removed]",
      "text/plain": [
       "<Figure size 640x480 with 1 Axes>"
      ]
     },
     "metadata": {},
     "output_type": "display_data"
    }
   ],
   "source": [
    "fig, ax = plt.subplots()\n",
    "\n",
    "all_df['MS8 Laryngeal Faint Voice'].hist(label='Full Data')\n",
    "auburn_df['MS8 Laryngeal Faint Voice'].hist(label='Auburn Cut')\n",
    "ax.legend();"
   ]
  },
  {
   "cell_type": "markdown",
   "id": "70abf2f8-2495-4146-a5f0-cbf288c2520b",
   "metadata": {},
   "source": [
    "And this signal is marked less again (just to a lesser degree than the previous guarded signals with more conspicuous p-values)"
   ]
  },
  {
   "cell_type": "markdown",
   "id": "dd8c0d0b-2827-4a2f-979b-7bfef35da1f2",
   "metadata": {},
   "source": [
    "### Quadra"
   ]
  },
  {
   "cell_type": "code",
   "execution_count": 12,
   "id": "8fa0b2fa-8443-4771-9e71-d8638d7294b5",
   "metadata": {},
   "outputs": [
    {
     "data": {
      "image/png": "[encoded data removed]",
      "text/plain": [
       "<Figure size 640x480 with 1 Axes>"
      ]
     },
     "metadata": {},
     "output_type": "display_data"
    }
   ],
   "source": [
    "quadra_join = all_df['Quadra'].value_counts().to_frame().join(auburn_df['Quadra'].value_counts().to_frame(), lsuffix='_full', rsuffix='_auburn')\n",
    "quadra_join.plot(use_index=True, y=['count_full', 'count_auburn'], kind='bar')\n",
    "plt.ylabel(\"count of samples/reports\");"
   ]
  },
  {
   "cell_type": "markdown",
   "id": "ba203bda-02e6-4e0a-850d-57e4a5d8e994",
   "metadata": {},
   "source": [
    "Here it's hard to even see much difference or unevenness; may we lose more measured samples in general? But you have to squint to see it.\n",
    "\n",
    "At this point, I don't think we need to look at the particularities of these distributions anymore. We can save the Auburn cut of the data, keeping in mind some of these patterns we found, and if the Auburn cut gets notably different results in other investigations (like clustering or other statistical tests), we can dig deeper into the cause if it isn't already obvious"
   ]
  },
  {
   "cell_type": "markdown",
   "id": "b5c29412-22dc-484d-80ee-886a1bb55778",
   "metadata": {},
   "source": [
    "## Saving the Data <a id=\"Saving\"></a>"
   ]
  },
  {
   "cell_type": "code",
   "execution_count": 13,
   "id": "a68c014b-de55-4e0e-91eb-59c71f17e200",
   "metadata": {},
   "outputs": [],
   "source": [
    "auburn_df.to_csv('../Data/posts_2024-12-29_AuburnCut.csv')"
   ]
  }
 ],
 "metadata": {
  "kernelspec": {
   "display_name": "Python 3 (ipykernel)",
   "language": "python",
   "name": "python3"
  },
  "language_info": {
   "codemirror_mode": {
    "name": "ipython",
    "version": 3
   },
   "file_extension": ".py",
   "mimetype": "text/x-python",
   "name": "python",
   "nbconvert_exporter": "python",
   "pygments_lexer": "ipython3",
   "version": "3.11.11"
  }
 },
 "nbformat": 4,
 "nbformat_minor": 5
}
