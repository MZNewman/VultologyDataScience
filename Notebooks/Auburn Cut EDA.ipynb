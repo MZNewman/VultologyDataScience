{
 "cells": [
  {
   "cell_type": "code",
   "execution_count": 1,
   "metadata": {},
   "outputs": [],
   "source": [
    "import pandas as pd\n",
    "import matplotlib.pyplot as plt\n",
    "import numpy as np\n",
    "import re"
   ]
  },
  {
   "cell_type": "markdown",
   "metadata": {},
   "source": [
    "I have three \"cuts\" of the data that I want to perform machine learning on:\n",
    "\n",
    "- all the usable data (i.e. excluding entries that don't have reports)\n",
    "\n",
    "- the \"Auburn\" cut, which should remove Vultology reports from authors that have 20 or fewer reports (since they are less experienced)\n",
    "\n",
    "- the \"Lapis\" cut, layered over the Auburn cut, which should take into account this analysis:\n",
    "\"I'm seeing something rather suspicious in the data. If I calculate P-axis coordinates with the formula (Suspended - Grounded )/(Suspended + Grounded ), which ranges from -1 (completely Grounded) to +1 (completely Suspended), then there are 90 samples with -1, i.e., Grounded with zero signal mixing.  However, there are only 8 samples in the (-1, -0.9] interval.  In the (-0.9, 0.8] interval there are 40 samples. IMO that strongly suggests that many of those Grounded samples with zero P-axis signal mixing have neglected Suspended signals. The other end of the spectrum also looks suspicious, though it's less extreme. \n",
    "There are 36 samples with P-axis coordinates of 1 (Suspended with zero signal mixing), only 3 samples in the [0.9, 1) interval, but 26 samples in the [0.8, 0.9) interval. As for J-axis coordinates, (Measured - Candid)/(Measured + Candid), there are 55 samples with coordinates of 1 (Measured with zero signal mixing), 23 samples in the [0.9, 1) interval, and 35 in the [0.8, 0.9) interval.  There's still an odd dip, but it's a lot less suspicious. At the other end, there are 23 samples with -1 (Candid with zero signal mixing), 12 samples in the (-1, -0.9] interval and 18 samples in the (-0.9, -0.8] interval. It might be worth repeating the statistical analysis reported earlier in this channel just on samples in the (-0.9, 0.9) intervals.\"\n",
    "\n",
    "We will see if these different versions of the data give different statistical results or different results in machine learning algorithms."
   ]
  },
  {
   "cell_type": "markdown",
   "metadata": {},
   "source": [
    "This notebook is devoted to the Auburn cut of the data. Please read the notebook \"Full Data EDA\" if you want a primer and what modifications I have already performed on the data to get to this point, since that is what I will be starting from."
   ]
  },
  {
   "cell_type": "markdown",
   "metadata": {},
   "source": [
    "## Statistics on the Auburn Cut"
   ]
  },
  {
   "cell_type": "code",
   "execution_count": 2,
   "metadata": {},
   "outputs": [
    {
     "data": {
      "text/html": [
       "<div>\n",
       "<style scoped>\n",
       "    .dataframe tbody tr th:only-of-type {\n",
       "        vertical-align: middle;\n",
       "    }\n",
       "\n",
       "    .dataframe tbody tr th {\n",
       "        vertical-align: top;\n",
       "    }\n",
       "\n",
       "    .dataframe thead th {\n",
       "        text-align: right;\n",
       "    }\n",
       "</style>\n",
       "<table border=\"1\" class=\"dataframe\">\n",
       "  <thead>\n",
       "    <tr style=\"text-align: right;\">\n",
       "      <th></th>\n",
       "      <th>Sample Name</th>\n",
       "      <th>Vultologist</th>\n",
       "      <th>Type</th>\n",
       "      <th>Development</th>\n",
       "      <th>Emotions</th>\n",
       "      <th>Fallen Affect</th>\n",
       "      <th>J Signal Mixing</th>\n",
       "      <th>P Signal Mixing</th>\n",
       "      <th>Sex</th>\n",
       "      <th>Age Range</th>\n",
       "      <th>...</th>\n",
       "      <th>SU8 Quirky Skits</th>\n",
       "      <th>EU1 Responsive Nodding</th>\n",
       "      <th>EU2 Polite Smiling</th>\n",
       "      <th>EU3 Bashful Body Movements</th>\n",
       "      <th>EG1 Upset Mouth Tension</th>\n",
       "      <th>EG2 Assertive Pushing</th>\n",
       "      <th>EG3 Stern Expressions</th>\n",
       "      <th>sum</th>\n",
       "      <th>Lead Energetic</th>\n",
       "      <th>Quadra</th>\n",
       "    </tr>\n",
       "  </thead>\n",
       "  <tbody>\n",
       "    <tr>\n",
       "      <th>0</th>\n",
       "      <td>Cœur de Pirate</td>\n",
       "      <td>Miriam Greenfield</td>\n",
       "      <td>sefi</td>\n",
       "      <td>iii-</td>\n",
       "      <td>unguarded</td>\n",
       "      <td>0.0</td>\n",
       "      <td>low</td>\n",
       "      <td>medium</td>\n",
       "      <td>female</td>\n",
       "      <td>1980s</td>\n",
       "      <td>...</td>\n",
       "      <td>2.0</td>\n",
       "      <td>4.0</td>\n",
       "      <td>2.0</td>\n",
       "      <td>2.0</td>\n",
       "      <td>2.0</td>\n",
       "      <td>0.0</td>\n",
       "      <td>2.0</td>\n",
       "      <td>207.0</td>\n",
       "      <td>Pe</td>\n",
       "      <td>Gamma</td>\n",
       "    </tr>\n",
       "    <tr>\n",
       "      <th>1</th>\n",
       "      <td>Michael Gervais</td>\n",
       "      <td>Calin Copil</td>\n",
       "      <td>fesi</td>\n",
       "      <td>i---</td>\n",
       "      <td>neutral</td>\n",
       "      <td>1.0</td>\n",
       "      <td>low</td>\n",
       "      <td>low</td>\n",
       "      <td>male</td>\n",
       "      <td>-1</td>\n",
       "      <td>...</td>\n",
       "      <td>0.0</td>\n",
       "      <td>4.0</td>\n",
       "      <td>4.0</td>\n",
       "      <td>2.0</td>\n",
       "      <td>2.0</td>\n",
       "      <td>4.0</td>\n",
       "      <td>2.0</td>\n",
       "      <td>209.0</td>\n",
       "      <td>Je</td>\n",
       "      <td>Alpha</td>\n",
       "    </tr>\n",
       "    <tr>\n",
       "      <th>2</th>\n",
       "      <td>Joan Jett</td>\n",
       "      <td>Calin Copil</td>\n",
       "      <td>seti</td>\n",
       "      <td>i-i-</td>\n",
       "      <td>guarded</td>\n",
       "      <td>2.0</td>\n",
       "      <td>low</td>\n",
       "      <td>low</td>\n",
       "      <td>female</td>\n",
       "      <td>1950s</td>\n",
       "      <td>...</td>\n",
       "      <td>2.0</td>\n",
       "      <td>2.0</td>\n",
       "      <td>2.0</td>\n",
       "      <td>0.0</td>\n",
       "      <td>2.0</td>\n",
       "      <td>4.0</td>\n",
       "      <td>4.0</td>\n",
       "      <td>205.0</td>\n",
       "      <td>Pe</td>\n",
       "      <td>Beta</td>\n",
       "    </tr>\n",
       "    <tr>\n",
       "      <th>3</th>\n",
       "      <td>Ben Stein</td>\n",
       "      <td>Calin Copil</td>\n",
       "      <td>site</td>\n",
       "      <td>i---</td>\n",
       "      <td>guarded</td>\n",
       "      <td>2.0</td>\n",
       "      <td>low</td>\n",
       "      <td>low</td>\n",
       "      <td>male</td>\n",
       "      <td>1940s</td>\n",
       "      <td>...</td>\n",
       "      <td>0.0</td>\n",
       "      <td>0.0</td>\n",
       "      <td>0.0</td>\n",
       "      <td>0.0</td>\n",
       "      <td>2.0</td>\n",
       "      <td>2.0</td>\n",
       "      <td>2.0</td>\n",
       "      <td>114.0</td>\n",
       "      <td>Pi</td>\n",
       "      <td>Delta</td>\n",
       "    </tr>\n",
       "    <tr>\n",
       "      <th>4</th>\n",
       "      <td>Billie Joe Armstrong</td>\n",
       "      <td>Peter Foy</td>\n",
       "      <td>fise</td>\n",
       "      <td>ii-i</td>\n",
       "      <td>neutral</td>\n",
       "      <td>0.0</td>\n",
       "      <td>low</td>\n",
       "      <td>medium</td>\n",
       "      <td>male</td>\n",
       "      <td>1970s</td>\n",
       "      <td>...</td>\n",
       "      <td>0.0</td>\n",
       "      <td>2.0</td>\n",
       "      <td>4.0</td>\n",
       "      <td>2.0</td>\n",
       "      <td>4.0</td>\n",
       "      <td>2.0</td>\n",
       "      <td>4.0</td>\n",
       "      <td>211.0</td>\n",
       "      <td>Ji</td>\n",
       "      <td>Gamma</td>\n",
       "    </tr>\n",
       "  </tbody>\n",
       "</table>\n",
       "<p>5 rows × 85 columns</p>\n",
       "</div>"
      ],
      "text/plain": [
       "            Sample Name        Vultologist  Type Development   Emotions  \\\n",
       "0        Cœur de Pirate  Miriam Greenfield  sefi        iii-  unguarded   \n",
       "1       Michael Gervais        Calin Copil  fesi        i---    neutral   \n",
       "2             Joan Jett        Calin Copil  seti        i-i-    guarded   \n",
       "3             Ben Stein        Calin Copil  site        i---    guarded   \n",
       "4  Billie Joe Armstrong          Peter Foy  fise        ii-i    neutral   \n",
       "\n",
       "   Fallen Affect J Signal Mixing P Signal Mixing     Sex Age Range  ...  \\\n",
       "0            0.0             low          medium  female     1980s  ...   \n",
       "1            1.0             low             low    male        -1  ...   \n",
       "2            2.0             low             low  female     1950s  ...   \n",
       "3            2.0             low             low    male     1940s  ...   \n",
       "4            0.0             low          medium    male     1970s  ...   \n",
       "\n",
       "  SU8 Quirky Skits EU1 Responsive Nodding  EU2 Polite Smiling  \\\n",
       "0              2.0                    4.0                 2.0   \n",
       "1              0.0                    4.0                 4.0   \n",
       "2              2.0                    2.0                 2.0   \n",
       "3              0.0                    0.0                 0.0   \n",
       "4              0.0                    2.0                 4.0   \n",
       "\n",
       "   EU3 Bashful Body Movements  EG1 Upset Mouth Tension  EG2 Assertive Pushing  \\\n",
       "0                         2.0                      2.0                    0.0   \n",
       "1                         2.0                      2.0                    4.0   \n",
       "2                         0.0                      2.0                    4.0   \n",
       "3                         0.0                      2.0                    2.0   \n",
       "4                         2.0                      4.0                    2.0   \n",
       "\n",
       "   EG3 Stern Expressions    sum  Lead Energetic  Quadra  \n",
       "0                    2.0  207.0              Pe   Gamma  \n",
       "1                    2.0  209.0              Je   Alpha  \n",
       "2                    4.0  205.0              Pe    Beta  \n",
       "3                    2.0  114.0              Pi   Delta  \n",
       "4                    4.0  211.0              Ji   Gamma  \n",
       "\n",
       "[5 rows x 85 columns]"
      ]
     },
     "execution_count": 2,
     "metadata": {},
     "output_type": "execute_result"
    }
   ],
   "source": [
    "auburn_df = pd.read_csv(\"../Data/Vultology_Database_2024-02-24_-_PlusAuthors_FullData.csv\", index_col=0)\n",
    "auburn_df.head()"
   ]
  },
  {
   "cell_type": "code",
   "execution_count": 3,
   "metadata": {},
   "outputs": [
    {
     "name": "stdout",
     "output_type": "stream",
     "text": [
      "<class 'pandas.core.frame.DataFrame'>\n",
      "Int64Index: 502 entries, 0 to 501\n",
      "Data columns (total 85 columns):\n",
      " #   Column                         Non-Null Count  Dtype  \n",
      "---  ------                         --------------  -----  \n",
      " 0   Sample Name                    502 non-null    object \n",
      " 1   Vultologist                    502 non-null    object \n",
      " 2   Type                           502 non-null    object \n",
      " 3   Development                    502 non-null    object \n",
      " 4   Emotions                       502 non-null    object \n",
      " 5   Fallen Affect                  502 non-null    float64\n",
      " 6   J Signal Mixing                291 non-null    object \n",
      " 7   P Signal Mixing                290 non-null    object \n",
      " 8   Sex                            502 non-null    object \n",
      " 9   Age Range                      502 non-null    object \n",
      " 10  Geography                      502 non-null    object \n",
      " 11  Ethnicity                      502 non-null    object \n",
      " 12  R1 Rigid Posture               502 non-null    float64\n",
      " 13  R2 Face Centric                502 non-null    float64\n",
      " 14  R3 Punctuated Motions          502 non-null    float64\n",
      " 15  R4 Vertical Movements          502 non-null    float64\n",
      " 16  R5 Subordinate Fluidity        502 non-null    float64\n",
      " 17  F1 Fluid Posture               502 non-null    float64\n",
      " 18  F2 Eye Centric                 502 non-null    float64\n",
      " 19  F3 Gliding Motions             502 non-null    float64\n",
      " 20  F4 Horizontal Movements        502 non-null    float64\n",
      " 21  F5 Subordinate Rigidity        502 non-null    float64\n",
      " 22  PF1 Restless Momentum          502 non-null    float64\n",
      " 23  PF2 Toggling Eyes              502 non-null    float64\n",
      " 24  PF3 Body Swaying               502 non-null    float64\n",
      " 25  PF4 Casual Hands               502 non-null    float64\n",
      " 26  PF5 Alert Perk Ups             502 non-null    float64\n",
      " 27  RF1 Viscous Inertia            502 non-null    float64\n",
      " 28  RF2 Fixed Gaze                 502 non-null    float64\n",
      " 29  RF3 Diagonal Eye Drifts        502 non-null    float64\n",
      " 30  RF4 Searching Scowling         502 non-null    float64\n",
      " 31  RF5 Narrow Head Zoning         502 non-null    float64\n",
      " 32  PR1 Head Pushes                502 non-null    float64\n",
      " 33  PR2 Head Shakes                502 non-null    float64\n",
      " 34  PR3 Shoulder Shrugs            502 non-null    float64\n",
      " 35  PR4 Fluent Articulation        502 non-null    float64\n",
      " 36  PR5 Projecting Hands           502 non-null    float64\n",
      " 37  RR1 Poised Receding            502 non-null    float64\n",
      " 38  RR2 Disengaging Eyes           502 non-null    float64\n",
      " 39  RR3 Exerted Pushes             502 non-null    float64\n",
      " 40  RR4 Momentum Halting           502 non-null    float64\n",
      " 41  RR5 Meticulous Hands           502 non-null    float64\n",
      " 42  CA1 Taut Nasolabial Area       502 non-null    float64\n",
      " 43  CA2 Vertical Snarling Smiles   502 non-null    float64\n",
      " 44  CA3 Four Point Pulling         502 non-null    float64\n",
      " 45  CA4 Wobbling Lips              502 non-null    float64\n",
      " 46  CA5 Asymmetrical Smirks        502 non-null    float64\n",
      " 47  CA6 Sassy Movements            502 non-null    float64\n",
      " 48  CA7 Plateau Velocity           502 non-null    float64\n",
      " 49  CA8 Nasal Breathy Voice        502 non-null    float64\n",
      " 50  CA9 Grasping Hands             502 non-null    float64\n",
      " 51  MS1 Lax Nasolabial Area        502 non-null    float64\n",
      " 52  MS2 Horizontal Curtain Smiles  502 non-null    float64\n",
      " 53  MS3 Two Point Pulling          502 non-null    float64\n",
      " 54  MS4 Symmetrical Lips           502 non-null    float64\n",
      " 55  MS5 Emotional Neutralization   502 non-null    float64\n",
      " 56  MS6 Coordinated Movements      502 non-null    float64\n",
      " 57  MS7 Parabolic Velocity         502 non-null    float64\n",
      " 58  MS8 Laryngeal Faint Voice      502 non-null    float64\n",
      " 59  MS9 Puppeteer Hands            502 non-null    float64\n",
      " 60  GR1 Taut Preseptal Area        502 non-null    float64\n",
      " 61  GR2 Lax Pretarsal Area         502 non-null    float64\n",
      " 62  GR3 Taut Outer Edges           502 non-null    float64\n",
      " 63  GR4 Intense Scowling           502 non-null    float64\n",
      " 64  GR5 Pointed Eye Toggles        502 non-null    float64\n",
      " 65  GR6 Eye Head Parallel Motion   502 non-null    float64\n",
      " 66  GR7 Grounding Effect           502 non-null    float64\n",
      " 67  GR8 Bodily Awareness           502 non-null    float64\n",
      " 68  SU1 Lax Preseptal Area         502 non-null    float64\n",
      " 69  SU2 Taut Pretarsal Area        502 non-null    float64\n",
      " 70  SU3 Lax Outer Edges            502 non-null    float64\n",
      " 71  SU4 Concerned Scowling         502 non-null    float64\n",
      " 72  SU5 Brushstrokes Eye Toggles   502 non-null    float64\n",
      " 73  SU6 Eye Head Trailing Motions  502 non-null    float64\n",
      " 74  SU7 Levity Effect              502 non-null    float64\n",
      " 75  SU8 Quirky Skits               502 non-null    float64\n",
      " 76  EU1 Responsive Nodding         502 non-null    float64\n",
      " 77  EU2 Polite Smiling             502 non-null    float64\n",
      " 78  EU3 Bashful Body Movements     502 non-null    float64\n",
      " 79  EG1 Upset Mouth Tension        502 non-null    float64\n",
      " 80  EG2 Assertive Pushing          502 non-null    float64\n",
      " 81  EG3 Stern Expressions          502 non-null    float64\n",
      " 82  sum                            502 non-null    float64\n",
      " 83  Lead Energetic                 502 non-null    object \n",
      " 84  Quadra                         502 non-null    object \n",
      "dtypes: float64(72), object(13)\n",
      "memory usage: 337.3+ KB\n"
     ]
    }
   ],
   "source": [
    "auburn_df.info()"
   ]
  },
  {
   "cell_type": "markdown",
   "metadata": {},
   "source": [
    "It's interesting to me that J Axis and P Axis have almost exactly the same number of samples with signal mixing. I might want to briefly investigate that:"
   ]
  },
  {
   "cell_type": "code",
   "execution_count": 4,
   "metadata": {},
   "outputs": [
    {
     "data": {
      "text/plain": [
       "low       231\n",
       "medium     47\n",
       "high       13\n",
       "Name: J Signal Mixing, dtype: int64"
      ]
     },
     "execution_count": 4,
     "metadata": {},
     "output_type": "execute_result"
    }
   ],
   "source": [
    "auburn_df['J Signal Mixing'].value_counts()"
   ]
  },
  {
   "cell_type": "code",
   "execution_count": 5,
   "metadata": {},
   "outputs": [
    {
     "data": {
      "text/plain": [
       "low       228\n",
       "medium     48\n",
       "high       14\n",
       "Name: P Signal Mixing, dtype: int64"
      ]
     },
     "execution_count": 5,
     "metadata": {},
     "output_type": "execute_result"
    }
   ],
   "source": [
    "auburn_df['P Signal Mixing'].value_counts()"
   ]
  },
  {
   "cell_type": "code",
   "execution_count": 6,
   "metadata": {},
   "outputs": [
    {
     "data": {
      "text/plain": [
       "0        low\n",
       "1        low\n",
       "2        low\n",
       "3        low\n",
       "4        low\n",
       "5        low\n",
       "6        low\n",
       "7        low\n",
       "8        low\n",
       "9     medium\n",
       "10       low\n",
       "11       low\n",
       "12       low\n",
       "13       low\n",
       "14       low\n",
       "15       low\n",
       "16       low\n",
       "17      high\n",
       "18       low\n",
       "19    medium\n",
       "20       low\n",
       "21       low\n",
       "22       low\n",
       "23    medium\n",
       "24       low\n",
       "25       low\n",
       "26       low\n",
       "27    medium\n",
       "28       low\n",
       "29    medium\n",
       "30       low\n",
       "31       low\n",
       "32       low\n",
       "33       low\n",
       "34       low\n",
       "35       low\n",
       "36       low\n",
       "37    medium\n",
       "38       low\n",
       "39       low\n",
       "40       low\n",
       "41       low\n",
       "42       NaN\n",
       "43       low\n",
       "44       low\n",
       "45       low\n",
       "46       low\n",
       "47       low\n",
       "48    medium\n",
       "49       NaN\n",
       "50      high\n",
       "51    medium\n",
       "52       low\n",
       "53       low\n",
       "54       low\n",
       "Name: J Signal Mixing, dtype: object"
      ]
     },
     "execution_count": 6,
     "metadata": {},
     "output_type": "execute_result"
    }
   ],
   "source": [
    "auburn_df['J Signal Mixing'].head(55)"
   ]
  },
  {
   "cell_type": "markdown",
   "metadata": {},
   "source": [
    "So it would seem that most recent samples have signal mixing labels, which would suggest that it wasn't common practice to include such information in older samples. I'm not sure how important that is"
   ]
  },
  {
   "cell_type": "markdown",
   "metadata": {},
   "source": [
    "The main alteration that we want to make to reach the final Auburn cut is to exclude Vultology reports written by Vultologists with 5 or fewer reports, so we can just get right to that"
   ]
  },
  {
   "cell_type": "code",
   "execution_count": 7,
   "metadata": {},
   "outputs": [
    {
     "data": {
      "text/plain": [
       "Calin Copil          207\n",
       "Juan E. Sandoval     147\n",
       "Peter Foy             47\n",
       "Ash Rose              28\n",
       "Sierra Schwartz       26\n",
       "Hila Hershkoviz       15\n",
       "Jacquelyn Scott       14\n",
       "Nathaniel Vetter      10\n",
       "Mitchell Newman        4\n",
       "Ahmad Aldroubi         2\n",
       "Miriam Greenfield      1\n",
       "Kyle O’Reilly          1\n",
       "Name: Vultologist, dtype: int64"
      ]
     },
     "execution_count": 7,
     "metadata": {},
     "output_type": "execute_result"
    }
   ],
   "source": [
    "auburn_df['Vultologist'].value_counts()"
   ]
  },
  {
   "cell_type": "markdown",
   "metadata": {},
   "source": [
    "Thus, Vultology reports by myself (Mitchell Newman), Ahmad, Miriam, and Kyle, as well as Hila, Jacquelyn and Nathaniel will be excluded from the data for now "
   ]
  },
  {
   "cell_type": "code",
   "execution_count": 8,
   "metadata": {},
   "outputs": [
    {
     "data": {
      "text/plain": [
       "['Calin Copil', 'Juan E. Sandoval', 'Peter Foy', 'Ash Rose', 'Sierra Schwartz']"
      ]
     },
     "execution_count": 8,
     "metadata": {},
     "output_type": "execute_result"
    }
   ],
   "source": [
    "vultologists_included = list(auburn_df['Vultologist'].value_counts()[auburn_df['Vultologist'].value_counts() > 20].index)\n",
    "vultologists_included"
   ]
  },
  {
   "cell_type": "code",
   "execution_count": 9,
   "metadata": {},
   "outputs": [
    {
     "name": "stdout",
     "output_type": "stream",
     "text": [
      "<class 'pandas.core.frame.DataFrame'>\n",
      "Int64Index: 455 entries, 1 to 501\n",
      "Data columns (total 85 columns):\n",
      " #   Column                         Non-Null Count  Dtype  \n",
      "---  ------                         --------------  -----  \n",
      " 0   Sample Name                    455 non-null    object \n",
      " 1   Vultologist                    455 non-null    object \n",
      " 2   Type                           455 non-null    object \n",
      " 3   Development                    455 non-null    object \n",
      " 4   Emotions                       455 non-null    object \n",
      " 5   Fallen Affect                  455 non-null    float64\n",
      " 6   J Signal Mixing                286 non-null    object \n",
      " 7   P Signal Mixing                286 non-null    object \n",
      " 8   Sex                            455 non-null    object \n",
      " 9   Age Range                      455 non-null    object \n",
      " 10  Geography                      455 non-null    object \n",
      " 11  Ethnicity                      455 non-null    object \n",
      " 12  R1 Rigid Posture               455 non-null    float64\n",
      " 13  R2 Face Centric                455 non-null    float64\n",
      " 14  R3 Punctuated Motions          455 non-null    float64\n",
      " 15  R4 Vertical Movements          455 non-null    float64\n",
      " 16  R5 Subordinate Fluidity        455 non-null    float64\n",
      " 17  F1 Fluid Posture               455 non-null    float64\n",
      " 18  F2 Eye Centric                 455 non-null    float64\n",
      " 19  F3 Gliding Motions             455 non-null    float64\n",
      " 20  F4 Horizontal Movements        455 non-null    float64\n",
      " 21  F5 Subordinate Rigidity        455 non-null    float64\n",
      " 22  PF1 Restless Momentum          455 non-null    float64\n",
      " 23  PF2 Toggling Eyes              455 non-null    float64\n",
      " 24  PF3 Body Swaying               455 non-null    float64\n",
      " 25  PF4 Casual Hands               455 non-null    float64\n",
      " 26  PF5 Alert Perk Ups             455 non-null    float64\n",
      " 27  RF1 Viscous Inertia            455 non-null    float64\n",
      " 28  RF2 Fixed Gaze                 455 non-null    float64\n",
      " 29  RF3 Diagonal Eye Drifts        455 non-null    float64\n",
      " 30  RF4 Searching Scowling         455 non-null    float64\n",
      " 31  RF5 Narrow Head Zoning         455 non-null    float64\n",
      " 32  PR1 Head Pushes                455 non-null    float64\n",
      " 33  PR2 Head Shakes                455 non-null    float64\n",
      " 34  PR3 Shoulder Shrugs            455 non-null    float64\n",
      " 35  PR4 Fluent Articulation        455 non-null    float64\n",
      " 36  PR5 Projecting Hands           455 non-null    float64\n",
      " 37  RR1 Poised Receding            455 non-null    float64\n",
      " 38  RR2 Disengaging Eyes           455 non-null    float64\n",
      " 39  RR3 Exerted Pushes             455 non-null    float64\n",
      " 40  RR4 Momentum Halting           455 non-null    float64\n",
      " 41  RR5 Meticulous Hands           455 non-null    float64\n",
      " 42  CA1 Taut Nasolabial Area       455 non-null    float64\n",
      " 43  CA2 Vertical Snarling Smiles   455 non-null    float64\n",
      " 44  CA3 Four Point Pulling         455 non-null    float64\n",
      " 45  CA4 Wobbling Lips              455 non-null    float64\n",
      " 46  CA5 Asymmetrical Smirks        455 non-null    float64\n",
      " 47  CA6 Sassy Movements            455 non-null    float64\n",
      " 48  CA7 Plateau Velocity           455 non-null    float64\n",
      " 49  CA8 Nasal Breathy Voice        455 non-null    float64\n",
      " 50  CA9 Grasping Hands             455 non-null    float64\n",
      " 51  MS1 Lax Nasolabial Area        455 non-null    float64\n",
      " 52  MS2 Horizontal Curtain Smiles  455 non-null    float64\n",
      " 53  MS3 Two Point Pulling          455 non-null    float64\n",
      " 54  MS4 Symmetrical Lips           455 non-null    float64\n",
      " 55  MS5 Emotional Neutralization   455 non-null    float64\n",
      " 56  MS6 Coordinated Movements      455 non-null    float64\n",
      " 57  MS7 Parabolic Velocity         455 non-null    float64\n",
      " 58  MS8 Laryngeal Faint Voice      455 non-null    float64\n",
      " 59  MS9 Puppeteer Hands            455 non-null    float64\n",
      " 60  GR1 Taut Preseptal Area        455 non-null    float64\n",
      " 61  GR2 Lax Pretarsal Area         455 non-null    float64\n",
      " 62  GR3 Taut Outer Edges           455 non-null    float64\n",
      " 63  GR4 Intense Scowling           455 non-null    float64\n",
      " 64  GR5 Pointed Eye Toggles        455 non-null    float64\n",
      " 65  GR6 Eye Head Parallel Motion   455 non-null    float64\n",
      " 66  GR7 Grounding Effect           455 non-null    float64\n",
      " 67  GR8 Bodily Awareness           455 non-null    float64\n",
      " 68  SU1 Lax Preseptal Area         455 non-null    float64\n",
      " 69  SU2 Taut Pretarsal Area        455 non-null    float64\n",
      " 70  SU3 Lax Outer Edges            455 non-null    float64\n",
      " 71  SU4 Concerned Scowling         455 non-null    float64\n",
      " 72  SU5 Brushstrokes Eye Toggles   455 non-null    float64\n",
      " 73  SU6 Eye Head Trailing Motions  455 non-null    float64\n",
      " 74  SU7 Levity Effect              455 non-null    float64\n",
      " 75  SU8 Quirky Skits               455 non-null    float64\n",
      " 76  EU1 Responsive Nodding         455 non-null    float64\n",
      " 77  EU2 Polite Smiling             455 non-null    float64\n",
      " 78  EU3 Bashful Body Movements     455 non-null    float64\n",
      " 79  EG1 Upset Mouth Tension        455 non-null    float64\n",
      " 80  EG2 Assertive Pushing          455 non-null    float64\n",
      " 81  EG3 Stern Expressions          455 non-null    float64\n",
      " 82  sum                            455 non-null    float64\n",
      " 83  Lead Energetic                 455 non-null    object \n",
      " 84  Quadra                         455 non-null    object \n",
      "dtypes: float64(72), object(13)\n",
      "memory usage: 305.7+ KB\n"
     ]
    }
   ],
   "source": [
    "auburn_df = auburn_df[auburn_df['Vultologist'].isin(vultologists_included)]\n",
    "auburn_df.info()"
   ]
  },
  {
   "cell_type": "markdown",
   "metadata": {},
   "source": [
    "That number of rows makes sense since we removed 47 entries\n",
    "\n",
    "Now we can begin analyzing the statistics of this dataset to see how, if at all significantly, it differs from the full set"
   ]
  },
  {
   "cell_type": "code",
   "execution_count": 10,
   "metadata": {},
   "outputs": [
    {
     "data": {
      "text/plain": [
       "count    455.000000\n",
       "mean     173.615385\n",
       "std       28.977193\n",
       "min       74.000000\n",
       "25%      154.000000\n",
       "50%      174.000000\n",
       "75%      193.000000\n",
       "max      255.000000\n",
       "Name: sum, dtype: float64"
      ]
     },
     "execution_count": 10,
     "metadata": {},
     "output_type": "execute_result"
    }
   ],
   "source": [
    "auburn_df['sum'].describe()"
   ]
  },
  {
   "cell_type": "markdown",
   "metadata": {},
   "source": [
    "The average moved up to 174 points in a vultology report instead of 172, I doubt this is a significant change but it does show that reports from more experienced vultologists are slightly richer\n",
    "\n",
    "Let's look at the vultology signals with the highest and lowest means"
   ]
  },
  {
   "cell_type": "code",
   "execution_count": 11,
   "metadata": {},
   "outputs": [
    {
     "data": {
      "text/plain": [
       "count    70.000000\n",
       "mean      2.466562\n",
       "std       0.759358\n",
       "min       0.804396\n",
       "25%       1.871429\n",
       "50%       2.539560\n",
       "75%       3.035165\n",
       "max       4.164835\n",
       "Name: mean, dtype: float64"
      ]
     },
     "execution_count": 11,
     "metadata": {},
     "output_type": "execute_result"
    }
   ],
   "source": [
    "auburn_means = auburn_df.drop(['sum', 'Fallen Affect'], axis=1).describe().loc['mean', :]\n",
    "auburn_means.describe()"
   ]
  },
  {
   "cell_type": "markdown",
   "metadata": {},
   "source": [
    "This is near identical to the previous distribution as well\n",
    "\n",
    "The 10 least marked vultology signals are:"
   ]
  },
  {
   "cell_type": "code",
   "execution_count": 12,
   "metadata": {},
   "outputs": [
    {
     "data": {
      "text/plain": [
       "SU6 Eye Head Trailing Motions    0.804396\n",
       "SU8 Quirky Skits                 0.903297\n",
       "CA9 Grasping Hands               0.982418\n",
       "MS9 Puppeteer Hands              1.037363\n",
       "EG1 Upset Mouth Tension          1.210989\n",
       "CA5 Asymmetrical Smirks          1.450549\n",
       "SU7 Levity Effect                1.465934\n",
       "EU3 Bashful Body Movements       1.483516\n",
       "RR3 Exerted Pushes               1.505495\n",
       "GR8 Bodily Awareness             1.564835\n",
       "Name: mean, dtype: float64"
      ]
     },
     "execution_count": 12,
     "metadata": {},
     "output_type": "execute_result"
    }
   ],
   "source": [
    "auburn_means.sort_values().head(10)"
   ]
  },
  {
   "cell_type": "markdown",
   "metadata": {},
   "source": [
    "It's quite similar, but Bodily Awareness newly enters out top 10 here whereas Intense Scowling exits\n",
    "\n",
    "10 most marked Vultology signals:"
   ]
  },
  {
   "cell_type": "code",
   "execution_count": 13,
   "metadata": {},
   "outputs": [
    {
     "data": {
      "text/plain": [
       "PR5 Projecting Hands       4.164835\n",
       "PF2 Toggling Eyes          3.778022\n",
       "PR4 Fluent Articulation    3.707692\n",
       "GR3 Taut Outer Edges       3.654945\n",
       "PR1 Head Pushes            3.580220\n",
       "PR2 Head Shakes            3.389011\n",
       "F2 Eye Centric             3.378022\n",
       "F1 Fluid Posture           3.358242\n",
       "F4 Horizontal Movements    3.347253\n",
       "PF3 Body Swaying           3.331868\n",
       "Name: mean, dtype: float64"
      ]
     },
     "execution_count": 13,
     "metadata": {},
     "output_type": "execute_result"
    }
   ],
   "source": [
    "auburn_means.sort_values(ascending=False).head(10)"
   ]
  },
  {
   "cell_type": "markdown",
   "metadata": {},
   "source": [
    "This is also very similar with just a few signals changing places, but it's the same 10\n",
    "\n",
    "Let's also look at std"
   ]
  },
  {
   "cell_type": "code",
   "execution_count": 14,
   "metadata": {},
   "outputs": [
    {
     "data": {
      "text/plain": [
       "count    70.000000\n",
       "mean      2.311199\n",
       "std       0.309176\n",
       "min       1.417007\n",
       "25%       2.158396\n",
       "50%       2.365811\n",
       "75%       2.540542\n",
       "max       2.867484\n",
       "Name: std, dtype: float64"
      ]
     },
     "execution_count": 14,
     "metadata": {},
     "output_type": "execute_result"
    }
   ],
   "source": [
    "auburn_std = auburn_df.drop(['sum', 'Fallen Affect'], axis=1).describe().loc['std', :]\n",
    "auburn_std.describe()"
   ]
  },
  {
   "cell_type": "markdown",
   "metadata": {},
   "source": [
    "Almost the same\n",
    "\n",
    "Bottom 10 (so most unvarying signals)"
   ]
  },
  {
   "cell_type": "code",
   "execution_count": 15,
   "metadata": {},
   "outputs": [
    {
     "data": {
      "text/plain": [
       "SU6 Eye Head Trailing Motions    1.417007\n",
       "MS9 Puppeteer Hands              1.611061\n",
       "PR3 Shoulder Shrugs              1.665947\n",
       "CA9 Grasping Hands               1.712779\n",
       "EG1 Upset Mouth Tension          1.750862\n",
       "SU8 Quirky Skits                 1.777084\n",
       "RR3 Exerted Pushes               1.825985\n",
       "RR4 Momentum Halting             1.847505\n",
       "EU3 Bashful Body Movements       1.910801\n",
       "CA5 Asymmetrical Smirks          1.929733\n",
       "Name: std, dtype: float64"
      ]
     },
     "execution_count": 15,
     "metadata": {},
     "output_type": "execute_result"
    }
   ],
   "source": [
    "auburn_std.sort_values().head(10)"
   ]
  },
  {
   "cell_type": "markdown",
   "metadata": {},
   "source": [
    "Basically the same\n",
    "\n",
    "Top 10 (most varying)"
   ]
  },
  {
   "cell_type": "code",
   "execution_count": 16,
   "metadata": {},
   "outputs": [
    {
     "data": {
      "text/plain": [
       "MS2 Horizontal Curtain Smiles    2.867484\n",
       "GR3 Taut Outer Edges             2.862805\n",
       "R1 Rigid Posture                 2.776746\n",
       "GR1 Taut Preseptal Area          2.757164\n",
       "MS3 Two Point Pulling            2.684820\n",
       "F2 Eye Centric                   2.666888\n",
       "MS7 Parabolic Velocity           2.654051\n",
       "R2 Face Centric                  2.647145\n",
       "F5 Subordinate Rigidity          2.627519\n",
       "MS1 Lax Nasolabial Area          2.625037\n",
       "Name: std, dtype: float64"
      ]
     },
     "execution_count": 16,
     "metadata": {},
     "output_type": "execute_result"
    }
   ],
   "source": [
    "auburn_std.sort_values(ascending=False).head(10)"
   ]
  },
  {
   "cell_type": "markdown",
   "metadata": {},
   "source": [
    "Also basically the same with just a few changing places, but the same 10\n",
    "\n",
    "Now let's look at Lead Energetic"
   ]
  },
  {
   "cell_type": "code",
   "execution_count": 17,
   "metadata": {},
   "outputs": [
    {
     "data": {
      "text/plain": [
       "Pe    150\n",
       "Je    126\n",
       "Pi    100\n",
       "Ji     79\n",
       "Name: Lead Energetic, dtype: int64"
      ]
     },
     "execution_count": 17,
     "metadata": {},
     "output_type": "execute_result"
    }
   ],
   "source": [
    "auburn_df['Lead Energetic'].value_counts()"
   ]
  },
  {
   "cell_type": "code",
   "execution_count": 18,
   "metadata": {},
   "outputs": [
    {
     "data": {
      "text/plain": [
       "Pe    32.967033\n",
       "Je    27.692308\n",
       "Pi    21.978022\n",
       "Ji    17.362637\n",
       "Name: Lead Energetic, dtype: float64"
      ]
     },
     "execution_count": 18,
     "metadata": {},
     "output_type": "execute_result"
    }
   ],
   "source": [
    "100 * auburn_df['Lead Energetic'].value_counts() / len(auburn_df)"
   ]
  },
  {
   "cell_type": "markdown",
   "metadata": {},
   "source": [
    "nearly identical to the full data\n",
    "\n",
    "Now let's look at Quadra"
   ]
  },
  {
   "cell_type": "code",
   "execution_count": 19,
   "metadata": {},
   "outputs": [
    {
     "data": {
      "text/plain": [
       "Beta     147\n",
       "Gamma    125\n",
       "Delta     92\n",
       "Alpha     91\n",
       "Name: Quadra, dtype: int64"
      ]
     },
     "execution_count": 19,
     "metadata": {},
     "output_type": "execute_result"
    }
   ],
   "source": [
    "auburn_df['Quadra'].value_counts()"
   ]
  },
  {
   "cell_type": "code",
   "execution_count": 20,
   "metadata": {},
   "outputs": [
    {
     "data": {
      "text/plain": [
       "Beta     32.307692\n",
       "Gamma    27.472527\n",
       "Delta    20.219780\n",
       "Alpha    20.000000\n",
       "Name: Quadra, dtype: float64"
      ]
     },
     "execution_count": 20,
     "metadata": {},
     "output_type": "execute_result"
    }
   ],
   "source": [
    "100 * auburn_df['Quadra'].value_counts() / len(auburn_df['Quadra'])"
   ]
  },
  {
   "cell_type": "markdown",
   "metadata": {},
   "source": [
    "nearly identical to the full data\n",
    "\n",
    "Now let's look at Type"
   ]
  },
  {
   "cell_type": "code",
   "execution_count": 21,
   "metadata": {},
   "outputs": [
    {
     "data": {
      "text/plain": [
       "seti    54\n",
       "sefi    41\n",
       "feni    37\n",
       "teni    36\n",
       "nife    34\n",
       "neti    30\n",
       "fesi    28\n",
       "nite    28\n",
       "tesi    25\n",
       "nefi    25\n",
       "fine    22\n",
       "tise    22\n",
       "site    20\n",
       "fise    20\n",
       "sife    18\n",
       "tine    15\n",
       "Name: Type, dtype: int64"
      ]
     },
     "execution_count": 21,
     "metadata": {},
     "output_type": "execute_result"
    }
   ],
   "source": [
    "auburn_df['Type'].value_counts()"
   ]
  },
  {
   "cell_type": "code",
   "execution_count": 22,
   "metadata": {},
   "outputs": [
    {
     "data": {
      "text/plain": [
       "seti    11.868132\n",
       "sefi     9.010989\n",
       "feni     8.131868\n",
       "teni     7.912088\n",
       "nife     7.472527\n",
       "neti     6.593407\n",
       "fesi     6.153846\n",
       "nite     6.153846\n",
       "tesi     5.494505\n",
       "nefi     5.494505\n",
       "fine     4.835165\n",
       "tise     4.835165\n",
       "site     4.395604\n",
       "fise     4.395604\n",
       "sife     3.956044\n",
       "tine     3.296703\n",
       "Name: Type, dtype: float64"
      ]
     },
     "execution_count": 22,
     "metadata": {},
     "output_type": "execute_result"
    }
   ],
   "source": [
    "100 * auburn_df['Type'].value_counts() / len(auburn_df['Type'])"
   ]
  },
  {
   "cell_type": "markdown",
   "metadata": {},
   "source": [
    "Very similar to the full data, though some of the types changed places in order of prominence and we have 1 more type with fewer than 30 samples, just something to keep in mind (though more data in the future may help with this)\n",
    "\n",
    "Now let's look at Development"
   ]
  },
  {
   "cell_type": "code",
   "execution_count": 23,
   "metadata": {},
   "outputs": [
    {
     "data": {
      "text/plain": [
       "i---    151\n",
       "i-i-     81\n",
       "ii--     68\n",
       "i--i     55\n",
       "iii-     33\n",
       "ii-i     30\n",
       "i-ii     20\n",
       "iiii     17\n",
       "Name: Development, dtype: int64"
      ]
     },
     "execution_count": 23,
     "metadata": {},
     "output_type": "execute_result"
    }
   ],
   "source": [
    "auburn_df['Development'].value_counts()"
   ]
  },
  {
   "cell_type": "code",
   "execution_count": 24,
   "metadata": {},
   "outputs": [
    {
     "data": {
      "text/plain": [
       "i---    33.186813\n",
       "i-i-    17.802198\n",
       "ii--    14.945055\n",
       "i--i    12.087912\n",
       "iii-     7.252747\n",
       "ii-i     6.593407\n",
       "i-ii     4.395604\n",
       "iiii     3.736264\n",
       "Name: Development, dtype: float64"
      ]
     },
     "execution_count": 24,
     "metadata": {},
     "output_type": "execute_result"
    }
   ],
   "source": [
    "100 * auburn_df['Development'].value_counts() / len(auburn_df['Development'])"
   ]
  },
  {
   "cell_type": "markdown",
   "metadata": {},
   "source": [
    "It's the exact same phenomenon that the full data contained, with i-i- being more than ii--, for reasons we already investigated in the Full Data EDA notebook (please see the explanation in that notebook if you are interested)\n",
    "\n",
    "Finally we'll look at Emotional Attitude"
   ]
  },
  {
   "cell_type": "code",
   "execution_count": 25,
   "metadata": {},
   "outputs": [
    {
     "data": {
      "text/plain": [
       "unguarded    219\n",
       "guarded      196\n",
       "neutral       40\n",
       "Name: Emotions, dtype: int64"
      ]
     },
     "execution_count": 25,
     "metadata": {},
     "output_type": "execute_result"
    }
   ],
   "source": [
    "auburn_df['Emotions'].value_counts()"
   ]
  },
  {
   "cell_type": "code",
   "execution_count": 26,
   "metadata": {},
   "outputs": [
    {
     "data": {
      "text/plain": [
       "unguarded    48.131868\n",
       "guarded      43.076923\n",
       "neutral       8.791209\n",
       "Name: Emotions, dtype: float64"
      ]
     },
     "execution_count": 26,
     "metadata": {},
     "output_type": "execute_result"
    }
   ],
   "source": [
    "100 * auburn_df['Emotions'].value_counts() / len(auburn_df['Emotions'])"
   ]
  },
  {
   "cell_type": "markdown",
   "metadata": {},
   "source": [
    "It's a nearly identical distribution to that of the Full Data with a little more neutral attitudes here, not sure if it's a significant difference (probably not since it's about 1%)"
   ]
  },
  {
   "cell_type": "markdown",
   "metadata": {},
   "source": [
    "On the whole, I see no significant aggregate differences between Auburn Cut distributions and those of the full set of usable data. I'll keep it for now though since there could be minor enough differences in the signals to impact ML results, but that remains to be seen"
   ]
  },
  {
   "cell_type": "code",
   "execution_count": 27,
   "metadata": {},
   "outputs": [],
   "source": [
    "auburn_df.to_csv('../Data/Vultology_Database_2024-02-24_-_PlusAuthors_AuburnCut.csv')"
   ]
  },
  {
   "cell_type": "code",
   "execution_count": null,
   "metadata": {},
   "outputs": [],
   "source": []
  }
 ],
 "metadata": {
  "kernelspec": {
   "display_name": "Python 3",
   "language": "python",
   "name": "python3"
  },
  "language_info": {
   "codemirror_mode": {
    "name": "ipython",
    "version": 3
   },
   "file_extension": ".py",
   "mimetype": "text/x-python",
   "name": "python",
   "nbconvert_exporter": "python",
   "pygments_lexer": "ipython3",
   "version": "3.8.5"
  }
 },
 "nbformat": 4,
 "nbformat_minor": 4
}
