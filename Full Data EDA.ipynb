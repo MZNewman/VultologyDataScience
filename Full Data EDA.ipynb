{
 "cells": [
  {
   "cell_type": "code",
   "execution_count": 1,
   "metadata": {},
   "outputs": [],
   "source": [
    "import pandas as pd\n",
    "import matplotlib.pyplot as plt\n",
    "import numpy as np\n",
    "import re"
   ]
  },
  {
   "cell_type": "markdown",
   "metadata": {},
   "source": [
    "I have three \"cuts\" of the data that I want to perform machine learning on:\n",
    "\n",
    "- all the usable data (i.e. excluding entries that don't have reports)\n",
    "\n",
    "- the \"Auburn\" cut, which should remove Vultology reports from authors that have 5 or fewer reports (since they are less experienced)\n",
    "\n",
    "- the \"Lapiz\" cut, layered over the Auburn cut, which should take into account this analysis:\n",
    "\"I'm seeing something rather suspicious in the data. If I calculate P-axis coordinates with the formula (Suspended - Grounded )/(Suspended + Grounded ), which ranges from -1 (completely Grounded) to +1 (completely Suspended), then there are 90 samples with -1, i.e., Grounded with zero signal mixing.  However, there are only 8 samples in the (-1, -0.9] interval.  In the (-0.9, 0.8] interval there are 40 samples. IMO that strongly suggests that many of those Grounded samples with zero P-axis signal mixing have neglected Suspended signals. The other end of the spectrum also looks suspicious, though it's less extreme. \n",
    "There are 36 samples with P-axis coordinates of 1 (Suspended with zero signal mixing), only 3 samples in the [0.9, 1) interval, but 26 samples in the [0.8, 0.9) interval. As for J-axis coordinates, (Measured - Candid)/(Measured + Candid), there are 55 samples with coordinates of 1 (Measured with zero signal mixing), 23 samples in the [0.9, 1) interval, and 35 in the [0.8, 0.9) interval.  There's still an odd dip, but it's a lot less suspicious. At the other end, there are 23 samples with -1 (Candid with zero signal mixing), 12 samples in the (-1, -0.9] interval and 18 samples in the (-0.9, -0.8] interval. It might be worth repeating the statistical analysis reported earlier in this channel just on samples in the (-0.9, 0.9) intervals.\"\n",
    "\n",
    "We will see if these different versions of the data give different statistical results or different results in machine learning algorithms."
   ]
  },
  {
   "cell_type": "markdown",
   "metadata": {},
   "source": [
    "## Statistics on all usable data"
   ]
  },
  {
   "cell_type": "code",
   "execution_count": 2,
   "metadata": {},
   "outputs": [
    {
     "data": {
      "text/html": [
       "<div>\n",
       "<style scoped>\n",
       "    .dataframe tbody tr th:only-of-type {\n",
       "        vertical-align: middle;\n",
       "    }\n",
       "\n",
       "    .dataframe tbody tr th {\n",
       "        vertical-align: top;\n",
       "    }\n",
       "\n",
       "    .dataframe thead th {\n",
       "        text-align: right;\n",
       "    }\n",
       "</style>\n",
       "<table border=\"1\" class=\"dataframe\">\n",
       "  <thead>\n",
       "    <tr style=\"text-align: right;\">\n",
       "      <th></th>\n",
       "      <th>Post Title</th>\n",
       "      <th>Unnamed: 1</th>\n",
       "      <th>Bio</th>\n",
       "      <th>Video URL</th>\n",
       "      <th>Video 2 URL</th>\n",
       "      <th>Video 3 URL</th>\n",
       "      <th>GIF Breakdown</th>\n",
       "      <th>Status</th>\n",
       "      <th>Type</th>\n",
       "      <th>Development</th>\n",
       "      <th>...</th>\n",
       "      <th>SU5 Brushstrokes Eye Toggles</th>\n",
       "      <th>SU6 Eye Head Trailing Motions</th>\n",
       "      <th>SU7 Levity Effect</th>\n",
       "      <th>SU8 Quirky Skits</th>\n",
       "      <th>EU1 Responsive Nodding</th>\n",
       "      <th>EU2 Polite Smiling</th>\n",
       "      <th>EU3 Bashful Body Movements</th>\n",
       "      <th>EG1 Upset Mouth Tension</th>\n",
       "      <th>EG2 Assertive Pushing</th>\n",
       "      <th>EG3 Stern Expressions</th>\n",
       "    </tr>\n",
       "  </thead>\n",
       "  <tbody>\n",
       "    <tr>\n",
       "      <th>0</th>\n",
       "      <td>Cœur de Pirate</td>\n",
       "      <td>Miriam Greenfield</td>\n",
       "      <td>Cœur de Pirate, born Béatrice Martin, is a Can...</td>\n",
       "      <td>https://www.youtube.com/watch?v=w3jpQhJzxNE</td>\n",
       "      <td>https://www.youtube.com/watch?v=uYLTMlPMy4s</td>\n",
       "      <td>https://www.youtube.com/watch?v=SH_tFK3jxJk</td>\n",
       "      <td>https://docs.google.com/document/d/1CiJP3tFJKM...</td>\n",
       "      <td>NaN</td>\n",
       "      <td>sefi</td>\n",
       "      <td>iii-</td>\n",
       "      <td>...</td>\n",
       "      <td>4.0</td>\n",
       "      <td>4.0</td>\n",
       "      <td>2.0</td>\n",
       "      <td>2.0</td>\n",
       "      <td>4.0</td>\n",
       "      <td>2.0</td>\n",
       "      <td>2.0</td>\n",
       "      <td>2.0</td>\n",
       "      <td>NaN</td>\n",
       "      <td>2.0</td>\n",
       "    </tr>\n",
       "    <tr>\n",
       "      <th>1</th>\n",
       "      <td>Michael Gervais</td>\n",
       "      <td>Calin Copil</td>\n",
       "      <td>Michael Gervais is a renowned high-performance...</td>\n",
       "      <td>https://www.youtube.com/watch?v=TYudsPrEGjg</td>\n",
       "      <td>https://www.youtube.com/watch?v=vjnN3O-xVuQ</td>\n",
       "      <td>https://www.youtube.com/watch?v=BtS2w6XRKrY</td>\n",
       "      <td>https://docs.google.com/document/d/1255Wg_3MzT...</td>\n",
       "      <td>NaN</td>\n",
       "      <td>fesi</td>\n",
       "      <td>i---</td>\n",
       "      <td>...</td>\n",
       "      <td>2.0</td>\n",
       "      <td>2.0</td>\n",
       "      <td>NaN</td>\n",
       "      <td>NaN</td>\n",
       "      <td>4.0</td>\n",
       "      <td>4.0</td>\n",
       "      <td>2.0</td>\n",
       "      <td>2.0</td>\n",
       "      <td>4.0</td>\n",
       "      <td>2.0</td>\n",
       "    </tr>\n",
       "    <tr>\n",
       "      <th>2</th>\n",
       "      <td>Joan Jett</td>\n",
       "      <td>Calin Copil</td>\n",
       "      <td>Joan Jett is an American rock singer, songwrit...</td>\n",
       "      <td>https://www.youtube.com/watch?v=v0NQ8dcbepo</td>\n",
       "      <td>https://www.youtube.com/watch?v=EhqzgK2LlMU</td>\n",
       "      <td>https://www.youtube.com/watch?v=zdRQL3IzeAE</td>\n",
       "      <td>https://docs.google.com/document/d/1MF6soq6Wzo...</td>\n",
       "      <td>NaN</td>\n",
       "      <td>seti</td>\n",
       "      <td>i-i-</td>\n",
       "      <td>...</td>\n",
       "      <td>NaN</td>\n",
       "      <td>NaN</td>\n",
       "      <td>NaN</td>\n",
       "      <td>2.0</td>\n",
       "      <td>2.0</td>\n",
       "      <td>2.0</td>\n",
       "      <td>NaN</td>\n",
       "      <td>2.0</td>\n",
       "      <td>4.0</td>\n",
       "      <td>4.0</td>\n",
       "    </tr>\n",
       "    <tr>\n",
       "      <th>3</th>\n",
       "      <td>Ben Stein</td>\n",
       "      <td>Calin Copil</td>\n",
       "      <td>Ben Stein is a versatile American figure, reco...</td>\n",
       "      <td>https://www.youtube.com/watch?si=ZdVV_C_6CE_rM...</td>\n",
       "      <td>https://www.youtube.com/watch?v=EYTTkenu60Y</td>\n",
       "      <td>NaN</td>\n",
       "      <td>https://docs.google.com/document/d/1ruWJyybgtG...</td>\n",
       "      <td>NaN</td>\n",
       "      <td>site</td>\n",
       "      <td>i---</td>\n",
       "      <td>...</td>\n",
       "      <td>2.0</td>\n",
       "      <td>NaN</td>\n",
       "      <td>NaN</td>\n",
       "      <td>NaN</td>\n",
       "      <td>NaN</td>\n",
       "      <td>0.0</td>\n",
       "      <td>NaN</td>\n",
       "      <td>2.0</td>\n",
       "      <td>2.0</td>\n",
       "      <td>2.0</td>\n",
       "    </tr>\n",
       "    <tr>\n",
       "      <th>4</th>\n",
       "      <td>Billie Joe Armstrong</td>\n",
       "      <td>Peter Foy</td>\n",
       "      <td>Billy Joe Armstrong, the frontman of the punk ...</td>\n",
       "      <td>https://www.youtube.com/watch?v=Y34ZvyN1Bjk&amp;t</td>\n",
       "      <td>https://www.youtube.com/watch?v=RwWUqlh2oMU&amp;t</td>\n",
       "      <td>https://www.youtube.com/watch?v=a5HctK656Hk</td>\n",
       "      <td>NaN</td>\n",
       "      <td>NaN</td>\n",
       "      <td>fise</td>\n",
       "      <td>ii-i</td>\n",
       "      <td>...</td>\n",
       "      <td>2.0</td>\n",
       "      <td>2.0</td>\n",
       "      <td>NaN</td>\n",
       "      <td>0.0</td>\n",
       "      <td>2.0</td>\n",
       "      <td>4.0</td>\n",
       "      <td>2.0</td>\n",
       "      <td>4.0</td>\n",
       "      <td>2.0</td>\n",
       "      <td>4.0</td>\n",
       "    </tr>\n",
       "  </tbody>\n",
       "</table>\n",
       "<p>5 rows × 91 columns</p>\n",
       "</div>"
      ],
      "text/plain": [
       "             Post Title         Unnamed: 1  \\\n",
       "0        Cœur de Pirate  Miriam Greenfield   \n",
       "1       Michael Gervais        Calin Copil   \n",
       "2             Joan Jett        Calin Copil   \n",
       "3             Ben Stein        Calin Copil   \n",
       "4  Billie Joe Armstrong          Peter Foy   \n",
       "\n",
       "                                                 Bio  \\\n",
       "0  Cœur de Pirate, born Béatrice Martin, is a Can...   \n",
       "1  Michael Gervais is a renowned high-performance...   \n",
       "2  Joan Jett is an American rock singer, songwrit...   \n",
       "3  Ben Stein is a versatile American figure, reco...   \n",
       "4  Billy Joe Armstrong, the frontman of the punk ...   \n",
       "\n",
       "                                           Video URL  \\\n",
       "0        https://www.youtube.com/watch?v=w3jpQhJzxNE   \n",
       "1        https://www.youtube.com/watch?v=TYudsPrEGjg   \n",
       "2        https://www.youtube.com/watch?v=v0NQ8dcbepo   \n",
       "3  https://www.youtube.com/watch?si=ZdVV_C_6CE_rM...   \n",
       "4      https://www.youtube.com/watch?v=Y34ZvyN1Bjk&t   \n",
       "\n",
       "                                     Video 2 URL  \\\n",
       "0    https://www.youtube.com/watch?v=uYLTMlPMy4s   \n",
       "1    https://www.youtube.com/watch?v=vjnN3O-xVuQ   \n",
       "2    https://www.youtube.com/watch?v=EhqzgK2LlMU   \n",
       "3    https://www.youtube.com/watch?v=EYTTkenu60Y   \n",
       "4  https://www.youtube.com/watch?v=RwWUqlh2oMU&t   \n",
       "\n",
       "                                   Video 3 URL  \\\n",
       "0  https://www.youtube.com/watch?v=SH_tFK3jxJk   \n",
       "1  https://www.youtube.com/watch?v=BtS2w6XRKrY   \n",
       "2  https://www.youtube.com/watch?v=zdRQL3IzeAE   \n",
       "3                                          NaN   \n",
       "4  https://www.youtube.com/watch?v=a5HctK656Hk   \n",
       "\n",
       "                                       GIF Breakdown Status  Type Development  \\\n",
       "0  https://docs.google.com/document/d/1CiJP3tFJKM...    NaN  sefi        iii-   \n",
       "1  https://docs.google.com/document/d/1255Wg_3MzT...    NaN  fesi        i---   \n",
       "2  https://docs.google.com/document/d/1MF6soq6Wzo...    NaN  seti        i-i-   \n",
       "3  https://docs.google.com/document/d/1ruWJyybgtG...    NaN  site        i---   \n",
       "4                                                NaN    NaN  fise        ii-i   \n",
       "\n",
       "   ... SU5 Brushstrokes Eye Toggles SU6 Eye Head Trailing Motions  \\\n",
       "0  ...                          4.0                           4.0   \n",
       "1  ...                          2.0                           2.0   \n",
       "2  ...                          NaN                           NaN   \n",
       "3  ...                          2.0                           NaN   \n",
       "4  ...                          2.0                           2.0   \n",
       "\n",
       "  SU7 Levity Effect SU8 Quirky Skits EU1 Responsive Nodding  \\\n",
       "0               2.0              2.0                    4.0   \n",
       "1               NaN              NaN                    4.0   \n",
       "2               NaN              2.0                    2.0   \n",
       "3               NaN              NaN                    NaN   \n",
       "4               NaN              0.0                    2.0   \n",
       "\n",
       "  EU2 Polite Smiling EU3 Bashful Body Movements EG1 Upset Mouth Tension  \\\n",
       "0                2.0                        2.0                     2.0   \n",
       "1                4.0                        2.0                     2.0   \n",
       "2                2.0                        NaN                     2.0   \n",
       "3                0.0                        NaN                     2.0   \n",
       "4                4.0                        2.0                     4.0   \n",
       "\n",
       "  EG2 Assertive Pushing  EG3 Stern Expressions  \n",
       "0                   NaN                    2.0  \n",
       "1                   4.0                    2.0  \n",
       "2                   4.0                    4.0  \n",
       "3                   2.0                    2.0  \n",
       "4                   2.0                    4.0  \n",
       "\n",
       "[5 rows x 91 columns]"
      ]
     },
     "execution_count": 2,
     "metadata": {},
     "output_type": "execute_result"
    }
   ],
   "source": [
    "all_df = pd.read_csv(\"Vultology_Database_2024-02-24_-_PlusAuthors.csv\")\n",
    "all_df.head()"
   ]
  },
  {
   "cell_type": "code",
   "execution_count": 3,
   "metadata": {},
   "outputs": [
    {
     "name": "stdout",
     "output_type": "stream",
     "text": [
      "<class 'pandas.core.frame.DataFrame'>\n",
      "RangeIndex: 1059 entries, 0 to 1058\n",
      "Data columns (total 91 columns):\n",
      " #   Column                         Non-Null Count  Dtype  \n",
      "---  ------                         --------------  -----  \n",
      " 0   Post Title                     1059 non-null   object \n",
      " 1   Unnamed: 1                     1059 non-null   object \n",
      " 2   Bio                            330 non-null    object \n",
      " 3   Video URL                      1059 non-null   object \n",
      " 4   Video 2 URL                    325 non-null    object \n",
      " 5   Video 3 URL                    286 non-null    object \n",
      " 6   GIF Breakdown                  177 non-null    object \n",
      " 7   Status                         559 non-null    object \n",
      " 8   Type                           1059 non-null   object \n",
      " 9   Development                    1059 non-null   object \n",
      " 10  Emotions                       1059 non-null   object \n",
      " 11  Fallen Affect                  549 non-null    object \n",
      " 12  J Signal Mixing                291 non-null    object \n",
      " 13  P Signal Mixing                290 non-null    object \n",
      " 14  Alternative                    149 non-null    object \n",
      " 15  Sex                            1059 non-null   object \n",
      " 16  Age Range                      583 non-null    object \n",
      " 17  Geography                      583 non-null    object \n",
      " 18  Ethnicity                      583 non-null    object \n",
      " 19  Checkbox                       0 non-null      float64\n",
      " 20  Checkbox 1                     332 non-null    object \n",
      " 21  R1 Rigid Posture Copy          355 non-null    float64\n",
      " 22  R2 Face Centric                372 non-null    float64\n",
      " 23  R3 Punctuated Motions          424 non-null    float64\n",
      " 24  R4 Vertical Movements          413 non-null    float64\n",
      " 25  R5 Subordinate Fluidity        264 non-null    float64\n",
      " 26  F1 Fluid Posture               412 non-null    float64\n",
      " 27  F2 Eye Centric                 413 non-null    float64\n",
      " 28  F3 Gliding Motions             439 non-null    float64\n",
      " 29  F4 Horizontal Movements        426 non-null    float64\n",
      " 30  F5 Subordinate Rigidity        307 non-null    float64\n",
      " 31  PF1 Restless Momentum          409 non-null    float64\n",
      " 32  PF2 Toggling Eyes              458 non-null    float64\n",
      " 33  PF3 Body Swaying               437 non-null    float64\n",
      " 34  PF4 Casual Hands               421 non-null    float64\n",
      " 35  PF5 Alert Perk Ups             415 non-null    float64\n",
      " 36  RF1 Viscous Inertia            323 non-null    float64\n",
      " 37  RF2 Fixed Gaze                 381 non-null    float64\n",
      " 38  RF3 Diagonal Eye Drifts        429 non-null    float64\n",
      " 39  RF4 Searching Scowling         355 non-null    float64\n",
      " 40  RF5 Narrow Head Zoning         344 non-null    float64\n",
      " 41  PR1 Head Pushes                455 non-null    float64\n",
      " 42  PR2 Head Shakes                463 non-null    float64\n",
      " 43  PR3 Shoulder Shrugs            372 non-null    float64\n",
      " 44  PR4 Fluent Articulation        450 non-null    float64\n",
      " 45  PR5 Projecting Hands           461 non-null    float64\n",
      " 46  RR1 Poised Receding            334 non-null    float64\n",
      " 47  RR2 Disengaging Eyes           401 non-null    float64\n",
      " 48  RR3 Exerted Pushes             310 non-null    float64\n",
      " 49  RR4 Momentum Halting           370 non-null    float64\n",
      " 50  RR5 Meticulous Hands           434 non-null    float64\n",
      " 51  CA1 Taut Nasolabial Area       396 non-null    float64\n",
      " 52  CA2 Vertical Snarling Smiles   311 non-null    float64\n",
      " 53  CA3 Four Point Pulling         362 non-null    float64\n",
      " 54  CA4 Wobbling Lips              388 non-null    float64\n",
      " 55  CA5 Asymmetrical Smirks        288 non-null    float64\n",
      " 56  CA6 Sassy Movements            334 non-null    float64\n",
      " 57  CA7 Plateau Velocity           333 non-null    float64\n",
      " 58  CA8 Nasal Breathy Voice        264 non-null    float64\n",
      " 59  CA9 Grasping Hands             225 non-null    float64\n",
      " 60  MS1 Lax Nasolabial Area        346 non-null    float64\n",
      " 61  MS2 Horizontal Curtain Smiles  337 non-null    float64\n",
      " 62  MS3 Two Point Pulling          343 non-null    float64\n",
      " 63  MS4 Symmetrical Lips           366 non-null    float64\n",
      " 64  MS5 Emotional Neutralization   349 non-null    float64\n",
      " 65  MS6 Coordinated Movements      387 non-null    float64\n",
      " 66  MS7 Parabolic Velocity         389 non-null    float64\n",
      " 67  MS8 Laryngeal Faint Voice      328 non-null    float64\n",
      " 68  MS9 Puppeteer Hands            246 non-null    float64\n",
      " 69  GR1 Taut Preseptal Area        365 non-null    float64\n",
      " 70  GR2 Lax Pretarsal Area         364 non-null    float64\n",
      " 71  GR3 Taut Outer Edges           385 non-null    float64\n",
      " 72  GR4 Intense Scowling           276 non-null    float64\n",
      " 73  GR5 Pointed Eye Toggles        391 non-null    float64\n",
      " 74  GR6 Eye Head Parallel Motion   360 non-null    float64\n",
      " 75  GR7 Grounding Effect           308 non-null    float64\n",
      " 76  GR8 Bodily Awareness           280 non-null    float64\n",
      " 77  SU1 Lax Preseptal Area         335 non-null    float64\n",
      " 78  SU2 Taut Pretarsal Area        347 non-null    float64\n",
      " 79  SU3 Lax Outer Edges            286 non-null    float64\n",
      " 80  SU4 Concerned Scowling         285 non-null    float64\n",
      " 81  SU5 Brushstrokes Eye Toggles   305 non-null    float64\n",
      " 82  SU6 Eye Head Trailing Motions  225 non-null    float64\n",
      " 83  SU7 Levity Effect              286 non-null    float64\n",
      " 84  SU8 Quirky Skits               209 non-null    float64\n",
      " 85  EU1 Responsive Nodding         368 non-null    float64\n",
      " 86  EU2 Polite Smiling             426 non-null    float64\n",
      " 87  EU3 Bashful Body Movements     292 non-null    float64\n",
      " 88  EG1 Upset Mouth Tension        263 non-null    float64\n",
      " 89  EG2 Assertive Pushing          297 non-null    float64\n",
      " 90  EG3 Stern Expressions          384 non-null    float64\n",
      "dtypes: float64(71), object(20)\n",
      "memory usage: 753.0+ KB\n"
     ]
    }
   ],
   "source": [
    "all_df.info()"
   ]
  },
  {
   "cell_type": "markdown",
   "metadata": {},
   "source": [
    "I need to understand what all of these columns mean so that I know if I will need them.\n",
    "\n",
    "- Post Title: name\n",
    "- Unnamed: 1 refers to the author of the Vultology report (which will be needed for the Auburn cut)\n",
    "- Bio: not needed for now\n",
    "- Video urls and GIF breakdown: not needed for now\n",
    "\n",
    "I don't know what Status is in this context, so let's start making a list of unneeded columns and explore Status"
   ]
  },
  {
   "cell_type": "code",
   "execution_count": 4,
   "metadata": {},
   "outputs": [
    {
     "data": {
      "text/plain": [
       "['Bio', 'Video URL', 'Video 2 URL', 'Video 3 URL', 'GIF Breakdown']"
      ]
     },
     "execution_count": 4,
     "metadata": {},
     "output_type": "execute_result"
    }
   ],
   "source": [
    "unneeded = ['Bio', 'Video URL', 'Video 2 URL', 'Video 3 URL', 'GIF Breakdown']\n",
    "unneeded"
   ]
  },
  {
   "cell_type": "code",
   "execution_count": 5,
   "metadata": {},
   "outputs": [
    {
     "data": {
      "text/plain": [
       "publish          551\n",
       "peer_reviewed      5\n",
       "pending            3\n",
       "Name: Status, dtype: int64"
      ]
     },
     "execution_count": 5,
     "metadata": {},
     "output_type": "execute_result"
    }
   ],
   "source": [
    "all_df['Status'].value_counts()"
   ]
  },
  {
   "cell_type": "markdown",
   "metadata": {},
   "source": [
    "Considering that a lot of those values are NaN, and most of the rest have the unclear designation \"Publish\", I doubt this is a meaningful feature, since technically all of these should be peer reviewed before being published anyways (thus the distinction between those two is muddled)\n",
    "\n",
    "We will certainly need type and development. Let's look at more of the columns:"
   ]
  },
  {
   "cell_type": "code",
   "execution_count": 6,
   "metadata": {},
   "outputs": [
    {
     "data": {
      "text/plain": [
       "['Bio', 'Video URL', 'Video 2 URL', 'Video 3 URL', 'GIF Breakdown', 'Status']"
      ]
     },
     "execution_count": 6,
     "metadata": {},
     "output_type": "execute_result"
    }
   ],
   "source": [
    "unneeded.append('Status')\n",
    "unneeded"
   ]
  },
  {
   "cell_type": "code",
   "execution_count": 7,
   "metadata": {
    "scrolled": true
   },
   "outputs": [
    {
     "data": {
      "text/html": [
       "<div>\n",
       "<style scoped>\n",
       "    .dataframe tbody tr th:only-of-type {\n",
       "        vertical-align: middle;\n",
       "    }\n",
       "\n",
       "    .dataframe tbody tr th {\n",
       "        vertical-align: top;\n",
       "    }\n",
       "\n",
       "    .dataframe thead th {\n",
       "        text-align: right;\n",
       "    }\n",
       "</style>\n",
       "<table border=\"1\" class=\"dataframe\">\n",
       "  <thead>\n",
       "    <tr style=\"text-align: right;\">\n",
       "      <th></th>\n",
       "      <th>Emotions</th>\n",
       "      <th>Fallen Affect</th>\n",
       "      <th>J Signal Mixing</th>\n",
       "      <th>P Signal Mixing</th>\n",
       "      <th>Alternative</th>\n",
       "      <th>Sex</th>\n",
       "      <th>Age Range</th>\n",
       "      <th>Geography</th>\n",
       "      <th>Ethnicity</th>\n",
       "      <th>Checkbox</th>\n",
       "      <th>...</th>\n",
       "      <th>SU5 Brushstrokes Eye Toggles</th>\n",
       "      <th>SU6 Eye Head Trailing Motions</th>\n",
       "      <th>SU7 Levity Effect</th>\n",
       "      <th>SU8 Quirky Skits</th>\n",
       "      <th>EU1 Responsive Nodding</th>\n",
       "      <th>EU2 Polite Smiling</th>\n",
       "      <th>EU3 Bashful Body Movements</th>\n",
       "      <th>EG1 Upset Mouth Tension</th>\n",
       "      <th>EG2 Assertive Pushing</th>\n",
       "      <th>EG3 Stern Expressions</th>\n",
       "    </tr>\n",
       "  </thead>\n",
       "  <tbody>\n",
       "    <tr>\n",
       "      <th>0</th>\n",
       "      <td>seelie</td>\n",
       "      <td>0</td>\n",
       "      <td>low</td>\n",
       "      <td>medium</td>\n",
       "      <td>SeFi II-</td>\n",
       "      <td>female</td>\n",
       "      <td>1980s</td>\n",
       "      <td>north_america</td>\n",
       "      <td>white/european</td>\n",
       "      <td>NaN</td>\n",
       "      <td>...</td>\n",
       "      <td>4.0</td>\n",
       "      <td>4.0</td>\n",
       "      <td>2.0</td>\n",
       "      <td>2.0</td>\n",
       "      <td>4.0</td>\n",
       "      <td>2.0</td>\n",
       "      <td>2.0</td>\n",
       "      <td>2.0</td>\n",
       "      <td>NaN</td>\n",
       "      <td>2.0</td>\n",
       "    </tr>\n",
       "    <tr>\n",
       "      <th>1</th>\n",
       "      <td>neutral</td>\n",
       "      <td>1</td>\n",
       "      <td>low</td>\n",
       "      <td>low</td>\n",
       "      <td>II--</td>\n",
       "      <td>male</td>\n",
       "      <td>-1</td>\n",
       "      <td>north_america</td>\n",
       "      <td>white/european</td>\n",
       "      <td>NaN</td>\n",
       "      <td>...</td>\n",
       "      <td>2.0</td>\n",
       "      <td>2.0</td>\n",
       "      <td>NaN</td>\n",
       "      <td>NaN</td>\n",
       "      <td>4.0</td>\n",
       "      <td>4.0</td>\n",
       "      <td>2.0</td>\n",
       "      <td>2.0</td>\n",
       "      <td>4.0</td>\n",
       "      <td>2.0</td>\n",
       "    </tr>\n",
       "    <tr>\n",
       "      <th>2</th>\n",
       "      <td>directive</td>\n",
       "      <td>2</td>\n",
       "      <td>low</td>\n",
       "      <td>low</td>\n",
       "      <td>NaN</td>\n",
       "      <td>female</td>\n",
       "      <td>1950s</td>\n",
       "      <td>north_america</td>\n",
       "      <td>white/european</td>\n",
       "      <td>NaN</td>\n",
       "      <td>...</td>\n",
       "      <td>NaN</td>\n",
       "      <td>NaN</td>\n",
       "      <td>NaN</td>\n",
       "      <td>2.0</td>\n",
       "      <td>2.0</td>\n",
       "      <td>2.0</td>\n",
       "      <td>NaN</td>\n",
       "      <td>2.0</td>\n",
       "      <td>4.0</td>\n",
       "      <td>4.0</td>\n",
       "    </tr>\n",
       "    <tr>\n",
       "      <th>3</th>\n",
       "      <td>unseelie</td>\n",
       "      <td>2</td>\n",
       "      <td>low</td>\n",
       "      <td>low</td>\n",
       "      <td>NaN</td>\n",
       "      <td>male</td>\n",
       "      <td>1940s</td>\n",
       "      <td>north_america</td>\n",
       "      <td>jewish</td>\n",
       "      <td>NaN</td>\n",
       "      <td>...</td>\n",
       "      <td>2.0</td>\n",
       "      <td>NaN</td>\n",
       "      <td>NaN</td>\n",
       "      <td>NaN</td>\n",
       "      <td>NaN</td>\n",
       "      <td>0.0</td>\n",
       "      <td>NaN</td>\n",
       "      <td>2.0</td>\n",
       "      <td>2.0</td>\n",
       "      <td>2.0</td>\n",
       "    </tr>\n",
       "    <tr>\n",
       "      <th>4</th>\n",
       "      <td>neutral</td>\n",
       "      <td>0</td>\n",
       "      <td>low</td>\n",
       "      <td>medium</td>\n",
       "      <td>Appears II-- in younger years</td>\n",
       "      <td>male</td>\n",
       "      <td>1970s</td>\n",
       "      <td>north_america</td>\n",
       "      <td>white/european</td>\n",
       "      <td>NaN</td>\n",
       "      <td>...</td>\n",
       "      <td>2.0</td>\n",
       "      <td>2.0</td>\n",
       "      <td>NaN</td>\n",
       "      <td>0.0</td>\n",
       "      <td>2.0</td>\n",
       "      <td>4.0</td>\n",
       "      <td>2.0</td>\n",
       "      <td>4.0</td>\n",
       "      <td>2.0</td>\n",
       "      <td>4.0</td>\n",
       "    </tr>\n",
       "  </tbody>\n",
       "</table>\n",
       "<p>5 rows × 81 columns</p>\n",
       "</div>"
      ],
      "text/plain": [
       "    Emotions Fallen Affect J Signal Mixing P Signal Mixing  \\\n",
       "0     seelie             0             low          medium   \n",
       "1    neutral             1             low             low   \n",
       "2  directive             2             low             low   \n",
       "3   unseelie             2             low             low   \n",
       "4    neutral             0             low          medium   \n",
       "\n",
       "                     Alternative     Sex Age Range      Geography  \\\n",
       "0                       SeFi II-  female     1980s  north_america   \n",
       "1                           II--    male        -1  north_america   \n",
       "2                            NaN  female     1950s  north_america   \n",
       "3                            NaN    male     1940s  north_america   \n",
       "4  Appears II-- in younger years    male     1970s  north_america   \n",
       "\n",
       "        Ethnicity  Checkbox  ... SU5 Brushstrokes Eye Toggles  \\\n",
       "0  white/european       NaN  ...                          4.0   \n",
       "1  white/european       NaN  ...                          2.0   \n",
       "2  white/european       NaN  ...                          NaN   \n",
       "3          jewish       NaN  ...                          2.0   \n",
       "4  white/european       NaN  ...                          2.0   \n",
       "\n",
       "   SU6 Eye Head Trailing Motions  SU7 Levity Effect  SU8 Quirky Skits  \\\n",
       "0                            4.0                2.0               2.0   \n",
       "1                            2.0                NaN               NaN   \n",
       "2                            NaN                NaN               2.0   \n",
       "3                            NaN                NaN               NaN   \n",
       "4                            2.0                NaN               0.0   \n",
       "\n",
       "   EU1 Responsive Nodding  EU2 Polite Smiling  EU3 Bashful Body Movements  \\\n",
       "0                     4.0                 2.0                         2.0   \n",
       "1                     4.0                 4.0                         2.0   \n",
       "2                     2.0                 2.0                         NaN   \n",
       "3                     NaN                 0.0                         NaN   \n",
       "4                     2.0                 4.0                         2.0   \n",
       "\n",
       "   EG1 Upset Mouth Tension  EG2 Assertive Pushing  EG3 Stern Expressions  \n",
       "0                      2.0                    NaN                    2.0  \n",
       "1                      2.0                    4.0                    2.0  \n",
       "2                      2.0                    4.0                    4.0  \n",
       "3                      2.0                    2.0                    2.0  \n",
       "4                      4.0                    2.0                    4.0  \n",
       "\n",
       "[5 rows x 81 columns]"
      ]
     },
     "execution_count": 7,
     "metadata": {},
     "output_type": "execute_result"
    }
   ],
   "source": [
    "all_df.iloc[:, 10:].head()"
   ]
  },
  {
   "cell_type": "markdown",
   "metadata": {},
   "source": [
    "We will need emotions (but might just prefer to divide it into guarded vs unguarded, can also include neutral)\n",
    "\n",
    "We will need Fallen affect\n",
    "\n",
    "Signal mixing would be good information to have as we may want to focus on samples with or without it\n",
    "\n",
    "Alternative is probably unnecessary since we have the raw signal data\n",
    "\n",
    "Sex is useful information to look for systematic differences\n",
    "\n",
    "Age range, geography and ethnicity could be useful information for cross-sectional analysis\n",
    "\n",
    "I have no idea what Checkbox is, so let's explore it"
   ]
  },
  {
   "cell_type": "code",
   "execution_count": 8,
   "metadata": {},
   "outputs": [
    {
     "data": {
      "text/plain": [
       "['Bio',\n",
       " 'Video URL',\n",
       " 'Video 2 URL',\n",
       " 'Video 3 URL',\n",
       " 'GIF Breakdown',\n",
       " 'Status',\n",
       " 'Alternative']"
      ]
     },
     "execution_count": 8,
     "metadata": {},
     "output_type": "execute_result"
    }
   ],
   "source": [
    "unneeded.append('Alternative')\n",
    "unneeded"
   ]
  },
  {
   "cell_type": "code",
   "execution_count": 9,
   "metadata": {},
   "outputs": [
    {
     "data": {
      "text/plain": [
       "Series([], Name: Checkbox, dtype: int64)"
      ]
     },
     "execution_count": 9,
     "metadata": {},
     "output_type": "execute_result"
    }
   ],
   "source": [
    "all_df['Checkbox'].value_counts()"
   ]
  },
  {
   "cell_type": "markdown",
   "metadata": {},
   "source": [
    "The entire thing is null so we'll be removing it"
   ]
  },
  {
   "cell_type": "code",
   "execution_count": 10,
   "metadata": {},
   "outputs": [
    {
     "data": {
      "text/plain": [
       "['Bio',\n",
       " 'Video URL',\n",
       " 'Video 2 URL',\n",
       " 'Video 3 URL',\n",
       " 'GIF Breakdown',\n",
       " 'Status',\n",
       " 'Alternative',\n",
       " 'Checkbox']"
      ]
     },
     "execution_count": 10,
     "metadata": {},
     "output_type": "execute_result"
    }
   ],
   "source": [
    "unneeded.append('Checkbox')\n",
    "unneeded"
   ]
  },
  {
   "cell_type": "code",
   "execution_count": 11,
   "metadata": {},
   "outputs": [
    {
     "data": {
      "text/html": [
       "<div>\n",
       "<style scoped>\n",
       "    .dataframe tbody tr th:only-of-type {\n",
       "        vertical-align: middle;\n",
       "    }\n",
       "\n",
       "    .dataframe tbody tr th {\n",
       "        vertical-align: top;\n",
       "    }\n",
       "\n",
       "    .dataframe thead th {\n",
       "        text-align: right;\n",
       "    }\n",
       "</style>\n",
       "<table border=\"1\" class=\"dataframe\">\n",
       "  <thead>\n",
       "    <tr style=\"text-align: right;\">\n",
       "      <th></th>\n",
       "      <th>Checkbox 1</th>\n",
       "      <th>R1 Rigid Posture Copy</th>\n",
       "      <th>R2 Face Centric</th>\n",
       "      <th>R3 Punctuated Motions</th>\n",
       "      <th>R4 Vertical Movements</th>\n",
       "      <th>R5 Subordinate Fluidity</th>\n",
       "      <th>F1 Fluid Posture</th>\n",
       "      <th>F2 Eye Centric</th>\n",
       "      <th>F3 Gliding Motions</th>\n",
       "      <th>F4 Horizontal Movements</th>\n",
       "      <th>...</th>\n",
       "      <th>SU5 Brushstrokes Eye Toggles</th>\n",
       "      <th>SU6 Eye Head Trailing Motions</th>\n",
       "      <th>SU7 Levity Effect</th>\n",
       "      <th>SU8 Quirky Skits</th>\n",
       "      <th>EU1 Responsive Nodding</th>\n",
       "      <th>EU2 Polite Smiling</th>\n",
       "      <th>EU3 Bashful Body Movements</th>\n",
       "      <th>EG1 Upset Mouth Tension</th>\n",
       "      <th>EG2 Assertive Pushing</th>\n",
       "      <th>EG3 Stern Expressions</th>\n",
       "    </tr>\n",
       "  </thead>\n",
       "  <tbody>\n",
       "    <tr>\n",
       "      <th>0</th>\n",
       "      <td>peter_j._foy | sierra_rose | miriam_greenfield</td>\n",
       "      <td>4.0</td>\n",
       "      <td>2.0</td>\n",
       "      <td>4.0</td>\n",
       "      <td>2.0</td>\n",
       "      <td>NaN</td>\n",
       "      <td>4.0</td>\n",
       "      <td>4.0</td>\n",
       "      <td>2.0</td>\n",
       "      <td>4.0</td>\n",
       "      <td>...</td>\n",
       "      <td>4.0</td>\n",
       "      <td>4.0</td>\n",
       "      <td>2.0</td>\n",
       "      <td>2.0</td>\n",
       "      <td>4.0</td>\n",
       "      <td>2.0</td>\n",
       "      <td>2.0</td>\n",
       "      <td>2.0</td>\n",
       "      <td>NaN</td>\n",
       "      <td>2.0</td>\n",
       "    </tr>\n",
       "    <tr>\n",
       "      <th>1</th>\n",
       "      <td>juan_e._sandoval | calin_copil | ash_rose</td>\n",
       "      <td>7.0</td>\n",
       "      <td>7.0</td>\n",
       "      <td>7.0</td>\n",
       "      <td>7.0</td>\n",
       "      <td>4.0</td>\n",
       "      <td>NaN</td>\n",
       "      <td>NaN</td>\n",
       "      <td>2.0</td>\n",
       "      <td>4.0</td>\n",
       "      <td>...</td>\n",
       "      <td>2.0</td>\n",
       "      <td>2.0</td>\n",
       "      <td>NaN</td>\n",
       "      <td>NaN</td>\n",
       "      <td>4.0</td>\n",
       "      <td>4.0</td>\n",
       "      <td>2.0</td>\n",
       "      <td>2.0</td>\n",
       "      <td>4.0</td>\n",
       "      <td>2.0</td>\n",
       "    </tr>\n",
       "    <tr>\n",
       "      <th>2</th>\n",
       "      <td>juan_e._sandoval | calin_copil | ash_rose | pe...</td>\n",
       "      <td>2.0</td>\n",
       "      <td>2.0</td>\n",
       "      <td>4.0</td>\n",
       "      <td>4.0</td>\n",
       "      <td>NaN</td>\n",
       "      <td>4.0</td>\n",
       "      <td>7.0</td>\n",
       "      <td>2.0</td>\n",
       "      <td>7.0</td>\n",
       "      <td>...</td>\n",
       "      <td>NaN</td>\n",
       "      <td>NaN</td>\n",
       "      <td>NaN</td>\n",
       "      <td>2.0</td>\n",
       "      <td>2.0</td>\n",
       "      <td>2.0</td>\n",
       "      <td>NaN</td>\n",
       "      <td>2.0</td>\n",
       "      <td>4.0</td>\n",
       "      <td>4.0</td>\n",
       "    </tr>\n",
       "    <tr>\n",
       "      <th>3</th>\n",
       "      <td>juan_e._sandoval | calin_copil | sierra_rose</td>\n",
       "      <td>NaN</td>\n",
       "      <td>2.0</td>\n",
       "      <td>2.0</td>\n",
       "      <td>2.0</td>\n",
       "      <td>NaN</td>\n",
       "      <td>2.0</td>\n",
       "      <td>2.0</td>\n",
       "      <td>2.0</td>\n",
       "      <td>2.0</td>\n",
       "      <td>...</td>\n",
       "      <td>2.0</td>\n",
       "      <td>NaN</td>\n",
       "      <td>NaN</td>\n",
       "      <td>NaN</td>\n",
       "      <td>NaN</td>\n",
       "      <td>0.0</td>\n",
       "      <td>NaN</td>\n",
       "      <td>2.0</td>\n",
       "      <td>2.0</td>\n",
       "      <td>2.0</td>\n",
       "    </tr>\n",
       "    <tr>\n",
       "      <th>4</th>\n",
       "      <td>ash_rose | jacquelyn_scott | peter_j._foy | si...</td>\n",
       "      <td>4.0</td>\n",
       "      <td>7.0</td>\n",
       "      <td>2.0</td>\n",
       "      <td>4.0</td>\n",
       "      <td>4.0</td>\n",
       "      <td>4.0</td>\n",
       "      <td>NaN</td>\n",
       "      <td>2.0</td>\n",
       "      <td>2.0</td>\n",
       "      <td>...</td>\n",
       "      <td>2.0</td>\n",
       "      <td>2.0</td>\n",
       "      <td>NaN</td>\n",
       "      <td>0.0</td>\n",
       "      <td>2.0</td>\n",
       "      <td>4.0</td>\n",
       "      <td>2.0</td>\n",
       "      <td>4.0</td>\n",
       "      <td>2.0</td>\n",
       "      <td>4.0</td>\n",
       "    </tr>\n",
       "  </tbody>\n",
       "</table>\n",
       "<p>5 rows × 71 columns</p>\n",
       "</div>"
      ],
      "text/plain": [
       "                                          Checkbox 1  R1 Rigid Posture Copy  \\\n",
       "0     peter_j._foy | sierra_rose | miriam_greenfield                    4.0   \n",
       "1          juan_e._sandoval | calin_copil | ash_rose                    7.0   \n",
       "2  juan_e._sandoval | calin_copil | ash_rose | pe...                    2.0   \n",
       "3       juan_e._sandoval | calin_copil | sierra_rose                    NaN   \n",
       "4  ash_rose | jacquelyn_scott | peter_j._foy | si...                    4.0   \n",
       "\n",
       "   R2 Face Centric  R3 Punctuated Motions  R4 Vertical Movements  \\\n",
       "0              2.0                    4.0                    2.0   \n",
       "1              7.0                    7.0                    7.0   \n",
       "2              2.0                    4.0                    4.0   \n",
       "3              2.0                    2.0                    2.0   \n",
       "4              7.0                    2.0                    4.0   \n",
       "\n",
       "   R5 Subordinate Fluidity  F1 Fluid Posture  F2 Eye Centric  \\\n",
       "0                      NaN               4.0             4.0   \n",
       "1                      4.0               NaN             NaN   \n",
       "2                      NaN               4.0             7.0   \n",
       "3                      NaN               2.0             2.0   \n",
       "4                      4.0               4.0             NaN   \n",
       "\n",
       "   F3 Gliding Motions  F4 Horizontal Movements  ...  \\\n",
       "0                 2.0                      4.0  ...   \n",
       "1                 2.0                      4.0  ...   \n",
       "2                 2.0                      7.0  ...   \n",
       "3                 2.0                      2.0  ...   \n",
       "4                 2.0                      2.0  ...   \n",
       "\n",
       "   SU5 Brushstrokes Eye Toggles  SU6 Eye Head Trailing Motions  \\\n",
       "0                           4.0                            4.0   \n",
       "1                           2.0                            2.0   \n",
       "2                           NaN                            NaN   \n",
       "3                           2.0                            NaN   \n",
       "4                           2.0                            2.0   \n",
       "\n",
       "   SU7 Levity Effect  SU8 Quirky Skits  EU1 Responsive Nodding  \\\n",
       "0                2.0               2.0                     4.0   \n",
       "1                NaN               NaN                     4.0   \n",
       "2                NaN               2.0                     2.0   \n",
       "3                NaN               NaN                     NaN   \n",
       "4                NaN               0.0                     2.0   \n",
       "\n",
       "   EU2 Polite Smiling  EU3 Bashful Body Movements  EG1 Upset Mouth Tension  \\\n",
       "0                 2.0                         2.0                      2.0   \n",
       "1                 4.0                         2.0                      2.0   \n",
       "2                 2.0                         NaN                      2.0   \n",
       "3                 0.0                         NaN                      2.0   \n",
       "4                 4.0                         2.0                      4.0   \n",
       "\n",
       "   EG2 Assertive Pushing  EG3 Stern Expressions  \n",
       "0                    NaN                    2.0  \n",
       "1                    4.0                    2.0  \n",
       "2                    4.0                    4.0  \n",
       "3                    2.0                    2.0  \n",
       "4                    2.0                    4.0  \n",
       "\n",
       "[5 rows x 71 columns]"
      ]
     },
     "execution_count": 11,
     "metadata": {},
     "output_type": "execute_result"
    }
   ],
   "source": [
    "all_df.iloc[:, 20:].head()"
   ]
  },
  {
   "cell_type": "markdown",
   "metadata": {},
   "source": [
    "Checkbox 1 includes all Vultologists that participated in peer reviewing the sample, but this information does not seem necessary for our purpose\n",
    "\n",
    "After that we have bonafide vultology signals, in which NaN should be replaced with 0. R1 also does not need to include \"Copy\" in its name"
   ]
  },
  {
   "cell_type": "code",
   "execution_count": 12,
   "metadata": {},
   "outputs": [
    {
     "data": {
      "text/plain": [
       "['Bio',\n",
       " 'Video URL',\n",
       " 'Video 2 URL',\n",
       " 'Video 3 URL',\n",
       " 'GIF Breakdown',\n",
       " 'Status',\n",
       " 'Alternative',\n",
       " 'Checkbox',\n",
       " 'Checkbox 1']"
      ]
     },
     "execution_count": 12,
     "metadata": {},
     "output_type": "execute_result"
    }
   ],
   "source": [
    "unneeded.append('Checkbox 1')\n",
    "unneeded"
   ]
  },
  {
   "cell_type": "code",
   "execution_count": 13,
   "metadata": {},
   "outputs": [
    {
     "name": "stdout",
     "output_type": "stream",
     "text": [
      "<class 'pandas.core.frame.DataFrame'>\n",
      "RangeIndex: 1059 entries, 0 to 1058\n",
      "Data columns (total 82 columns):\n",
      " #   Column                         Non-Null Count  Dtype  \n",
      "---  ------                         --------------  -----  \n",
      " 0   Post Title                     1059 non-null   object \n",
      " 1   Unnamed: 1                     1059 non-null   object \n",
      " 2   Type                           1059 non-null   object \n",
      " 3   Development                    1059 non-null   object \n",
      " 4   Emotions                       1059 non-null   object \n",
      " 5   Fallen Affect                  549 non-null    object \n",
      " 6   J Signal Mixing                291 non-null    object \n",
      " 7   P Signal Mixing                290 non-null    object \n",
      " 8   Sex                            1059 non-null   object \n",
      " 9   Age Range                      583 non-null    object \n",
      " 10  Geography                      583 non-null    object \n",
      " 11  Ethnicity                      583 non-null    object \n",
      " 12  R1 Rigid Posture Copy          355 non-null    float64\n",
      " 13  R2 Face Centric                372 non-null    float64\n",
      " 14  R3 Punctuated Motions          424 non-null    float64\n",
      " 15  R4 Vertical Movements          413 non-null    float64\n",
      " 16  R5 Subordinate Fluidity        264 non-null    float64\n",
      " 17  F1 Fluid Posture               412 non-null    float64\n",
      " 18  F2 Eye Centric                 413 non-null    float64\n",
      " 19  F3 Gliding Motions             439 non-null    float64\n",
      " 20  F4 Horizontal Movements        426 non-null    float64\n",
      " 21  F5 Subordinate Rigidity        307 non-null    float64\n",
      " 22  PF1 Restless Momentum          409 non-null    float64\n",
      " 23  PF2 Toggling Eyes              458 non-null    float64\n",
      " 24  PF3 Body Swaying               437 non-null    float64\n",
      " 25  PF4 Casual Hands               421 non-null    float64\n",
      " 26  PF5 Alert Perk Ups             415 non-null    float64\n",
      " 27  RF1 Viscous Inertia            323 non-null    float64\n",
      " 28  RF2 Fixed Gaze                 381 non-null    float64\n",
      " 29  RF3 Diagonal Eye Drifts        429 non-null    float64\n",
      " 30  RF4 Searching Scowling         355 non-null    float64\n",
      " 31  RF5 Narrow Head Zoning         344 non-null    float64\n",
      " 32  PR1 Head Pushes                455 non-null    float64\n",
      " 33  PR2 Head Shakes                463 non-null    float64\n",
      " 34  PR3 Shoulder Shrugs            372 non-null    float64\n",
      " 35  PR4 Fluent Articulation        450 non-null    float64\n",
      " 36  PR5 Projecting Hands           461 non-null    float64\n",
      " 37  RR1 Poised Receding            334 non-null    float64\n",
      " 38  RR2 Disengaging Eyes           401 non-null    float64\n",
      " 39  RR3 Exerted Pushes             310 non-null    float64\n",
      " 40  RR4 Momentum Halting           370 non-null    float64\n",
      " 41  RR5 Meticulous Hands           434 non-null    float64\n",
      " 42  CA1 Taut Nasolabial Area       396 non-null    float64\n",
      " 43  CA2 Vertical Snarling Smiles   311 non-null    float64\n",
      " 44  CA3 Four Point Pulling         362 non-null    float64\n",
      " 45  CA4 Wobbling Lips              388 non-null    float64\n",
      " 46  CA5 Asymmetrical Smirks        288 non-null    float64\n",
      " 47  CA6 Sassy Movements            334 non-null    float64\n",
      " 48  CA7 Plateau Velocity           333 non-null    float64\n",
      " 49  CA8 Nasal Breathy Voice        264 non-null    float64\n",
      " 50  CA9 Grasping Hands             225 non-null    float64\n",
      " 51  MS1 Lax Nasolabial Area        346 non-null    float64\n",
      " 52  MS2 Horizontal Curtain Smiles  337 non-null    float64\n",
      " 53  MS3 Two Point Pulling          343 non-null    float64\n",
      " 54  MS4 Symmetrical Lips           366 non-null    float64\n",
      " 55  MS5 Emotional Neutralization   349 non-null    float64\n",
      " 56  MS6 Coordinated Movements      387 non-null    float64\n",
      " 57  MS7 Parabolic Velocity         389 non-null    float64\n",
      " 58  MS8 Laryngeal Faint Voice      328 non-null    float64\n",
      " 59  MS9 Puppeteer Hands            246 non-null    float64\n",
      " 60  GR1 Taut Preseptal Area        365 non-null    float64\n",
      " 61  GR2 Lax Pretarsal Area         364 non-null    float64\n",
      " 62  GR3 Taut Outer Edges           385 non-null    float64\n",
      " 63  GR4 Intense Scowling           276 non-null    float64\n",
      " 64  GR5 Pointed Eye Toggles        391 non-null    float64\n",
      " 65  GR6 Eye Head Parallel Motion   360 non-null    float64\n",
      " 66  GR7 Grounding Effect           308 non-null    float64\n",
      " 67  GR8 Bodily Awareness           280 non-null    float64\n",
      " 68  SU1 Lax Preseptal Area         335 non-null    float64\n",
      " 69  SU2 Taut Pretarsal Area        347 non-null    float64\n",
      " 70  SU3 Lax Outer Edges            286 non-null    float64\n",
      " 71  SU4 Concerned Scowling         285 non-null    float64\n",
      " 72  SU5 Brushstrokes Eye Toggles   305 non-null    float64\n",
      " 73  SU6 Eye Head Trailing Motions  225 non-null    float64\n",
      " 74  SU7 Levity Effect              286 non-null    float64\n",
      " 75  SU8 Quirky Skits               209 non-null    float64\n",
      " 76  EU1 Responsive Nodding         368 non-null    float64\n",
      " 77  EU2 Polite Smiling             426 non-null    float64\n",
      " 78  EU3 Bashful Body Movements     292 non-null    float64\n",
      " 79  EG1 Upset Mouth Tension        263 non-null    float64\n",
      " 80  EG2 Assertive Pushing          297 non-null    float64\n",
      " 81  EG3 Stern Expressions          384 non-null    float64\n",
      "dtypes: float64(70), object(12)\n",
      "memory usage: 678.5+ KB\n"
     ]
    }
   ],
   "source": [
    "all_df.drop(labels=unneeded, axis=1, inplace=True)\n",
    "all_df.info()"
   ]
  },
  {
   "cell_type": "markdown",
   "metadata": {},
   "source": [
    "Now we need to fill each column appropriately:\n",
    "- Post Title should be changed to Sample Name\n",
    "- Unnamed should be changed to Vultologist\n",
    "- Copy should be removed from the R1 signal name\n",
    "- Emotions should just be Guarded, Unguarded and Neutral\n",
    "- Fallen Affect should have just 6 numerical values between 0 and 5, rather than being a string\n",
    "- NaN values in all Vultology signals (including Fallen Affect) should be replaced with 0"
   ]
  },
  {
   "cell_type": "code",
   "execution_count": 14,
   "metadata": {},
   "outputs": [
    {
     "name": "stdout",
     "output_type": "stream",
     "text": [
      "<class 'pandas.core.frame.DataFrame'>\n",
      "RangeIndex: 1059 entries, 0 to 1058\n",
      "Data columns (total 82 columns):\n",
      " #   Column                         Non-Null Count  Dtype  \n",
      "---  ------                         --------------  -----  \n",
      " 0   Sample Name                    1059 non-null   object \n",
      " 1   Vultologist                    1059 non-null   object \n",
      " 2   Type                           1059 non-null   object \n",
      " 3   Development                    1059 non-null   object \n",
      " 4   Emotions                       1059 non-null   object \n",
      " 5   Fallen Affect                  549 non-null    object \n",
      " 6   J Signal Mixing                291 non-null    object \n",
      " 7   P Signal Mixing                290 non-null    object \n",
      " 8   Sex                            1059 non-null   object \n",
      " 9   Age Range                      583 non-null    object \n",
      " 10  Geography                      583 non-null    object \n",
      " 11  Ethnicity                      583 non-null    object \n",
      " 12  R1 Rigid Posture               355 non-null    float64\n",
      " 13  R2 Face Centric                372 non-null    float64\n",
      " 14  R3 Punctuated Motions          424 non-null    float64\n",
      " 15  R4 Vertical Movements          413 non-null    float64\n",
      " 16  R5 Subordinate Fluidity        264 non-null    float64\n",
      " 17  F1 Fluid Posture               412 non-null    float64\n",
      " 18  F2 Eye Centric                 413 non-null    float64\n",
      " 19  F3 Gliding Motions             439 non-null    float64\n",
      " 20  F4 Horizontal Movements        426 non-null    float64\n",
      " 21  F5 Subordinate Rigidity        307 non-null    float64\n",
      " 22  PF1 Restless Momentum          409 non-null    float64\n",
      " 23  PF2 Toggling Eyes              458 non-null    float64\n",
      " 24  PF3 Body Swaying               437 non-null    float64\n",
      " 25  PF4 Casual Hands               421 non-null    float64\n",
      " 26  PF5 Alert Perk Ups             415 non-null    float64\n",
      " 27  RF1 Viscous Inertia            323 non-null    float64\n",
      " 28  RF2 Fixed Gaze                 381 non-null    float64\n",
      " 29  RF3 Diagonal Eye Drifts        429 non-null    float64\n",
      " 30  RF4 Searching Scowling         355 non-null    float64\n",
      " 31  RF5 Narrow Head Zoning         344 non-null    float64\n",
      " 32  PR1 Head Pushes                455 non-null    float64\n",
      " 33  PR2 Head Shakes                463 non-null    float64\n",
      " 34  PR3 Shoulder Shrugs            372 non-null    float64\n",
      " 35  PR4 Fluent Articulation        450 non-null    float64\n",
      " 36  PR5 Projecting Hands           461 non-null    float64\n",
      " 37  RR1 Poised Receding            334 non-null    float64\n",
      " 38  RR2 Disengaging Eyes           401 non-null    float64\n",
      " 39  RR3 Exerted Pushes             310 non-null    float64\n",
      " 40  RR4 Momentum Halting           370 non-null    float64\n",
      " 41  RR5 Meticulous Hands           434 non-null    float64\n",
      " 42  CA1 Taut Nasolabial Area       396 non-null    float64\n",
      " 43  CA2 Vertical Snarling Smiles   311 non-null    float64\n",
      " 44  CA3 Four Point Pulling         362 non-null    float64\n",
      " 45  CA4 Wobbling Lips              388 non-null    float64\n",
      " 46  CA5 Asymmetrical Smirks        288 non-null    float64\n",
      " 47  CA6 Sassy Movements            334 non-null    float64\n",
      " 48  CA7 Plateau Velocity           333 non-null    float64\n",
      " 49  CA8 Nasal Breathy Voice        264 non-null    float64\n",
      " 50  CA9 Grasping Hands             225 non-null    float64\n",
      " 51  MS1 Lax Nasolabial Area        346 non-null    float64\n",
      " 52  MS2 Horizontal Curtain Smiles  337 non-null    float64\n",
      " 53  MS3 Two Point Pulling          343 non-null    float64\n",
      " 54  MS4 Symmetrical Lips           366 non-null    float64\n",
      " 55  MS5 Emotional Neutralization   349 non-null    float64\n",
      " 56  MS6 Coordinated Movements      387 non-null    float64\n",
      " 57  MS7 Parabolic Velocity         389 non-null    float64\n",
      " 58  MS8 Laryngeal Faint Voice      328 non-null    float64\n",
      " 59  MS9 Puppeteer Hands            246 non-null    float64\n",
      " 60  GR1 Taut Preseptal Area        365 non-null    float64\n",
      " 61  GR2 Lax Pretarsal Area         364 non-null    float64\n",
      " 62  GR3 Taut Outer Edges           385 non-null    float64\n",
      " 63  GR4 Intense Scowling           276 non-null    float64\n",
      " 64  GR5 Pointed Eye Toggles        391 non-null    float64\n",
      " 65  GR6 Eye Head Parallel Motion   360 non-null    float64\n",
      " 66  GR7 Grounding Effect           308 non-null    float64\n",
      " 67  GR8 Bodily Awareness           280 non-null    float64\n",
      " 68  SU1 Lax Preseptal Area         335 non-null    float64\n",
      " 69  SU2 Taut Pretarsal Area        347 non-null    float64\n",
      " 70  SU3 Lax Outer Edges            286 non-null    float64\n",
      " 71  SU4 Concerned Scowling         285 non-null    float64\n",
      " 72  SU5 Brushstrokes Eye Toggles   305 non-null    float64\n",
      " 73  SU6 Eye Head Trailing Motions  225 non-null    float64\n",
      " 74  SU7 Levity Effect              286 non-null    float64\n",
      " 75  SU8 Quirky Skits               209 non-null    float64\n",
      " 76  EU1 Responsive Nodding         368 non-null    float64\n",
      " 77  EU2 Polite Smiling             426 non-null    float64\n",
      " 78  EU3 Bashful Body Movements     292 non-null    float64\n",
      " 79  EG1 Upset Mouth Tension        263 non-null    float64\n",
      " 80  EG2 Assertive Pushing          297 non-null    float64\n",
      " 81  EG3 Stern Expressions          384 non-null    float64\n",
      "dtypes: float64(70), object(12)\n",
      "memory usage: 678.5+ KB\n"
     ]
    }
   ],
   "source": [
    "all_columns = list(all_df.columns)\n",
    "all_columns[0] = 'Sample Name'\n",
    "all_columns[1] = 'Vultologist'\n",
    "all_columns[12] = 'R1 Rigid Posture'\n",
    "all_df.columns = all_columns\n",
    "all_df.info()"
   ]
  },
  {
   "cell_type": "code",
   "execution_count": 15,
   "metadata": {},
   "outputs": [
    {
     "data": {
      "text/plain": [
       "guarded      525\n",
       "unguarded    494\n",
       "neutral       40\n",
       "Name: Emotions, dtype: int64"
      ]
     },
     "execution_count": 15,
     "metadata": {},
     "output_type": "execute_result"
    }
   ],
   "source": [
    "all_df.loc[:, \"Emotions\"] = all_df.loc[:, \"Emotions\"].replace({\"unseelie\": \"guarded\", \"adaptive\": \"unguarded\", \"directive\": \"guarded\", \"seelie\": \"unguarded\"})\n",
    "all_df['Emotions'].value_counts()"
   ]
  },
  {
   "cell_type": "code",
   "execution_count": 16,
   "metadata": {},
   "outputs": [
    {
     "data": {
      "text/plain": [
       "0      245\n",
       "1      111\n",
       "2      105\n",
       "3       79\n",
       "4        5\n",
       "5        3\n",
       "No`      1\n",
       "Name: Fallen Affect, dtype: int64"
      ]
     },
     "execution_count": 16,
     "metadata": {},
     "output_type": "execute_result"
    }
   ],
   "source": [
    "all_df['Fallen Affect'].value_counts()"
   ]
  },
  {
   "cell_type": "code",
   "execution_count": 17,
   "metadata": {},
   "outputs": [
    {
     "data": {
      "text/plain": [
       "0    245\n",
       "1    111\n",
       "2    105\n",
       "3     79\n",
       "4      5\n",
       "5      3\n",
       "0      1\n",
       "Name: Fallen Affect, dtype: int64"
      ]
     },
     "execution_count": 17,
     "metadata": {},
     "output_type": "execute_result"
    }
   ],
   "source": [
    "all_df.loc[:, \"Fallen Affect\"] = all_df.loc[:, \"Fallen Affect\"].replace('No`', 0)\n",
    "all_df['Fallen Affect'].value_counts()"
   ]
  },
  {
   "cell_type": "code",
   "execution_count": 18,
   "metadata": {
    "scrolled": true
   },
   "outputs": [
    {
     "data": {
      "text/plain": [
       "0.0    246\n",
       "1.0    111\n",
       "2.0    105\n",
       "3.0     79\n",
       "4.0      5\n",
       "5.0      3\n",
       "Name: Fallen Affect, dtype: int64"
      ]
     },
     "execution_count": 18,
     "metadata": {},
     "output_type": "execute_result"
    }
   ],
   "source": [
    "all_df['Fallen Affect'] = all_df['Fallen Affect'].astype('float')\n",
    "all_df['Fallen Affect'].value_counts()"
   ]
  },
  {
   "cell_type": "code",
   "execution_count": 19,
   "metadata": {
    "scrolled": false
   },
   "outputs": [
    {
     "name": "stdout",
     "output_type": "stream",
     "text": [
      "<class 'pandas.core.frame.DataFrame'>\n",
      "RangeIndex: 1059 entries, 0 to 1058\n",
      "Data columns (total 82 columns):\n",
      " #   Column                         Non-Null Count  Dtype  \n",
      "---  ------                         --------------  -----  \n",
      " 0   Sample Name                    1059 non-null   object \n",
      " 1   Vultologist                    1059 non-null   object \n",
      " 2   Type                           1059 non-null   object \n",
      " 3   Development                    1059 non-null   object \n",
      " 4   Emotions                       1059 non-null   object \n",
      " 5   Fallen Affect                  549 non-null    float64\n",
      " 6   J Signal Mixing                291 non-null    object \n",
      " 7   P Signal Mixing                290 non-null    object \n",
      " 8   Sex                            1059 non-null   object \n",
      " 9   Age Range                      583 non-null    object \n",
      " 10  Geography                      583 non-null    object \n",
      " 11  Ethnicity                      583 non-null    object \n",
      " 12  R1 Rigid Posture               355 non-null    float64\n",
      " 13  R2 Face Centric                372 non-null    float64\n",
      " 14  R3 Punctuated Motions          424 non-null    float64\n",
      " 15  R4 Vertical Movements          413 non-null    float64\n",
      " 16  R5 Subordinate Fluidity        264 non-null    float64\n",
      " 17  F1 Fluid Posture               412 non-null    float64\n",
      " 18  F2 Eye Centric                 413 non-null    float64\n",
      " 19  F3 Gliding Motions             439 non-null    float64\n",
      " 20  F4 Horizontal Movements        426 non-null    float64\n",
      " 21  F5 Subordinate Rigidity        307 non-null    float64\n",
      " 22  PF1 Restless Momentum          409 non-null    float64\n",
      " 23  PF2 Toggling Eyes              458 non-null    float64\n",
      " 24  PF3 Body Swaying               437 non-null    float64\n",
      " 25  PF4 Casual Hands               421 non-null    float64\n",
      " 26  PF5 Alert Perk Ups             415 non-null    float64\n",
      " 27  RF1 Viscous Inertia            323 non-null    float64\n",
      " 28  RF2 Fixed Gaze                 381 non-null    float64\n",
      " 29  RF3 Diagonal Eye Drifts        429 non-null    float64\n",
      " 30  RF4 Searching Scowling         355 non-null    float64\n",
      " 31  RF5 Narrow Head Zoning         344 non-null    float64\n",
      " 32  PR1 Head Pushes                455 non-null    float64\n",
      " 33  PR2 Head Shakes                463 non-null    float64\n",
      " 34  PR3 Shoulder Shrugs            372 non-null    float64\n",
      " 35  PR4 Fluent Articulation        450 non-null    float64\n",
      " 36  PR5 Projecting Hands           461 non-null    float64\n",
      " 37  RR1 Poised Receding            334 non-null    float64\n",
      " 38  RR2 Disengaging Eyes           401 non-null    float64\n",
      " 39  RR3 Exerted Pushes             310 non-null    float64\n",
      " 40  RR4 Momentum Halting           370 non-null    float64\n",
      " 41  RR5 Meticulous Hands           434 non-null    float64\n",
      " 42  CA1 Taut Nasolabial Area       396 non-null    float64\n",
      " 43  CA2 Vertical Snarling Smiles   311 non-null    float64\n",
      " 44  CA3 Four Point Pulling         362 non-null    float64\n",
      " 45  CA4 Wobbling Lips              388 non-null    float64\n",
      " 46  CA5 Asymmetrical Smirks        288 non-null    float64\n",
      " 47  CA6 Sassy Movements            334 non-null    float64\n",
      " 48  CA7 Plateau Velocity           333 non-null    float64\n",
      " 49  CA8 Nasal Breathy Voice        264 non-null    float64\n",
      " 50  CA9 Grasping Hands             225 non-null    float64\n",
      " 51  MS1 Lax Nasolabial Area        346 non-null    float64\n",
      " 52  MS2 Horizontal Curtain Smiles  337 non-null    float64\n",
      " 53  MS3 Two Point Pulling          343 non-null    float64\n",
      " 54  MS4 Symmetrical Lips           366 non-null    float64\n",
      " 55  MS5 Emotional Neutralization   349 non-null    float64\n",
      " 56  MS6 Coordinated Movements      387 non-null    float64\n",
      " 57  MS7 Parabolic Velocity         389 non-null    float64\n",
      " 58  MS8 Laryngeal Faint Voice      328 non-null    float64\n",
      " 59  MS9 Puppeteer Hands            246 non-null    float64\n",
      " 60  GR1 Taut Preseptal Area        365 non-null    float64\n",
      " 61  GR2 Lax Pretarsal Area         364 non-null    float64\n",
      " 62  GR3 Taut Outer Edges           385 non-null    float64\n",
      " 63  GR4 Intense Scowling           276 non-null    float64\n",
      " 64  GR5 Pointed Eye Toggles        391 non-null    float64\n",
      " 65  GR6 Eye Head Parallel Motion   360 non-null    float64\n",
      " 66  GR7 Grounding Effect           308 non-null    float64\n",
      " 67  GR8 Bodily Awareness           280 non-null    float64\n",
      " 68  SU1 Lax Preseptal Area         335 non-null    float64\n",
      " 69  SU2 Taut Pretarsal Area        347 non-null    float64\n",
      " 70  SU3 Lax Outer Edges            286 non-null    float64\n",
      " 71  SU4 Concerned Scowling         285 non-null    float64\n",
      " 72  SU5 Brushstrokes Eye Toggles   305 non-null    float64\n",
      " 73  SU6 Eye Head Trailing Motions  225 non-null    float64\n",
      " 74  SU7 Levity Effect              286 non-null    float64\n",
      " 75  SU8 Quirky Skits               209 non-null    float64\n",
      " 76  EU1 Responsive Nodding         368 non-null    float64\n",
      " 77  EU2 Polite Smiling             426 non-null    float64\n",
      " 78  EU3 Bashful Body Movements     292 non-null    float64\n",
      " 79  EG1 Upset Mouth Tension        263 non-null    float64\n",
      " 80  EG2 Assertive Pushing          297 non-null    float64\n",
      " 81  EG3 Stern Expressions          384 non-null    float64\n",
      "dtypes: float64(71), object(11)\n",
      "memory usage: 678.5+ KB\n"
     ]
    }
   ],
   "source": [
    "all_df.info()"
   ]
  },
  {
   "cell_type": "code",
   "execution_count": 20,
   "metadata": {
    "scrolled": false
   },
   "outputs": [
    {
     "name": "stdout",
     "output_type": "stream",
     "text": [
      "<class 'pandas.core.frame.DataFrame'>\n",
      "RangeIndex: 1059 entries, 0 to 1058\n",
      "Data columns (total 82 columns):\n",
      " #   Column                         Non-Null Count  Dtype  \n",
      "---  ------                         --------------  -----  \n",
      " 0   Sample Name                    1059 non-null   object \n",
      " 1   Vultologist                    1059 non-null   object \n",
      " 2   Type                           1059 non-null   object \n",
      " 3   Development                    1059 non-null   object \n",
      " 4   Emotions                       1059 non-null   object \n",
      " 5   Fallen Affect                  1059 non-null   float64\n",
      " 6   J Signal Mixing                291 non-null    object \n",
      " 7   P Signal Mixing                290 non-null    object \n",
      " 8   Sex                            1059 non-null   object \n",
      " 9   Age Range                      583 non-null    object \n",
      " 10  Geography                      583 non-null    object \n",
      " 11  Ethnicity                      583 non-null    object \n",
      " 12  R1 Rigid Posture               1059 non-null   float64\n",
      " 13  R2 Face Centric                1059 non-null   float64\n",
      " 14  R3 Punctuated Motions          1059 non-null   float64\n",
      " 15  R4 Vertical Movements          1059 non-null   float64\n",
      " 16  R5 Subordinate Fluidity        1059 non-null   float64\n",
      " 17  F1 Fluid Posture               1059 non-null   float64\n",
      " 18  F2 Eye Centric                 1059 non-null   float64\n",
      " 19  F3 Gliding Motions             1059 non-null   float64\n",
      " 20  F4 Horizontal Movements        1059 non-null   float64\n",
      " 21  F5 Subordinate Rigidity        1059 non-null   float64\n",
      " 22  PF1 Restless Momentum          1059 non-null   float64\n",
      " 23  PF2 Toggling Eyes              1059 non-null   float64\n",
      " 24  PF3 Body Swaying               1059 non-null   float64\n",
      " 25  PF4 Casual Hands               1059 non-null   float64\n",
      " 26  PF5 Alert Perk Ups             1059 non-null   float64\n",
      " 27  RF1 Viscous Inertia            1059 non-null   float64\n",
      " 28  RF2 Fixed Gaze                 1059 non-null   float64\n",
      " 29  RF3 Diagonal Eye Drifts        1059 non-null   float64\n",
      " 30  RF4 Searching Scowling         1059 non-null   float64\n",
      " 31  RF5 Narrow Head Zoning         1059 non-null   float64\n",
      " 32  PR1 Head Pushes                1059 non-null   float64\n",
      " 33  PR2 Head Shakes                1059 non-null   float64\n",
      " 34  PR3 Shoulder Shrugs            1059 non-null   float64\n",
      " 35  PR4 Fluent Articulation        1059 non-null   float64\n",
      " 36  PR5 Projecting Hands           1059 non-null   float64\n",
      " 37  RR1 Poised Receding            1059 non-null   float64\n",
      " 38  RR2 Disengaging Eyes           1059 non-null   float64\n",
      " 39  RR3 Exerted Pushes             1059 non-null   float64\n",
      " 40  RR4 Momentum Halting           1059 non-null   float64\n",
      " 41  RR5 Meticulous Hands           1059 non-null   float64\n",
      " 42  CA1 Taut Nasolabial Area       1059 non-null   float64\n",
      " 43  CA2 Vertical Snarling Smiles   1059 non-null   float64\n",
      " 44  CA3 Four Point Pulling         1059 non-null   float64\n",
      " 45  CA4 Wobbling Lips              1059 non-null   float64\n",
      " 46  CA5 Asymmetrical Smirks        1059 non-null   float64\n",
      " 47  CA6 Sassy Movements            1059 non-null   float64\n",
      " 48  CA7 Plateau Velocity           1059 non-null   float64\n",
      " 49  CA8 Nasal Breathy Voice        1059 non-null   float64\n",
      " 50  CA9 Grasping Hands             1059 non-null   float64\n",
      " 51  MS1 Lax Nasolabial Area        1059 non-null   float64\n",
      " 52  MS2 Horizontal Curtain Smiles  1059 non-null   float64\n",
      " 53  MS3 Two Point Pulling          1059 non-null   float64\n",
      " 54  MS4 Symmetrical Lips           1059 non-null   float64\n",
      " 55  MS5 Emotional Neutralization   1059 non-null   float64\n",
      " 56  MS6 Coordinated Movements      1059 non-null   float64\n",
      " 57  MS7 Parabolic Velocity         1059 non-null   float64\n",
      " 58  MS8 Laryngeal Faint Voice      1059 non-null   float64\n",
      " 59  MS9 Puppeteer Hands            1059 non-null   float64\n",
      " 60  GR1 Taut Preseptal Area        1059 non-null   float64\n",
      " 61  GR2 Lax Pretarsal Area         1059 non-null   float64\n",
      " 62  GR3 Taut Outer Edges           1059 non-null   float64\n",
      " 63  GR4 Intense Scowling           1059 non-null   float64\n",
      " 64  GR5 Pointed Eye Toggles        1059 non-null   float64\n",
      " 65  GR6 Eye Head Parallel Motion   1059 non-null   float64\n",
      " 66  GR7 Grounding Effect           1059 non-null   float64\n",
      " 67  GR8 Bodily Awareness           1059 non-null   float64\n",
      " 68  SU1 Lax Preseptal Area         1059 non-null   float64\n",
      " 69  SU2 Taut Pretarsal Area        1059 non-null   float64\n",
      " 70  SU3 Lax Outer Edges            1059 non-null   float64\n",
      " 71  SU4 Concerned Scowling         1059 non-null   float64\n",
      " 72  SU5 Brushstrokes Eye Toggles   1059 non-null   float64\n",
      " 73  SU6 Eye Head Trailing Motions  1059 non-null   float64\n",
      " 74  SU7 Levity Effect              1059 non-null   float64\n",
      " 75  SU8 Quirky Skits               1059 non-null   float64\n",
      " 76  EU1 Responsive Nodding         1059 non-null   float64\n",
      " 77  EU2 Polite Smiling             1059 non-null   float64\n",
      " 78  EU3 Bashful Body Movements     1059 non-null   float64\n",
      " 79  EG1 Upset Mouth Tension        1059 non-null   float64\n",
      " 80  EG2 Assertive Pushing          1059 non-null   float64\n",
      " 81  EG3 Stern Expressions          1059 non-null   float64\n",
      "dtypes: float64(71), object(11)\n",
      "memory usage: 678.5+ KB\n"
     ]
    }
   ],
   "source": [
    "all_df.iloc[:, 5] = all_df.iloc[:, 5].fillna(0)\n",
    "all_df.iloc[:, 12:] = all_df.iloc[:, 12:].fillna(0)\n",
    "all_df.info()"
   ]
  },
  {
   "cell_type": "markdown",
   "metadata": {},
   "source": [
    "At this point, the data should be workable enough to examine its distributions"
   ]
  },
  {
   "cell_type": "code",
   "execution_count": 21,
   "metadata": {},
   "outputs": [
    {
     "data": {
      "text/html": [
       "<div>\n",
       "<style scoped>\n",
       "    .dataframe tbody tr th:only-of-type {\n",
       "        vertical-align: middle;\n",
       "    }\n",
       "\n",
       "    .dataframe tbody tr th {\n",
       "        vertical-align: top;\n",
       "    }\n",
       "\n",
       "    .dataframe thead th {\n",
       "        text-align: right;\n",
       "    }\n",
       "</style>\n",
       "<table border=\"1\" class=\"dataframe\">\n",
       "  <thead>\n",
       "    <tr style=\"text-align: right;\">\n",
       "      <th></th>\n",
       "      <th>Fallen Affect</th>\n",
       "      <th>R1 Rigid Posture</th>\n",
       "      <th>R2 Face Centric</th>\n",
       "      <th>R3 Punctuated Motions</th>\n",
       "      <th>R4 Vertical Movements</th>\n",
       "      <th>R5 Subordinate Fluidity</th>\n",
       "      <th>F1 Fluid Posture</th>\n",
       "      <th>F2 Eye Centric</th>\n",
       "      <th>F3 Gliding Motions</th>\n",
       "      <th>F4 Horizontal Movements</th>\n",
       "      <th>...</th>\n",
       "      <th>SU5 Brushstrokes Eye Toggles</th>\n",
       "      <th>SU6 Eye Head Trailing Motions</th>\n",
       "      <th>SU7 Levity Effect</th>\n",
       "      <th>SU8 Quirky Skits</th>\n",
       "      <th>EU1 Responsive Nodding</th>\n",
       "      <th>EU2 Polite Smiling</th>\n",
       "      <th>EU3 Bashful Body Movements</th>\n",
       "      <th>EG1 Upset Mouth Tension</th>\n",
       "      <th>EG2 Assertive Pushing</th>\n",
       "      <th>EG3 Stern Expressions</th>\n",
       "    </tr>\n",
       "  </thead>\n",
       "  <tbody>\n",
       "    <tr>\n",
       "      <th>count</th>\n",
       "      <td>1059.000000</td>\n",
       "      <td>1059.000000</td>\n",
       "      <td>1059.000000</td>\n",
       "      <td>1059.000000</td>\n",
       "      <td>1059.000000</td>\n",
       "      <td>1059.000000</td>\n",
       "      <td>1059.000000</td>\n",
       "      <td>1059.000000</td>\n",
       "      <td>1059.000000</td>\n",
       "      <td>1059.000000</td>\n",
       "      <td>...</td>\n",
       "      <td>1059.000000</td>\n",
       "      <td>1059.000000</td>\n",
       "      <td>1059.000000</td>\n",
       "      <td>1059.000000</td>\n",
       "      <td>1059.000000</td>\n",
       "      <td>1059.000000</td>\n",
       "      <td>1059.000000</td>\n",
       "      <td>1059.000000</td>\n",
       "      <td>1059.000000</td>\n",
       "      <td>1059.000000</td>\n",
       "    </tr>\n",
       "    <tr>\n",
       "      <th>mean</th>\n",
       "      <td>0.559962</td>\n",
       "      <td>1.395656</td>\n",
       "      <td>1.409821</td>\n",
       "      <td>1.444759</td>\n",
       "      <td>1.482531</td>\n",
       "      <td>0.860246</td>\n",
       "      <td>1.566572</td>\n",
       "      <td>1.574127</td>\n",
       "      <td>1.427762</td>\n",
       "      <td>1.555241</td>\n",
       "      <td>...</td>\n",
       "      <td>0.874410</td>\n",
       "      <td>0.389046</td>\n",
       "      <td>0.704438</td>\n",
       "      <td>0.417375</td>\n",
       "      <td>0.959396</td>\n",
       "      <td>1.305949</td>\n",
       "      <td>0.673277</td>\n",
       "      <td>0.544854</td>\n",
       "      <td>0.780925</td>\n",
       "      <td>1.057602</td>\n",
       "    </tr>\n",
       "    <tr>\n",
       "      <th>std</th>\n",
       "      <td>1.003276</td>\n",
       "      <td>2.401012</td>\n",
       "      <td>2.361101</td>\n",
       "      <td>2.201460</td>\n",
       "      <td>2.250483</td>\n",
       "      <td>1.957805</td>\n",
       "      <td>2.428185</td>\n",
       "      <td>2.487954</td>\n",
       "      <td>2.105269</td>\n",
       "      <td>2.272029</td>\n",
       "      <td>...</td>\n",
       "      <td>1.802198</td>\n",
       "      <td>1.062202</td>\n",
       "      <td>1.600003</td>\n",
       "      <td>1.280034</td>\n",
       "      <td>1.689860</td>\n",
       "      <td>2.039513</td>\n",
       "      <td>1.492563</td>\n",
       "      <td>1.308912</td>\n",
       "      <td>1.648501</td>\n",
       "      <td>1.862851</td>\n",
       "    </tr>\n",
       "    <tr>\n",
       "      <th>min</th>\n",
       "      <td>0.000000</td>\n",
       "      <td>0.000000</td>\n",
       "      <td>0.000000</td>\n",
       "      <td>0.000000</td>\n",
       "      <td>0.000000</td>\n",
       "      <td>0.000000</td>\n",
       "      <td>0.000000</td>\n",
       "      <td>0.000000</td>\n",
       "      <td>0.000000</td>\n",
       "      <td>0.000000</td>\n",
       "      <td>...</td>\n",
       "      <td>0.000000</td>\n",
       "      <td>0.000000</td>\n",
       "      <td>0.000000</td>\n",
       "      <td>0.000000</td>\n",
       "      <td>0.000000</td>\n",
       "      <td>0.000000</td>\n",
       "      <td>0.000000</td>\n",
       "      <td>0.000000</td>\n",
       "      <td>0.000000</td>\n",
       "      <td>0.000000</td>\n",
       "    </tr>\n",
       "    <tr>\n",
       "      <th>25%</th>\n",
       "      <td>0.000000</td>\n",
       "      <td>0.000000</td>\n",
       "      <td>0.000000</td>\n",
       "      <td>0.000000</td>\n",
       "      <td>0.000000</td>\n",
       "      <td>0.000000</td>\n",
       "      <td>0.000000</td>\n",
       "      <td>0.000000</td>\n",
       "      <td>0.000000</td>\n",
       "      <td>0.000000</td>\n",
       "      <td>...</td>\n",
       "      <td>0.000000</td>\n",
       "      <td>0.000000</td>\n",
       "      <td>0.000000</td>\n",
       "      <td>0.000000</td>\n",
       "      <td>0.000000</td>\n",
       "      <td>0.000000</td>\n",
       "      <td>0.000000</td>\n",
       "      <td>0.000000</td>\n",
       "      <td>0.000000</td>\n",
       "      <td>0.000000</td>\n",
       "    </tr>\n",
       "    <tr>\n",
       "      <th>50%</th>\n",
       "      <td>0.000000</td>\n",
       "      <td>0.000000</td>\n",
       "      <td>0.000000</td>\n",
       "      <td>0.000000</td>\n",
       "      <td>0.000000</td>\n",
       "      <td>0.000000</td>\n",
       "      <td>0.000000</td>\n",
       "      <td>0.000000</td>\n",
       "      <td>0.000000</td>\n",
       "      <td>0.000000</td>\n",
       "      <td>...</td>\n",
       "      <td>0.000000</td>\n",
       "      <td>0.000000</td>\n",
       "      <td>0.000000</td>\n",
       "      <td>0.000000</td>\n",
       "      <td>0.000000</td>\n",
       "      <td>0.000000</td>\n",
       "      <td>0.000000</td>\n",
       "      <td>0.000000</td>\n",
       "      <td>0.000000</td>\n",
       "      <td>0.000000</td>\n",
       "    </tr>\n",
       "    <tr>\n",
       "      <th>75%</th>\n",
       "      <td>1.000000</td>\n",
       "      <td>2.000000</td>\n",
       "      <td>2.000000</td>\n",
       "      <td>2.000000</td>\n",
       "      <td>2.000000</td>\n",
       "      <td>0.000000</td>\n",
       "      <td>4.000000</td>\n",
       "      <td>2.000000</td>\n",
       "      <td>2.000000</td>\n",
       "      <td>4.000000</td>\n",
       "      <td>...</td>\n",
       "      <td>0.000000</td>\n",
       "      <td>0.000000</td>\n",
       "      <td>0.000000</td>\n",
       "      <td>0.000000</td>\n",
       "      <td>2.000000</td>\n",
       "      <td>2.000000</td>\n",
       "      <td>0.000000</td>\n",
       "      <td>0.000000</td>\n",
       "      <td>0.000000</td>\n",
       "      <td>2.000000</td>\n",
       "    </tr>\n",
       "    <tr>\n",
       "      <th>max</th>\n",
       "      <td>5.000000</td>\n",
       "      <td>7.000000</td>\n",
       "      <td>7.000000</td>\n",
       "      <td>7.000000</td>\n",
       "      <td>7.000000</td>\n",
       "      <td>7.000000</td>\n",
       "      <td>7.000000</td>\n",
       "      <td>7.000000</td>\n",
       "      <td>7.000000</td>\n",
       "      <td>7.000000</td>\n",
       "      <td>...</td>\n",
       "      <td>7.000000</td>\n",
       "      <td>7.000000</td>\n",
       "      <td>7.000000</td>\n",
       "      <td>7.000000</td>\n",
       "      <td>7.000000</td>\n",
       "      <td>7.000000</td>\n",
       "      <td>7.000000</td>\n",
       "      <td>7.000000</td>\n",
       "      <td>7.000000</td>\n",
       "      <td>7.000000</td>\n",
       "    </tr>\n",
       "  </tbody>\n",
       "</table>\n",
       "<p>8 rows × 71 columns</p>\n",
       "</div>"
      ],
      "text/plain": [
       "       Fallen Affect  R1 Rigid Posture  R2 Face Centric  \\\n",
       "count    1059.000000       1059.000000      1059.000000   \n",
       "mean        0.559962          1.395656         1.409821   \n",
       "std         1.003276          2.401012         2.361101   \n",
       "min         0.000000          0.000000         0.000000   \n",
       "25%         0.000000          0.000000         0.000000   \n",
       "50%         0.000000          0.000000         0.000000   \n",
       "75%         1.000000          2.000000         2.000000   \n",
       "max         5.000000          7.000000         7.000000   \n",
       "\n",
       "       R3 Punctuated Motions  R4 Vertical Movements  R5 Subordinate Fluidity  \\\n",
       "count            1059.000000            1059.000000              1059.000000   \n",
       "mean                1.444759               1.482531                 0.860246   \n",
       "std                 2.201460               2.250483                 1.957805   \n",
       "min                 0.000000               0.000000                 0.000000   \n",
       "25%                 0.000000               0.000000                 0.000000   \n",
       "50%                 0.000000               0.000000                 0.000000   \n",
       "75%                 2.000000               2.000000                 0.000000   \n",
       "max                 7.000000               7.000000                 7.000000   \n",
       "\n",
       "       F1 Fluid Posture  F2 Eye Centric  F3 Gliding Motions  \\\n",
       "count       1059.000000     1059.000000         1059.000000   \n",
       "mean           1.566572        1.574127            1.427762   \n",
       "std            2.428185        2.487954            2.105269   \n",
       "min            0.000000        0.000000            0.000000   \n",
       "25%            0.000000        0.000000            0.000000   \n",
       "50%            0.000000        0.000000            0.000000   \n",
       "75%            4.000000        2.000000            2.000000   \n",
       "max            7.000000        7.000000            7.000000   \n",
       "\n",
       "       F4 Horizontal Movements  ...  SU5 Brushstrokes Eye Toggles  \\\n",
       "count              1059.000000  ...                   1059.000000   \n",
       "mean                  1.555241  ...                      0.874410   \n",
       "std                   2.272029  ...                      1.802198   \n",
       "min                   0.000000  ...                      0.000000   \n",
       "25%                   0.000000  ...                      0.000000   \n",
       "50%                   0.000000  ...                      0.000000   \n",
       "75%                   4.000000  ...                      0.000000   \n",
       "max                   7.000000  ...                      7.000000   \n",
       "\n",
       "       SU6 Eye Head Trailing Motions  SU7 Levity Effect  SU8 Quirky Skits  \\\n",
       "count                    1059.000000        1059.000000       1059.000000   \n",
       "mean                        0.389046           0.704438          0.417375   \n",
       "std                         1.062202           1.600003          1.280034   \n",
       "min                         0.000000           0.000000          0.000000   \n",
       "25%                         0.000000           0.000000          0.000000   \n",
       "50%                         0.000000           0.000000          0.000000   \n",
       "75%                         0.000000           0.000000          0.000000   \n",
       "max                         7.000000           7.000000          7.000000   \n",
       "\n",
       "       EU1 Responsive Nodding  EU2 Polite Smiling  EU3 Bashful Body Movements  \\\n",
       "count             1059.000000         1059.000000                 1059.000000   \n",
       "mean                 0.959396            1.305949                    0.673277   \n",
       "std                  1.689860            2.039513                    1.492563   \n",
       "min                  0.000000            0.000000                    0.000000   \n",
       "25%                  0.000000            0.000000                    0.000000   \n",
       "50%                  0.000000            0.000000                    0.000000   \n",
       "75%                  2.000000            2.000000                    0.000000   \n",
       "max                  7.000000            7.000000                    7.000000   \n",
       "\n",
       "       EG1 Upset Mouth Tension  EG2 Assertive Pushing  EG3 Stern Expressions  \n",
       "count              1059.000000            1059.000000            1059.000000  \n",
       "mean                  0.544854               0.780925               1.057602  \n",
       "std                   1.308912               1.648501               1.862851  \n",
       "min                   0.000000               0.000000               0.000000  \n",
       "25%                   0.000000               0.000000               0.000000  \n",
       "50%                   0.000000               0.000000               0.000000  \n",
       "75%                   0.000000               0.000000               2.000000  \n",
       "max                   7.000000               7.000000               7.000000  \n",
       "\n",
       "[8 rows x 71 columns]"
      ]
     },
     "execution_count": 21,
     "metadata": {},
     "output_type": "execute_result"
    }
   ],
   "source": [
    "all_df.describe()"
   ]
  },
  {
   "cell_type": "markdown",
   "metadata": {},
   "source": [
    "Right away you can notice that the columns have very similar numbers, but there are a lot of zeroes around even the 50 and 75 percentiles of data, which reminds me that many of these rows contains ALL zeroes because unfortunately about the half of the samples don't even have reports at all, so we need to deal with that issue to get any sense of the range of our data in the first place.\n",
    "\n",
    "There are also too many columns for us to realistically check all of them, so we can use the transpose on this describe dataframe and then describe the ranges for the various percentages, mean and std, etc., to make sure nothing is amiss.\n",
    "\n",
    "We'll start by investigating the sums of the rows, because some rows also have sums that aren't zero but are also very low numbers that don't make sense, so zero probably won't be the cutoff to put aside the data for now"
   ]
  },
  {
   "cell_type": "code",
   "execution_count": 22,
   "metadata": {},
   "outputs": [
    {
     "name": "stderr",
     "output_type": "stream",
     "text": [
      "<ipython-input-22-a2deded458d4>:1: FutureWarning: Dropping of nuisance columns in DataFrame reductions (with 'numeric_only=None') is deprecated; in a future version this will raise TypeError.  Select only valid columns before calling the reduction.\n",
      "  all_sum = all_df.sum(axis=1)\n"
     ]
    },
    {
     "data": {
      "text/plain": [
       "529      0.0\n",
       "424      0.0\n",
       "425      0.0\n",
       "426      0.0\n",
       "427      0.0\n",
       "       ...  \n",
       "48     245.0\n",
       "11     245.0\n",
       "219    249.0\n",
       "144    249.0\n",
       "84     255.0\n",
       "Length: 1059, dtype: float64"
      ]
     },
     "execution_count": 22,
     "metadata": {},
     "output_type": "execute_result"
    }
   ],
   "source": [
    "all_sum = all_df.sum(axis=1)\n",
    "all_sum.sort_values()"
   ]
  },
  {
   "cell_type": "code",
   "execution_count": 23,
   "metadata": {},
   "outputs": [
    {
     "data": {
      "image/png": "[encoded data removed]",
      "text/plain": [
       "<Figure size 432x288 with 1 Axes>"
      ]
     },
     "metadata": {
      "needs_background": "light"
     },
     "output_type": "display_data"
    }
   ],
   "source": [
    "all_sum.hist();"
   ]
  },
  {
   "cell_type": "markdown",
   "metadata": {},
   "source": [
    "The giant column of zeroes is non-useful data and there might be some small columns next to it that we can't even see"
   ]
  },
  {
   "cell_type": "code",
   "execution_count": 24,
   "metadata": {},
   "outputs": [
    {
     "data": {
      "text/plain": [
       "count    1059.000000\n",
       "mean       81.841360\n",
       "std        88.315122\n",
       "min         0.000000\n",
       "25%         0.000000\n",
       "50%         3.000000\n",
       "75%       171.000000\n",
       "max       255.000000\n",
       "dtype: float64"
      ]
     },
     "execution_count": 24,
     "metadata": {},
     "output_type": "execute_result"
    }
   ],
   "source": [
    "all_sum.sort_values().describe()"
   ]
  },
  {
   "cell_type": "markdown",
   "metadata": {},
   "source": [
    "We can certainly get rid of all rows that sum to zero, then we can use the head function to investigate where any jumps to realistic report signal totals occur"
   ]
  },
  {
   "cell_type": "code",
   "execution_count": 25,
   "metadata": {},
   "outputs": [
    {
     "data": {
      "text/plain": [
       "(549, 82)"
      ]
     },
     "execution_count": 25,
     "metadata": {},
     "output_type": "execute_result"
    }
   ],
   "source": [
    "all_df = all_df[all_sum > 0]\n",
    "all_df.shape"
   ]
  },
  {
   "cell_type": "markdown",
   "metadata": {},
   "source": [
    "That alone wiped out 510 rows, so let's remake the sum of rows to find the cutoff point that we're going to use"
   ]
  },
  {
   "cell_type": "code",
   "execution_count": 26,
   "metadata": {},
   "outputs": [
    {
     "name": "stderr",
     "output_type": "stream",
     "text": [
      "<ipython-input-26-1b0027dd2a16>:1: FutureWarning: Dropping of nuisance columns in DataFrame reductions (with 'numeric_only=None') is deprecated; in a future version this will raise TypeError.  Select only valid columns before calling the reduction.\n",
      "  all_sum = all_df.sum(axis=1)\n"
     ]
    },
    {
     "data": {
      "text/plain": [
       "1056    1.0\n",
       "1052    1.0\n",
       "1050    2.0\n",
       "1051    2.0\n",
       "1048    2.0\n",
       "771     3.0\n",
       "772     3.0\n",
       "437     3.0\n",
       "774     3.0\n",
       "802     3.0\n",
       "836     3.0\n",
       "436     3.0\n",
       "751     3.0\n",
       "463     3.0\n",
       "408     3.0\n",
       "395     3.0\n",
       "359     3.0\n",
       "348     3.0\n",
       "338     3.0\n",
       "336     3.0\n",
       "409     3.0\n",
       "765     3.0\n",
       "551     3.0\n",
       "472     3.0\n",
       "630     3.0\n",
       "635     3.0\n",
       "573     3.0\n",
       "637     3.0\n",
       "642     3.0\n",
       "663     3.0\n",
       "dtype: float64"
      ]
     },
     "execution_count": 26,
     "metadata": {},
     "output_type": "execute_result"
    }
   ],
   "source": [
    "all_sum = all_df.sum(axis=1)\n",
    "\n",
    "all_sum.sort_values().head(30)"
   ]
  },
  {
   "cell_type": "markdown",
   "metadata": {},
   "source": [
    "That's at least 30 values that are still too low to constitute a serious report, which is kind of strange. We'll have to look at the hist again"
   ]
  },
  {
   "cell_type": "code",
   "execution_count": 27,
   "metadata": {},
   "outputs": [
    {
     "data": {
      "image/png": "[encoded data removed]",
      "text/plain": [
       "<Figure size 432x288 with 1 Axes>"
      ]
     },
     "metadata": {
      "needs_background": "light"
     },
     "output_type": "display_data"
    }
   ],
   "source": [
    "all_sum.hist();"
   ]
  },
  {
   "cell_type": "markdown",
   "metadata": {},
   "source": [
    "It looks like we can safely consider anything below 50 as non-useful data. Let's examine the values below 50 and the values above 50 to get a closer look at the cutoff"
   ]
  },
  {
   "cell_type": "code",
   "execution_count": 28,
   "metadata": {},
   "outputs": [
    {
     "data": {
      "text/plain": [
       "1052    1.0\n",
       "1056    1.0\n",
       "1051    2.0\n",
       "1050    2.0\n",
       "1048    2.0\n",
       "318     3.0\n",
       "727     3.0\n",
       "728     3.0\n",
       "736     3.0\n",
       "740     3.0\n",
       "750     3.0\n",
       "751     3.0\n",
       "765     3.0\n",
       "673     3.0\n",
       "771     3.0\n",
       "772     3.0\n",
       "774     3.0\n",
       "802     3.0\n",
       "836     3.0\n",
       "763     3.0\n",
       "663     3.0\n",
       "688     3.0\n",
       "637     3.0\n",
       "336     3.0\n",
       "338     3.0\n",
       "348     3.0\n",
       "359     3.0\n",
       "395     3.0\n",
       "408     3.0\n",
       "642     3.0\n",
       "436     3.0\n",
       "437     3.0\n",
       "409     3.0\n",
       "472     3.0\n",
       "551     3.0\n",
       "557     3.0\n",
       "573     3.0\n",
       "574     3.0\n",
       "600     3.0\n",
       "630     3.0\n",
       "635     3.0\n",
       "463     3.0\n",
       "1053    5.0\n",
       "1049    8.0\n",
       "1055    8.0\n",
       "1057    8.0\n",
       "1054    9.0\n",
       "dtype: float64"
      ]
     },
     "execution_count": 28,
     "metadata": {},
     "output_type": "execute_result"
    }
   ],
   "source": [
    "all_sum[all_sum <= 50].sort_values()"
   ]
  },
  {
   "cell_type": "markdown",
   "metadata": {},
   "source": [
    "Not only are these below 50, they are far below, which only supports the idea that they should not be included."
   ]
  },
  {
   "cell_type": "code",
   "execution_count": 29,
   "metadata": {},
   "outputs": [
    {
     "data": {
      "text/plain": [
       "975      74.0\n",
       "264      78.0\n",
       "962      83.0\n",
       "945      90.0\n",
       "869      93.0\n",
       "999      95.0\n",
       "1001     97.0\n",
       "1037    100.0\n",
       "947     103.0\n",
       "935     111.0\n",
       "288     113.0\n",
       "957     113.0\n",
       "3       114.0\n",
       "37      116.0\n",
       "1040    116.0\n",
       "105     117.0\n",
       "201     118.0\n",
       "293     118.0\n",
       "960     119.0\n",
       "907     122.0\n",
       "93      124.0\n",
       "243     125.0\n",
       "197     125.0\n",
       "207     126.0\n",
       "870     127.0\n",
       "204     127.0\n",
       "256     129.0\n",
       "212     130.0\n",
       "273     130.0\n",
       "997     131.0\n",
       "dtype: float64"
      ]
     },
     "execution_count": 29,
     "metadata": {},
     "output_type": "execute_result"
    }
   ],
   "source": [
    "all_sum[all_sum > 50].sort_values().head(30)"
   ]
  },
  {
   "cell_type": "markdown",
   "metadata": {},
   "source": [
    "These are all far above 50 and follow a pretty continuous, predictable distribution, so I believe that these values fall within a sufficiently normal range to use.\n",
    "\n",
    "So we'll just get rid of everything under 50 and add sum of signals as a column to the dataframe so we can stay organized"
   ]
  },
  {
   "cell_type": "code",
   "execution_count": 30,
   "metadata": {},
   "outputs": [
    {
     "data": {
      "text/plain": [
       "(502, 82)"
      ]
     },
     "execution_count": 30,
     "metadata": {},
     "output_type": "execute_result"
    }
   ],
   "source": [
    "all_df = all_df[all_sum > 50]\n",
    "all_df.shape"
   ]
  },
  {
   "cell_type": "markdown",
   "metadata": {},
   "source": [
    "We just need to check for duplicates to make sure there isn't any funny business"
   ]
  },
  {
   "cell_type": "code",
   "execution_count": 31,
   "metadata": {},
   "outputs": [
    {
     "data": {
      "text/plain": [
       "0"
      ]
     },
     "execution_count": 31,
     "metadata": {},
     "output_type": "execute_result"
    }
   ],
   "source": [
    "all_df.duplicated().sum()"
   ]
  },
  {
   "cell_type": "markdown",
   "metadata": {},
   "source": [
    "There are no duplicates"
   ]
  },
  {
   "cell_type": "code",
   "execution_count": 32,
   "metadata": {},
   "outputs": [
    {
     "name": "stderr",
     "output_type": "stream",
     "text": [
      "<ipython-input-32-3036cfe25748>:1: FutureWarning: Dropping of nuisance columns in DataFrame reductions (with 'numeric_only=None') is deprecated; in a future version this will raise TypeError.  Select only valid columns before calling the reduction.\n",
      "  all_df['sum'] = all_df.sum(axis=1)\n"
     ]
    },
    {
     "data": {
      "text/html": [
       "<div>\n",
       "<style scoped>\n",
       "    .dataframe tbody tr th:only-of-type {\n",
       "        vertical-align: middle;\n",
       "    }\n",
       "\n",
       "    .dataframe tbody tr th {\n",
       "        vertical-align: top;\n",
       "    }\n",
       "\n",
       "    .dataframe thead th {\n",
       "        text-align: right;\n",
       "    }\n",
       "</style>\n",
       "<table border=\"1\" class=\"dataframe\">\n",
       "  <thead>\n",
       "    <tr style=\"text-align: right;\">\n",
       "      <th></th>\n",
       "      <th>Fallen Affect</th>\n",
       "      <th>R1 Rigid Posture</th>\n",
       "      <th>R2 Face Centric</th>\n",
       "      <th>R3 Punctuated Motions</th>\n",
       "      <th>R4 Vertical Movements</th>\n",
       "      <th>R5 Subordinate Fluidity</th>\n",
       "      <th>F1 Fluid Posture</th>\n",
       "      <th>F2 Eye Centric</th>\n",
       "      <th>F3 Gliding Motions</th>\n",
       "      <th>F4 Horizontal Movements</th>\n",
       "      <th>...</th>\n",
       "      <th>SU6 Eye Head Trailing Motions</th>\n",
       "      <th>SU7 Levity Effect</th>\n",
       "      <th>SU8 Quirky Skits</th>\n",
       "      <th>EU1 Responsive Nodding</th>\n",
       "      <th>EU2 Polite Smiling</th>\n",
       "      <th>EU3 Bashful Body Movements</th>\n",
       "      <th>EG1 Upset Mouth Tension</th>\n",
       "      <th>EG2 Assertive Pushing</th>\n",
       "      <th>EG3 Stern Expressions</th>\n",
       "      <th>sum</th>\n",
       "    </tr>\n",
       "  </thead>\n",
       "  <tbody>\n",
       "    <tr>\n",
       "      <th>count</th>\n",
       "      <td>502.000000</td>\n",
       "      <td>502.000000</td>\n",
       "      <td>502.000000</td>\n",
       "      <td>502.000000</td>\n",
       "      <td>502.000000</td>\n",
       "      <td>502.000000</td>\n",
       "      <td>502.000000</td>\n",
       "      <td>502.000000</td>\n",
       "      <td>502.000000</td>\n",
       "      <td>502.000000</td>\n",
       "      <td>...</td>\n",
       "      <td>502.000000</td>\n",
       "      <td>502.000000</td>\n",
       "      <td>502.000000</td>\n",
       "      <td>502.000000</td>\n",
       "      <td>502.000000</td>\n",
       "      <td>502.000000</td>\n",
       "      <td>502.000000</td>\n",
       "      <td>502.000000</td>\n",
       "      <td>502.000000</td>\n",
       "      <td>502.000000</td>\n",
       "    </tr>\n",
       "    <tr>\n",
       "      <th>mean</th>\n",
       "      <td>0.932271</td>\n",
       "      <td>2.944223</td>\n",
       "      <td>2.910359</td>\n",
       "      <td>3.047809</td>\n",
       "      <td>3.127490</td>\n",
       "      <td>1.814741</td>\n",
       "      <td>3.304781</td>\n",
       "      <td>3.320717</td>\n",
       "      <td>3.011952</td>\n",
       "      <td>3.280876</td>\n",
       "      <td>...</td>\n",
       "      <td>0.820717</td>\n",
       "      <td>1.486056</td>\n",
       "      <td>0.880478</td>\n",
       "      <td>2.023904</td>\n",
       "      <td>2.754980</td>\n",
       "      <td>1.420319</td>\n",
       "      <td>1.149402</td>\n",
       "      <td>1.647410</td>\n",
       "      <td>2.231076</td>\n",
       "      <td>172.336653</td>\n",
       "    </tr>\n",
       "    <tr>\n",
       "      <th>std</th>\n",
       "      <td>1.099535</td>\n",
       "      <td>2.757837</td>\n",
       "      <td>2.657782</td>\n",
       "      <td>2.310633</td>\n",
       "      <td>2.353848</td>\n",
       "      <td>2.521671</td>\n",
       "      <td>2.587537</td>\n",
       "      <td>2.694477</td>\n",
       "      <td>2.139790</td>\n",
       "      <td>2.286556</td>\n",
       "      <td>...</td>\n",
       "      <td>1.423964</td>\n",
       "      <td>2.059689</td>\n",
       "      <td>1.746870</td>\n",
       "      <td>1.967659</td>\n",
       "      <td>2.187272</td>\n",
       "      <td>1.908230</td>\n",
       "      <td>1.709312</td>\n",
       "      <td>2.075709</td>\n",
       "      <td>2.169097</td>\n",
       "      <td>29.470378</td>\n",
       "    </tr>\n",
       "    <tr>\n",
       "      <th>min</th>\n",
       "      <td>0.000000</td>\n",
       "      <td>0.000000</td>\n",
       "      <td>0.000000</td>\n",
       "      <td>0.000000</td>\n",
       "      <td>0.000000</td>\n",
       "      <td>0.000000</td>\n",
       "      <td>0.000000</td>\n",
       "      <td>0.000000</td>\n",
       "      <td>0.000000</td>\n",
       "      <td>0.000000</td>\n",
       "      <td>...</td>\n",
       "      <td>0.000000</td>\n",
       "      <td>0.000000</td>\n",
       "      <td>0.000000</td>\n",
       "      <td>0.000000</td>\n",
       "      <td>0.000000</td>\n",
       "      <td>0.000000</td>\n",
       "      <td>0.000000</td>\n",
       "      <td>0.000000</td>\n",
       "      <td>0.000000</td>\n",
       "      <td>74.000000</td>\n",
       "    </tr>\n",
       "    <tr>\n",
       "      <th>25%</th>\n",
       "      <td>0.000000</td>\n",
       "      <td>0.000000</td>\n",
       "      <td>0.000000</td>\n",
       "      <td>2.000000</td>\n",
       "      <td>2.000000</td>\n",
       "      <td>0.000000</td>\n",
       "      <td>0.000000</td>\n",
       "      <td>0.000000</td>\n",
       "      <td>2.000000</td>\n",
       "      <td>2.000000</td>\n",
       "      <td>...</td>\n",
       "      <td>0.000000</td>\n",
       "      <td>0.000000</td>\n",
       "      <td>0.000000</td>\n",
       "      <td>0.000000</td>\n",
       "      <td>2.000000</td>\n",
       "      <td>0.000000</td>\n",
       "      <td>0.000000</td>\n",
       "      <td>0.000000</td>\n",
       "      <td>0.000000</td>\n",
       "      <td>153.000000</td>\n",
       "    </tr>\n",
       "    <tr>\n",
       "      <th>50%</th>\n",
       "      <td>1.000000</td>\n",
       "      <td>2.000000</td>\n",
       "      <td>2.000000</td>\n",
       "      <td>2.000000</td>\n",
       "      <td>3.000000</td>\n",
       "      <td>0.000000</td>\n",
       "      <td>4.000000</td>\n",
       "      <td>4.000000</td>\n",
       "      <td>2.000000</td>\n",
       "      <td>4.000000</td>\n",
       "      <td>...</td>\n",
       "      <td>0.000000</td>\n",
       "      <td>0.000000</td>\n",
       "      <td>0.000000</td>\n",
       "      <td>2.000000</td>\n",
       "      <td>2.000000</td>\n",
       "      <td>0.000000</td>\n",
       "      <td>0.000000</td>\n",
       "      <td>0.000000</td>\n",
       "      <td>2.000000</td>\n",
       "      <td>172.000000</td>\n",
       "    </tr>\n",
       "    <tr>\n",
       "      <th>75%</th>\n",
       "      <td>2.000000</td>\n",
       "      <td>4.000000</td>\n",
       "      <td>4.000000</td>\n",
       "      <td>4.000000</td>\n",
       "      <td>4.000000</td>\n",
       "      <td>4.000000</td>\n",
       "      <td>4.000000</td>\n",
       "      <td>7.000000</td>\n",
       "      <td>4.000000</td>\n",
       "      <td>4.000000</td>\n",
       "      <td>...</td>\n",
       "      <td>2.000000</td>\n",
       "      <td>2.000000</td>\n",
       "      <td>2.000000</td>\n",
       "      <td>4.000000</td>\n",
       "      <td>4.000000</td>\n",
       "      <td>2.000000</td>\n",
       "      <td>2.000000</td>\n",
       "      <td>2.000000</td>\n",
       "      <td>4.000000</td>\n",
       "      <td>192.000000</td>\n",
       "    </tr>\n",
       "    <tr>\n",
       "      <th>max</th>\n",
       "      <td>5.000000</td>\n",
       "      <td>7.000000</td>\n",
       "      <td>7.000000</td>\n",
       "      <td>7.000000</td>\n",
       "      <td>7.000000</td>\n",
       "      <td>7.000000</td>\n",
       "      <td>7.000000</td>\n",
       "      <td>7.000000</td>\n",
       "      <td>7.000000</td>\n",
       "      <td>7.000000</td>\n",
       "      <td>...</td>\n",
       "      <td>7.000000</td>\n",
       "      <td>7.000000</td>\n",
       "      <td>7.000000</td>\n",
       "      <td>7.000000</td>\n",
       "      <td>7.000000</td>\n",
       "      <td>7.000000</td>\n",
       "      <td>7.000000</td>\n",
       "      <td>7.000000</td>\n",
       "      <td>7.000000</td>\n",
       "      <td>255.000000</td>\n",
       "    </tr>\n",
       "  </tbody>\n",
       "</table>\n",
       "<p>8 rows × 72 columns</p>\n",
       "</div>"
      ],
      "text/plain": [
       "       Fallen Affect  R1 Rigid Posture  R2 Face Centric  \\\n",
       "count     502.000000        502.000000       502.000000   \n",
       "mean        0.932271          2.944223         2.910359   \n",
       "std         1.099535          2.757837         2.657782   \n",
       "min         0.000000          0.000000         0.000000   \n",
       "25%         0.000000          0.000000         0.000000   \n",
       "50%         1.000000          2.000000         2.000000   \n",
       "75%         2.000000          4.000000         4.000000   \n",
       "max         5.000000          7.000000         7.000000   \n",
       "\n",
       "       R3 Punctuated Motions  R4 Vertical Movements  R5 Subordinate Fluidity  \\\n",
       "count             502.000000             502.000000               502.000000   \n",
       "mean                3.047809               3.127490                 1.814741   \n",
       "std                 2.310633               2.353848                 2.521671   \n",
       "min                 0.000000               0.000000                 0.000000   \n",
       "25%                 2.000000               2.000000                 0.000000   \n",
       "50%                 2.000000               3.000000                 0.000000   \n",
       "75%                 4.000000               4.000000                 4.000000   \n",
       "max                 7.000000               7.000000                 7.000000   \n",
       "\n",
       "       F1 Fluid Posture  F2 Eye Centric  F3 Gliding Motions  \\\n",
       "count        502.000000      502.000000          502.000000   \n",
       "mean           3.304781        3.320717            3.011952   \n",
       "std            2.587537        2.694477            2.139790   \n",
       "min            0.000000        0.000000            0.000000   \n",
       "25%            0.000000        0.000000            2.000000   \n",
       "50%            4.000000        4.000000            2.000000   \n",
       "75%            4.000000        7.000000            4.000000   \n",
       "max            7.000000        7.000000            7.000000   \n",
       "\n",
       "       F4 Horizontal Movements  ...  SU6 Eye Head Trailing Motions  \\\n",
       "count               502.000000  ...                     502.000000   \n",
       "mean                  3.280876  ...                       0.820717   \n",
       "std                   2.286556  ...                       1.423964   \n",
       "min                   0.000000  ...                       0.000000   \n",
       "25%                   2.000000  ...                       0.000000   \n",
       "50%                   4.000000  ...                       0.000000   \n",
       "75%                   4.000000  ...                       2.000000   \n",
       "max                   7.000000  ...                       7.000000   \n",
       "\n",
       "       SU7 Levity Effect  SU8 Quirky Skits  EU1 Responsive Nodding  \\\n",
       "count         502.000000        502.000000              502.000000   \n",
       "mean            1.486056          0.880478                2.023904   \n",
       "std             2.059689          1.746870                1.967659   \n",
       "min             0.000000          0.000000                0.000000   \n",
       "25%             0.000000          0.000000                0.000000   \n",
       "50%             0.000000          0.000000                2.000000   \n",
       "75%             2.000000          2.000000                4.000000   \n",
       "max             7.000000          7.000000                7.000000   \n",
       "\n",
       "       EU2 Polite Smiling  EU3 Bashful Body Movements  \\\n",
       "count          502.000000                  502.000000   \n",
       "mean             2.754980                    1.420319   \n",
       "std              2.187272                    1.908230   \n",
       "min              0.000000                    0.000000   \n",
       "25%              2.000000                    0.000000   \n",
       "50%              2.000000                    0.000000   \n",
       "75%              4.000000                    2.000000   \n",
       "max              7.000000                    7.000000   \n",
       "\n",
       "       EG1 Upset Mouth Tension  EG2 Assertive Pushing  EG3 Stern Expressions  \\\n",
       "count               502.000000             502.000000             502.000000   \n",
       "mean                  1.149402               1.647410               2.231076   \n",
       "std                   1.709312               2.075709               2.169097   \n",
       "min                   0.000000               0.000000               0.000000   \n",
       "25%                   0.000000               0.000000               0.000000   \n",
       "50%                   0.000000               0.000000               2.000000   \n",
       "75%                   2.000000               2.000000               4.000000   \n",
       "max                   7.000000               7.000000               7.000000   \n",
       "\n",
       "              sum  \n",
       "count  502.000000  \n",
       "mean   172.336653  \n",
       "std     29.470378  \n",
       "min     74.000000  \n",
       "25%    153.000000  \n",
       "50%    172.000000  \n",
       "75%    192.000000  \n",
       "max    255.000000  \n",
       "\n",
       "[8 rows x 72 columns]"
      ]
     },
     "execution_count": 32,
     "metadata": {},
     "output_type": "execute_result"
    }
   ],
   "source": [
    "all_df['sum'] = all_df.sum(axis=1)\n",
    "all_df.describe()"
   ]
  },
  {
   "cell_type": "markdown",
   "metadata": {},
   "source": [
    "These numbers look more sensible but there are still a surprising amount with 0 values around the median, but that could just indicate a relatively rare signal. The most frequent signals marked is an interesting topic in itself"
   ]
  },
  {
   "cell_type": "code",
   "execution_count": 33,
   "metadata": {},
   "outputs": [
    {
     "data": {
      "text/plain": [
       "count    502.000000\n",
       "mean     172.336653\n",
       "std       29.470378\n",
       "min       74.000000\n",
       "25%      153.000000\n",
       "50%      172.000000\n",
       "75%      192.000000\n",
       "max      255.000000\n",
       "Name: sum, dtype: float64"
      ]
     },
     "execution_count": 33,
     "metadata": {},
     "output_type": "execute_result"
    }
   ],
   "source": [
    "all_df['sum'].describe()"
   ]
  },
  {
   "cell_type": "markdown",
   "metadata": {},
   "source": [
    "Those are the summary statistics for the number of signals marked in a vultology report, very interesting. The mean and the median are pretty close too which makes the distribution pretty balanced.\n",
    "\n",
    "Let's look at the vultology signals with the highest and lowest means"
   ]
  },
  {
   "cell_type": "code",
   "execution_count": 34,
   "metadata": {},
   "outputs": [
    {
     "data": {
      "text/plain": [
       "count    70.000000\n",
       "mean      2.448634\n",
       "std       0.754539\n",
       "min       0.820717\n",
       "25%       1.879980\n",
       "50%       2.500996\n",
       "75%       2.998506\n",
       "max       4.127490\n",
       "Name: mean, dtype: float64"
      ]
     },
     "execution_count": 34,
     "metadata": {},
     "output_type": "execute_result"
    }
   ],
   "source": [
    "all_means = all_df.drop(['sum', 'Fallen Affect'], axis=1).describe().loc['mean', :]\n",
    "all_means.describe()"
   ]
  },
  {
   "cell_type": "markdown",
   "metadata": {},
   "source": [
    "This is also a very believable and balanced distribution with close mean and median.\n",
    "\n",
    "The 10 least marked vultology signals are:"
   ]
  },
  {
   "cell_type": "code",
   "execution_count": 35,
   "metadata": {},
   "outputs": [
    {
     "data": {
      "text/plain": [
       "SU6 Eye Head Trailing Motions    0.820717\n",
       "SU8 Quirky Skits                 0.880478\n",
       "CA9 Grasping Hands               1.001992\n",
       "MS9 Puppeteer Hands              1.099602\n",
       "EG1 Upset Mouth Tension          1.149402\n",
       "EU3 Bashful Body Movements       1.420319\n",
       "CA5 Asymmetrical Smirks          1.456175\n",
       "SU7 Levity Effect                1.486056\n",
       "GR4 Intense Scowling             1.545817\n",
       "RR3 Exerted Pushes               1.547809\n",
       "Name: mean, dtype: float64"
      ]
     },
     "execution_count": 35,
     "metadata": {},
     "output_type": "execute_result"
    }
   ],
   "source": [
    "all_means.sort_values().head(10)"
   ]
  },
  {
   "cell_type": "markdown",
   "metadata": {},
   "source": [
    "In general some of the Ne/Si signals seem rare or difficult to understand, so them being so low is interesting and believable in a sense\n",
    "\n",
    "The top 10 most marked vultology signals:"
   ]
  },
  {
   "cell_type": "code",
   "execution_count": 36,
   "metadata": {},
   "outputs": [
    {
     "data": {
      "text/plain": [
       "PR5 Projecting Hands       4.127490\n",
       "PF2 Toggling Eyes          3.729084\n",
       "PR4 Fluent Articulation    3.667331\n",
       "GR3 Taut Outer Edges       3.597610\n",
       "PR1 Head Pushes            3.591633\n",
       "PR2 Head Shakes            3.386454\n",
       "PF3 Body Swaying           3.320717\n",
       "F2 Eye Centric             3.320717\n",
       "F1 Fluid Posture           3.304781\n",
       "F4 Horizontal Movements    3.280876\n",
       "Name: mean, dtype: float64"
      ]
     },
     "execution_count": 36,
     "metadata": {},
     "output_type": "execute_result"
    }
   ],
   "source": [
    "all_means.sort_values(ascending=False).head(10)"
   ]
  },
  {
   "cell_type": "markdown",
   "metadata": {},
   "source": [
    "A lot of these signals are things that most people do (project their hands some, talk and articulate, look around, etc.), or are very distinctive like taut outer edges. That definitely makes sense but I wonder if a future version of the codifier will add greater nuance to these signals to distinguish them for ordinary behavior, if that's even necessary\n",
    "\n",
    "Let's also look at std"
   ]
  },
  {
   "cell_type": "code",
   "execution_count": 37,
   "metadata": {},
   "outputs": [
    {
     "data": {
      "text/plain": [
       "count    70.000000\n",
       "mean      2.316474\n",
       "std       0.308896\n",
       "min       1.423964\n",
       "25%       2.147501\n",
       "50%       2.348320\n",
       "75%       2.542165\n",
       "max       2.881809\n",
       "Name: std, dtype: float64"
      ]
     },
     "execution_count": 37,
     "metadata": {},
     "output_type": "execute_result"
    }
   ],
   "source": [
    "all_std = all_df.drop(['sum', 'Fallen Affect'], axis=1).describe().loc['std', :]\n",
    "all_std.describe()"
   ]
  },
  {
   "cell_type": "markdown",
   "metadata": {},
   "source": [
    "Also a typically balanced distribution\n",
    "\n",
    "Bottom 5 (so most unvarying signals)"
   ]
  },
  {
   "cell_type": "code",
   "execution_count": 38,
   "metadata": {},
   "outputs": [
    {
     "data": {
      "text/plain": [
       "SU6 Eye Head Trailing Motions    1.423964\n",
       "PR3 Shoulder Shrugs              1.676575\n",
       "MS9 Puppeteer Hands              1.686520\n",
       "CA9 Grasping Hands               1.706509\n",
       "EG1 Upset Mouth Tension          1.709312\n",
       "SU8 Quirky Skits                 1.746870\n",
       "RR3 Exerted Pushes               1.875545\n",
       "RR4 Momentum Halting             1.877634\n",
       "EU3 Bashful Body Movements       1.908230\n",
       "CA5 Asymmetrical Smirks          1.932254\n",
       "Name: std, dtype: float64"
      ]
     },
     "execution_count": 38,
     "metadata": {},
     "output_type": "execute_result"
    }
   ],
   "source": [
    "all_std.sort_values().head(10)"
   ]
  },
  {
   "cell_type": "markdown",
   "metadata": {},
   "source": [
    "Interestingly, it's a lot of the same one's that had low means, so in having low values they probably have less chance to vary"
   ]
  },
  {
   "cell_type": "code",
   "execution_count": 39,
   "metadata": {},
   "outputs": [
    {
     "data": {
      "text/plain": [
       "GR3 Taut Outer Edges             2.881809\n",
       "MS2 Horizontal Curtain Smiles    2.871945\n",
       "GR1 Taut Preseptal Area          2.770815\n",
       "R1 Rigid Posture                 2.757837\n",
       "MS3 Two Point Pulling            2.700571\n",
       "F2 Eye Centric                   2.694477\n",
       "MS1 Lax Nasolabial Area          2.677833\n",
       "MS7 Parabolic Velocity           2.668874\n",
       "R2 Face Centric                  2.657782\n",
       "SU1 Lax Preseptal Area           2.619692\n",
       "Name: std, dtype: float64"
      ]
     },
     "execution_count": 39,
     "metadata": {},
     "output_type": "execute_result"
    }
   ],
   "source": [
    "all_std.sort_values(ascending=False).head(10)"
   ]
  },
  {
   "cell_type": "markdown",
   "metadata": {},
   "source": [
    "So since these signals vary a lot, I would look at it as them being more like \"you have it or you don't\" (since there would be little grey area between extreme values), which makes sense for things like the tautness of eye areas and having a Measured smile and/or face, middling cases are rarer. Measured does seem particulary strong in this regard though, which is noteworthy."
   ]
  },
  {
   "cell_type": "markdown",
   "metadata": {},
   "source": [
    "The other columns of data that would be important to have and know the distributions of are:\n",
    "- create a column for quadra\n",
    "- create a column for lead energetic\n",
    "- look at the distribution of each group of signals to see if there are any patterns"
   ]
  },
  {
   "cell_type": "markdown",
   "metadata": {},
   "source": [
    "Before we calculate the scores needed to create these columns, we will reset the index of signals_df to make it a uniform RangeIndex so that it's easier to iterate through"
   ]
  },
  {
   "cell_type": "code",
   "execution_count": 40,
   "metadata": {},
   "outputs": [
    {
     "data": {
      "text/plain": [
       "RangeIndex(start=0, stop=502, step=1)"
      ]
     },
     "execution_count": 40,
     "metadata": {},
     "output_type": "execute_result"
    }
   ],
   "source": [
    "all_df.reset_index(drop=True, inplace=True)\n",
    "all_df.index"
   ]
  },
  {
   "cell_type": "code",
   "execution_count": 41,
   "metadata": {},
   "outputs": [
    {
     "data": {
      "text/plain": [
       "0    Pe\n",
       "1    Je\n",
       "2    Pe\n",
       "3    Pi\n",
       "4    Ji\n",
       "dtype: object"
      ]
     },
     "execution_count": 41,
     "metadata": {},
     "output_type": "execute_result"
    }
   ],
   "source": [
    "Lead_Energetic = []\n",
    "\n",
    "for i in range(len(all_df)):\n",
    "    type = all_df['Type'][i]\n",
    "    if type in ('fesi', 'feni', 'teni', 'tesi'):\n",
    "        Lead_Energetic.append('Je')\n",
    "    elif type in ('sife', 'nife', 'nite', 'site'):\n",
    "        Lead_Energetic.append('Pi')\n",
    "    elif type in ('neti', 'seti', 'sefi', 'nefi'):\n",
    "        Lead_Energetic.append('Pe')\n",
    "    elif type in ('tine', 'tise', 'fise', 'fine'):\n",
    "        Lead_Energetic.append('Ji')\n",
    "\n",
    "LE_series = pd.Series(Lead_Energetic)\n",
    "LE_series.head()"
   ]
  },
  {
   "cell_type": "code",
   "execution_count": 42,
   "metadata": {},
   "outputs": [
    {
     "data": {
      "text/plain": [
       "Pe    163\n",
       "Je    134\n",
       "Pi    113\n",
       "Ji     92\n",
       "dtype: int64"
      ]
     },
     "execution_count": 42,
     "metadata": {},
     "output_type": "execute_result"
    }
   ],
   "source": [
    "LE_series.value_counts()"
   ]
  },
  {
   "cell_type": "code",
   "execution_count": 43,
   "metadata": {},
   "outputs": [
    {
     "data": {
      "text/plain": [
       "Pe    32.470120\n",
       "Je    26.693227\n",
       "Pi    22.509960\n",
       "Ji    18.326693\n",
       "dtype: float64"
      ]
     },
     "execution_count": 43,
     "metadata": {},
     "output_type": "execute_result"
    }
   ],
   "source": [
    "100 * LE_series.value_counts() / len(LE_series)"
   ]
  },
  {
   "cell_type": "markdown",
   "metadata": {},
   "source": [
    "Yet again, all energetics have a pretty healthy sample size, but the data is significantly skewed in favor of extroverts, since they are obviously more common amongst celebrities"
   ]
  },
  {
   "cell_type": "code",
   "execution_count": 44,
   "metadata": {},
   "outputs": [
    {
     "data": {
      "text/html": [
       "<div>\n",
       "<style scoped>\n",
       "    .dataframe tbody tr th:only-of-type {\n",
       "        vertical-align: middle;\n",
       "    }\n",
       "\n",
       "    .dataframe tbody tr th {\n",
       "        vertical-align: top;\n",
       "    }\n",
       "\n",
       "    .dataframe thead th {\n",
       "        text-align: right;\n",
       "    }\n",
       "</style>\n",
       "<table border=\"1\" class=\"dataframe\">\n",
       "  <thead>\n",
       "    <tr style=\"text-align: right;\">\n",
       "      <th></th>\n",
       "      <th>Sample Name</th>\n",
       "      <th>Vultologist</th>\n",
       "      <th>Type</th>\n",
       "      <th>Development</th>\n",
       "      <th>Emotions</th>\n",
       "      <th>Fallen Affect</th>\n",
       "      <th>J Signal Mixing</th>\n",
       "      <th>P Signal Mixing</th>\n",
       "      <th>Sex</th>\n",
       "      <th>Age Range</th>\n",
       "      <th>...</th>\n",
       "      <th>SU7 Levity Effect</th>\n",
       "      <th>SU8 Quirky Skits</th>\n",
       "      <th>EU1 Responsive Nodding</th>\n",
       "      <th>EU2 Polite Smiling</th>\n",
       "      <th>EU3 Bashful Body Movements</th>\n",
       "      <th>EG1 Upset Mouth Tension</th>\n",
       "      <th>EG2 Assertive Pushing</th>\n",
       "      <th>EG3 Stern Expressions</th>\n",
       "      <th>sum</th>\n",
       "      <th>Lead Energetic</th>\n",
       "    </tr>\n",
       "  </thead>\n",
       "  <tbody>\n",
       "    <tr>\n",
       "      <th>0</th>\n",
       "      <td>Cœur de Pirate</td>\n",
       "      <td>Miriam Greenfield</td>\n",
       "      <td>sefi</td>\n",
       "      <td>iii-</td>\n",
       "      <td>unguarded</td>\n",
       "      <td>0.0</td>\n",
       "      <td>low</td>\n",
       "      <td>medium</td>\n",
       "      <td>female</td>\n",
       "      <td>1980s</td>\n",
       "      <td>...</td>\n",
       "      <td>2.0</td>\n",
       "      <td>2.0</td>\n",
       "      <td>4.0</td>\n",
       "      <td>2.0</td>\n",
       "      <td>2.0</td>\n",
       "      <td>2.0</td>\n",
       "      <td>0.0</td>\n",
       "      <td>2.0</td>\n",
       "      <td>207.0</td>\n",
       "      <td>Pe</td>\n",
       "    </tr>\n",
       "    <tr>\n",
       "      <th>1</th>\n",
       "      <td>Michael Gervais</td>\n",
       "      <td>Calin Copil</td>\n",
       "      <td>fesi</td>\n",
       "      <td>i---</td>\n",
       "      <td>neutral</td>\n",
       "      <td>1.0</td>\n",
       "      <td>low</td>\n",
       "      <td>low</td>\n",
       "      <td>male</td>\n",
       "      <td>-1</td>\n",
       "      <td>...</td>\n",
       "      <td>0.0</td>\n",
       "      <td>0.0</td>\n",
       "      <td>4.0</td>\n",
       "      <td>4.0</td>\n",
       "      <td>2.0</td>\n",
       "      <td>2.0</td>\n",
       "      <td>4.0</td>\n",
       "      <td>2.0</td>\n",
       "      <td>209.0</td>\n",
       "      <td>Je</td>\n",
       "    </tr>\n",
       "    <tr>\n",
       "      <th>2</th>\n",
       "      <td>Joan Jett</td>\n",
       "      <td>Calin Copil</td>\n",
       "      <td>seti</td>\n",
       "      <td>i-i-</td>\n",
       "      <td>guarded</td>\n",
       "      <td>2.0</td>\n",
       "      <td>low</td>\n",
       "      <td>low</td>\n",
       "      <td>female</td>\n",
       "      <td>1950s</td>\n",
       "      <td>...</td>\n",
       "      <td>0.0</td>\n",
       "      <td>2.0</td>\n",
       "      <td>2.0</td>\n",
       "      <td>2.0</td>\n",
       "      <td>0.0</td>\n",
       "      <td>2.0</td>\n",
       "      <td>4.0</td>\n",
       "      <td>4.0</td>\n",
       "      <td>205.0</td>\n",
       "      <td>Pe</td>\n",
       "    </tr>\n",
       "    <tr>\n",
       "      <th>3</th>\n",
       "      <td>Ben Stein</td>\n",
       "      <td>Calin Copil</td>\n",
       "      <td>site</td>\n",
       "      <td>i---</td>\n",
       "      <td>guarded</td>\n",
       "      <td>2.0</td>\n",
       "      <td>low</td>\n",
       "      <td>low</td>\n",
       "      <td>male</td>\n",
       "      <td>1940s</td>\n",
       "      <td>...</td>\n",
       "      <td>0.0</td>\n",
       "      <td>0.0</td>\n",
       "      <td>0.0</td>\n",
       "      <td>0.0</td>\n",
       "      <td>0.0</td>\n",
       "      <td>2.0</td>\n",
       "      <td>2.0</td>\n",
       "      <td>2.0</td>\n",
       "      <td>114.0</td>\n",
       "      <td>Pi</td>\n",
       "    </tr>\n",
       "    <tr>\n",
       "      <th>4</th>\n",
       "      <td>Billie Joe Armstrong</td>\n",
       "      <td>Peter Foy</td>\n",
       "      <td>fise</td>\n",
       "      <td>ii-i</td>\n",
       "      <td>neutral</td>\n",
       "      <td>0.0</td>\n",
       "      <td>low</td>\n",
       "      <td>medium</td>\n",
       "      <td>male</td>\n",
       "      <td>1970s</td>\n",
       "      <td>...</td>\n",
       "      <td>0.0</td>\n",
       "      <td>0.0</td>\n",
       "      <td>2.0</td>\n",
       "      <td>4.0</td>\n",
       "      <td>2.0</td>\n",
       "      <td>4.0</td>\n",
       "      <td>2.0</td>\n",
       "      <td>4.0</td>\n",
       "      <td>211.0</td>\n",
       "      <td>Ji</td>\n",
       "    </tr>\n",
       "  </tbody>\n",
       "</table>\n",
       "<p>5 rows × 84 columns</p>\n",
       "</div>"
      ],
      "text/plain": [
       "            Sample Name        Vultologist  Type Development   Emotions  \\\n",
       "0        Cœur de Pirate  Miriam Greenfield  sefi        iii-  unguarded   \n",
       "1       Michael Gervais        Calin Copil  fesi        i---    neutral   \n",
       "2             Joan Jett        Calin Copil  seti        i-i-    guarded   \n",
       "3             Ben Stein        Calin Copil  site        i---    guarded   \n",
       "4  Billie Joe Armstrong          Peter Foy  fise        ii-i    neutral   \n",
       "\n",
       "   Fallen Affect J Signal Mixing P Signal Mixing     Sex Age Range  ...  \\\n",
       "0            0.0             low          medium  female     1980s  ...   \n",
       "1            1.0             low             low    male        -1  ...   \n",
       "2            2.0             low             low  female     1950s  ...   \n",
       "3            2.0             low             low    male     1940s  ...   \n",
       "4            0.0             low          medium    male     1970s  ...   \n",
       "\n",
       "  SU7 Levity Effect SU8 Quirky Skits  EU1 Responsive Nodding  \\\n",
       "0               2.0              2.0                     4.0   \n",
       "1               0.0              0.0                     4.0   \n",
       "2               0.0              2.0                     2.0   \n",
       "3               0.0              0.0                     0.0   \n",
       "4               0.0              0.0                     2.0   \n",
       "\n",
       "   EU2 Polite Smiling  EU3 Bashful Body Movements  EG1 Upset Mouth Tension  \\\n",
       "0                 2.0                         2.0                      2.0   \n",
       "1                 4.0                         2.0                      2.0   \n",
       "2                 2.0                         0.0                      2.0   \n",
       "3                 0.0                         0.0                      2.0   \n",
       "4                 4.0                         2.0                      4.0   \n",
       "\n",
       "   EG2 Assertive Pushing  EG3 Stern Expressions    sum  Lead Energetic  \n",
       "0                    0.0                    2.0  207.0              Pe  \n",
       "1                    4.0                    2.0  209.0              Je  \n",
       "2                    4.0                    4.0  205.0              Pe  \n",
       "3                    2.0                    2.0  114.0              Pi  \n",
       "4                    2.0                    4.0  211.0              Ji  \n",
       "\n",
       "[5 rows x 84 columns]"
      ]
     },
     "execution_count": 44,
     "metadata": {},
     "output_type": "execute_result"
    }
   ],
   "source": [
    "all_df['Lead Energetic'] = LE_series\n",
    "all_df.head()"
   ]
  },
  {
   "cell_type": "code",
   "execution_count": 45,
   "metadata": {},
   "outputs": [
    {
     "data": {
      "text/plain": [
       "0    Gamma\n",
       "1    Alpha\n",
       "2     Beta\n",
       "3    Delta\n",
       "4    Gamma\n",
       "dtype: object"
      ]
     },
     "execution_count": 45,
     "metadata": {},
     "output_type": "execute_result"
    }
   ],
   "source": [
    "Quadra = []\n",
    "\n",
    "for i in range(len(all_df)):\n",
    "    type = all_df['Type'][i]\n",
    "    if type in ('fesi', 'sife', 'neti', 'tine'):\n",
    "        Quadra.append('Alpha')\n",
    "    elif type in ('feni', 'nife', 'seti', 'tise'):\n",
    "        Quadra.append('Beta')\n",
    "    elif type in ('teni', 'nite', 'sefi', 'fise'):\n",
    "        Quadra.append('Gamma')\n",
    "    elif type in ('tesi', 'site', 'nefi', 'fine'):\n",
    "        Quadra.append('Delta')\n",
    "\n",
    "Quadra_series = pd.Series(Quadra)\n",
    "Quadra_series.head()"
   ]
  },
  {
   "cell_type": "code",
   "execution_count": 46,
   "metadata": {},
   "outputs": [
    {
     "data": {
      "text/plain": [
       "Beta     162\n",
       "Gamma    134\n",
       "Alpha    105\n",
       "Delta    101\n",
       "dtype: int64"
      ]
     },
     "execution_count": 46,
     "metadata": {},
     "output_type": "execute_result"
    }
   ],
   "source": [
    "Quadra_series.value_counts()"
   ]
  },
  {
   "cell_type": "code",
   "execution_count": 47,
   "metadata": {},
   "outputs": [
    {
     "data": {
      "text/plain": [
       "Beta     32.270916\n",
       "Gamma    26.693227\n",
       "Alpha    20.916335\n",
       "Delta    20.119522\n",
       "dtype: float64"
      ]
     },
     "execution_count": 47,
     "metadata": {},
     "output_type": "execute_result"
    }
   ],
   "source": [
    "100 * Quadra_series.value_counts() / len(Quadra_series)"
   ]
  },
  {
   "cell_type": "markdown",
   "metadata": {},
   "source": [
    "It needs to be kept in mind that Grounded types are more plentiful in our data, perhaps because they are more common among celebrities. Though all quadras have a healthy sample size overall."
   ]
  },
  {
   "cell_type": "code",
   "execution_count": 48,
   "metadata": {},
   "outputs": [
    {
     "data": {
      "text/html": [
       "<div>\n",
       "<style scoped>\n",
       "    .dataframe tbody tr th:only-of-type {\n",
       "        vertical-align: middle;\n",
       "    }\n",
       "\n",
       "    .dataframe tbody tr th {\n",
       "        vertical-align: top;\n",
       "    }\n",
       "\n",
       "    .dataframe thead th {\n",
       "        text-align: right;\n",
       "    }\n",
       "</style>\n",
       "<table border=\"1\" class=\"dataframe\">\n",
       "  <thead>\n",
       "    <tr style=\"text-align: right;\">\n",
       "      <th></th>\n",
       "      <th>Sample Name</th>\n",
       "      <th>Vultologist</th>\n",
       "      <th>Type</th>\n",
       "      <th>Development</th>\n",
       "      <th>Emotions</th>\n",
       "      <th>Fallen Affect</th>\n",
       "      <th>J Signal Mixing</th>\n",
       "      <th>P Signal Mixing</th>\n",
       "      <th>Sex</th>\n",
       "      <th>Age Range</th>\n",
       "      <th>...</th>\n",
       "      <th>SU8 Quirky Skits</th>\n",
       "      <th>EU1 Responsive Nodding</th>\n",
       "      <th>EU2 Polite Smiling</th>\n",
       "      <th>EU3 Bashful Body Movements</th>\n",
       "      <th>EG1 Upset Mouth Tension</th>\n",
       "      <th>EG2 Assertive Pushing</th>\n",
       "      <th>EG3 Stern Expressions</th>\n",
       "      <th>sum</th>\n",
       "      <th>Lead Energetic</th>\n",
       "      <th>Quadra</th>\n",
       "    </tr>\n",
       "  </thead>\n",
       "  <tbody>\n",
       "    <tr>\n",
       "      <th>0</th>\n",
       "      <td>Cœur de Pirate</td>\n",
       "      <td>Miriam Greenfield</td>\n",
       "      <td>sefi</td>\n",
       "      <td>iii-</td>\n",
       "      <td>unguarded</td>\n",
       "      <td>0.0</td>\n",
       "      <td>low</td>\n",
       "      <td>medium</td>\n",
       "      <td>female</td>\n",
       "      <td>1980s</td>\n",
       "      <td>...</td>\n",
       "      <td>2.0</td>\n",
       "      <td>4.0</td>\n",
       "      <td>2.0</td>\n",
       "      <td>2.0</td>\n",
       "      <td>2.0</td>\n",
       "      <td>0.0</td>\n",
       "      <td>2.0</td>\n",
       "      <td>207.0</td>\n",
       "      <td>Pe</td>\n",
       "      <td>Gamma</td>\n",
       "    </tr>\n",
       "    <tr>\n",
       "      <th>1</th>\n",
       "      <td>Michael Gervais</td>\n",
       "      <td>Calin Copil</td>\n",
       "      <td>fesi</td>\n",
       "      <td>i---</td>\n",
       "      <td>neutral</td>\n",
       "      <td>1.0</td>\n",
       "      <td>low</td>\n",
       "      <td>low</td>\n",
       "      <td>male</td>\n",
       "      <td>-1</td>\n",
       "      <td>...</td>\n",
       "      <td>0.0</td>\n",
       "      <td>4.0</td>\n",
       "      <td>4.0</td>\n",
       "      <td>2.0</td>\n",
       "      <td>2.0</td>\n",
       "      <td>4.0</td>\n",
       "      <td>2.0</td>\n",
       "      <td>209.0</td>\n",
       "      <td>Je</td>\n",
       "      <td>Alpha</td>\n",
       "    </tr>\n",
       "    <tr>\n",
       "      <th>2</th>\n",
       "      <td>Joan Jett</td>\n",
       "      <td>Calin Copil</td>\n",
       "      <td>seti</td>\n",
       "      <td>i-i-</td>\n",
       "      <td>guarded</td>\n",
       "      <td>2.0</td>\n",
       "      <td>low</td>\n",
       "      <td>low</td>\n",
       "      <td>female</td>\n",
       "      <td>1950s</td>\n",
       "      <td>...</td>\n",
       "      <td>2.0</td>\n",
       "      <td>2.0</td>\n",
       "      <td>2.0</td>\n",
       "      <td>0.0</td>\n",
       "      <td>2.0</td>\n",
       "      <td>4.0</td>\n",
       "      <td>4.0</td>\n",
       "      <td>205.0</td>\n",
       "      <td>Pe</td>\n",
       "      <td>Beta</td>\n",
       "    </tr>\n",
       "    <tr>\n",
       "      <th>3</th>\n",
       "      <td>Ben Stein</td>\n",
       "      <td>Calin Copil</td>\n",
       "      <td>site</td>\n",
       "      <td>i---</td>\n",
       "      <td>guarded</td>\n",
       "      <td>2.0</td>\n",
       "      <td>low</td>\n",
       "      <td>low</td>\n",
       "      <td>male</td>\n",
       "      <td>1940s</td>\n",
       "      <td>...</td>\n",
       "      <td>0.0</td>\n",
       "      <td>0.0</td>\n",
       "      <td>0.0</td>\n",
       "      <td>0.0</td>\n",
       "      <td>2.0</td>\n",
       "      <td>2.0</td>\n",
       "      <td>2.0</td>\n",
       "      <td>114.0</td>\n",
       "      <td>Pi</td>\n",
       "      <td>Delta</td>\n",
       "    </tr>\n",
       "    <tr>\n",
       "      <th>4</th>\n",
       "      <td>Billie Joe Armstrong</td>\n",
       "      <td>Peter Foy</td>\n",
       "      <td>fise</td>\n",
       "      <td>ii-i</td>\n",
       "      <td>neutral</td>\n",
       "      <td>0.0</td>\n",
       "      <td>low</td>\n",
       "      <td>medium</td>\n",
       "      <td>male</td>\n",
       "      <td>1970s</td>\n",
       "      <td>...</td>\n",
       "      <td>0.0</td>\n",
       "      <td>2.0</td>\n",
       "      <td>4.0</td>\n",
       "      <td>2.0</td>\n",
       "      <td>4.0</td>\n",
       "      <td>2.0</td>\n",
       "      <td>4.0</td>\n",
       "      <td>211.0</td>\n",
       "      <td>Ji</td>\n",
       "      <td>Gamma</td>\n",
       "    </tr>\n",
       "  </tbody>\n",
       "</table>\n",
       "<p>5 rows × 85 columns</p>\n",
       "</div>"
      ],
      "text/plain": [
       "            Sample Name        Vultologist  Type Development   Emotions  \\\n",
       "0        Cœur de Pirate  Miriam Greenfield  sefi        iii-  unguarded   \n",
       "1       Michael Gervais        Calin Copil  fesi        i---    neutral   \n",
       "2             Joan Jett        Calin Copil  seti        i-i-    guarded   \n",
       "3             Ben Stein        Calin Copil  site        i---    guarded   \n",
       "4  Billie Joe Armstrong          Peter Foy  fise        ii-i    neutral   \n",
       "\n",
       "   Fallen Affect J Signal Mixing P Signal Mixing     Sex Age Range  ...  \\\n",
       "0            0.0             low          medium  female     1980s  ...   \n",
       "1            1.0             low             low    male        -1  ...   \n",
       "2            2.0             low             low  female     1950s  ...   \n",
       "3            2.0             low             low    male     1940s  ...   \n",
       "4            0.0             low          medium    male     1970s  ...   \n",
       "\n",
       "  SU8 Quirky Skits EU1 Responsive Nodding  EU2 Polite Smiling  \\\n",
       "0              2.0                    4.0                 2.0   \n",
       "1              0.0                    4.0                 4.0   \n",
       "2              2.0                    2.0                 2.0   \n",
       "3              0.0                    0.0                 0.0   \n",
       "4              0.0                    2.0                 4.0   \n",
       "\n",
       "   EU3 Bashful Body Movements  EG1 Upset Mouth Tension  EG2 Assertive Pushing  \\\n",
       "0                         2.0                      2.0                    0.0   \n",
       "1                         2.0                      2.0                    4.0   \n",
       "2                         0.0                      2.0                    4.0   \n",
       "3                         0.0                      2.0                    2.0   \n",
       "4                         2.0                      4.0                    2.0   \n",
       "\n",
       "   EG3 Stern Expressions    sum  Lead Energetic  Quadra  \n",
       "0                    2.0  207.0              Pe   Gamma  \n",
       "1                    2.0  209.0              Je   Alpha  \n",
       "2                    4.0  205.0              Pe    Beta  \n",
       "3                    2.0  114.0              Pi   Delta  \n",
       "4                    4.0  211.0              Ji   Gamma  \n",
       "\n",
       "[5 rows x 85 columns]"
      ]
     },
     "execution_count": 48,
     "metadata": {},
     "output_type": "execute_result"
    }
   ],
   "source": [
    "all_df['Quadra'] = Quadra_series\n",
    "all_df.head()"
   ]
  },
  {
   "cell_type": "markdown",
   "metadata": {},
   "source": [
    "Now we can take a look at the distribution of types"
   ]
  },
  {
   "cell_type": "code",
   "execution_count": 49,
   "metadata": {},
   "outputs": [
    {
     "data": {
      "text/plain": [
       "seti    60\n",
       "sefi    43\n",
       "teni    41\n",
       "feni    37\n",
       "nife    37\n",
       "neti    33\n",
       "fesi    30\n",
       "nite    28\n",
       "tise    28\n",
       "nefi    27\n",
       "tesi    26\n",
       "site    25\n",
       "sife    23\n",
       "fine    23\n",
       "fise    22\n",
       "tine    19\n",
       "Name: Type, dtype: int64"
      ]
     },
     "execution_count": 49,
     "metadata": {},
     "output_type": "execute_result"
    }
   ],
   "source": [
    "all_df['Type'].value_counts()"
   ]
  },
  {
   "cell_type": "code",
   "execution_count": 50,
   "metadata": {},
   "outputs": [
    {
     "data": {
      "text/plain": [
       "seti    11.952191\n",
       "sefi     8.565737\n",
       "teni     8.167331\n",
       "feni     7.370518\n",
       "nife     7.370518\n",
       "neti     6.573705\n",
       "fesi     5.976096\n",
       "nite     5.577689\n",
       "tise     5.577689\n",
       "nefi     5.378486\n",
       "tesi     5.179283\n",
       "site     4.980080\n",
       "sife     4.581673\n",
       "fine     4.581673\n",
       "fise     4.382470\n",
       "tine     3.784861\n",
       "Name: Type, dtype: float64"
      ]
     },
     "execution_count": 50,
     "metadata": {},
     "output_type": "execute_result"
    }
   ],
   "source": [
    "100 * all_df['Type'].value_counts() / len(all_df['Type'])"
   ]
  },
  {
   "cell_type": "markdown",
   "metadata": {},
   "source": [
    "These distributions are pretty predictable from the above, but also slightly more problematic, because more than half the types have less than 30 samples (though some are close to that). This is important because with a sample size of less than 30, certain statistical tests like ANOVA and t-tests can't be properly run since certain assumptions like the Central Limit Theorem don't properly apply. For some purposes, like just clustering our signals outright, I'm not sure precisely how much it matters, but more samples would obviously be good.\n",
    "\n",
    "Now let's look at developments"
   ]
  },
  {
   "cell_type": "code",
   "execution_count": 51,
   "metadata": {},
   "outputs": [
    {
     "data": {
      "text/plain": [
       "i---    164\n",
       "i-i-     88\n",
       "ii--     77\n",
       "i--i     60\n",
       "ii-i     39\n",
       "iii-     37\n",
       "i-ii     20\n",
       "iiii     17\n",
       "Name: Development, dtype: int64"
      ]
     },
     "execution_count": 51,
     "metadata": {},
     "output_type": "execute_result"
    }
   ],
   "source": [
    "all_df['Development'].value_counts()"
   ]
  },
  {
   "cell_type": "code",
   "execution_count": 52,
   "metadata": {},
   "outputs": [
    {
     "data": {
      "text/plain": [
       "i---    32.669323\n",
       "i-i-    17.529880\n",
       "ii--    15.338645\n",
       "i--i    11.952191\n",
       "ii-i     7.768924\n",
       "iii-     7.370518\n",
       "i-ii     3.984064\n",
       "iiii     3.386454\n",
       "Name: Development, dtype: float64"
      ]
     },
     "execution_count": 52,
     "metadata": {},
     "output_type": "execute_result"
    }
   ],
   "source": [
    "100 * all_df['Development'].value_counts() / len(all_df['Development'])"
   ]
  },
  {
   "cell_type": "markdown",
   "metadata": {},
   "source": [
    "These are very sensible numbers, and they seem to confirm the polarity of the opposite energetics, because they are the rarest to have integrated together. That being said, Grant stack assumptions are not necessarily confirmed, because having another function of the same vertness integrated is more common than having a function similar in conducting or revising. However, the preponderance of extroverts in this dataset combined with the fact that extroverted function integrations would be more common for celebrities suggests that this data may not tell us which developments are necessarily more common (because the data is biased towards these more extroverted samples and it's not a random sample of the population).\n",
    "\n",
    "We could even investigate this question by looking at which lead energetics most frequently have 'I-I-' development:"
   ]
  },
  {
   "cell_type": "code",
   "execution_count": 53,
   "metadata": {},
   "outputs": [
    {
     "data": {
      "text/plain": [
       "Pe    46\n",
       "Je    34\n",
       "Pi     5\n",
       "Ji     3\n",
       "Name: Lead Energetic, dtype: int64"
      ]
     },
     "execution_count": 53,
     "metadata": {},
     "output_type": "execute_result"
    }
   ],
   "source": [
    "all_df[all_df['Development'] == 'i-i-']['Lead Energetic'].value_counts()"
   ]
  },
  {
   "cell_type": "code",
   "execution_count": 54,
   "metadata": {},
   "outputs": [
    {
     "data": {
      "text/plain": [
       "Pi    34\n",
       "Ji    18\n",
       "Je    14\n",
       "Pe    11\n",
       "Name: Lead Energetic, dtype: int64"
      ]
     },
     "execution_count": 54,
     "metadata": {},
     "output_type": "execute_result"
    }
   ],
   "source": [
    "all_df[all_df['Development'] == 'ii--']['Lead Energetic'].value_counts()"
   ]
  },
  {
   "cell_type": "markdown",
   "metadata": {},
   "source": [
    "And this EXACTLY confirms what we thought: that Pe and Je celebrities are the people common with the 'I-I-' development, whereas introverts with this development are much rarer among celebrities, which makes sense since they would be extra introverted. Thus the fact that 'I-I-' is more common in our data than 'II--' doesn't tell us much about what is more common in general, since the distribution for 'II--' is more balanced and even more common for introverts in our data because it would give them a more extroverted function integration, which also comports with our assumptions.\n",
    "\n",
    "Finally let's examine emotional attidudes, then we'll work with a different set of data"
   ]
  },
  {
   "cell_type": "code",
   "execution_count": 55,
   "metadata": {},
   "outputs": [
    {
     "data": {
      "text/plain": [
       "unguarded    248\n",
       "guarded      214\n",
       "neutral       40\n",
       "Name: Emotions, dtype: int64"
      ]
     },
     "execution_count": 55,
     "metadata": {},
     "output_type": "execute_result"
    }
   ],
   "source": [
    "all_df['Emotions'].value_counts()"
   ]
  },
  {
   "cell_type": "code",
   "execution_count": 56,
   "metadata": {},
   "outputs": [
    {
     "data": {
      "text/plain": [
       "unguarded    49.402390\n",
       "guarded      42.629482\n",
       "neutral       7.968127\n",
       "Name: Emotions, dtype: float64"
      ]
     },
     "execution_count": 56,
     "metadata": {},
     "output_type": "execute_result"
    }
   ],
   "source": [
    "100 * all_df['Emotions'].value_counts() / len(all_df['Emotions'])"
   ]
  },
  {
   "cell_type": "markdown",
   "metadata": {},
   "source": [
    "It's fairly balanced so it should not be too much problem for our data, but we could try to split our analyses on this attribute if we want to be extra cautious in checking"
   ]
  },
  {
   "cell_type": "code",
   "execution_count": 57,
   "metadata": {},
   "outputs": [],
   "source": [
    "all_df.to_csv('Vultology_Database_2024-02-24_-_PlusAuthors_FullData.csv')"
   ]
  },
  {
   "cell_type": "code",
   "execution_count": null,
   "metadata": {},
   "outputs": [],
   "source": []
  }
 ],
 "metadata": {
  "kernelspec": {
   "display_name": "Python 3",
   "language": "python",
   "name": "python3"
  },
  "language_info": {
   "codemirror_mode": {
    "name": "ipython",
    "version": 3
   },
   "file_extension": ".py",
   "mimetype": "text/x-python",
   "name": "python",
   "nbconvert_exporter": "python",
   "pygments_lexer": "ipython3",
   "version": "3.8.5"
  }
 },
 "nbformat": 4,
 "nbformat_minor": 4
}
